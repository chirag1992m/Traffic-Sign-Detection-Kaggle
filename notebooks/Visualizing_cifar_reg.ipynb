{
 "cells": [
  {
   "cell_type": "markdown",
   "metadata": {},
   "source": [
    "### Options used: -model cifar_regularization -cuda -verbose -suffix 'cifar_reg'"
   ]
  },
  {
   "cell_type": "code",
   "execution_count": 2,
   "metadata": {
    "collapsed": true
   },
   "outputs": [],
   "source": [
    "tnt = require 'torchnet'\n",
    "image = require 'image'\n",
    "Plot = require 'itorch.Plot'\n",
    "require 'cunn'\n",
    "require 'cudnn'"
   ]
  },
  {
   "cell_type": "code",
   "execution_count": 3,
   "metadata": {
    "collapsed": true
   },
   "outputs": [],
   "source": [
    "training_errors = torch.load('../logs/trainingErrors_cifar_reg_1480524837.log')\n",
    "training_losses = torch.load('../logs/trainingLosses_cifar_reg_1480524837.log')\n",
    "\n",
    "validation_errors = torch.load('../logs/validationErrors_cifar_reg_1480524837.log')\n",
    "validation_losses = torch.load('../logs/validationLosses_cifar_reg_1480524837.log')\n",
    "\n",
    "time = torch.load('../logs/timerscifar_reg_1480524837.log')\n",
    "\n",
    "model = torch.load('../logs/model_cifar_reg_1480524837.model')"
   ]
  },
  {
   "cell_type": "code",
   "execution_count": 4,
   "metadata": {
    "collapsed": true
   },
   "outputs": [],
   "source": [
    "test_accuracy = 0.95629 --After uploading on Kaggle\n",
    "test_error = (1 - test_accuracy) * 100"
   ]
  },
  {
   "cell_type": "code",
   "execution_count": 5,
   "metadata": {
    "collapsed": false
   },
   "outputs": [
    {
     "data": {
      "text/plain": [
       "  50\n",
       " 276\n",
       "[torch.LongStorage of size 2]\n",
       "\n",
       " 50\n",
       " 31\n",
       "[torch.LongStorage of size 2]\n",
       "\n"
      ]
     },
     "execution_count": 5,
     "metadata": {},
     "output_type": "execute_result"
    }
   ],
   "source": [
    "print(training_errors:size())\n",
    "print(validation_errors:size())"
   ]
  },
  {
   "cell_type": "code",
   "execution_count": 6,
   "metadata": {
    "collapsed": true
   },
   "outputs": [],
   "source": [
    "training_error_vector = training_errors[{{}, 276}]\n",
    "validation_error_vector = validation_errors[{{}, 31}]"
   ]
  },
  {
   "cell_type": "code",
   "execution_count": 7,
   "metadata": {
    "collapsed": true
   },
   "outputs": [],
   "source": [
    "x_axis = torch.LongTensor(50)\n",
    "for i=1, x_axis:size()[1] do\n",
    "    x_axis[i] = i\n",
    "end\n",
    "\n",
    "test_error_vector = torch.DoubleTensor(50):fill(test_error)"
   ]
  },
  {
   "cell_type": "code",
   "execution_count": 8,
   "metadata": {
    "collapsed": false
   },
   "outputs": [
    {
     "data": {
      "text/html": [
       "<script type=\"text/javascript\">\n",
       "$(function() {\n",
       "    if (typeof (window._bokeh_onload_callbacks) === \"undefined\"){\n",
       "  window._bokeh_onload_callbacks = [];\n",
       "    }\n",
       "    function load_lib(url, callback){\n",
       "  window._bokeh_onload_callbacks.push(callback);\n",
       "  if (window._bokeh_is_loading){\n",
       "      console.log(\"Bokeh: BokehJS is being loaded, scheduling callback at\", new Date());\n",
       "      return null;\n",
       "  }\n",
       "  console.log(\"Bokeh: BokehJS not loaded, scheduling load and callback at\", new Date());\n",
       "  window._bokeh_is_loading = true;\n",
       "  var s = document.createElement('script');\n",
       "  s.src = url;\n",
       "  s.async = true;\n",
       "  s.onreadystatechange = s.onload = function(){\n",
       "      Bokeh.embed.inject_css(\"https://cdn.pydata.org/bokeh-0.7.0.min.css\");\n",
       "      window._bokeh_onload_callbacks.forEach(function(callback){callback()});\n",
       "  };\n",
       "  s.onerror = function(){\n",
       "      console.warn(\"failed to load library \" + url);\n",
       "  };\n",
       "  document.getElementsByTagName(\"head\")[0].appendChild(s);\n",
       "    }\n",
       "\n",
       "    bokehjs_url = \"https://cdn.pydata.org/bokeh-0.7.0.min.js\"\n",
       "\n",
       "    var elt = document.getElementById(\"4323d333-fe4b-47ae-c720-624cf01f3eae\");\n",
       "    if(elt==null) {\n",
       "  console.log(\"Bokeh: ERROR: autoload.js configured with elementid '4323d333-fe4b-47ae-c720-624cf01f3eae'\"\n",
       "        + \"but no matching script tag was found. \")\n",
       "  return false;\n",
       "    }\n",
       "\n",
       "    if(typeof(Bokeh) !== \"undefined\") {\n",
       "  console.log(\"Bokeh: BokehJS loaded, going straight to plotting\");\n",
       "  var modelid = \"5009ef23-82c9-4a61-ca83-74682f17fda2\";\n",
       "  var modeltype = \"Plot\";\n",
       "  var all_models = [{\"id\":\"cb31dc76-94d6-465b-c6f7-be2f9280a00e\",\"type\":\"ColumnDataSource\",\"attributes\":{\"data\":{\"y\":[83.342779415099,50.413738381319,27.52777148039,15.452845159828,10.436975742462,7.1440716390841,5.3049195193834,4.0637043754251,3.0038540013602,2.2670596236681,1.9440036272954,1.5472681931535,1.3545681251417,1.0711856721832,0.93799591929268,0.76513262298798,0.7056223078667,0.63477669462707,0.59793697574246,0.56393108138744,0.54409430968034,0.44774427567445,0.36556336431648,0.37406483790524,0.32872364543187,0.33155746996146,0.29755157560644,0.2862162774881,0.25221038313308,0.22387213783723,0.25221038313308,0.19836771707096,0.19270006801179,0.16436182271594,0.20686919065971,0.14735887553843,0.14735887553843,0.12468827930175,0.12752210383133,0.14735887553843,0.11051915665382,0.10201768306506,0.14452505100884,0.13035592836092,0.099183858535479,0.090682384946724,0.10768533212423,0.090682384946724,0.11335298118341,0.096350034005894],\"x\":[1,2,3,4,5,6,7,8,9,10,11,12,13,14,15,16,17,18,19,20,21,22,23,24,25,26,27,28,29,30,31,32,33,34,35,36,37,38,39,40,41,42,43,44,45,46,47,48,49,50]},\"column_names\":[\"y\",\"x\"],\"cont_ranges\":{},\"discrete_ranges\":{},\"selected\":[],\"id\":\"cb31dc76-94d6-465b-c6f7-be2f9280a00e\",\"doc\":null,\"tags\":[]}},{\"id\":\"2ce6d563-645b-437e-c3e5-955c0880629e\",\"type\":\"Line\",\"attributes\":{\"fill_alpha\":{\"units\":\"data\",\"value\":0.2},\"line_alpha\":{\"units\":\"data\",\"value\":1},\"doc\":null,\"size\":{\"units\":\"screen\",\"value\":10},\"fill_color\":{\"value\":\"red\"},\"line_color\":{\"value\":\"red\"},\"x\":{\"units\":\"data\",\"field\":\"x\"},\"id\":\"2ce6d563-645b-437e-c3e5-955c0880629e\",\"y\":{\"units\":\"data\",\"field\":\"y\"},\"tags\":[]}},{\"id\":\"ae9bdc2a-8636-481f-c89f-c93e65dd2be2\",\"type\":\"Line\",\"attributes\":{\"fill_alpha\":{\"units\":\"data\",\"value\":0.2},\"line_alpha\":{\"units\":\"data\",\"value\":1},\"doc\":null,\"size\":{\"units\":\"screen\",\"value\":10},\"fill_color\":{\"value\":\"red\"},\"line_color\":{\"value\":\"red\"},\"x\":{\"units\":\"data\",\"field\":\"x\"},\"id\":\"ae9bdc2a-8636-481f-c89f-c93e65dd2be2\",\"y\":{\"units\":\"data\",\"field\":\"y\"},\"tags\":[]}},{\"id\":\"6ea307e2-93aa-4cdd-cc53-0fe234bdd645\",\"type\":\"GlyphRenderer\",\"attributes\":{\"name\":null,\"nonselection_glyph\":{\"type\":\"Line\",\"id\":\"ae9bdc2a-8636-481f-c89f-c93e65dd2be2\"},\"doc\":null,\"server_data_source\":null,\"data_source\":{\"type\":\"ColumnDataSource\",\"id\":\"cb31dc76-94d6-465b-c6f7-be2f9280a00e\"},\"glyph\":{\"type\":\"Line\",\"id\":\"2ce6d563-645b-437e-c3e5-955c0880629e\"},\"selection_glyph\":null,\"id\":\"6ea307e2-93aa-4cdd-cc53-0fe234bdd645\",\"tags\":[]}},{\"id\":\"16ca4d4e-69df-4fa1-cf2a-9b4b1287e209\",\"type\":\"ColumnDataSource\",\"attributes\":{\"data\":{\"y\":[64.677378219842,32.389696505993,14.307574598317,9.0538128028564,6.1973986228003,4.1826064779393,2.9839326702372,1.7852588625351,1.5557255802091,1.0456516194848,0.94363682733996,0.68859984697781,0.58658505483295,0.56108135679674,0.48457026268809,0.53557765876052,0.53557765876052,0.53557765876052,0.48457026268809,0.40805916857944,0.45906656465187,0.43356286661566,0.38255547054323,0.30604437643458,0.35705177250701,0.35705177250701,0.30604437643458,0.38255547054323,0.35705177250701,0.38255547054323,0.28054067839837,0.28054067839837,0.3315480744708,0.28054067839837,0.30604437643458,0.25503698036215,0.25503698036215,0.25503698036215,0.25503698036215,0.22953328232594,0.28054067839837,0.25503698036215,0.22953328232594,0.25503698036215,0.22953328232594,0.17852588625351,0.22953328232594,0.22953328232594,0.17852588625351,0.22953328232594],\"x\":[1,2,3,4,5,6,7,8,9,10,11,12,13,14,15,16,17,18,19,20,21,22,23,24,25,26,27,28,29,30,31,32,33,34,35,36,37,38,39,40,41,42,43,44,45,46,47,48,49,50]},\"column_names\":[\"y\",\"x\"],\"cont_ranges\":{},\"discrete_ranges\":{},\"selected\":[],\"id\":\"16ca4d4e-69df-4fa1-cf2a-9b4b1287e209\",\"doc\":null,\"tags\":[]}},{\"id\":\"bc15cc70-ce9e-41f7-c15e-cf43818825f6\",\"type\":\"Line\",\"attributes\":{\"fill_alpha\":{\"units\":\"data\",\"value\":0.2},\"line_alpha\":{\"units\":\"data\",\"value\":1},\"doc\":null,\"size\":{\"units\":\"screen\",\"value\":10},\"fill_color\":{\"value\":\"green\"},\"line_color\":{\"value\":\"green\"},\"x\":{\"units\":\"data\",\"field\":\"x\"},\"id\":\"bc15cc70-ce9e-41f7-c15e-cf43818825f6\",\"y\":{\"units\":\"data\",\"field\":\"y\"},\"tags\":[]}},{\"id\":\"f58a716c-0919-4ed1-ce81-4532f5591c71\",\"type\":\"Line\",\"attributes\":{\"fill_alpha\":{\"units\":\"data\",\"value\":0.2},\"line_alpha\":{\"units\":\"data\",\"value\":1},\"doc\":null,\"size\":{\"units\":\"screen\",\"value\":10},\"fill_color\":{\"value\":\"green\"},\"line_color\":{\"value\":\"green\"},\"x\":{\"units\":\"data\",\"field\":\"x\"},\"id\":\"f58a716c-0919-4ed1-ce81-4532f5591c71\",\"y\":{\"units\":\"data\",\"field\":\"y\"},\"tags\":[]}},{\"id\":\"7d0e3034-00f9-433f-c303-8ee9f15f43eb\",\"type\":\"GlyphRenderer\",\"attributes\":{\"name\":null,\"nonselection_glyph\":{\"type\":\"Line\",\"id\":\"f58a716c-0919-4ed1-ce81-4532f5591c71\"},\"doc\":null,\"server_data_source\":null,\"data_source\":{\"type\":\"ColumnDataSource\",\"id\":\"16ca4d4e-69df-4fa1-cf2a-9b4b1287e209\"},\"glyph\":{\"type\":\"Line\",\"id\":\"bc15cc70-ce9e-41f7-c15e-cf43818825f6\"},\"selection_glyph\":null,\"id\":\"7d0e3034-00f9-433f-c303-8ee9f15f43eb\",\"tags\":[]}},{\"id\":\"3f6751a2-733b-4934-c931-1d1d86374e94\",\"type\":\"ColumnDataSource\",\"attributes\":{\"data\":{\"y\":[4.371,4.371,4.371,4.371,4.371,4.371,4.371,4.371,4.371,4.371,4.371,4.371,4.371,4.371,4.371,4.371,4.371,4.371,4.371,4.371,4.371,4.371,4.371,4.371,4.371,4.371,4.371,4.371,4.371,4.371,4.371,4.371,4.371,4.371,4.371,4.371,4.371,4.371,4.371,4.371,4.371,4.371,4.371,4.371,4.371,4.371,4.371,4.371,4.371,4.371],\"x\":[1,2,3,4,5,6,7,8,9,10,11,12,13,14,15,16,17,18,19,20,21,22,23,24,25,26,27,28,29,30,31,32,33,34,35,36,37,38,39,40,41,42,43,44,45,46,47,48,49,50]},\"column_names\":[\"y\",\"x\"],\"cont_ranges\":{},\"discrete_ranges\":{},\"selected\":[],\"id\":\"3f6751a2-733b-4934-c931-1d1d86374e94\",\"doc\":null,\"tags\":[]}},{\"id\":\"916b9db1-7745-489e-c89f-1f690cc20823\",\"type\":\"Line\",\"attributes\":{\"fill_alpha\":{\"units\":\"data\",\"value\":0.2},\"line_alpha\":{\"units\":\"data\",\"value\":1},\"doc\":null,\"size\":{\"units\":\"screen\",\"value\":10},\"fill_color\":{\"value\":\"blue\"},\"line_color\":{\"value\":\"blue\"},\"x\":{\"units\":\"data\",\"field\":\"x\"},\"id\":\"916b9db1-7745-489e-c89f-1f690cc20823\",\"y\":{\"units\":\"data\",\"field\":\"y\"},\"tags\":[]}},{\"id\":\"1abaa17f-bd72-4876-c83c-1f031df8990d\",\"type\":\"Line\",\"attributes\":{\"fill_alpha\":{\"units\":\"data\",\"value\":0.2},\"line_alpha\":{\"units\":\"data\",\"value\":1},\"doc\":null,\"size\":{\"units\":\"screen\",\"value\":10},\"fill_color\":{\"value\":\"blue\"},\"line_color\":{\"value\":\"blue\"},\"x\":{\"units\":\"data\",\"field\":\"x\"},\"id\":\"1abaa17f-bd72-4876-c83c-1f031df8990d\",\"y\":{\"units\":\"data\",\"field\":\"y\"},\"tags\":[]}},{\"id\":\"6b9474d1-8d60-4850-c806-e7a23f5fff7f\",\"type\":\"GlyphRenderer\",\"attributes\":{\"name\":null,\"nonselection_glyph\":{\"type\":\"Line\",\"id\":\"1abaa17f-bd72-4876-c83c-1f031df8990d\"},\"doc\":null,\"server_data_source\":null,\"data_source\":{\"type\":\"ColumnDataSource\",\"id\":\"3f6751a2-733b-4934-c931-1d1d86374e94\"},\"glyph\":{\"type\":\"Line\",\"id\":\"916b9db1-7745-489e-c89f-1f690cc20823\"},\"selection_glyph\":null,\"id\":\"6b9474d1-8d60-4850-c806-e7a23f5fff7f\",\"tags\":[]}},{\"id\":\"a49f8f88-172c-43fc-c36e-1e4be944b303\",\"type\":\"DataRange1d\",\"attributes\":{\"sources\":[{\"columns\":[\"x\"],\"source\":{\"type\":\"ColumnDataSource\",\"id\":\"cb31dc76-94d6-465b-c6f7-be2f9280a00e\"}},{\"columns\":[\"x\"],\"source\":{\"type\":\"ColumnDataSource\",\"id\":\"16ca4d4e-69df-4fa1-cf2a-9b4b1287e209\"}},{\"columns\":[\"x\"],\"source\":{\"type\":\"ColumnDataSource\",\"id\":\"3f6751a2-733b-4934-c931-1d1d86374e94\"}}],\"id\":\"a49f8f88-172c-43fc-c36e-1e4be944b303\",\"tags\":[],\"doc\":null}},{\"id\":\"4c92973d-d7fe-41e5-c1dd-b80d028b6905\",\"type\":\"DataRange1d\",\"attributes\":{\"sources\":[{\"columns\":[\"y\"],\"source\":{\"type\":\"ColumnDataSource\",\"id\":\"cb31dc76-94d6-465b-c6f7-be2f9280a00e\"}},{\"columns\":[\"y\"],\"source\":{\"type\":\"ColumnDataSource\",\"id\":\"16ca4d4e-69df-4fa1-cf2a-9b4b1287e209\"}},{\"columns\":[\"y\"],\"source\":{\"type\":\"ColumnDataSource\",\"id\":\"3f6751a2-733b-4934-c931-1d1d86374e94\"}}],\"id\":\"4c92973d-d7fe-41e5-c1dd-b80d028b6905\",\"tags\":[],\"doc\":null}},{\"id\":\"c1b533d8-3c18-4cdd-cc47-403647fe1018\",\"type\":\"ToolEvents\",\"attributes\":{\"tags\":[],\"id\":\"c1b533d8-3c18-4cdd-cc47-403647fe1018\",\"geometries\":[],\"doc\":null}},{\"id\":\"f7004df0-ddf7-4d03-cdb8-4fa1de6e3bcf\",\"type\":\"BasicTickFormatter\",\"attributes\":{\"id\":\"f7004df0-ddf7-4d03-cdb8-4fa1de6e3bcf\",\"tags\":[],\"doc\":null}},{\"id\":\"fc73a7e6-7404-4f02-cf0e-21bbb4c021ef\",\"type\":\"BasicTicker\",\"attributes\":{\"num_minor_ticks\":5,\"id\":\"fc73a7e6-7404-4f02-cf0e-21bbb4c021ef\",\"tags\":[],\"doc\":null}},{\"id\":\"3341b4ae-cbb7-4b06-cb09-af6b68284b67\",\"type\":\"LinearAxis\",\"attributes\":{\"formatter\":{\"type\":\"BasicTickFormatter\",\"id\":\"f7004df0-ddf7-4d03-cdb8-4fa1de6e3bcf\"},\"ticker\":{\"type\":\"BasicTicker\",\"id\":\"fc73a7e6-7404-4f02-cf0e-21bbb4c021ef\"},\"plot\":{\"id\":\"5009ef23-82c9-4a61-ca83-74682f17fda2\",\"type\":\"Plot\",\"subtype\":\"Figure\"},\"axis_label\":\"Epochs\",\"id\":\"3341b4ae-cbb7-4b06-cb09-af6b68284b67\",\"doc\":null,\"tags\":[]}},{\"id\":\"4790005a-184c-44cd-c430-d44d8e4487c9\",\"type\":\"Grid\",\"attributes\":{\"dimension\":0,\"plot\":{\"id\":\"5009ef23-82c9-4a61-ca83-74682f17fda2\",\"type\":\"Plot\",\"subtype\":\"Figure\"},\"ticker\":{\"type\":\"BasicTicker\",\"id\":\"fc73a7e6-7404-4f02-cf0e-21bbb4c021ef\"},\"id\":\"4790005a-184c-44cd-c430-d44d8e4487c9\",\"doc\":null,\"tags\":[]}},{\"id\":\"851d1b8b-11ef-4d4f-cd56-15c4c5291a50\",\"type\":\"BasicTickFormatter\",\"attributes\":{\"id\":\"851d1b8b-11ef-4d4f-cd56-15c4c5291a50\",\"tags\":[],\"doc\":null}},{\"id\":\"edb83bf6-05e3-44b6-c4a2-4de8e78dc2eb\",\"type\":\"BasicTicker\",\"attributes\":{\"num_minor_ticks\":5,\"id\":\"edb83bf6-05e3-44b6-c4a2-4de8e78dc2eb\",\"tags\":[],\"doc\":null}},{\"id\":\"9ad64c8d-0dc1-490d-c9da-0dd82bac1e91\",\"type\":\"LinearAxis\",\"attributes\":{\"formatter\":{\"type\":\"BasicTickFormatter\",\"id\":\"851d1b8b-11ef-4d4f-cd56-15c4c5291a50\"},\"ticker\":{\"type\":\"BasicTicker\",\"id\":\"edb83bf6-05e3-44b6-c4a2-4de8e78dc2eb\"},\"plot\":{\"id\":\"5009ef23-82c9-4a61-ca83-74682f17fda2\",\"type\":\"Plot\",\"subtype\":\"Figure\"},\"axis_label\":\"Percentage Error\",\"id\":\"9ad64c8d-0dc1-490d-c9da-0dd82bac1e91\",\"doc\":null,\"tags\":[]}},{\"id\":\"88fe02b4-c305-4443-c4bc-51a48e8ab53c\",\"type\":\"Grid\",\"attributes\":{\"dimension\":1,\"plot\":{\"id\":\"5009ef23-82c9-4a61-ca83-74682f17fda2\",\"type\":\"Plot\",\"subtype\":\"Figure\"},\"ticker\":{\"type\":\"BasicTicker\",\"id\":\"edb83bf6-05e3-44b6-c4a2-4de8e78dc2eb\"},\"id\":\"88fe02b4-c305-4443-c4bc-51a48e8ab53c\",\"doc\":null,\"tags\":[]}},{\"id\":\"3de3aa81-2bc2-4514-c55b-552a597be5ee\",\"type\":\"PanTool\",\"attributes\":{\"plot\":{\"id\":\"5009ef23-82c9-4a61-ca83-74682f17fda2\",\"type\":\"Plot\",\"subtype\":\"Figure\"},\"dimensions\":[\"width\",\"height\"],\"id\":\"3de3aa81-2bc2-4514-c55b-552a597be5ee\",\"doc\":null,\"tags\":[]}},{\"id\":\"30478146-1415-43bc-c354-2f11b7f63741\",\"type\":\"WheelZoomTool\",\"attributes\":{\"plot\":{\"id\":\"5009ef23-82c9-4a61-ca83-74682f17fda2\",\"type\":\"Plot\",\"subtype\":\"Figure\"},\"dimensions\":[\"width\",\"height\"],\"id\":\"30478146-1415-43bc-c354-2f11b7f63741\",\"doc\":null,\"tags\":[]}},{\"id\":\"67fedde7-77f3-4be4-cbee-f8d7e302e1f3\",\"type\":\"BoxZoomTool\",\"attributes\":{\"plot\":{\"id\":\"5009ef23-82c9-4a61-ca83-74682f17fda2\",\"type\":\"Plot\",\"subtype\":\"Figure\"},\"id\":\"67fedde7-77f3-4be4-cbee-f8d7e302e1f3\",\"tags\":[],\"doc\":null}},{\"id\":\"bf1c741c-5060-4927-c9b9-07391de6e8a4\",\"type\":\"PreviewSaveTool\",\"attributes\":{\"plot\":{\"id\":\"5009ef23-82c9-4a61-ca83-74682f17fda2\",\"type\":\"Plot\",\"subtype\":\"Figure\"},\"id\":\"bf1c741c-5060-4927-c9b9-07391de6e8a4\",\"tags\":[],\"doc\":null}},{\"id\":\"e4375cef-c895-46d0-c6a9-fab205519e72\",\"type\":\"ResizeTool\",\"attributes\":{\"plot\":{\"id\":\"5009ef23-82c9-4a61-ca83-74682f17fda2\",\"type\":\"Plot\",\"subtype\":\"Figure\"},\"id\":\"e4375cef-c895-46d0-c6a9-fab205519e72\",\"tags\":[],\"doc\":null}},{\"id\":\"648b2e60-e405-4c40-cc5b-fff61141078a\",\"type\":\"ResetTool\",\"attributes\":{\"plot\":{\"id\":\"5009ef23-82c9-4a61-ca83-74682f17fda2\",\"type\":\"Plot\",\"subtype\":\"Figure\"},\"id\":\"648b2e60-e405-4c40-cc5b-fff61141078a\",\"tags\":[],\"doc\":null}},{\"id\":\"489e075e-014c-4ef5-ce93-ac111bcdfad3\",\"type\":\"Legend\",\"attributes\":{\"plot\":{\"id\":\"5009ef23-82c9-4a61-ca83-74682f17fda2\",\"type\":\"Plot\",\"subtype\":\"Figure\"},\"legends\":[[\"training error\",[{\"type\":\"GlyphRenderer\",\"id\":\"6ea307e2-93aa-4cdd-cc53-0fe234bdd645\"}]],[\"validation error\",[{\"type\":\"GlyphRenderer\",\"id\":\"7d0e3034-00f9-433f-c303-8ee9f15f43eb\"}]],[\"validation error\",[{\"type\":\"GlyphRenderer\",\"id\":\"6b9474d1-8d60-4850-c806-e7a23f5fff7f\"}]]],\"id\":\"489e075e-014c-4ef5-ce93-ac111bcdfad3\",\"doc\":null,\"tags\":[]}},{\"id\":\"5009ef23-82c9-4a61-ca83-74682f17fda2\",\"type\":\"Plot\",\"attributes\":{\"x_range\":{\"type\":\"DataRange1d\",\"id\":\"a49f8f88-172c-43fc-c36e-1e4be944b303\"},\"tool_events\":{\"type\":\"ToolEvents\",\"id\":\"c1b533d8-3c18-4cdd-cc47-403647fe1018\"},\"below\":[{\"type\":\"LinearAxis\",\"id\":\"3341b4ae-cbb7-4b06-cb09-af6b68284b67\"}],\"renderers\":[{\"type\":\"GlyphRenderer\",\"id\":\"6ea307e2-93aa-4cdd-cc53-0fe234bdd645\"},{\"type\":\"GlyphRenderer\",\"id\":\"7d0e3034-00f9-433f-c303-8ee9f15f43eb\"},{\"type\":\"GlyphRenderer\",\"id\":\"6b9474d1-8d60-4850-c806-e7a23f5fff7f\"},{\"type\":\"LinearAxis\",\"id\":\"3341b4ae-cbb7-4b06-cb09-af6b68284b67\"},{\"type\":\"Grid\",\"id\":\"4790005a-184c-44cd-c430-d44d8e4487c9\"},{\"type\":\"LinearAxis\",\"id\":\"9ad64c8d-0dc1-490d-c9da-0dd82bac1e91\"},{\"type\":\"Grid\",\"id\":\"88fe02b4-c305-4443-c4bc-51a48e8ab53c\"},{\"type\":\"Legend\",\"id\":\"489e075e-014c-4ef5-ce93-ac111bcdfad3\"}],\"above\":[],\"tools\":[{\"type\":\"PanTool\",\"id\":\"3de3aa81-2bc2-4514-c55b-552a597be5ee\"},{\"type\":\"WheelZoomTool\",\"id\":\"30478146-1415-43bc-c354-2f11b7f63741\"},{\"type\":\"BoxZoomTool\",\"id\":\"67fedde7-77f3-4be4-cbee-f8d7e302e1f3\"},{\"type\":\"PreviewSaveTool\",\"id\":\"bf1c741c-5060-4927-c9b9-07391de6e8a4\"},{\"type\":\"ResizeTool\",\"id\":\"e4375cef-c895-46d0-c6a9-fab205519e72\"},{\"type\":\"ResetTool\",\"id\":\"648b2e60-e405-4c40-cc5b-fff61141078a\"}],\"doc\":null,\"right\":[],\"title\":\"comparing errors\",\"extra_x_ranges\":{},\"left\":[{\"type\":\"LinearAxis\",\"id\":\"9ad64c8d-0dc1-490d-c9da-0dd82bac1e91\"}],\"y_range\":{\"type\":\"DataRange1d\",\"id\":\"4c92973d-d7fe-41e5-c1dd-b80d028b6905\"},\"id\":\"5009ef23-82c9-4a61-ca83-74682f17fda2\",\"extra_y_ranges\":{},\"tags\":[]}}];\n",
       "  Bokeh.load_models(all_models);\n",
       "  var model = Bokeh.Collections(modeltype).get(modelid);\n",
       "  $(\"#4323d333-fe4b-47ae-c720-624cf01f3eae\").html(''); // clear any previous plot in window_id\n",
       "  var view = new model.default_view({model: model, el: \"#4323d333-fe4b-47ae-c720-624cf01f3eae\"});\n",
       "    } else {\n",
       "  load_lib(bokehjs_url, function() {\n",
       "      console.log(\"Bokeh: BokehJS plotting callback run at\", new Date())\n",
       "      var modelid = \"5009ef23-82c9-4a61-ca83-74682f17fda2\";\n",
       "      var modeltype = \"Plot\";\n",
       "      var all_models = [{\"id\":\"cb31dc76-94d6-465b-c6f7-be2f9280a00e\",\"type\":\"ColumnDataSource\",\"attributes\":{\"data\":{\"y\":[83.342779415099,50.413738381319,27.52777148039,15.452845159828,10.436975742462,7.1440716390841,5.3049195193834,4.0637043754251,3.0038540013602,2.2670596236681,1.9440036272954,1.5472681931535,1.3545681251417,1.0711856721832,0.93799591929268,0.76513262298798,0.7056223078667,0.63477669462707,0.59793697574246,0.56393108138744,0.54409430968034,0.44774427567445,0.36556336431648,0.37406483790524,0.32872364543187,0.33155746996146,0.29755157560644,0.2862162774881,0.25221038313308,0.22387213783723,0.25221038313308,0.19836771707096,0.19270006801179,0.16436182271594,0.20686919065971,0.14735887553843,0.14735887553843,0.12468827930175,0.12752210383133,0.14735887553843,0.11051915665382,0.10201768306506,0.14452505100884,0.13035592836092,0.099183858535479,0.090682384946724,0.10768533212423,0.090682384946724,0.11335298118341,0.096350034005894],\"x\":[1,2,3,4,5,6,7,8,9,10,11,12,13,14,15,16,17,18,19,20,21,22,23,24,25,26,27,28,29,30,31,32,33,34,35,36,37,38,39,40,41,42,43,44,45,46,47,48,49,50]},\"column_names\":[\"y\",\"x\"],\"cont_ranges\":{},\"discrete_ranges\":{},\"selected\":[],\"id\":\"cb31dc76-94d6-465b-c6f7-be2f9280a00e\",\"doc\":null,\"tags\":[]}},{\"id\":\"2ce6d563-645b-437e-c3e5-955c0880629e\",\"type\":\"Line\",\"attributes\":{\"fill_alpha\":{\"units\":\"data\",\"value\":0.2},\"line_alpha\":{\"units\":\"data\",\"value\":1},\"doc\":null,\"size\":{\"units\":\"screen\",\"value\":10},\"fill_color\":{\"value\":\"red\"},\"line_color\":{\"value\":\"red\"},\"x\":{\"units\":\"data\",\"field\":\"x\"},\"id\":\"2ce6d563-645b-437e-c3e5-955c0880629e\",\"y\":{\"units\":\"data\",\"field\":\"y\"},\"tags\":[]}},{\"id\":\"ae9bdc2a-8636-481f-c89f-c93e65dd2be2\",\"type\":\"Line\",\"attributes\":{\"fill_alpha\":{\"units\":\"data\",\"value\":0.2},\"line_alpha\":{\"units\":\"data\",\"value\":1},\"doc\":null,\"size\":{\"units\":\"screen\",\"value\":10},\"fill_color\":{\"value\":\"red\"},\"line_color\":{\"value\":\"red\"},\"x\":{\"units\":\"data\",\"field\":\"x\"},\"id\":\"ae9bdc2a-8636-481f-c89f-c93e65dd2be2\",\"y\":{\"units\":\"data\",\"field\":\"y\"},\"tags\":[]}},{\"id\":\"6ea307e2-93aa-4cdd-cc53-0fe234bdd645\",\"type\":\"GlyphRenderer\",\"attributes\":{\"name\":null,\"nonselection_glyph\":{\"type\":\"Line\",\"id\":\"ae9bdc2a-8636-481f-c89f-c93e65dd2be2\"},\"doc\":null,\"server_data_source\":null,\"data_source\":{\"type\":\"ColumnDataSource\",\"id\":\"cb31dc76-94d6-465b-c6f7-be2f9280a00e\"},\"glyph\":{\"type\":\"Line\",\"id\":\"2ce6d563-645b-437e-c3e5-955c0880629e\"},\"selection_glyph\":null,\"id\":\"6ea307e2-93aa-4cdd-cc53-0fe234bdd645\",\"tags\":[]}},{\"id\":\"16ca4d4e-69df-4fa1-cf2a-9b4b1287e209\",\"type\":\"ColumnDataSource\",\"attributes\":{\"data\":{\"y\":[64.677378219842,32.389696505993,14.307574598317,9.0538128028564,6.1973986228003,4.1826064779393,2.9839326702372,1.7852588625351,1.5557255802091,1.0456516194848,0.94363682733996,0.68859984697781,0.58658505483295,0.56108135679674,0.48457026268809,0.53557765876052,0.53557765876052,0.53557765876052,0.48457026268809,0.40805916857944,0.45906656465187,0.43356286661566,0.38255547054323,0.30604437643458,0.35705177250701,0.35705177250701,0.30604437643458,0.38255547054323,0.35705177250701,0.38255547054323,0.28054067839837,0.28054067839837,0.3315480744708,0.28054067839837,0.30604437643458,0.25503698036215,0.25503698036215,0.25503698036215,0.25503698036215,0.22953328232594,0.28054067839837,0.25503698036215,0.22953328232594,0.25503698036215,0.22953328232594,0.17852588625351,0.22953328232594,0.22953328232594,0.17852588625351,0.22953328232594],\"x\":[1,2,3,4,5,6,7,8,9,10,11,12,13,14,15,16,17,18,19,20,21,22,23,24,25,26,27,28,29,30,31,32,33,34,35,36,37,38,39,40,41,42,43,44,45,46,47,48,49,50]},\"column_names\":[\"y\",\"x\"],\"cont_ranges\":{},\"discrete_ranges\":{},\"selected\":[],\"id\":\"16ca4d4e-69df-4fa1-cf2a-9b4b1287e209\",\"doc\":null,\"tags\":[]}},{\"id\":\"bc15cc70-ce9e-41f7-c15e-cf43818825f6\",\"type\":\"Line\",\"attributes\":{\"fill_alpha\":{\"units\":\"data\",\"value\":0.2},\"line_alpha\":{\"units\":\"data\",\"value\":1},\"doc\":null,\"size\":{\"units\":\"screen\",\"value\":10},\"fill_color\":{\"value\":\"green\"},\"line_color\":{\"value\":\"green\"},\"x\":{\"units\":\"data\",\"field\":\"x\"},\"id\":\"bc15cc70-ce9e-41f7-c15e-cf43818825f6\",\"y\":{\"units\":\"data\",\"field\":\"y\"},\"tags\":[]}},{\"id\":\"f58a716c-0919-4ed1-ce81-4532f5591c71\",\"type\":\"Line\",\"attributes\":{\"fill_alpha\":{\"units\":\"data\",\"value\":0.2},\"line_alpha\":{\"units\":\"data\",\"value\":1},\"doc\":null,\"size\":{\"units\":\"screen\",\"value\":10},\"fill_color\":{\"value\":\"green\"},\"line_color\":{\"value\":\"green\"},\"x\":{\"units\":\"data\",\"field\":\"x\"},\"id\":\"f58a716c-0919-4ed1-ce81-4532f5591c71\",\"y\":{\"units\":\"data\",\"field\":\"y\"},\"tags\":[]}},{\"id\":\"7d0e3034-00f9-433f-c303-8ee9f15f43eb\",\"type\":\"GlyphRenderer\",\"attributes\":{\"name\":null,\"nonselection_glyph\":{\"type\":\"Line\",\"id\":\"f58a716c-0919-4ed1-ce81-4532f5591c71\"},\"doc\":null,\"server_data_source\":null,\"data_source\":{\"type\":\"ColumnDataSource\",\"id\":\"16ca4d4e-69df-4fa1-cf2a-9b4b1287e209\"},\"glyph\":{\"type\":\"Line\",\"id\":\"bc15cc70-ce9e-41f7-c15e-cf43818825f6\"},\"selection_glyph\":null,\"id\":\"7d0e3034-00f9-433f-c303-8ee9f15f43eb\",\"tags\":[]}},{\"id\":\"3f6751a2-733b-4934-c931-1d1d86374e94\",\"type\":\"ColumnDataSource\",\"attributes\":{\"data\":{\"y\":[4.371,4.371,4.371,4.371,4.371,4.371,4.371,4.371,4.371,4.371,4.371,4.371,4.371,4.371,4.371,4.371,4.371,4.371,4.371,4.371,4.371,4.371,4.371,4.371,4.371,4.371,4.371,4.371,4.371,4.371,4.371,4.371,4.371,4.371,4.371,4.371,4.371,4.371,4.371,4.371,4.371,4.371,4.371,4.371,4.371,4.371,4.371,4.371,4.371,4.371],\"x\":[1,2,3,4,5,6,7,8,9,10,11,12,13,14,15,16,17,18,19,20,21,22,23,24,25,26,27,28,29,30,31,32,33,34,35,36,37,38,39,40,41,42,43,44,45,46,47,48,49,50]},\"column_names\":[\"y\",\"x\"],\"cont_ranges\":{},\"discrete_ranges\":{},\"selected\":[],\"id\":\"3f6751a2-733b-4934-c931-1d1d86374e94\",\"doc\":null,\"tags\":[]}},{\"id\":\"916b9db1-7745-489e-c89f-1f690cc20823\",\"type\":\"Line\",\"attributes\":{\"fill_alpha\":{\"units\":\"data\",\"value\":0.2},\"line_alpha\":{\"units\":\"data\",\"value\":1},\"doc\":null,\"size\":{\"units\":\"screen\",\"value\":10},\"fill_color\":{\"value\":\"blue\"},\"line_color\":{\"value\":\"blue\"},\"x\":{\"units\":\"data\",\"field\":\"x\"},\"id\":\"916b9db1-7745-489e-c89f-1f690cc20823\",\"y\":{\"units\":\"data\",\"field\":\"y\"},\"tags\":[]}},{\"id\":\"1abaa17f-bd72-4876-c83c-1f031df8990d\",\"type\":\"Line\",\"attributes\":{\"fill_alpha\":{\"units\":\"data\",\"value\":0.2},\"line_alpha\":{\"units\":\"data\",\"value\":1},\"doc\":null,\"size\":{\"units\":\"screen\",\"value\":10},\"fill_color\":{\"value\":\"blue\"},\"line_color\":{\"value\":\"blue\"},\"x\":{\"units\":\"data\",\"field\":\"x\"},\"id\":\"1abaa17f-bd72-4876-c83c-1f031df8990d\",\"y\":{\"units\":\"data\",\"field\":\"y\"},\"tags\":[]}},{\"id\":\"6b9474d1-8d60-4850-c806-e7a23f5fff7f\",\"type\":\"GlyphRenderer\",\"attributes\":{\"name\":null,\"nonselection_glyph\":{\"type\":\"Line\",\"id\":\"1abaa17f-bd72-4876-c83c-1f031df8990d\"},\"doc\":null,\"server_data_source\":null,\"data_source\":{\"type\":\"ColumnDataSource\",\"id\":\"3f6751a2-733b-4934-c931-1d1d86374e94\"},\"glyph\":{\"type\":\"Line\",\"id\":\"916b9db1-7745-489e-c89f-1f690cc20823\"},\"selection_glyph\":null,\"id\":\"6b9474d1-8d60-4850-c806-e7a23f5fff7f\",\"tags\":[]}},{\"id\":\"a49f8f88-172c-43fc-c36e-1e4be944b303\",\"type\":\"DataRange1d\",\"attributes\":{\"sources\":[{\"columns\":[\"x\"],\"source\":{\"type\":\"ColumnDataSource\",\"id\":\"cb31dc76-94d6-465b-c6f7-be2f9280a00e\"}},{\"columns\":[\"x\"],\"source\":{\"type\":\"ColumnDataSource\",\"id\":\"16ca4d4e-69df-4fa1-cf2a-9b4b1287e209\"}},{\"columns\":[\"x\"],\"source\":{\"type\":\"ColumnDataSource\",\"id\":\"3f6751a2-733b-4934-c931-1d1d86374e94\"}}],\"id\":\"a49f8f88-172c-43fc-c36e-1e4be944b303\",\"tags\":[],\"doc\":null}},{\"id\":\"4c92973d-d7fe-41e5-c1dd-b80d028b6905\",\"type\":\"DataRange1d\",\"attributes\":{\"sources\":[{\"columns\":[\"y\"],\"source\":{\"type\":\"ColumnDataSource\",\"id\":\"cb31dc76-94d6-465b-c6f7-be2f9280a00e\"}},{\"columns\":[\"y\"],\"source\":{\"type\":\"ColumnDataSource\",\"id\":\"16ca4d4e-69df-4fa1-cf2a-9b4b1287e209\"}},{\"columns\":[\"y\"],\"source\":{\"type\":\"ColumnDataSource\",\"id\":\"3f6751a2-733b-4934-c931-1d1d86374e94\"}}],\"id\":\"4c92973d-d7fe-41e5-c1dd-b80d028b6905\",\"tags\":[],\"doc\":null}},{\"id\":\"c1b533d8-3c18-4cdd-cc47-403647fe1018\",\"type\":\"ToolEvents\",\"attributes\":{\"tags\":[],\"id\":\"c1b533d8-3c18-4cdd-cc47-403647fe1018\",\"geometries\":[],\"doc\":null}},{\"id\":\"f7004df0-ddf7-4d03-cdb8-4fa1de6e3bcf\",\"type\":\"BasicTickFormatter\",\"attributes\":{\"id\":\"f7004df0-ddf7-4d03-cdb8-4fa1de6e3bcf\",\"tags\":[],\"doc\":null}},{\"id\":\"fc73a7e6-7404-4f02-cf0e-21bbb4c021ef\",\"type\":\"BasicTicker\",\"attributes\":{\"num_minor_ticks\":5,\"id\":\"fc73a7e6-7404-4f02-cf0e-21bbb4c021ef\",\"tags\":[],\"doc\":null}},{\"id\":\"3341b4ae-cbb7-4b06-cb09-af6b68284b67\",\"type\":\"LinearAxis\",\"attributes\":{\"formatter\":{\"type\":\"BasicTickFormatter\",\"id\":\"f7004df0-ddf7-4d03-cdb8-4fa1de6e3bcf\"},\"ticker\":{\"type\":\"BasicTicker\",\"id\":\"fc73a7e6-7404-4f02-cf0e-21bbb4c021ef\"},\"plot\":{\"id\":\"5009ef23-82c9-4a61-ca83-74682f17fda2\",\"type\":\"Plot\",\"subtype\":\"Figure\"},\"axis_label\":\"Epochs\",\"id\":\"3341b4ae-cbb7-4b06-cb09-af6b68284b67\",\"doc\":null,\"tags\":[]}},{\"id\":\"4790005a-184c-44cd-c430-d44d8e4487c9\",\"type\":\"Grid\",\"attributes\":{\"dimension\":0,\"plot\":{\"id\":\"5009ef23-82c9-4a61-ca83-74682f17fda2\",\"type\":\"Plot\",\"subtype\":\"Figure\"},\"ticker\":{\"type\":\"BasicTicker\",\"id\":\"fc73a7e6-7404-4f02-cf0e-21bbb4c021ef\"},\"id\":\"4790005a-184c-44cd-c430-d44d8e4487c9\",\"doc\":null,\"tags\":[]}},{\"id\":\"851d1b8b-11ef-4d4f-cd56-15c4c5291a50\",\"type\":\"BasicTickFormatter\",\"attributes\":{\"id\":\"851d1b8b-11ef-4d4f-cd56-15c4c5291a50\",\"tags\":[],\"doc\":null}},{\"id\":\"edb83bf6-05e3-44b6-c4a2-4de8e78dc2eb\",\"type\":\"BasicTicker\",\"attributes\":{\"num_minor_ticks\":5,\"id\":\"edb83bf6-05e3-44b6-c4a2-4de8e78dc2eb\",\"tags\":[],\"doc\":null}},{\"id\":\"9ad64c8d-0dc1-490d-c9da-0dd82bac1e91\",\"type\":\"LinearAxis\",\"attributes\":{\"formatter\":{\"type\":\"BasicTickFormatter\",\"id\":\"851d1b8b-11ef-4d4f-cd56-15c4c5291a50\"},\"ticker\":{\"type\":\"BasicTicker\",\"id\":\"edb83bf6-05e3-44b6-c4a2-4de8e78dc2eb\"},\"plot\":{\"id\":\"5009ef23-82c9-4a61-ca83-74682f17fda2\",\"type\":\"Plot\",\"subtype\":\"Figure\"},\"axis_label\":\"Percentage Error\",\"id\":\"9ad64c8d-0dc1-490d-c9da-0dd82bac1e91\",\"doc\":null,\"tags\":[]}},{\"id\":\"88fe02b4-c305-4443-c4bc-51a48e8ab53c\",\"type\":\"Grid\",\"attributes\":{\"dimension\":1,\"plot\":{\"id\":\"5009ef23-82c9-4a61-ca83-74682f17fda2\",\"type\":\"Plot\",\"subtype\":\"Figure\"},\"ticker\":{\"type\":\"BasicTicker\",\"id\":\"edb83bf6-05e3-44b6-c4a2-4de8e78dc2eb\"},\"id\":\"88fe02b4-c305-4443-c4bc-51a48e8ab53c\",\"doc\":null,\"tags\":[]}},{\"id\":\"3de3aa81-2bc2-4514-c55b-552a597be5ee\",\"type\":\"PanTool\",\"attributes\":{\"plot\":{\"id\":\"5009ef23-82c9-4a61-ca83-74682f17fda2\",\"type\":\"Plot\",\"subtype\":\"Figure\"},\"dimensions\":[\"width\",\"height\"],\"id\":\"3de3aa81-2bc2-4514-c55b-552a597be5ee\",\"doc\":null,\"tags\":[]}},{\"id\":\"30478146-1415-43bc-c354-2f11b7f63741\",\"type\":\"WheelZoomTool\",\"attributes\":{\"plot\":{\"id\":\"5009ef23-82c9-4a61-ca83-74682f17fda2\",\"type\":\"Plot\",\"subtype\":\"Figure\"},\"dimensions\":[\"width\",\"height\"],\"id\":\"30478146-1415-43bc-c354-2f11b7f63741\",\"doc\":null,\"tags\":[]}},{\"id\":\"67fedde7-77f3-4be4-cbee-f8d7e302e1f3\",\"type\":\"BoxZoomTool\",\"attributes\":{\"plot\":{\"id\":\"5009ef23-82c9-4a61-ca83-74682f17fda2\",\"type\":\"Plot\",\"subtype\":\"Figure\"},\"id\":\"67fedde7-77f3-4be4-cbee-f8d7e302e1f3\",\"tags\":[],\"doc\":null}},{\"id\":\"bf1c741c-5060-4927-c9b9-07391de6e8a4\",\"type\":\"PreviewSaveTool\",\"attributes\":{\"plot\":{\"id\":\"5009ef23-82c9-4a61-ca83-74682f17fda2\",\"type\":\"Plot\",\"subtype\":\"Figure\"},\"id\":\"bf1c741c-5060-4927-c9b9-07391de6e8a4\",\"tags\":[],\"doc\":null}},{\"id\":\"e4375cef-c895-46d0-c6a9-fab205519e72\",\"type\":\"ResizeTool\",\"attributes\":{\"plot\":{\"id\":\"5009ef23-82c9-4a61-ca83-74682f17fda2\",\"type\":\"Plot\",\"subtype\":\"Figure\"},\"id\":\"e4375cef-c895-46d0-c6a9-fab205519e72\",\"tags\":[],\"doc\":null}},{\"id\":\"648b2e60-e405-4c40-cc5b-fff61141078a\",\"type\":\"ResetTool\",\"attributes\":{\"plot\":{\"id\":\"5009ef23-82c9-4a61-ca83-74682f17fda2\",\"type\":\"Plot\",\"subtype\":\"Figure\"},\"id\":\"648b2e60-e405-4c40-cc5b-fff61141078a\",\"tags\":[],\"doc\":null}},{\"id\":\"489e075e-014c-4ef5-ce93-ac111bcdfad3\",\"type\":\"Legend\",\"attributes\":{\"plot\":{\"id\":\"5009ef23-82c9-4a61-ca83-74682f17fda2\",\"type\":\"Plot\",\"subtype\":\"Figure\"},\"legends\":[[\"training error\",[{\"type\":\"GlyphRenderer\",\"id\":\"6ea307e2-93aa-4cdd-cc53-0fe234bdd645\"}]],[\"validation error\",[{\"type\":\"GlyphRenderer\",\"id\":\"7d0e3034-00f9-433f-c303-8ee9f15f43eb\"}]],[\"validation error\",[{\"type\":\"GlyphRenderer\",\"id\":\"6b9474d1-8d60-4850-c806-e7a23f5fff7f\"}]]],\"id\":\"489e075e-014c-4ef5-ce93-ac111bcdfad3\",\"doc\":null,\"tags\":[]}},{\"id\":\"5009ef23-82c9-4a61-ca83-74682f17fda2\",\"type\":\"Plot\",\"attributes\":{\"x_range\":{\"type\":\"DataRange1d\",\"id\":\"a49f8f88-172c-43fc-c36e-1e4be944b303\"},\"tool_events\":{\"type\":\"ToolEvents\",\"id\":\"c1b533d8-3c18-4cdd-cc47-403647fe1018\"},\"below\":[{\"type\":\"LinearAxis\",\"id\":\"3341b4ae-cbb7-4b06-cb09-af6b68284b67\"}],\"renderers\":[{\"type\":\"GlyphRenderer\",\"id\":\"6ea307e2-93aa-4cdd-cc53-0fe234bdd645\"},{\"type\":\"GlyphRenderer\",\"id\":\"7d0e3034-00f9-433f-c303-8ee9f15f43eb\"},{\"type\":\"GlyphRenderer\",\"id\":\"6b9474d1-8d60-4850-c806-e7a23f5fff7f\"},{\"type\":\"LinearAxis\",\"id\":\"3341b4ae-cbb7-4b06-cb09-af6b68284b67\"},{\"type\":\"Grid\",\"id\":\"4790005a-184c-44cd-c430-d44d8e4487c9\"},{\"type\":\"LinearAxis\",\"id\":\"9ad64c8d-0dc1-490d-c9da-0dd82bac1e91\"},{\"type\":\"Grid\",\"id\":\"88fe02b4-c305-4443-c4bc-51a48e8ab53c\"},{\"type\":\"Legend\",\"id\":\"489e075e-014c-4ef5-ce93-ac111bcdfad3\"}],\"above\":[],\"tools\":[{\"type\":\"PanTool\",\"id\":\"3de3aa81-2bc2-4514-c55b-552a597be5ee\"},{\"type\":\"WheelZoomTool\",\"id\":\"30478146-1415-43bc-c354-2f11b7f63741\"},{\"type\":\"BoxZoomTool\",\"id\":\"67fedde7-77f3-4be4-cbee-f8d7e302e1f3\"},{\"type\":\"PreviewSaveTool\",\"id\":\"bf1c741c-5060-4927-c9b9-07391de6e8a4\"},{\"type\":\"ResizeTool\",\"id\":\"e4375cef-c895-46d0-c6a9-fab205519e72\"},{\"type\":\"ResetTool\",\"id\":\"648b2e60-e405-4c40-cc5b-fff61141078a\"}],\"doc\":null,\"right\":[],\"title\":\"comparing errors\",\"extra_x_ranges\":{},\"left\":[{\"type\":\"LinearAxis\",\"id\":\"9ad64c8d-0dc1-490d-c9da-0dd82bac1e91\"}],\"y_range\":{\"type\":\"DataRange1d\",\"id\":\"4c92973d-d7fe-41e5-c1dd-b80d028b6905\"},\"id\":\"5009ef23-82c9-4a61-ca83-74682f17fda2\",\"extra_y_ranges\":{},\"tags\":[]}}];\n",
       "      Bokeh.load_models(all_models);\n",
       "      var model = Bokeh.Collections(modeltype).get(modelid);\n",
       "      $(\"#4323d333-fe4b-47ae-c720-624cf01f3eae\").html(''); // clear any previous plot in window_id\n",
       "      var view = new model.default_view({model: model, el: \"#4323d333-fe4b-47ae-c720-624cf01f3eae\"});\n",
       "  });\n",
       "    }\n",
       "});\n",
       "</script>\n",
       "<div class=\"plotdiv\" id=\"4323d333-fe4b-47ae-c720-624cf01f3eae\"></div>\n"
      ]
     },
     "metadata": {},
     "output_type": "display_data"
    },
    {
     "data": {
      "text/plain": [
       "{\n",
       "  text : function: 0x419fdf40\n",
       "  _winid : 4323d333-fe4b-47ae-c720-624cf01f3eae\n",
       "  quad : function: 0x419fe168\n",
       "  _docid : userdata: NULL\n",
       "  yaxis : function: 0x41a07838\n",
       "  _legend : true\n",
       "  hover_tool : function: 0x419fdf60\n",
       "  quiver : function: 0x419fe148\n",
       "  triangle : function: 0x41de1c50\n",
       "  save : function: 0x41de5c48\n",
       "  circle : function: 0x41a07670\n",
       "  _yaxis : Percentage Error\n",
       "  draw : function: 0x41de5be8\n",
       "  gscatter : function: 0x419fe108\n",
       "  title : function: 0x419fe1a8\n",
       "  line : function: 0x41a077d0\n",
       "  segment : function: 0x419fe128\n",
       "  histogram : function: 0x419fe188\n",
       "  _data : \n"
      ]
     },
     "execution_count": 8,
     "metadata": {},
     "output_type": "execute_result"
    },
    {
     "data": {
      "text/plain": [
       "    {\n",
       "      1 : \n",
       "        {\n",
       "          fill_color : red\n",
       "          line_color : red\n",
       "          legend : training error\n",
       "          type : Line\n",
       "          y : DoubleTensor - size: 50\n",
       "          x : DoubleTensor - size: 50\n",
       "        }\n",
       "      2 : \n",
       "        {\n",
       "          fill_color : green\n",
       "          line_color : green\n",
       "          legend : validation error\n",
       "          type : Line\n",
       "          y : DoubleTensor - size: 50\n",
       "          x : DoubleTensor - size: 50\n",
       "        }\n",
       "      3 : \n",
       "        {\n",
       "          fill_color : blue\n",
       "          line_color : blue\n",
       "          legend : validation error\n",
       "          type : Line\n",
       "          y : DoubleTensor - size: 50\n",
       "          x : DoubleTensor - size: 50\n",
       "        }\n",
       "    }\n",
       "  _xaxis : Epochs\n",
       "  new : function: 0x419fe688\n",
       "  _toAllModels : function: 0x41de56f8\n",
       "  hist : function: 0x419fe188\n",
       "  _title : comparing errors\n",
       "  xaxis : function: 0x41a07818\n",
       "  redraw : function: 0x41de5c28\n",
       "  toTemplate : function: 0x41de5b60\n",
       "  legend : function: 0x41a07858\n",
       "  toHTML : function: 0x41de5ba8\n",
       "}\n"
      ]
     },
     "execution_count": 8,
     "metadata": {},
     "output_type": "execute_result"
    }
   ],
   "source": [
    "Plot()\n",
    ":line(x_axis, training_error_vector,'red','training error')\n",
    ":line(x_axis, validation_error_vector,'green','validation error')\n",
    ":line(x_axis, test_error_vector,'blue','validation error')\n",
    ":xaxis('Epochs'):yaxis('Percentage Error')\n",
    ":legend(true):title('comparing errors'):draw()"
   ]
  },
  {
   "cell_type": "markdown",
   "metadata": {},
   "source": [
    "## Observations\n",
    "\n",
    "1. Validation/Test error is still low but the test error is still high comparatively.\n",
    "2. A 0.00744 increase in test accuracy is observed with regularization\n",
    "\n",
    "## Questions\n",
    "\n",
    "1. Is a better model is required? (Adding/removing layes or a different architecture altogether)\n",
    "2. More regularization is needed? --> This may not be the case as we are getting low error on validation set as well.\n",
    "\n",
    "## Conclusions\n",
    "1. Changing the model itself would be a bigger task (So, we'll delay this part a little bit)\n",
    "2. We need a better validation set which is a better sample for the test set!"
   ]
  },
  {
   "cell_type": "markdown",
   "metadata": {},
   "source": [
    "## Building a better validation set\n",
    "\n",
    "The dataset was created by recording 1 minute videos while approaching different traffic signals and these were sampled into 30 images each (1 minute video divide into 30 images is called a track here). As written in [Traffic Sign Recognition with Multi-Scale Convolutional Networks](http://yann.lecun.com/exdb/publis/pdf/sermanet-ijcnn-11.pdf): Mixing all images at random and subsequently separating into training and validation will result in very similar sets, and will not accurately predict performance on the unseen test set.\n",
    "\n",
    "Thus, a different validation set is created by extracting a full random track from every class resulting in 1290 samples for validation. Also, this ensures that that the samples in the validation set are balanced (i.e., have equal number of samples for every class). Thsi has been done in the datasets created train.t7 and validation.t7"
   ]
  },
  {
   "cell_type": "code",
   "execution_count": 10,
   "metadata": {
    "collapsed": false
   },
   "outputs": [
    {
     "data": {
      "text/plain": [
       "{\n",
       "  text : function: 0x419fdf40\n"
      ]
     },
     "execution_count": 10,
     "metadata": {},
     "output_type": "execute_result"
    },
    {
     "data": {
      "text/html": [
       "<script type=\"text/javascript\">\n",
       "$(function() {\n",
       "    if (typeof (window._bokeh_onload_callbacks) === \"undefined\"){\n",
       "  window._bokeh_onload_callbacks = [];\n",
       "    }\n",
       "    function load_lib(url, callback){\n",
       "  window._bokeh_onload_callbacks.push(callback);\n",
       "  if (window._bokeh_is_loading){\n",
       "      console.log(\"Bokeh: BokehJS is being loaded, scheduling callback at\", new Date());\n",
       "      return null;\n",
       "  }\n",
       "  console.log(\"Bokeh: BokehJS not loaded, scheduling load and callback at\", new Date());\n",
       "  window._bokeh_is_loading = true;\n",
       "  var s = document.createElement('script');\n",
       "  s.src = url;\n",
       "  s.async = true;\n",
       "  s.onreadystatechange = s.onload = function(){\n",
       "      Bokeh.embed.inject_css(\"https://cdn.pydata.org/bokeh-0.7.0.min.css\");\n",
       "      window._bokeh_onload_callbacks.forEach(function(callback){callback()});\n",
       "  };\n",
       "  s.onerror = function(){\n",
       "      console.warn(\"failed to load library \" + url);\n",
       "  };\n",
       "  document.getElementsByTagName(\"head\")[0].appendChild(s);\n",
       "    }\n",
       "\n",
       "    bokehjs_url = \"https://cdn.pydata.org/bokeh-0.7.0.min.js\"\n",
       "\n",
       "    var elt = document.getElementById(\"86917684-608d-4f6b-cff3-146a5c5197c7\");\n",
       "    if(elt==null) {\n",
       "  console.log(\"Bokeh: ERROR: autoload.js configured with elementid '86917684-608d-4f6b-cff3-146a5c5197c7'\"\n",
       "        + \"but no matching script tag was found. \")\n",
       "  return false;\n",
       "    }\n",
       "\n",
       "    if(typeof(Bokeh) !== \"undefined\") {\n",
       "  console.log(\"Bokeh: BokehJS loaded, going straight to plotting\");\n",
       "  var modelid = \"80916607-4ec3-4111-c1ce-45221464354c\";\n",
       "  var modeltype = \"Plot\";\n",
       "  var all_models = [{\"id\":\"38bd9b0b-8d2c-432c-c33c-6353b5ddd497\",\"type\":\"ColumnDataSource\",\"attributes\":{\"data\":{\"y\":[0.14735887553843,0.11051915665382,0.10201768306506,0.14452505100884,0.13035592836092,0.099183858535479,0.090682384946724,0.10768533212423,0.090682384946724,0.11335298118341,0.096350034005894],\"x\":[40,41,42,43,44,45,46,47,48,49,50]},\"column_names\":[\"y\",\"x\"],\"cont_ranges\":{},\"discrete_ranges\":{},\"selected\":[],\"id\":\"38bd9b0b-8d2c-432c-c33c-6353b5ddd497\",\"doc\":null,\"tags\":[]}},{\"id\":\"38e71985-908a-4f41-cfdb-a4f2127a8589\",\"type\":\"Line\",\"attributes\":{\"fill_alpha\":{\"units\":\"data\",\"value\":0.2},\"line_alpha\":{\"units\":\"data\",\"value\":1},\"doc\":null,\"size\":{\"units\":\"screen\",\"value\":10},\"fill_color\":{\"value\":\"red\"},\"line_color\":{\"value\":\"red\"},\"x\":{\"units\":\"data\",\"field\":\"x\"},\"id\":\"38e71985-908a-4f41-cfdb-a4f2127a8589\",\"y\":{\"units\":\"data\",\"field\":\"y\"},\"tags\":[]}},{\"id\":\"fb1c0a8c-3974-4ba7-cb54-d027d9fce98f\",\"type\":\"Line\",\"attributes\":{\"fill_alpha\":{\"units\":\"data\",\"value\":0.2},\"line_alpha\":{\"units\":\"data\",\"value\":1},\"doc\":null,\"size\":{\"units\":\"screen\",\"value\":10},\"fill_color\":{\"value\":\"red\"},\"line_color\":{\"value\":\"red\"},\"x\":{\"units\":\"data\",\"field\":\"x\"},\"id\":\"fb1c0a8c-3974-4ba7-cb54-d027d9fce98f\",\"y\":{\"units\":\"data\",\"field\":\"y\"},\"tags\":[]}},{\"id\":\"3d45818a-b5bc-48e0-c871-129881dfe385\",\"type\":\"GlyphRenderer\",\"attributes\":{\"name\":null,\"nonselection_glyph\":{\"type\":\"Line\",\"id\":\"fb1c0a8c-3974-4ba7-cb54-d027d9fce98f\"},\"doc\":null,\"server_data_source\":null,\"data_source\":{\"type\":\"ColumnDataSource\",\"id\":\"38bd9b0b-8d2c-432c-c33c-6353b5ddd497\"},\"glyph\":{\"type\":\"Line\",\"id\":\"38e71985-908a-4f41-cfdb-a4f2127a8589\"},\"selection_glyph\":null,\"id\":\"3d45818a-b5bc-48e0-c871-129881dfe385\",\"tags\":[]}},{\"id\":\"bb20367c-45be-4187-c160-91a65e1b87ee\",\"type\":\"ColumnDataSource\",\"attributes\":{\"data\":{\"y\":[0.22953328232594,0.28054067839837,0.25503698036215,0.22953328232594,0.25503698036215,0.22953328232594,0.17852588625351,0.22953328232594,0.22953328232594,0.17852588625351,0.22953328232594],\"x\":[40,41,42,43,44,45,46,47,48,49,50]},\"column_names\":[\"y\",\"x\"],\"cont_ranges\":{},\"discrete_ranges\":{},\"selected\":[],\"id\":\"bb20367c-45be-4187-c160-91a65e1b87ee\",\"doc\":null,\"tags\":[]}},{\"id\":\"75deb4e1-de4b-4277-c2b6-03402a290f7d\",\"type\":\"Line\",\"attributes\":{\"fill_alpha\":{\"units\":\"data\",\"value\":0.2},\"line_alpha\":{\"units\":\"data\",\"value\":1},\"doc\":null,\"size\":{\"units\":\"screen\",\"value\":10},\"fill_color\":{\"value\":\"green\"},\"line_color\":{\"value\":\"green\"},\"x\":{\"units\":\"data\",\"field\":\"x\"},\"id\":\"75deb4e1-de4b-4277-c2b6-03402a290f7d\",\"y\":{\"units\":\"data\",\"field\":\"y\"},\"tags\":[]}},{\"id\":\"c77fc70e-c027-4bdd-cb74-9efe64b30c3f\",\"type\":\"Line\",\"attributes\":{\"fill_alpha\":{\"units\":\"data\",\"value\":0.2},\"line_alpha\":{\"units\":\"data\",\"value\":1},\"doc\":null,\"size\":{\"units\":\"screen\",\"value\":10},\"fill_color\":{\"value\":\"green\"},\"line_color\":{\"value\":\"green\"},\"x\":{\"units\":\"data\",\"field\":\"x\"},\"id\":\"c77fc70e-c027-4bdd-cb74-9efe64b30c3f\",\"y\":{\"units\":\"data\",\"field\":\"y\"},\"tags\":[]}},{\"id\":\"6761a806-b16f-4d65-cdfb-ac8a32d052d3\",\"type\":\"GlyphRenderer\",\"attributes\":{\"name\":null,\"nonselection_glyph\":{\"type\":\"Line\",\"id\":\"c77fc70e-c027-4bdd-cb74-9efe64b30c3f\"},\"doc\":null,\"server_data_source\":null,\"data_source\":{\"type\":\"ColumnDataSource\",\"id\":\"bb20367c-45be-4187-c160-91a65e1b87ee\"},\"glyph\":{\"type\":\"Line\",\"id\":\"75deb4e1-de4b-4277-c2b6-03402a290f7d\"},\"selection_glyph\":null,\"id\":\"6761a806-b16f-4d65-cdfb-ac8a32d052d3\",\"tags\":[]}},{\"id\":\"94195310-aa19-4ca4-ccff-ddd71d30ae2e\",\"type\":\"ColumnDataSource\",\"attributes\":{\"data\":{\"y\":[4.371,4.371,4.371,4.371,4.371,4.371,4.371,4.371,4.371,4.371,4.371],\"x\":[40,41,42,43,44,45,46,47,48,49,50]},\"column_names\":[\"y\",\"x\"],\"cont_ranges\":{},\"discrete_ranges\":{},\"selected\":[],\"id\":\"94195310-aa19-4ca4-ccff-ddd71d30ae2e\",\"doc\":null,\"tags\":[]}},{\"id\":\"1a51a132-5544-45d0-c517-c7413397c262\",\"type\":\"Line\",\"attributes\":{\"fill_alpha\":{\"units\":\"data\",\"value\":0.2},\"line_alpha\":{\"units\":\"data\",\"value\":1},\"doc\":null,\"size\":{\"units\":\"screen\",\"value\":10},\"fill_color\":{\"value\":\"blue\"},\"line_color\":{\"value\":\"blue\"},\"x\":{\"units\":\"data\",\"field\":\"x\"},\"id\":\"1a51a132-5544-45d0-c517-c7413397c262\",\"y\":{\"units\":\"data\",\"field\":\"y\"},\"tags\":[]}},{\"id\":\"bb1614d0-945b-49bc-c939-478134e839e5\",\"type\":\"Line\",\"attributes\":{\"fill_alpha\":{\"units\":\"data\",\"value\":0.2},\"line_alpha\":{\"units\":\"data\",\"value\":1},\"doc\":null,\"size\":{\"units\":\"screen\",\"value\":10},\"fill_color\":{\"value\":\"blue\"},\"line_color\":{\"value\":\"blue\"},\"x\":{\"units\":\"data\",\"field\":\"x\"},\"id\":\"bb1614d0-945b-49bc-c939-478134e839e5\",\"y\":{\"units\":\"data\",\"field\":\"y\"},\"tags\":[]}},{\"id\":\"ba89f1af-8906-4b2e-cb32-cc24feeefc78\",\"type\":\"GlyphRenderer\",\"attributes\":{\"name\":null,\"nonselection_glyph\":{\"type\":\"Line\",\"id\":\"bb1614d0-945b-49bc-c939-478134e839e5\"},\"doc\":null,\"server_data_source\":null,\"data_source\":{\"type\":\"ColumnDataSource\",\"id\":\"94195310-aa19-4ca4-ccff-ddd71d30ae2e\"},\"glyph\":{\"type\":\"Line\",\"id\":\"1a51a132-5544-45d0-c517-c7413397c262\"},\"selection_glyph\":null,\"id\":\"ba89f1af-8906-4b2e-cb32-cc24feeefc78\",\"tags\":[]}},{\"id\":\"6a3bde1f-0946-44d8-c4ae-464b440e8a88\",\"type\":\"DataRange1d\",\"attributes\":{\"sources\":[{\"columns\":[\"x\"],\"source\":{\"type\":\"ColumnDataSource\",\"id\":\"38bd9b0b-8d2c-432c-c33c-6353b5ddd497\"}},{\"columns\":[\"x\"],\"source\":{\"type\":\"ColumnDataSource\",\"id\":\"bb20367c-45be-4187-c160-91a65e1b87ee\"}},{\"columns\":[\"x\"],\"source\":{\"type\":\"ColumnDataSource\",\"id\":\"94195310-aa19-4ca4-ccff-ddd71d30ae2e\"}}],\"id\":\"6a3bde1f-0946-44d8-c4ae-464b440e8a88\",\"tags\":[],\"doc\":null}},{\"id\":\"c2b03050-7182-4818-c81f-517947bf8a35\",\"type\":\"DataRange1d\",\"attributes\":{\"sources\":[{\"columns\":[\"y\"],\"source\":{\"type\":\"ColumnDataSource\",\"id\":\"38bd9b0b-8d2c-432c-c33c-6353b5ddd497\"}},{\"columns\":[\"y\"],\"source\":{\"type\":\"ColumnDataSource\",\"id\":\"bb20367c-45be-4187-c160-91a65e1b87ee\"}},{\"columns\":[\"y\"],\"source\":{\"type\":\"ColumnDataSource\",\"id\":\"94195310-aa19-4ca4-ccff-ddd71d30ae2e\"}}],\"id\":\"c2b03050-7182-4818-c81f-517947bf8a35\",\"tags\":[],\"doc\":null}},{\"id\":\"70af5f75-a406-4cb3-ccd2-c2d320ffe43a\",\"type\":\"ToolEvents\",\"attributes\":{\"tags\":[],\"id\":\"70af5f75-a406-4cb3-ccd2-c2d320ffe43a\",\"geometries\":[],\"doc\":null}},{\"id\":\"d8f84276-0c60-46a2-c679-e3d3417d7849\",\"type\":\"BasicTickFormatter\",\"attributes\":{\"id\":\"d8f84276-0c60-46a2-c679-e3d3417d7849\",\"tags\":[],\"doc\":null}},{\"id\":\"78b1c040-27e8-48fc-c89a-a00850c8fc2e\",\"type\":\"BasicTicker\",\"attributes\":{\"num_minor_ticks\":5,\"id\":\"78b1c040-27e8-48fc-c89a-a00850c8fc2e\",\"tags\":[],\"doc\":null}},{\"id\":\"58a0b646-0879-4622-c6ba-6be7f1680868\",\"type\":\"LinearAxis\",\"attributes\":{\"formatter\":{\"type\":\"BasicTickFormatter\",\"id\":\"d8f84276-0c60-46a2-c679-e3d3417d7849\"},\"ticker\":{\"type\":\"BasicTicker\",\"id\":\"78b1c040-27e8-48fc-c89a-a00850c8fc2e\"},\"plot\":{\"id\":\"80916607-4ec3-4111-c1ce-45221464354c\",\"type\":\"Plot\",\"subtype\":\"Figure\"},\"axis_label\":\"Epochs\",\"id\":\"58a0b646-0879-4622-c6ba-6be7f1680868\",\"doc\":null,\"tags\":[]}},{\"id\":\"90cd3bab-7862-4102-c12a-1a4193098f73\",\"type\":\"Grid\",\"attributes\":{\"dimension\":0,\"plot\":{\"id\":\"80916607-4ec3-4111-c1ce-45221464354c\",\"type\":\"Plot\",\"subtype\":\"Figure\"},\"ticker\":{\"type\":\"BasicTicker\",\"id\":\"78b1c040-27e8-48fc-c89a-a00850c8fc2e\"},\"id\":\"90cd3bab-7862-4102-c12a-1a4193098f73\",\"doc\":null,\"tags\":[]}},{\"id\":\"7d2b0a47-170c-4ac1-ca4a-6685398c9c2b\",\"type\":\"BasicTickFormatter\",\"attributes\":{\"id\":\"7d2b0a47-170c-4ac1-ca4a-6685398c9c2b\",\"tags\":[],\"doc\":null}},{\"id\":\"79655b13-5385-4dc0-cd9f-9c4590daca1a\",\"type\":\"BasicTicker\",\"attributes\":{\"num_minor_ticks\":5,\"id\":\"79655b13-5385-4dc0-cd9f-9c4590daca1a\",\"tags\":[],\"doc\":null}},{\"id\":\"49639db4-a51b-49a2-c935-bff03b70d736\",\"type\":\"LinearAxis\",\"attributes\":{\"formatter\":{\"type\":\"BasicTickFormatter\",\"id\":\"7d2b0a47-170c-4ac1-ca4a-6685398c9c2b\"},\"ticker\":{\"type\":\"BasicTicker\",\"id\":\"79655b13-5385-4dc0-cd9f-9c4590daca1a\"},\"plot\":{\"id\":\"80916607-4ec3-4111-c1ce-45221464354c\",\"type\":\"Plot\",\"subtype\":\"Figure\"},\"axis_label\":\"Percentage Error\",\"id\":\"49639db4-a51b-49a2-c935-bff03b70d736\",\"doc\":null,\"tags\":[]}},{\"id\":\"ae0cac3b-e2e6-4604-c6ee-599419a12508\",\"type\":\"Grid\",\"attributes\":{\"dimension\":1,\"plot\":{\"id\":\"80916607-4ec3-4111-c1ce-45221464354c\",\"type\":\"Plot\",\"subtype\":\"Figure\"},\"ticker\":{\"type\":\"BasicTicker\",\"id\":\"79655b13-5385-4dc0-cd9f-9c4590daca1a\"},\"id\":\"ae0cac3b-e2e6-4604-c6ee-599419a12508\",\"doc\":null,\"tags\":[]}},{\"id\":\"68582311-abde-4789-c715-78a4d0c0d2cc\",\"type\":\"PanTool\",\"attributes\":{\"plot\":{\"id\":\"80916607-4ec3-4111-c1ce-45221464354c\",\"type\":\"Plot\",\"subtype\":\"Figure\"},\"dimensions\":[\"width\",\"height\"],\"id\":\"68582311-abde-4789-c715-78a4d0c0d2cc\",\"doc\":null,\"tags\":[]}},{\"id\":\"54fb40ed-43a2-470e-c73d-0ef9f3665fbd\",\"type\":\"WheelZoomTool\",\"attributes\":{\"plot\":{\"id\":\"80916607-4ec3-4111-c1ce-45221464354c\",\"type\":\"Plot\",\"subtype\":\"Figure\"},\"dimensions\":[\"width\",\"height\"],\"id\":\"54fb40ed-43a2-470e-c73d-0ef9f3665fbd\",\"doc\":null,\"tags\":[]}},{\"id\":\"238a02b3-e1bd-462f-c61c-130de7b273f2\",\"type\":\"BoxZoomTool\",\"attributes\":{\"plot\":{\"id\":\"80916607-4ec3-4111-c1ce-45221464354c\",\"type\":\"Plot\",\"subtype\":\"Figure\"},\"id\":\"238a02b3-e1bd-462f-c61c-130de7b273f2\",\"tags\":[],\"doc\":null}},{\"id\":\"1f4bd097-4ffe-4fdd-cf4e-0f2c2a6b99f4\",\"type\":\"PreviewSaveTool\",\"attributes\":{\"plot\":{\"id\":\"80916607-4ec3-4111-c1ce-45221464354c\",\"type\":\"Plot\",\"subtype\":\"Figure\"},\"id\":\"1f4bd097-4ffe-4fdd-cf4e-0f2c2a6b99f4\",\"tags\":[],\"doc\":null}},{\"id\":\"1f07709c-9180-46ad-c656-0a5c28549279\",\"type\":\"ResizeTool\",\"attributes\":{\"plot\":{\"id\":\"80916607-4ec3-4111-c1ce-45221464354c\",\"type\":\"Plot\",\"subtype\":\"Figure\"},\"id\":\"1f07709c-9180-46ad-c656-0a5c28549279\",\"tags\":[],\"doc\":null}},{\"id\":\"c9ad566e-7db4-47e1-c7e4-45f268caa4b7\",\"type\":\"ResetTool\",\"attributes\":{\"plot\":{\"id\":\"80916607-4ec3-4111-c1ce-45221464354c\",\"type\":\"Plot\",\"subtype\":\"Figure\"},\"id\":\"c9ad566e-7db4-47e1-c7e4-45f268caa4b7\",\"tags\":[],\"doc\":null}},{\"id\":\"726d9651-26a7-4dbc-cde2-0196622ddb44\",\"type\":\"Legend\",\"attributes\":{\"plot\":{\"id\":\"80916607-4ec3-4111-c1ce-45221464354c\",\"type\":\"Plot\",\"subtype\":\"Figure\"},\"legends\":[[\"training error\",[{\"type\":\"GlyphRenderer\",\"id\":\"3d45818a-b5bc-48e0-c871-129881dfe385\"}]],[\"validation error\",[{\"type\":\"GlyphRenderer\",\"id\":\"6761a806-b16f-4d65-cdfb-ac8a32d052d3\"}]],[\"validation error\",[{\"type\":\"GlyphRenderer\",\"id\":\"ba89f1af-8906-4b2e-cb32-cc24feeefc78\"}]]],\"id\":\"726d9651-26a7-4dbc-cde2-0196622ddb44\",\"doc\":null,\"tags\":[]}},{\"id\":\"80916607-4ec3-4111-c1ce-45221464354c\",\"type\":\"Plot\",\"attributes\":{\"x_range\":{\"type\":\"DataRange1d\",\"id\":\"6a3bde1f-0946-44d8-c4ae-464b440e8a88\"},\"tool_events\":{\"type\":\"ToolEvents\",\"id\":\"70af5f75-a406-4cb3-ccd2-c2d320ffe43a\"},\"below\":[{\"type\":\"LinearAxis\",\"id\":\"58a0b646-0879-4622-c6ba-6be7f1680868\"}],\"renderers\":[{\"type\":\"GlyphRenderer\",\"id\":\"3d45818a-b5bc-48e0-c871-129881dfe385\"},{\"type\":\"GlyphRenderer\",\"id\":\"6761a806-b16f-4d65-cdfb-ac8a32d052d3\"},{\"type\":\"GlyphRenderer\",\"id\":\"ba89f1af-8906-4b2e-cb32-cc24feeefc78\"},{\"type\":\"LinearAxis\",\"id\":\"58a0b646-0879-4622-c6ba-6be7f1680868\"},{\"type\":\"Grid\",\"id\":\"90cd3bab-7862-4102-c12a-1a4193098f73\"},{\"type\":\"LinearAxis\",\"id\":\"49639db4-a51b-49a2-c935-bff03b70d736\"},{\"type\":\"Grid\",\"id\":\"ae0cac3b-e2e6-4604-c6ee-599419a12508\"},{\"type\":\"Legend\",\"id\":\"726d9651-26a7-4dbc-cde2-0196622ddb44\"}],\"above\":[],\"tools\":[{\"type\":\"PanTool\",\"id\":\"68582311-abde-4789-c715-78a4d0c0d2cc\"},{\"type\":\"WheelZoomTool\",\"id\":\"54fb40ed-43a2-470e-c73d-0ef9f3665fbd\"},{\"type\":\"BoxZoomTool\",\"id\":\"238a02b3-e1bd-462f-c61c-130de7b273f2\"},{\"type\":\"PreviewSaveTool\",\"id\":\"1f4bd097-4ffe-4fdd-cf4e-0f2c2a6b99f4\"},{\"type\":\"ResizeTool\",\"id\":\"1f07709c-9180-46ad-c656-0a5c28549279\"},{\"type\":\"ResetTool\",\"id\":\"c9ad566e-7db4-47e1-c7e4-45f268caa4b7\"}],\"doc\":null,\"right\":[],\"title\":\"comparing errors\",\"extra_x_ranges\":{},\"left\":[{\"type\":\"LinearAxis\",\"id\":\"49639db4-a51b-49a2-c935-bff03b70d736\"}],\"y_range\":{\"type\":\"DataRange1d\",\"id\":\"c2b03050-7182-4818-c81f-517947bf8a35\"},\"id\":\"80916607-4ec3-4111-c1ce-45221464354c\",\"extra_y_ranges\":{},\"tags\":[]}}];\n",
       "  Bokeh.load_models(all_models);\n",
       "  var model = Bokeh.Collections(modeltype).get(modelid);\n",
       "  $(\"#86917684-608d-4f6b-cff3-146a5c5197c7\").html(''); // clear any previous plot in window_id\n",
       "  var view = new model.default_view({model: model, el: \"#86917684-608d-4f6b-cff3-146a5c5197c7\"});\n",
       "    } else {\n",
       "  load_lib(bokehjs_url, function() {\n",
       "      console.log(\"Bokeh: BokehJS plotting callback run at\", new Date())\n",
       "      var modelid = \"80916607-4ec3-4111-c1ce-45221464354c\";\n",
       "      var modeltype = \"Plot\";\n",
       "      var all_models = [{\"id\":\"38bd9b0b-8d2c-432c-c33c-6353b5ddd497\",\"type\":\"ColumnDataSource\",\"attributes\":{\"data\":{\"y\":[0.14735887553843,0.11051915665382,0.10201768306506,0.14452505100884,0.13035592836092,0.099183858535479,0.090682384946724,0.10768533212423,0.090682384946724,0.11335298118341,0.096350034005894],\"x\":[40,41,42,43,44,45,46,47,48,49,50]},\"column_names\":[\"y\",\"x\"],\"cont_ranges\":{},\"discrete_ranges\":{},\"selected\":[],\"id\":\"38bd9b0b-8d2c-432c-c33c-6353b5ddd497\",\"doc\":null,\"tags\":[]}},{\"id\":\"38e71985-908a-4f41-cfdb-a4f2127a8589\",\"type\":\"Line\",\"attributes\":{\"fill_alpha\":{\"units\":\"data\",\"value\":0.2},\"line_alpha\":{\"units\":\"data\",\"value\":1},\"doc\":null,\"size\":{\"units\":\"screen\",\"value\":10},\"fill_color\":{\"value\":\"red\"},\"line_color\":{\"value\":\"red\"},\"x\":{\"units\":\"data\",\"field\":\"x\"},\"id\":\"38e71985-908a-4f41-cfdb-a4f2127a8589\",\"y\":{\"units\":\"data\",\"field\":\"y\"},\"tags\":[]}},{\"id\":\"fb1c0a8c-3974-4ba7-cb54-d027d9fce98f\",\"type\":\"Line\",\"attributes\":{\"fill_alpha\":{\"units\":\"data\",\"value\":0.2},\"line_alpha\":{\"units\":\"data\",\"value\":1},\"doc\":null,\"size\":{\"units\":\"screen\",\"value\":10},\"fill_color\":{\"value\":\"red\"},\"line_color\":{\"value\":\"red\"},\"x\":{\"units\":\"data\",\"field\":\"x\"},\"id\":\"fb1c0a8c-3974-4ba7-cb54-d027d9fce98f\",\"y\":{\"units\":\"data\",\"field\":\"y\"},\"tags\":[]}},{\"id\":\"3d45818a-b5bc-48e0-c871-129881dfe385\",\"type\":\"GlyphRenderer\",\"attributes\":{\"name\":null,\"nonselection_glyph\":{\"type\":\"Line\",\"id\":\"fb1c0a8c-3974-4ba7-cb54-d027d9fce98f\"},\"doc\":null,\"server_data_source\":null,\"data_source\":{\"type\":\"ColumnDataSource\",\"id\":\"38bd9b0b-8d2c-432c-c33c-6353b5ddd497\"},\"glyph\":{\"type\":\"Line\",\"id\":\"38e71985-908a-4f41-cfdb-a4f2127a8589\"},\"selection_glyph\":null,\"id\":\"3d45818a-b5bc-48e0-c871-129881dfe385\",\"tags\":[]}},{\"id\":\"bb20367c-45be-4187-c160-91a65e1b87ee\",\"type\":\"ColumnDataSource\",\"attributes\":{\"data\":{\"y\":[0.22953328232594,0.28054067839837,0.25503698036215,0.22953328232594,0.25503698036215,0.22953328232594,0.17852588625351,0.22953328232594,0.22953328232594,0.17852588625351,0.22953328232594],\"x\":[40,41,42,43,44,45,46,47,48,49,50]},\"column_names\":[\"y\",\"x\"],\"cont_ranges\":{},\"discrete_ranges\":{},\"selected\":[],\"id\":\"bb20367c-45be-4187-c160-91a65e1b87ee\",\"doc\":null,\"tags\":[]}},{\"id\":\"75deb4e1-de4b-4277-c2b6-03402a290f7d\",\"type\":\"Line\",\"attributes\":{\"fill_alpha\":{\"units\":\"data\",\"value\":0.2},\"line_alpha\":{\"units\":\"data\",\"value\":1},\"doc\":null,\"size\":{\"units\":\"screen\",\"value\":10},\"fill_color\":{\"value\":\"green\"},\"line_color\":{\"value\":\"green\"},\"x\":{\"units\":\"data\",\"field\":\"x\"},\"id\":\"75deb4e1-de4b-4277-c2b6-03402a290f7d\",\"y\":{\"units\":\"data\",\"field\":\"y\"},\"tags\":[]}},{\"id\":\"c77fc70e-c027-4bdd-cb74-9efe64b30c3f\",\"type\":\"Line\",\"attributes\":{\"fill_alpha\":{\"units\":\"data\",\"value\":0.2},\"line_alpha\":{\"units\":\"data\",\"value\":1},\"doc\":null,\"size\":{\"units\":\"screen\",\"value\":10},\"fill_color\":{\"value\":\"green\"},\"line_color\":{\"value\":\"green\"},\"x\":{\"units\":\"data\",\"field\":\"x\"},\"id\":\"c77fc70e-c027-4bdd-cb74-9efe64b30c3f\",\"y\":{\"units\":\"data\",\"field\":\"y\"},\"tags\":[]}},{\"id\":\"6761a806-b16f-4d65-cdfb-ac8a32d052d3\",\"type\":\"GlyphRenderer\",\"attributes\":{\"name\":null,\"nonselection_glyph\":{\"type\":\"Line\",\"id\":\"c77fc70e-c027-4bdd-cb74-9efe64b30c3f\"},\"doc\":null,\"server_data_source\":null,\"data_source\":{\"type\":\"ColumnDataSource\",\"id\":\"bb20367c-45be-4187-c160-91a65e1b87ee\"},\"glyph\":{\"type\":\"Line\",\"id\":\"75deb4e1-de4b-4277-c2b6-03402a290f7d\"},\"selection_glyph\":null,\"id\":\"6761a806-b16f-4d65-cdfb-ac8a32d052d3\",\"tags\":[]}},{\"id\":\"94195310-aa19-4ca4-ccff-ddd71d30ae2e\",\"type\":\"ColumnDataSource\",\"attributes\":{\"data\":{\"y\":[4.371,4.371,4.371,4.371,4.371,4.371,4.371,4.371,4.371,4.371,4.371],\"x\":[40,41,42,43,44,45,46,47,48,49,50]},\"column_names\":[\"y\",\"x\"],\"cont_ranges\":{},\"discrete_ranges\":{},\"selected\":[],\"id\":\"94195310-aa19-4ca4-ccff-ddd71d30ae2e\",\"doc\":null,\"tags\":[]}},{\"id\":\"1a51a132-5544-45d0-c517-c7413397c262\",\"type\":\"Line\",\"attributes\":{\"fill_alpha\":{\"units\":\"data\",\"value\":0.2},\"line_alpha\":{\"units\":\"data\",\"value\":1},\"doc\":null,\"size\":{\"units\":\"screen\",\"value\":10},\"fill_color\":{\"value\":\"blue\"},\"line_color\":{\"value\":\"blue\"},\"x\":{\"units\":\"data\",\"field\":\"x\"},\"id\":\"1a51a132-5544-45d0-c517-c7413397c262\",\"y\":{\"units\":\"data\",\"field\":\"y\"},\"tags\":[]}},{\"id\":\"bb1614d0-945b-49bc-c939-478134e839e5\",\"type\":\"Line\",\"attributes\":{\"fill_alpha\":{\"units\":\"data\",\"value\":0.2},\"line_alpha\":{\"units\":\"data\",\"value\":1},\"doc\":null,\"size\":{\"units\":\"screen\",\"value\":10},\"fill_color\":{\"value\":\"blue\"},\"line_color\":{\"value\":\"blue\"},\"x\":{\"units\":\"data\",\"field\":\"x\"},\"id\":\"bb1614d0-945b-49bc-c939-478134e839e5\",\"y\":{\"units\":\"data\",\"field\":\"y\"},\"tags\":[]}},{\"id\":\"ba89f1af-8906-4b2e-cb32-cc24feeefc78\",\"type\":\"GlyphRenderer\",\"attributes\":{\"name\":null,\"nonselection_glyph\":{\"type\":\"Line\",\"id\":\"bb1614d0-945b-49bc-c939-478134e839e5\"},\"doc\":null,\"server_data_source\":null,\"data_source\":{\"type\":\"ColumnDataSource\",\"id\":\"94195310-aa19-4ca4-ccff-ddd71d30ae2e\"},\"glyph\":{\"type\":\"Line\",\"id\":\"1a51a132-5544-45d0-c517-c7413397c262\"},\"selection_glyph\":null,\"id\":\"ba89f1af-8906-4b2e-cb32-cc24feeefc78\",\"tags\":[]}},{\"id\":\"6a3bde1f-0946-44d8-c4ae-464b440e8a88\",\"type\":\"DataRange1d\",\"attributes\":{\"sources\":[{\"columns\":[\"x\"],\"source\":{\"type\":\"ColumnDataSource\",\"id\":\"38bd9b0b-8d2c-432c-c33c-6353b5ddd497\"}},{\"columns\":[\"x\"],\"source\":{\"type\":\"ColumnDataSource\",\"id\":\"bb20367c-45be-4187-c160-91a65e1b87ee\"}},{\"columns\":[\"x\"],\"source\":{\"type\":\"ColumnDataSource\",\"id\":\"94195310-aa19-4ca4-ccff-ddd71d30ae2e\"}}],\"id\":\"6a3bde1f-0946-44d8-c4ae-464b440e8a88\",\"tags\":[],\"doc\":null}},{\"id\":\"c2b03050-7182-4818-c81f-517947bf8a35\",\"type\":\"DataRange1d\",\"attributes\":{\"sources\":[{\"columns\":[\"y\"],\"source\":{\"type\":\"ColumnDataSource\",\"id\":\"38bd9b0b-8d2c-432c-c33c-6353b5ddd497\"}},{\"columns\":[\"y\"],\"source\":{\"type\":\"ColumnDataSource\",\"id\":\"bb20367c-45be-4187-c160-91a65e1b87ee\"}},{\"columns\":[\"y\"],\"source\":{\"type\":\"ColumnDataSource\",\"id\":\"94195310-aa19-4ca4-ccff-ddd71d30ae2e\"}}],\"id\":\"c2b03050-7182-4818-c81f-517947bf8a35\",\"tags\":[],\"doc\":null}},{\"id\":\"70af5f75-a406-4cb3-ccd2-c2d320ffe43a\",\"type\":\"ToolEvents\",\"attributes\":{\"tags\":[],\"id\":\"70af5f75-a406-4cb3-ccd2-c2d320ffe43a\",\"geometries\":[],\"doc\":null}},{\"id\":\"d8f84276-0c60-46a2-c679-e3d3417d7849\",\"type\":\"BasicTickFormatter\",\"attributes\":{\"id\":\"d8f84276-0c60-46a2-c679-e3d3417d7849\",\"tags\":[],\"doc\":null}},{\"id\":\"78b1c040-27e8-48fc-c89a-a00850c8fc2e\",\"type\":\"BasicTicker\",\"attributes\":{\"num_minor_ticks\":5,\"id\":\"78b1c040-27e8-48fc-c89a-a00850c8fc2e\",\"tags\":[],\"doc\":null}},{\"id\":\"58a0b646-0879-4622-c6ba-6be7f1680868\",\"type\":\"LinearAxis\",\"attributes\":{\"formatter\":{\"type\":\"BasicTickFormatter\",\"id\":\"d8f84276-0c60-46a2-c679-e3d3417d7849\"},\"ticker\":{\"type\":\"BasicTicker\",\"id\":\"78b1c040-27e8-48fc-c89a-a00850c8fc2e\"},\"plot\":{\"id\":\"80916607-4ec3-4111-c1ce-45221464354c\",\"type\":\"Plot\",\"subtype\":\"Figure\"},\"axis_label\":\"Epochs\",\"id\":\"58a0b646-0879-4622-c6ba-6be7f1680868\",\"doc\":null,\"tags\":[]}},{\"id\":\"90cd3bab-7862-4102-c12a-1a4193098f73\",\"type\":\"Grid\",\"attributes\":{\"dimension\":0,\"plot\":{\"id\":\"80916607-4ec3-4111-c1ce-45221464354c\",\"type\":\"Plot\",\"subtype\":\"Figure\"},\"ticker\":{\"type\":\"BasicTicker\",\"id\":\"78b1c040-27e8-48fc-c89a-a00850c8fc2e\"},\"id\":\"90cd3bab-7862-4102-c12a-1a4193098f73\",\"doc\":null,\"tags\":[]}},{\"id\":\"7d2b0a47-170c-4ac1-ca4a-6685398c9c2b\",\"type\":\"BasicTickFormatter\",\"attributes\":{\"id\":\"7d2b0a47-170c-4ac1-ca4a-6685398c9c2b\",\"tags\":[],\"doc\":null}},{\"id\":\"79655b13-5385-4dc0-cd9f-9c4590daca1a\",\"type\":\"BasicTicker\",\"attributes\":{\"num_minor_ticks\":5,\"id\":\"79655b13-5385-4dc0-cd9f-9c4590daca1a\",\"tags\":[],\"doc\":null}},{\"id\":\"49639db4-a51b-49a2-c935-bff03b70d736\",\"type\":\"LinearAxis\",\"attributes\":{\"formatter\":{\"type\":\"BasicTickFormatter\",\"id\":\"7d2b0a47-170c-4ac1-ca4a-6685398c9c2b\"},\"ticker\":{\"type\":\"BasicTicker\",\"id\":\"79655b13-5385-4dc0-cd9f-9c4590daca1a\"},\"plot\":{\"id\":\"80916607-4ec3-4111-c1ce-45221464354c\",\"type\":\"Plot\",\"subtype\":\"Figure\"},\"axis_label\":\"Percentage Error\",\"id\":\"49639db4-a51b-49a2-c935-bff03b70d736\",\"doc\":null,\"tags\":[]}},{\"id\":\"ae0cac3b-e2e6-4604-c6ee-599419a12508\",\"type\":\"Grid\",\"attributes\":{\"dimension\":1,\"plot\":{\"id\":\"80916607-4ec3-4111-c1ce-45221464354c\",\"type\":\"Plot\",\"subtype\":\"Figure\"},\"ticker\":{\"type\":\"BasicTicker\",\"id\":\"79655b13-5385-4dc0-cd9f-9c4590daca1a\"},\"id\":\"ae0cac3b-e2e6-4604-c6ee-599419a12508\",\"doc\":null,\"tags\":[]}},{\"id\":\"68582311-abde-4789-c715-78a4d0c0d2cc\",\"type\":\"PanTool\",\"attributes\":{\"plot\":{\"id\":\"80916607-4ec3-4111-c1ce-45221464354c\",\"type\":\"Plot\",\"subtype\":\"Figure\"},\"dimensions\":[\"width\",\"height\"],\"id\":\"68582311-abde-4789-c715-78a4d0c0d2cc\",\"doc\":null,\"tags\":[]}},{\"id\":\"54fb40ed-43a2-470e-c73d-0ef9f3665fbd\",\"type\":\"WheelZoomTool\",\"attributes\":{\"plot\":{\"id\":\"80916607-4ec3-4111-c1ce-45221464354c\",\"type\":\"Plot\",\"subtype\":\"Figure\"},\"dimensions\":[\"width\",\"height\"],\"id\":\"54fb40ed-43a2-470e-c73d-0ef9f3665fbd\",\"doc\":null,\"tags\":[]}},{\"id\":\"238a02b3-e1bd-462f-c61c-130de7b273f2\",\"type\":\"BoxZoomTool\",\"attributes\":{\"plot\":{\"id\":\"80916607-4ec3-4111-c1ce-45221464354c\",\"type\":\"Plot\",\"subtype\":\"Figure\"},\"id\":\"238a02b3-e1bd-462f-c61c-130de7b273f2\",\"tags\":[],\"doc\":null}},{\"id\":\"1f4bd097-4ffe-4fdd-cf4e-0f2c2a6b99f4\",\"type\":\"PreviewSaveTool\",\"attributes\":{\"plot\":{\"id\":\"80916607-4ec3-4111-c1ce-45221464354c\",\"type\":\"Plot\",\"subtype\":\"Figure\"},\"id\":\"1f4bd097-4ffe-4fdd-cf4e-0f2c2a6b99f4\",\"tags\":[],\"doc\":null}},{\"id\":\"1f07709c-9180-46ad-c656-0a5c28549279\",\"type\":\"ResizeTool\",\"attributes\":{\"plot\":{\"id\":\"80916607-4ec3-4111-c1ce-45221464354c\",\"type\":\"Plot\",\"subtype\":\"Figure\"},\"id\":\"1f07709c-9180-46ad-c656-0a5c28549279\",\"tags\":[],\"doc\":null}},{\"id\":\"c9ad566e-7db4-47e1-c7e4-45f268caa4b7\",\"type\":\"ResetTool\",\"attributes\":{\"plot\":{\"id\":\"80916607-4ec3-4111-c1ce-45221464354c\",\"type\":\"Plot\",\"subtype\":\"Figure\"},\"id\":\"c9ad566e-7db4-47e1-c7e4-45f268caa4b7\",\"tags\":[],\"doc\":null}},{\"id\":\"726d9651-26a7-4dbc-cde2-0196622ddb44\",\"type\":\"Legend\",\"attributes\":{\"plot\":{\"id\":\"80916607-4ec3-4111-c1ce-45221464354c\",\"type\":\"Plot\",\"subtype\":\"Figure\"},\"legends\":[[\"training error\",[{\"type\":\"GlyphRenderer\",\"id\":\"3d45818a-b5bc-48e0-c871-129881dfe385\"}]],[\"validation error\",[{\"type\":\"GlyphRenderer\",\"id\":\"6761a806-b16f-4d65-cdfb-ac8a32d052d3\"}]],[\"validation error\",[{\"type\":\"GlyphRenderer\",\"id\":\"ba89f1af-8906-4b2e-cb32-cc24feeefc78\"}]]],\"id\":\"726d9651-26a7-4dbc-cde2-0196622ddb44\",\"doc\":null,\"tags\":[]}},{\"id\":\"80916607-4ec3-4111-c1ce-45221464354c\",\"type\":\"Plot\",\"attributes\":{\"x_range\":{\"type\":\"DataRange1d\",\"id\":\"6a3bde1f-0946-44d8-c4ae-464b440e8a88\"},\"tool_events\":{\"type\":\"ToolEvents\",\"id\":\"70af5f75-a406-4cb3-ccd2-c2d320ffe43a\"},\"below\":[{\"type\":\"LinearAxis\",\"id\":\"58a0b646-0879-4622-c6ba-6be7f1680868\"}],\"renderers\":[{\"type\":\"GlyphRenderer\",\"id\":\"3d45818a-b5bc-48e0-c871-129881dfe385\"},{\"type\":\"GlyphRenderer\",\"id\":\"6761a806-b16f-4d65-cdfb-ac8a32d052d3\"},{\"type\":\"GlyphRenderer\",\"id\":\"ba89f1af-8906-4b2e-cb32-cc24feeefc78\"},{\"type\":\"LinearAxis\",\"id\":\"58a0b646-0879-4622-c6ba-6be7f1680868\"},{\"type\":\"Grid\",\"id\":\"90cd3bab-7862-4102-c12a-1a4193098f73\"},{\"type\":\"LinearAxis\",\"id\":\"49639db4-a51b-49a2-c935-bff03b70d736\"},{\"type\":\"Grid\",\"id\":\"ae0cac3b-e2e6-4604-c6ee-599419a12508\"},{\"type\":\"Legend\",\"id\":\"726d9651-26a7-4dbc-cde2-0196622ddb44\"}],\"above\":[],\"tools\":[{\"type\":\"PanTool\",\"id\":\"68582311-abde-4789-c715-78a4d0c0d2cc\"},{\"type\":\"WheelZoomTool\",\"id\":\"54fb40ed-43a2-470e-c73d-0ef9f3665fbd\"},{\"type\":\"BoxZoomTool\",\"id\":\"238a02b3-e1bd-462f-c61c-130de7b273f2\"},{\"type\":\"PreviewSaveTool\",\"id\":\"1f4bd097-4ffe-4fdd-cf4e-0f2c2a6b99f4\"},{\"type\":\"ResizeTool\",\"id\":\"1f07709c-9180-46ad-c656-0a5c28549279\"},{\"type\":\"ResetTool\",\"id\":\"c9ad566e-7db4-47e1-c7e4-45f268caa4b7\"}],\"doc\":null,\"right\":[],\"title\":\"comparing errors\",\"extra_x_ranges\":{},\"left\":[{\"type\":\"LinearAxis\",\"id\":\"49639db4-a51b-49a2-c935-bff03b70d736\"}],\"y_range\":{\"type\":\"DataRange1d\",\"id\":\"c2b03050-7182-4818-c81f-517947bf8a35\"},\"id\":\"80916607-4ec3-4111-c1ce-45221464354c\",\"extra_y_ranges\":{},\"tags\":[]}}];\n",
       "      Bokeh.load_models(all_models);\n",
       "      var model = Bokeh.Collections(modeltype).get(modelid);\n",
       "      $(\"#86917684-608d-4f6b-cff3-146a5c5197c7\").html(''); // clear any previous plot in window_id\n",
       "      var view = new model.default_view({model: model, el: \"#86917684-608d-4f6b-cff3-146a5c5197c7\"});\n",
       "  });\n",
       "    }\n",
       "});\n",
       "</script>\n",
       "<div class=\"plotdiv\" id=\"86917684-608d-4f6b-cff3-146a5c5197c7\"></div>\n"
      ]
     },
     "metadata": {},
     "output_type": "display_data"
    },
    {
     "data": {
      "text/plain": [
       "  _winid : 86917684-608d-4f6b-cff3-146a5c5197c7\n",
       "  quad : function: 0x419fe168\n",
       "  _docid : userdata: NULL\n",
       "  yaxis : function: 0x41a07838\n",
       "  _legend : true\n",
       "  hover_tool : function: 0x419fdf60\n",
       "  quiver : function: 0x419fe148\n",
       "  triangle : function: 0x41de1c50\n",
       "  save : function: 0x41de5c48\n",
       "  circle : function: 0x41a07670\n",
       "  _yaxis : Percentage Error\n",
       "  draw : function: 0x41de5be8\n",
       "  gscatter : function: 0x419fe108\n",
       "  title : function: 0x419fe1a8\n",
       "  line : function: 0x41a077d0\n",
       "  segment : function: 0x419fe128\n",
       "  histogram : function: 0x419fe188\n",
       "  _data : \n",
       "    {\n",
       "      1 : \n",
       "        {\n",
       "          fill_color : red\n",
       "          line_color : red\n",
       "          legend : training error\n",
       "          type : Line\n",
       "          y : DoubleTensor - size: 11\n",
       "          x : DoubleTensor - size: 11\n",
       "        }\n",
       "      2 : "
      ]
     },
     "execution_count": 10,
     "metadata": {},
     "output_type": "execute_result"
    },
    {
     "data": {
      "text/plain": [
       "\n",
       "        {\n",
       "          fill_color : green\n",
       "          line_color : green\n",
       "          legend : validation error\n",
       "          type : Line\n",
       "          y : DoubleTensor - size: 11\n",
       "          x : DoubleTensor - size: 11\n",
       "        }\n",
       "      3 : \n",
       "        {\n",
       "          fill_color : blue\n",
       "          line_color : blue\n",
       "          legend : validation error\n",
       "          type : Line\n",
       "          y : DoubleTensor - size: 11\n",
       "          x : DoubleTensor - size: 11\n",
       "        }\n",
       "    }\n",
       "  _xaxis : Epochs\n",
       "  new : function: 0x419fe688\n",
       "  _toAllModels : function: 0x41de56f8\n",
       "  hist : function: 0x419fe188\n",
       "  _title : comparing errors\n",
       "  xaxis : function: 0x41a07818\n",
       "  redraw : function: 0x41de5c28\n",
       "  toTemplate : function: 0x41de5b60\n",
       "  legend : function: 0x41a07858\n",
       "  toHTML : function: 0x41de5ba8\n",
       "}\n"
      ]
     },
     "execution_count": 10,
     "metadata": {},
     "output_type": "execute_result"
    }
   ],
   "source": [
    "--Visualizing last 10 values to see if 50 epochs is enough\n",
    "Plot()\n",
    ":line(x_axis[{{40, 50}}], training_error_vector[{{40, 50}}],'red','training error')\n",
    ":line(x_axis[{{40, 50}}], validation_error_vector[{{40, 50}}],'green','validation error')\n",
    ":line(x_axis[{{40, 50}}], test_error_vector[{{40, 50}}],'blue','validation error')\n",
    ":xaxis('Epochs'):yaxis('Percentage Error')\n",
    ":legend(true):title('comparing errors'):draw()"
   ]
  },
  {
   "cell_type": "code",
   "execution_count": null,
   "metadata": {
    "collapsed": true
   },
   "outputs": [],
   "source": []
  }
 ],
 "metadata": {
  "anaconda-cloud": {},
  "kernelspec": {
   "display_name": "iTorch",
   "language": "lua",
   "name": "itorch"
  },
  "language_info": {
   "name": "lua",
   "version": "5.1"
  }
 },
 "nbformat": 4,
 "nbformat_minor": 1
}
