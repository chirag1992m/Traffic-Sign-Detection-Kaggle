{
 "cells": [
  {
   "cell_type": "code",
   "execution_count": 1,
   "metadata": {
    "collapsed": true
   },
   "outputs": [],
   "source": [
    "tnt = require 'torchnet'\n",
    "image = require 'image'\n",
    "Plot = require 'itorch.Plot'"
   ]
  },
  {
   "cell_type": "code",
   "execution_count": 2,
   "metadata": {
    "collapsed": true
   },
   "outputs": [],
   "source": [
    "--All the perturbed data has the following information:\n",
    "\n",
    "--[[\n",
    "The information available in the tensor for one image is:\n",
    "Train: 1->Track, 2->File, 9->Label\n",
    "\n",
    "Test: 1->File\n",
    "\n",
    "We don't have any information about what the other indexes contain.\n",
    "So, we'll store some random perturbation (image transformations)\n",
    "]]--\n",
    "\n",
    "--[[\n",
    "Now,\n",
    "index 3 -> 0 if no perturbation else 1\n",
    "index 4 -> translation change horizontal (X) [-2, 2] pixels\n",
    "index 5 -> translation chnage vertical (Y) [-2, 2] pixels\n",
    "index 6 -> theta the image needs to be rotated [-15, 15] degrees\n",
    "]]--"
   ]
  },
  {
   "cell_type": "code",
   "execution_count": 3,
   "metadata": {
    "collapsed": true
   },
   "outputs": [],
   "source": [
    "--[[\n",
    "For consistency,\n",
    "we need to fix index 3 = 0 in others too!\n",
    "]]--"
   ]
  },
  {
   "cell_type": "code",
   "execution_count": 4,
   "metadata": {
    "collapsed": true
   },
   "outputs": [],
   "source": [
    "DATA_PATH = '../data/'"
   ]
  },
  {
   "cell_type": "code",
   "execution_count": 5,
   "metadata": {
    "collapsed": true
   },
   "outputs": [],
   "source": [
    "test = torch.load(DATA_PATH .. 'test.t7')"
   ]
  },
  {
   "cell_type": "code",
   "execution_count": 8,
   "metadata": {
    "collapsed": false
   },
   "outputs": [],
   "source": [
    "for i=1, test:size()[1] do\n",
    "    test[i][3] = 0\n",
    "end"
   ]
  },
  {
   "cell_type": "code",
   "execution_count": 9,
   "metadata": {
    "collapsed": false
   },
   "outputs": [
    {
     "data": {
      "text/plain": [
       "\n"
      ]
     },
     "execution_count": 9,
     "metadata": {},
     "output_type": "execute_result"
    }
   ],
   "source": [
    "torch.save(DATA_PATH .. 'test.t7', test)"
   ]
  },
  {
   "cell_type": "code",
   "execution_count": 10,
   "metadata": {
    "collapsed": true
   },
   "outputs": [],
   "source": [
    "train = torch.load(DATA_PATH .. 'train.t7')\n",
    "\n",
    "for i=1, train:size()[1] do\n",
    "    train[i][3] = 0\n",
    "end\n",
    "\n",
    "torch.save(DATA_PATH .. 'train.t7', train)"
   ]
  },
  {
   "cell_type": "code",
   "execution_count": 11,
   "metadata": {
    "collapsed": true
   },
   "outputs": [],
   "source": [
    "train_full = torch.load(DATA_PATH .. 'train_full.t7')\n",
    "\n",
    "for i=1, train_full:size()[1] do\n",
    "    train_full[i][3] = 0\n",
    "end\n",
    "\n",
    "torch.save(DATA_PATH .. 'train_full.t7', train_full)"
   ]
  },
  {
   "cell_type": "code",
   "execution_count": 12,
   "metadata": {
    "collapsed": true
   },
   "outputs": [],
   "source": [
    "train_full_upscale_copy = torch.load(DATA_PATH .. 'train_full_upscale_copy.t7')\n",
    "\n",
    "for i=1, train_full_upscale_copy:size()[1] do\n",
    "    train_full_upscale_copy[i][3] = 0\n",
    "end\n",
    "\n",
    "torch.save(DATA_PATH .. 'train_full_upscale_copy.t7', train_full_upscale_copy)"
   ]
  },
  {
   "cell_type": "code",
   "execution_count": 13,
   "metadata": {
    "collapsed": true
   },
   "outputs": [],
   "source": [
    "train_upscale_copy = torch.load(DATA_PATH .. 'train_upscale_copy.t7')\n",
    "\n",
    "for i=1, train_upscale_copy:size()[1] do\n",
    "    train_upscale_copy[i][3] = 0\n",
    "end\n",
    "\n",
    "torch.save(DATA_PATH .. 'train_upscale_copy.t7', train_upscale_copy)"
   ]
  },
  {
   "cell_type": "code",
   "execution_count": 14,
   "metadata": {
    "collapsed": true
   },
   "outputs": [],
   "source": [
    "validation = torch.load(DATA_PATH .. 'validation.t7')\n",
    "\n",
    "for i=1, validation:size()[1] do\n",
    "    validation[i][3] = 0\n",
    "end\n",
    "\n",
    "torch.save(DATA_PATH .. 'validation.t7', validation)"
   ]
  },
  {
   "cell_type": "code",
   "execution_count": null,
   "metadata": {
    "collapsed": true
   },
   "outputs": [],
   "source": []
  }
 ],
 "metadata": {
  "anaconda-cloud": {},
  "kernelspec": {
   "display_name": "iTorch",
   "language": "lua",
   "name": "itorch"
  },
  "language_info": {
   "name": "lua",
   "version": "5.1"
  }
 },
 "nbformat": 4,
 "nbformat_minor": 1
}
