{
 "cells": [
  {
   "cell_type": "markdown",
   "metadata": {},
   "source": [
    "### Options used: -cuda -verbose -model cifar_double_reg -dataset data_upscale_copy -suffix 'CDR_DUP'\n",
    "\n",
    "### Options used: -cuda -verbose -model cifar_double_reg -dataset data -suffix 'CDR_D'"
   ]
  },
  {
   "cell_type": "code",
   "execution_count": 1,
   "metadata": {
    "collapsed": true
   },
   "outputs": [],
   "source": [
    "tnt = require 'torchnet'\n",
    "image = require 'image'\n",
    "Plot = require 'itorch.Plot'\n",
    "require 'cunn'\n",
    "require 'cudnn'"
   ]
  },
  {
   "cell_type": "code",
   "execution_count": 2,
   "metadata": {
    "collapsed": true
   },
   "outputs": [],
   "source": [
    "training_errors_D = torch.load('../logs/trainingErrors_CDR_D_1480690661.log')\n",
    "training_losses_D = torch.load('../logs/trainingLosses_CDR_D_1480690661.log')\n",
    "\n",
    "validation_errors_D = torch.load('../logs/validationErrors_CDR_D_1480690661.log')\n",
    "validation_losses_D = torch.load('../logs/validationLosses_CDR_D_1480690661.log')\n",
    "\n",
    "time_D = torch.load('../logs/timersCDR_D_1480690661.log')\n",
    "\n",
    "model_D = torch.load('../logs/model_CDR_D_1480690661.model')"
   ]
  },
  {
   "cell_type": "code",
   "execution_count": 3,
   "metadata": {
    "collapsed": true
   },
   "outputs": [],
   "source": [
    "training_errors_DUC = torch.load('../logs/trainingErrors_CDR_DUC_1480604498.log')\n",
    "training_losses_DUC = torch.load('../logs/trainingLosses_CDR_DUC_1480604498.log')\n",
    "\n",
    "validation_errors_DUC = torch.load('../logs/validationErrors_CDR_DUC_1480604498.log')\n",
    "validation_losses_DUC = torch.load('../logs/validationLosses_CDR_DUC_1480604498.log')\n",
    "\n",
    "time_DUC = torch.load('../logs/timersCDR_DUC_1480604498.log')\n",
    "\n",
    "model_DUC = torch.load('../logs/model_CDR_DUC_1480604498.model')"
   ]
  },
  {
   "cell_type": "code",
   "execution_count": 9,
   "metadata": {
    "collapsed": true
   },
   "outputs": [],
   "source": [
    "training_error_D_vector = training_errors_D[{{}, 297}]\n",
    "training_error_DUC_vector = training_errors_DUC[{{}, 746}]\n",
    "\n",
    "validation_error_D_vector = validation_errors_D[{{}, 11}]\n",
    "validation_error_DUC_vector = validation_errors_DUC[{{}, 11}]"
   ]
  },
  {
   "cell_type": "code",
   "execution_count": 10,
   "metadata": {
    "collapsed": true
   },
   "outputs": [],
   "source": [
    "--From Kaggle\n",
    "test_accuracy_D = 0.95139\n",
    "test_accuracy_DUC = 0.96231"
   ]
  },
  {
   "cell_type": "code",
   "execution_count": 11,
   "metadata": {
    "collapsed": true
   },
   "outputs": [],
   "source": [
    "test_error_D = (1 - test_accuracy_D) * 100\n",
    "test_error_DUC = (1 - test_accuracy_DUC) * 100"
   ]
  },
  {
   "cell_type": "code",
   "execution_count": 12,
   "metadata": {
    "collapsed": true
   },
   "outputs": [],
   "source": [
    "x_axis = torch.LongTensor(50)\n",
    "for i=1, x_axis:size()[1] do\n",
    "    x_axis[i] = i\n",
    "end\n",
    "\n",
    "test_error_D_vector = torch.DoubleTensor(50):fill(test_error_D)\n",
    "test_error_DUC_vector = torch.DoubleTensor(50):fill(test_error_DUC)"
   ]
  },
  {
   "cell_type": "code",
   "execution_count": 14,
   "metadata": {
    "collapsed": false
   },
   "outputs": [
    {
     "data": {
      "text/html": [
       "<script type=\"text/javascript\">\n",
       "$(function() {\n",
       "    if (typeof (window._bokeh_onload_callbacks) === \"undefined\"){\n",
       "  window._bokeh_onload_callbacks = [];\n",
       "    }\n",
       "    function load_lib(url, callback){\n",
       "  window._bokeh_onload_callbacks.push(callback);\n",
       "  if (window._bokeh_is_loading){\n",
       "      console.log(\"Bokeh: BokehJS is being loaded, scheduling callback at\", new Date());\n",
       "      return null;\n",
       "  }\n",
       "  console.log(\"Bokeh: BokehJS not loaded, scheduling load and callback at\", new Date());\n",
       "  window._bokeh_is_loading = true;\n",
       "  var s = document.createElement('script');\n",
       "  s.src = url;\n",
       "  s.async = true;\n",
       "  s.onreadystatechange = s.onload = function(){\n",
       "      Bokeh.embed.inject_css(\"https://cdn.pydata.org/bokeh-0.7.0.min.css\");\n",
       "      window._bokeh_onload_callbacks.forEach(function(callback){callback()});\n",
       "  };\n",
       "  s.onerror = function(){\n",
       "      console.warn(\"failed to load library \" + url);\n",
       "  };\n",
       "  document.getElementsByTagName(\"head\")[0].appendChild(s);\n",
       "    }\n",
       "\n",
       "    bokehjs_url = \"https://cdn.pydata.org/bokeh-0.7.0.min.js\"\n",
       "\n",
       "    var elt = document.getElementById(\"77eec186-0054-431c-c372-a14b085461d5\");\n",
       "    if(elt==null) {\n",
       "  console.log(\"Bokeh: ERROR: autoload.js configured with elementid '77eec186-0054-431c-c372-a14b085461d5'\"\n",
       "        + \"but no matching script tag was found. \")\n",
       "  return false;\n",
       "    }\n",
       "\n",
       "    if(typeof(Bokeh) !== \"undefined\") {\n",
       "  console.log(\"Bokeh: BokehJS loaded, going straight to plotting\");\n",
       "  var modelid = \"54fb40ed-43a2-470e-c73d-0ef9f3665fbd\";\n",
       "  var modeltype = \"Plot\";\n",
       "  var all_models = [{\"id\":\"238a02b3-e1bd-462f-c61c-130de7b273f2\",\"type\":\"ColumnDataSource\",\"attributes\":{\"data\":{\"y\":[79.195126453757,45.739602837628,24.531237638123,15.216646008597,10.511880587568,7.8219362324956,5.8572219731533,4.4779661910915,3.8661357103299,3.3729792452333,2.7136791582056,2.3049131042485,1.9620770589942,1.8671378464622,1.6324270154804,1.9119702523801,1.4188137872834,1.4214509876315,1.3344233761439,1.1076241462064,1.2210237611751,1.0469685381998,0.99686173158575,0.94148052427543,1.0179593343706,0.84390411139534,0.83862971069912,0.79379730478124,0.67776048946438,0.64083968459084,0.64083968459084,0.64347688493895,0.61446768110973,0.51161686753343,0.58809567762863,0.61710488145784,0.58282127693241,0.52216566892587,0.52216566892587,0.45887286057122,0.51689126822965,0.49315646509665,0.453598459875,0.45887286057122,0.43513805743822,0.453598459875,0.37711964977979,0.54062607136264,0.38239405047601,0.43513805743822],\"x\":[1,2,3,4,5,6,7,8,9,10,11,12,13,14,15,16,17,18,19,20,21,22,23,24,25,26,27,28,29,30,31,32,33,34,35,36,37,38,39,40,41,42,43,44,45,46,47,48,49,50]},\"column_names\":[\"y\",\"x\"],\"cont_ranges\":{},\"discrete_ranges\":{},\"selected\":[],\"id\":\"238a02b3-e1bd-462f-c61c-130de7b273f2\",\"doc\":null,\"tags\":[]}},{\"id\":\"1f4bd097-4ffe-4fdd-cf4e-0f2c2a6b99f4\",\"type\":\"Line\",\"attributes\":{\"fill_alpha\":{\"units\":\"data\",\"value\":0.2},\"line_alpha\":{\"units\":\"data\",\"value\":1},\"doc\":null,\"size\":{\"units\":\"screen\",\"value\":10},\"fill_color\":{\"value\":\"red\"},\"line_color\":{\"value\":\"red\"},\"x\":{\"units\":\"data\",\"field\":\"x\"},\"id\":\"1f4bd097-4ffe-4fdd-cf4e-0f2c2a6b99f4\",\"y\":{\"units\":\"data\",\"field\":\"y\"},\"tags\":[]}},{\"id\":\"1f07709c-9180-46ad-c656-0a5c28549279\",\"type\":\"Line\",\"attributes\":{\"fill_alpha\":{\"units\":\"data\",\"value\":0.2},\"line_alpha\":{\"units\":\"data\",\"value\":1},\"doc\":null,\"size\":{\"units\":\"screen\",\"value\":10},\"fill_color\":{\"value\":\"red\"},\"line_color\":{\"value\":\"red\"},\"x\":{\"units\":\"data\",\"field\":\"x\"},\"id\":\"1f07709c-9180-46ad-c656-0a5c28549279\",\"y\":{\"units\":\"data\",\"field\":\"y\"},\"tags\":[]}},{\"id\":\"c9ad566e-7db4-47e1-c7e4-45f268caa4b7\",\"type\":\"GlyphRenderer\",\"attributes\":{\"name\":null,\"nonselection_glyph\":{\"type\":\"Line\",\"id\":\"1f07709c-9180-46ad-c656-0a5c28549279\"},\"doc\":null,\"server_data_source\":null,\"data_source\":{\"type\":\"ColumnDataSource\",\"id\":\"238a02b3-e1bd-462f-c61c-130de7b273f2\"},\"glyph\":{\"type\":\"Line\",\"id\":\"1f4bd097-4ffe-4fdd-cf4e-0f2c2a6b99f4\"},\"selection_glyph\":null,\"id\":\"c9ad566e-7db4-47e1-c7e4-45f268caa4b7\",\"tags\":[]}},{\"id\":\"726d9651-26a7-4dbc-cde2-0196622ddb44\",\"type\":\"ColumnDataSource\",\"attributes\":{\"data\":{\"y\":[79.922480620155,54.573643410853,43.023255813953,34.728682170543,28.217054263566,19.84496124031,14.883720930233,12.945736434109,9.6899224806202,9.6899224806202,9.3023255813953,8.6821705426357,7.6744186046512,7.4418604651163,7.2093023255814,5.7364341085271,6.1240310077519,5.7364341085271,5.6589147286822,5.1937984496124,5.968992248062,5.2713178294574,4.6511627906977,4.8062015503876,5.3488372093023,5.1162790697674,4.6511627906977,5.1937984496124,5.0387596899225,5.2713178294574,4.8062015503876,4.6511627906977,4.2635658914729,4.6511627906977,4.4186046511628,4.4961240310078,4.1860465116279,4.6511627906977,4.3410852713178,4.3410852713178,4.2635658914729,4.4961240310078,4.1085271317829,4.1085271317829,3.7984496124031,3.6434108527132,4.031007751938,4.1860465116279,3.7984496124031,4.031007751938],\"x\":[1,2,3,4,5,6,7,8,9,10,11,12,13,14,15,16,17,18,19,20,21,22,23,24,25,26,27,28,29,30,31,32,33,34,35,36,37,38,39,40,41,42,43,44,45,46,47,48,49,50]},\"column_names\":[\"y\",\"x\"],\"cont_ranges\":{},\"discrete_ranges\":{},\"selected\":[],\"id\":\"726d9651-26a7-4dbc-cde2-0196622ddb44\",\"doc\":null,\"tags\":[]}},{\"id\":\"86917684-608d-4f6b-cff3-146a5c5197c7\",\"type\":\"Line\",\"attributes\":{\"fill_alpha\":{\"units\":\"data\",\"value\":0.2},\"line_alpha\":{\"units\":\"data\",\"value\":1},\"doc\":null,\"size\":{\"units\":\"screen\",\"value\":10},\"fill_color\":{\"value\":\"green\"},\"line_color\":{\"value\":\"green\"},\"x\":{\"units\":\"data\",\"field\":\"x\"},\"id\":\"86917684-608d-4f6b-cff3-146a5c5197c7\",\"y\":{\"units\":\"data\",\"field\":\"y\"},\"tags\":[]}},{\"id\":\"c63eef67-c46d-48fa-c885-6d2dba752924\",\"type\":\"Line\",\"attributes\":{\"fill_alpha\":{\"units\":\"data\",\"value\":0.2},\"line_alpha\":{\"units\":\"data\",\"value\":1},\"doc\":null,\"size\":{\"units\":\"screen\",\"value\":10},\"fill_color\":{\"value\":\"green\"},\"line_color\":{\"value\":\"green\"},\"x\":{\"units\":\"data\",\"field\":\"x\"},\"id\":\"c63eef67-c46d-48fa-c885-6d2dba752924\",\"y\":{\"units\":\"data\",\"field\":\"y\"},\"tags\":[]}},{\"id\":\"fa53e8bb-63ea-4b35-cbbb-060d9521a3d0\",\"type\":\"GlyphRenderer\",\"attributes\":{\"name\":null,\"nonselection_glyph\":{\"type\":\"Line\",\"id\":\"c63eef67-c46d-48fa-c885-6d2dba752924\"},\"doc\":null,\"server_data_source\":null,\"data_source\":{\"type\":\"ColumnDataSource\",\"id\":\"726d9651-26a7-4dbc-cde2-0196622ddb44\"},\"glyph\":{\"type\":\"Line\",\"id\":\"86917684-608d-4f6b-cff3-146a5c5197c7\"},\"selection_glyph\":null,\"id\":\"fa53e8bb-63ea-4b35-cbbb-060d9521a3d0\",\"tags\":[]}},{\"id\":\"26b910f7-7142-4da8-cdf7-b9d847846dc8\",\"type\":\"ColumnDataSource\",\"attributes\":{\"data\":{\"y\":[4.861,4.861,4.861,4.861,4.861,4.861,4.861,4.861,4.861,4.861,4.861,4.861,4.861,4.861,4.861,4.861,4.861,4.861,4.861,4.861,4.861,4.861,4.861,4.861,4.861,4.861,4.861,4.861,4.861,4.861,4.861,4.861,4.861,4.861,4.861,4.861,4.861,4.861,4.861,4.861,4.861,4.861,4.861,4.861,4.861,4.861,4.861,4.861,4.861,4.861],\"x\":[1,2,3,4,5,6,7,8,9,10,11,12,13,14,15,16,17,18,19,20,21,22,23,24,25,26,27,28,29,30,31,32,33,34,35,36,37,38,39,40,41,42,43,44,45,46,47,48,49,50]},\"column_names\":[\"y\",\"x\"],\"cont_ranges\":{},\"discrete_ranges\":{},\"selected\":[],\"id\":\"26b910f7-7142-4da8-cdf7-b9d847846dc8\",\"doc\":null,\"tags\":[]}},{\"id\":\"7e53a95b-08ef-4339-c32e-16902ef9f67f\",\"type\":\"Line\",\"attributes\":{\"fill_alpha\":{\"units\":\"data\",\"value\":0.2},\"line_alpha\":{\"units\":\"data\",\"value\":1},\"doc\":null,\"size\":{\"units\":\"screen\",\"value\":10},\"fill_color\":{\"value\":\"blue\"},\"line_color\":{\"value\":\"blue\"},\"x\":{\"units\":\"data\",\"field\":\"x\"},\"id\":\"7e53a95b-08ef-4339-c32e-16902ef9f67f\",\"y\":{\"units\":\"data\",\"field\":\"y\"},\"tags\":[]}},{\"id\":\"7c1c3b2b-9737-4c82-cc53-e49f48d9a50e\",\"type\":\"Line\",\"attributes\":{\"fill_alpha\":{\"units\":\"data\",\"value\":0.2},\"line_alpha\":{\"units\":\"data\",\"value\":1},\"doc\":null,\"size\":{\"units\":\"screen\",\"value\":10},\"fill_color\":{\"value\":\"blue\"},\"line_color\":{\"value\":\"blue\"},\"x\":{\"units\":\"data\",\"field\":\"x\"},\"id\":\"7c1c3b2b-9737-4c82-cc53-e49f48d9a50e\",\"y\":{\"units\":\"data\",\"field\":\"y\"},\"tags\":[]}},{\"id\":\"9afa655f-a39a-4528-c531-0b258e1aed23\",\"type\":\"GlyphRenderer\",\"attributes\":{\"name\":null,\"nonselection_glyph\":{\"type\":\"Line\",\"id\":\"7c1c3b2b-9737-4c82-cc53-e49f48d9a50e\"},\"doc\":null,\"server_data_source\":null,\"data_source\":{\"type\":\"ColumnDataSource\",\"id\":\"26b910f7-7142-4da8-cdf7-b9d847846dc8\"},\"glyph\":{\"type\":\"Line\",\"id\":\"7e53a95b-08ef-4339-c32e-16902ef9f67f\"},\"selection_glyph\":null,\"id\":\"9afa655f-a39a-4528-c531-0b258e1aed23\",\"tags\":[]}},{\"id\":\"d0d4b845-1e1d-4bba-cbfe-d0a02a0f6a0b\",\"type\":\"DataRange1d\",\"attributes\":{\"sources\":[{\"columns\":[\"x\"],\"source\":{\"type\":\"ColumnDataSource\",\"id\":\"238a02b3-e1bd-462f-c61c-130de7b273f2\"}},{\"columns\":[\"x\"],\"source\":{\"type\":\"ColumnDataSource\",\"id\":\"726d9651-26a7-4dbc-cde2-0196622ddb44\"}},{\"columns\":[\"x\"],\"source\":{\"type\":\"ColumnDataSource\",\"id\":\"26b910f7-7142-4da8-cdf7-b9d847846dc8\"}}],\"id\":\"d0d4b845-1e1d-4bba-cbfe-d0a02a0f6a0b\",\"tags\":[],\"doc\":null}},{\"id\":\"b3fb7d0d-10e3-4e01-ce5f-102b01eb5a09\",\"type\":\"DataRange1d\",\"attributes\":{\"sources\":[{\"columns\":[\"y\"],\"source\":{\"type\":\"ColumnDataSource\",\"id\":\"238a02b3-e1bd-462f-c61c-130de7b273f2\"}},{\"columns\":[\"y\"],\"source\":{\"type\":\"ColumnDataSource\",\"id\":\"726d9651-26a7-4dbc-cde2-0196622ddb44\"}},{\"columns\":[\"y\"],\"source\":{\"type\":\"ColumnDataSource\",\"id\":\"26b910f7-7142-4da8-cdf7-b9d847846dc8\"}}],\"id\":\"b3fb7d0d-10e3-4e01-ce5f-102b01eb5a09\",\"tags\":[],\"doc\":null}},{\"id\":\"170864b3-51c1-48bb-c8b5-822ee5016f7f\",\"type\":\"ToolEvents\",\"attributes\":{\"tags\":[],\"id\":\"170864b3-51c1-48bb-c8b5-822ee5016f7f\",\"geometries\":[],\"doc\":null}},{\"id\":\"4687fd86-8de1-480a-c815-083767da76ca\",\"type\":\"BasicTickFormatter\",\"attributes\":{\"id\":\"4687fd86-8de1-480a-c815-083767da76ca\",\"tags\":[],\"doc\":null}},{\"id\":\"f4cb1888-616c-45a0-c59e-109620a30fc8\",\"type\":\"BasicTicker\",\"attributes\":{\"num_minor_ticks\":5,\"id\":\"f4cb1888-616c-45a0-c59e-109620a30fc8\",\"tags\":[],\"doc\":null}},{\"id\":\"3dd3c44c-19a3-495b-c93f-c480dbfd62f0\",\"type\":\"LinearAxis\",\"attributes\":{\"formatter\":{\"type\":\"BasicTickFormatter\",\"id\":\"4687fd86-8de1-480a-c815-083767da76ca\"},\"ticker\":{\"type\":\"BasicTicker\",\"id\":\"f4cb1888-616c-45a0-c59e-109620a30fc8\"},\"plot\":{\"id\":\"54fb40ed-43a2-470e-c73d-0ef9f3665fbd\",\"type\":\"Plot\",\"subtype\":\"Figure\"},\"axis_label\":\"Epochs\",\"id\":\"3dd3c44c-19a3-495b-c93f-c480dbfd62f0\",\"doc\":null,\"tags\":[]}},{\"id\":\"aa79834e-62fe-4931-c97a-215505fb245f\",\"type\":\"Grid\",\"attributes\":{\"dimension\":0,\"plot\":{\"id\":\"54fb40ed-43a2-470e-c73d-0ef9f3665fbd\",\"type\":\"Plot\",\"subtype\":\"Figure\"},\"ticker\":{\"type\":\"BasicTicker\",\"id\":\"f4cb1888-616c-45a0-c59e-109620a30fc8\"},\"id\":\"aa79834e-62fe-4931-c97a-215505fb245f\",\"doc\":null,\"tags\":[]}},{\"id\":\"305b746c-3634-4deb-cd6a-06ee12c7e68c\",\"type\":\"BasicTickFormatter\",\"attributes\":{\"id\":\"305b746c-3634-4deb-cd6a-06ee12c7e68c\",\"tags\":[],\"doc\":null}},{\"id\":\"0e95a6a2-8d86-410c-c12b-7da8a7372f42\",\"type\":\"BasicTicker\",\"attributes\":{\"num_minor_ticks\":5,\"id\":\"0e95a6a2-8d86-410c-c12b-7da8a7372f42\",\"tags\":[],\"doc\":null}},{\"id\":\"646beeb2-f4a7-41fc-c111-cf6af0eff6d8\",\"type\":\"LinearAxis\",\"attributes\":{\"formatter\":{\"type\":\"BasicTickFormatter\",\"id\":\"305b746c-3634-4deb-cd6a-06ee12c7e68c\"},\"ticker\":{\"type\":\"BasicTicker\",\"id\":\"0e95a6a2-8d86-410c-c12b-7da8a7372f42\"},\"plot\":{\"id\":\"54fb40ed-43a2-470e-c73d-0ef9f3665fbd\",\"type\":\"Plot\",\"subtype\":\"Figure\"},\"axis_label\":\"Percentage Error\",\"id\":\"646beeb2-f4a7-41fc-c111-cf6af0eff6d8\",\"doc\":null,\"tags\":[]}},{\"id\":\"4f4d10f5-e388-4b9b-cbf9-c9449d93716f\",\"type\":\"Grid\",\"attributes\":{\"dimension\":1,\"plot\":{\"id\":\"54fb40ed-43a2-470e-c73d-0ef9f3665fbd\",\"type\":\"Plot\",\"subtype\":\"Figure\"},\"ticker\":{\"type\":\"BasicTicker\",\"id\":\"0e95a6a2-8d86-410c-c12b-7da8a7372f42\"},\"id\":\"4f4d10f5-e388-4b9b-cbf9-c9449d93716f\",\"doc\":null,\"tags\":[]}},{\"id\":\"640a6289-e4fe-4237-c22a-04d575afa26a\",\"type\":\"PanTool\",\"attributes\":{\"plot\":{\"id\":\"54fb40ed-43a2-470e-c73d-0ef9f3665fbd\",\"type\":\"Plot\",\"subtype\":\"Figure\"},\"dimensions\":[\"width\",\"height\"],\"id\":\"640a6289-e4fe-4237-c22a-04d575afa26a\",\"doc\":null,\"tags\":[]}},{\"id\":\"23a6007e-c94b-4abe-ca14-4511e4e7105c\",\"type\":\"WheelZoomTool\",\"attributes\":{\"plot\":{\"id\":\"54fb40ed-43a2-470e-c73d-0ef9f3665fbd\",\"type\":\"Plot\",\"subtype\":\"Figure\"},\"dimensions\":[\"width\",\"height\"],\"id\":\"23a6007e-c94b-4abe-ca14-4511e4e7105c\",\"doc\":null,\"tags\":[]}},{\"id\":\"6df259df-00d6-4c1d-cc95-9a45b54cc3c1\",\"type\":\"BoxZoomTool\",\"attributes\":{\"plot\":{\"id\":\"54fb40ed-43a2-470e-c73d-0ef9f3665fbd\",\"type\":\"Plot\",\"subtype\":\"Figure\"},\"id\":\"6df259df-00d6-4c1d-cc95-9a45b54cc3c1\",\"tags\":[],\"doc\":null}},{\"id\":\"859ec279-368f-4bd5-cbfe-edc6559df4c5\",\"type\":\"PreviewSaveTool\",\"attributes\":{\"plot\":{\"id\":\"54fb40ed-43a2-470e-c73d-0ef9f3665fbd\",\"type\":\"Plot\",\"subtype\":\"Figure\"},\"id\":\"859ec279-368f-4bd5-cbfe-edc6559df4c5\",\"tags\":[],\"doc\":null}},{\"id\":\"3efc495f-e3c2-448d-c46e-43fafc3c538e\",\"type\":\"ResizeTool\",\"attributes\":{\"plot\":{\"id\":\"54fb40ed-43a2-470e-c73d-0ef9f3665fbd\",\"type\":\"Plot\",\"subtype\":\"Figure\"},\"id\":\"3efc495f-e3c2-448d-c46e-43fafc3c538e\",\"tags\":[],\"doc\":null}},{\"id\":\"a2845367-8bc9-4a0d-cab4-c2a59b2b0972\",\"type\":\"ResetTool\",\"attributes\":{\"plot\":{\"id\":\"54fb40ed-43a2-470e-c73d-0ef9f3665fbd\",\"type\":\"Plot\",\"subtype\":\"Figure\"},\"id\":\"a2845367-8bc9-4a0d-cab4-c2a59b2b0972\",\"tags\":[],\"doc\":null}},{\"id\":\"a04ed1b4-3c62-4b65-cbb4-c3d180329b66\",\"type\":\"Legend\",\"attributes\":{\"plot\":{\"id\":\"54fb40ed-43a2-470e-c73d-0ef9f3665fbd\",\"type\":\"Plot\",\"subtype\":\"Figure\"},\"legends\":[[\"training error\",[{\"type\":\"GlyphRenderer\",\"id\":\"c9ad566e-7db4-47e1-c7e4-45f268caa4b7\"}]],[\"validation error\",[{\"type\":\"GlyphRenderer\",\"id\":\"fa53e8bb-63ea-4b35-cbbb-060d9521a3d0\"}]],[\"validation error\",[{\"type\":\"GlyphRenderer\",\"id\":\"9afa655f-a39a-4528-c531-0b258e1aed23\"}]]],\"id\":\"a04ed1b4-3c62-4b65-cbb4-c3d180329b66\",\"doc\":null,\"tags\":[]}},{\"id\":\"54fb40ed-43a2-470e-c73d-0ef9f3665fbd\",\"type\":\"Plot\",\"attributes\":{\"x_range\":{\"type\":\"DataRange1d\",\"id\":\"d0d4b845-1e1d-4bba-cbfe-d0a02a0f6a0b\"},\"tool_events\":{\"type\":\"ToolEvents\",\"id\":\"170864b3-51c1-48bb-c8b5-822ee5016f7f\"},\"below\":[{\"type\":\"LinearAxis\",\"id\":\"3dd3c44c-19a3-495b-c93f-c480dbfd62f0\"}],\"renderers\":[{\"type\":\"GlyphRenderer\",\"id\":\"c9ad566e-7db4-47e1-c7e4-45f268caa4b7\"},{\"type\":\"GlyphRenderer\",\"id\":\"fa53e8bb-63ea-4b35-cbbb-060d9521a3d0\"},{\"type\":\"GlyphRenderer\",\"id\":\"9afa655f-a39a-4528-c531-0b258e1aed23\"},{\"type\":\"LinearAxis\",\"id\":\"3dd3c44c-19a3-495b-c93f-c480dbfd62f0\"},{\"type\":\"Grid\",\"id\":\"aa79834e-62fe-4931-c97a-215505fb245f\"},{\"type\":\"LinearAxis\",\"id\":\"646beeb2-f4a7-41fc-c111-cf6af0eff6d8\"},{\"type\":\"Grid\",\"id\":\"4f4d10f5-e388-4b9b-cbf9-c9449d93716f\"},{\"type\":\"Legend\",\"id\":\"a04ed1b4-3c62-4b65-cbb4-c3d180329b66\"}],\"above\":[],\"tools\":[{\"type\":\"PanTool\",\"id\":\"640a6289-e4fe-4237-c22a-04d575afa26a\"},{\"type\":\"WheelZoomTool\",\"id\":\"23a6007e-c94b-4abe-ca14-4511e4e7105c\"},{\"type\":\"BoxZoomTool\",\"id\":\"6df259df-00d6-4c1d-cc95-9a45b54cc3c1\"},{\"type\":\"PreviewSaveTool\",\"id\":\"859ec279-368f-4bd5-cbfe-edc6559df4c5\"},{\"type\":\"ResizeTool\",\"id\":\"3efc495f-e3c2-448d-c46e-43fafc3c538e\"},{\"type\":\"ResetTool\",\"id\":\"a2845367-8bc9-4a0d-cab4-c2a59b2b0972\"}],\"doc\":null,\"right\":[],\"title\":\"comparing errors_D\",\"extra_x_ranges\":{},\"left\":[{\"type\":\"LinearAxis\",\"id\":\"646beeb2-f4a7-41fc-c111-cf6af0eff6d8\"}],\"y_range\":{\"type\":\"DataRange1d\",\"id\":\"b3fb7d0d-10e3-4e01-ce5f-102b01eb5a09\"},\"id\":\"54fb40ed-43a2-470e-c73d-0ef9f3665fbd\",\"extra_y_ranges\":{},\"tags\":[]}}];\n",
       "  Bokeh.load_models(all_models);\n",
       "  var model = Bokeh.Collections(modeltype).get(modelid);\n",
       "  $(\"#77eec186-0054-431c-c372-a14b085461d5\").html(''); // clear any previous plot in window_id\n",
       "  var view = new model.default_view({model: model, el: \"#77eec186-0054-431c-c372-a14b085461d5\"});\n",
       "    } else {\n",
       "  load_lib(bokehjs_url, function() {\n",
       "      console.log(\"Bokeh: BokehJS plotting callback run at\", new Date())\n",
       "      var modelid = \"54fb40ed-43a2-470e-c73d-0ef9f3665fbd\";\n",
       "      var modeltype = \"Plot\";\n",
       "      var all_models = [{\"id\":\"238a02b3-e1bd-462f-c61c-130de7b273f2\",\"type\":\"ColumnDataSource\",\"attributes\":{\"data\":{\"y\":[79.195126453757,45.739602837628,24.531237638123,15.216646008597,10.511880587568,7.8219362324956,5.8572219731533,4.4779661910915,3.8661357103299,3.3729792452333,2.7136791582056,2.3049131042485,1.9620770589942,1.8671378464622,1.6324270154804,1.9119702523801,1.4188137872834,1.4214509876315,1.3344233761439,1.1076241462064,1.2210237611751,1.0469685381998,0.99686173158575,0.94148052427543,1.0179593343706,0.84390411139534,0.83862971069912,0.79379730478124,0.67776048946438,0.64083968459084,0.64083968459084,0.64347688493895,0.61446768110973,0.51161686753343,0.58809567762863,0.61710488145784,0.58282127693241,0.52216566892587,0.52216566892587,0.45887286057122,0.51689126822965,0.49315646509665,0.453598459875,0.45887286057122,0.43513805743822,0.453598459875,0.37711964977979,0.54062607136264,0.38239405047601,0.43513805743822],\"x\":[1,2,3,4,5,6,7,8,9,10,11,12,13,14,15,16,17,18,19,20,21,22,23,24,25,26,27,28,29,30,31,32,33,34,35,36,37,38,39,40,41,42,43,44,45,46,47,48,49,50]},\"column_names\":[\"y\",\"x\"],\"cont_ranges\":{},\"discrete_ranges\":{},\"selected\":[],\"id\":\"238a02b3-e1bd-462f-c61c-130de7b273f2\",\"doc\":null,\"tags\":[]}},{\"id\":\"1f4bd097-4ffe-4fdd-cf4e-0f2c2a6b99f4\",\"type\":\"Line\",\"attributes\":{\"fill_alpha\":{\"units\":\"data\",\"value\":0.2},\"line_alpha\":{\"units\":\"data\",\"value\":1},\"doc\":null,\"size\":{\"units\":\"screen\",\"value\":10},\"fill_color\":{\"value\":\"red\"},\"line_color\":{\"value\":\"red\"},\"x\":{\"units\":\"data\",\"field\":\"x\"},\"id\":\"1f4bd097-4ffe-4fdd-cf4e-0f2c2a6b99f4\",\"y\":{\"units\":\"data\",\"field\":\"y\"},\"tags\":[]}},{\"id\":\"1f07709c-9180-46ad-c656-0a5c28549279\",\"type\":\"Line\",\"attributes\":{\"fill_alpha\":{\"units\":\"data\",\"value\":0.2},\"line_alpha\":{\"units\":\"data\",\"value\":1},\"doc\":null,\"size\":{\"units\":\"screen\",\"value\":10},\"fill_color\":{\"value\":\"red\"},\"line_color\":{\"value\":\"red\"},\"x\":{\"units\":\"data\",\"field\":\"x\"},\"id\":\"1f07709c-9180-46ad-c656-0a5c28549279\",\"y\":{\"units\":\"data\",\"field\":\"y\"},\"tags\":[]}},{\"id\":\"c9ad566e-7db4-47e1-c7e4-45f268caa4b7\",\"type\":\"GlyphRenderer\",\"attributes\":{\"name\":null,\"nonselection_glyph\":{\"type\":\"Line\",\"id\":\"1f07709c-9180-46ad-c656-0a5c28549279\"},\"doc\":null,\"server_data_source\":null,\"data_source\":{\"type\":\"ColumnDataSource\",\"id\":\"238a02b3-e1bd-462f-c61c-130de7b273f2\"},\"glyph\":{\"type\":\"Line\",\"id\":\"1f4bd097-4ffe-4fdd-cf4e-0f2c2a6b99f4\"},\"selection_glyph\":null,\"id\":\"c9ad566e-7db4-47e1-c7e4-45f268caa4b7\",\"tags\":[]}},{\"id\":\"726d9651-26a7-4dbc-cde2-0196622ddb44\",\"type\":\"ColumnDataSource\",\"attributes\":{\"data\":{\"y\":[79.922480620155,54.573643410853,43.023255813953,34.728682170543,28.217054263566,19.84496124031,14.883720930233,12.945736434109,9.6899224806202,9.6899224806202,9.3023255813953,8.6821705426357,7.6744186046512,7.4418604651163,7.2093023255814,5.7364341085271,6.1240310077519,5.7364341085271,5.6589147286822,5.1937984496124,5.968992248062,5.2713178294574,4.6511627906977,4.8062015503876,5.3488372093023,5.1162790697674,4.6511627906977,5.1937984496124,5.0387596899225,5.2713178294574,4.8062015503876,4.6511627906977,4.2635658914729,4.6511627906977,4.4186046511628,4.4961240310078,4.1860465116279,4.6511627906977,4.3410852713178,4.3410852713178,4.2635658914729,4.4961240310078,4.1085271317829,4.1085271317829,3.7984496124031,3.6434108527132,4.031007751938,4.1860465116279,3.7984496124031,4.031007751938],\"x\":[1,2,3,4,5,6,7,8,9,10,11,12,13,14,15,16,17,18,19,20,21,22,23,24,25,26,27,28,29,30,31,32,33,34,35,36,37,38,39,40,41,42,43,44,45,46,47,48,49,50]},\"column_names\":[\"y\",\"x\"],\"cont_ranges\":{},\"discrete_ranges\":{},\"selected\":[],\"id\":\"726d9651-26a7-4dbc-cde2-0196622ddb44\",\"doc\":null,\"tags\":[]}},{\"id\":\"86917684-608d-4f6b-cff3-146a5c5197c7\",\"type\":\"Line\",\"attributes\":{\"fill_alpha\":{\"units\":\"data\",\"value\":0.2},\"line_alpha\":{\"units\":\"data\",\"value\":1},\"doc\":null,\"size\":{\"units\":\"screen\",\"value\":10},\"fill_color\":{\"value\":\"green\"},\"line_color\":{\"value\":\"green\"},\"x\":{\"units\":\"data\",\"field\":\"x\"},\"id\":\"86917684-608d-4f6b-cff3-146a5c5197c7\",\"y\":{\"units\":\"data\",\"field\":\"y\"},\"tags\":[]}},{\"id\":\"c63eef67-c46d-48fa-c885-6d2dba752924\",\"type\":\"Line\",\"attributes\":{\"fill_alpha\":{\"units\":\"data\",\"value\":0.2},\"line_alpha\":{\"units\":\"data\",\"value\":1},\"doc\":null,\"size\":{\"units\":\"screen\",\"value\":10},\"fill_color\":{\"value\":\"green\"},\"line_color\":{\"value\":\"green\"},\"x\":{\"units\":\"data\",\"field\":\"x\"},\"id\":\"c63eef67-c46d-48fa-c885-6d2dba752924\",\"y\":{\"units\":\"data\",\"field\":\"y\"},\"tags\":[]}},{\"id\":\"fa53e8bb-63ea-4b35-cbbb-060d9521a3d0\",\"type\":\"GlyphRenderer\",\"attributes\":{\"name\":null,\"nonselection_glyph\":{\"type\":\"Line\",\"id\":\"c63eef67-c46d-48fa-c885-6d2dba752924\"},\"doc\":null,\"server_data_source\":null,\"data_source\":{\"type\":\"ColumnDataSource\",\"id\":\"726d9651-26a7-4dbc-cde2-0196622ddb44\"},\"glyph\":{\"type\":\"Line\",\"id\":\"86917684-608d-4f6b-cff3-146a5c5197c7\"},\"selection_glyph\":null,\"id\":\"fa53e8bb-63ea-4b35-cbbb-060d9521a3d0\",\"tags\":[]}},{\"id\":\"26b910f7-7142-4da8-cdf7-b9d847846dc8\",\"type\":\"ColumnDataSource\",\"attributes\":{\"data\":{\"y\":[4.861,4.861,4.861,4.861,4.861,4.861,4.861,4.861,4.861,4.861,4.861,4.861,4.861,4.861,4.861,4.861,4.861,4.861,4.861,4.861,4.861,4.861,4.861,4.861,4.861,4.861,4.861,4.861,4.861,4.861,4.861,4.861,4.861,4.861,4.861,4.861,4.861,4.861,4.861,4.861,4.861,4.861,4.861,4.861,4.861,4.861,4.861,4.861,4.861,4.861],\"x\":[1,2,3,4,5,6,7,8,9,10,11,12,13,14,15,16,17,18,19,20,21,22,23,24,25,26,27,28,29,30,31,32,33,34,35,36,37,38,39,40,41,42,43,44,45,46,47,48,49,50]},\"column_names\":[\"y\",\"x\"],\"cont_ranges\":{},\"discrete_ranges\":{},\"selected\":[],\"id\":\"26b910f7-7142-4da8-cdf7-b9d847846dc8\",\"doc\":null,\"tags\":[]}},{\"id\":\"7e53a95b-08ef-4339-c32e-16902ef9f67f\",\"type\":\"Line\",\"attributes\":{\"fill_alpha\":{\"units\":\"data\",\"value\":0.2},\"line_alpha\":{\"units\":\"data\",\"value\":1},\"doc\":null,\"size\":{\"units\":\"screen\",\"value\":10},\"fill_color\":{\"value\":\"blue\"},\"line_color\":{\"value\":\"blue\"},\"x\":{\"units\":\"data\",\"field\":\"x\"},\"id\":\"7e53a95b-08ef-4339-c32e-16902ef9f67f\",\"y\":{\"units\":\"data\",\"field\":\"y\"},\"tags\":[]}},{\"id\":\"7c1c3b2b-9737-4c82-cc53-e49f48d9a50e\",\"type\":\"Line\",\"attributes\":{\"fill_alpha\":{\"units\":\"data\",\"value\":0.2},\"line_alpha\":{\"units\":\"data\",\"value\":1},\"doc\":null,\"size\":{\"units\":\"screen\",\"value\":10},\"fill_color\":{\"value\":\"blue\"},\"line_color\":{\"value\":\"blue\"},\"x\":{\"units\":\"data\",\"field\":\"x\"},\"id\":\"7c1c3b2b-9737-4c82-cc53-e49f48d9a50e\",\"y\":{\"units\":\"data\",\"field\":\"y\"},\"tags\":[]}},{\"id\":\"9afa655f-a39a-4528-c531-0b258e1aed23\",\"type\":\"GlyphRenderer\",\"attributes\":{\"name\":null,\"nonselection_glyph\":{\"type\":\"Line\",\"id\":\"7c1c3b2b-9737-4c82-cc53-e49f48d9a50e\"},\"doc\":null,\"server_data_source\":null,\"data_source\":{\"type\":\"ColumnDataSource\",\"id\":\"26b910f7-7142-4da8-cdf7-b9d847846dc8\"},\"glyph\":{\"type\":\"Line\",\"id\":\"7e53a95b-08ef-4339-c32e-16902ef9f67f\"},\"selection_glyph\":null,\"id\":\"9afa655f-a39a-4528-c531-0b258e1aed23\",\"tags\":[]}},{\"id\":\"d0d4b845-1e1d-4bba-cbfe-d0a02a0f6a0b\",\"type\":\"DataRange1d\",\"attributes\":{\"sources\":[{\"columns\":[\"x\"],\"source\":{\"type\":\"ColumnDataSource\",\"id\":\"238a02b3-e1bd-462f-c61c-130de7b273f2\"}},{\"columns\":[\"x\"],\"source\":{\"type\":\"ColumnDataSource\",\"id\":\"726d9651-26a7-4dbc-cde2-0196622ddb44\"}},{\"columns\":[\"x\"],\"source\":{\"type\":\"ColumnDataSource\",\"id\":\"26b910f7-7142-4da8-cdf7-b9d847846dc8\"}}],\"id\":\"d0d4b845-1e1d-4bba-cbfe-d0a02a0f6a0b\",\"tags\":[],\"doc\":null}},{\"id\":\"b3fb7d0d-10e3-4e01-ce5f-102b01eb5a09\",\"type\":\"DataRange1d\",\"attributes\":{\"sources\":[{\"columns\":[\"y\"],\"source\":{\"type\":\"ColumnDataSource\",\"id\":\"238a02b3-e1bd-462f-c61c-130de7b273f2\"}},{\"columns\":[\"y\"],\"source\":{\"type\":\"ColumnDataSource\",\"id\":\"726d9651-26a7-4dbc-cde2-0196622ddb44\"}},{\"columns\":[\"y\"],\"source\":{\"type\":\"ColumnDataSource\",\"id\":\"26b910f7-7142-4da8-cdf7-b9d847846dc8\"}}],\"id\":\"b3fb7d0d-10e3-4e01-ce5f-102b01eb5a09\",\"tags\":[],\"doc\":null}},{\"id\":\"170864b3-51c1-48bb-c8b5-822ee5016f7f\",\"type\":\"ToolEvents\",\"attributes\":{\"tags\":[],\"id\":\"170864b3-51c1-48bb-c8b5-822ee5016f7f\",\"geometries\":[],\"doc\":null}},{\"id\":\"4687fd86-8de1-480a-c815-083767da76ca\",\"type\":\"BasicTickFormatter\",\"attributes\":{\"id\":\"4687fd86-8de1-480a-c815-083767da76ca\",\"tags\":[],\"doc\":null}},{\"id\":\"f4cb1888-616c-45a0-c59e-109620a30fc8\",\"type\":\"BasicTicker\",\"attributes\":{\"num_minor_ticks\":5,\"id\":\"f4cb1888-616c-45a0-c59e-109620a30fc8\",\"tags\":[],\"doc\":null}},{\"id\":\"3dd3c44c-19a3-495b-c93f-c480dbfd62f0\",\"type\":\"LinearAxis\",\"attributes\":{\"formatter\":{\"type\":\"BasicTickFormatter\",\"id\":\"4687fd86-8de1-480a-c815-083767da76ca\"},\"ticker\":{\"type\":\"BasicTicker\",\"id\":\"f4cb1888-616c-45a0-c59e-109620a30fc8\"},\"plot\":{\"id\":\"54fb40ed-43a2-470e-c73d-0ef9f3665fbd\",\"type\":\"Plot\",\"subtype\":\"Figure\"},\"axis_label\":\"Epochs\",\"id\":\"3dd3c44c-19a3-495b-c93f-c480dbfd62f0\",\"doc\":null,\"tags\":[]}},{\"id\":\"aa79834e-62fe-4931-c97a-215505fb245f\",\"type\":\"Grid\",\"attributes\":{\"dimension\":0,\"plot\":{\"id\":\"54fb40ed-43a2-470e-c73d-0ef9f3665fbd\",\"type\":\"Plot\",\"subtype\":\"Figure\"},\"ticker\":{\"type\":\"BasicTicker\",\"id\":\"f4cb1888-616c-45a0-c59e-109620a30fc8\"},\"id\":\"aa79834e-62fe-4931-c97a-215505fb245f\",\"doc\":null,\"tags\":[]}},{\"id\":\"305b746c-3634-4deb-cd6a-06ee12c7e68c\",\"type\":\"BasicTickFormatter\",\"attributes\":{\"id\":\"305b746c-3634-4deb-cd6a-06ee12c7e68c\",\"tags\":[],\"doc\":null}},{\"id\":\"0e95a6a2-8d86-410c-c12b-7da8a7372f42\",\"type\":\"BasicTicker\",\"attributes\":{\"num_minor_ticks\":5,\"id\":\"0e95a6a2-8d86-410c-c12b-7da8a7372f42\",\"tags\":[],\"doc\":null}},{\"id\":\"646beeb2-f4a7-41fc-c111-cf6af0eff6d8\",\"type\":\"LinearAxis\",\"attributes\":{\"formatter\":{\"type\":\"BasicTickFormatter\",\"id\":\"305b746c-3634-4deb-cd6a-06ee12c7e68c\"},\"ticker\":{\"type\":\"BasicTicker\",\"id\":\"0e95a6a2-8d86-410c-c12b-7da8a7372f42\"},\"plot\":{\"id\":\"54fb40ed-43a2-470e-c73d-0ef9f3665fbd\",\"type\":\"Plot\",\"subtype\":\"Figure\"},\"axis_label\":\"Percentage Error\",\"id\":\"646beeb2-f4a7-41fc-c111-cf6af0eff6d8\",\"doc\":null,\"tags\":[]}},{\"id\":\"4f4d10f5-e388-4b9b-cbf9-c9449d93716f\",\"type\":\"Grid\",\"attributes\":{\"dimension\":1,\"plot\":{\"id\":\"54fb40ed-43a2-470e-c73d-0ef9f3665fbd\",\"type\":\"Plot\",\"subtype\":\"Figure\"},\"ticker\":{\"type\":\"BasicTicker\",\"id\":\"0e95a6a2-8d86-410c-c12b-7da8a7372f42\"},\"id\":\"4f4d10f5-e388-4b9b-cbf9-c9449d93716f\",\"doc\":null,\"tags\":[]}},{\"id\":\"640a6289-e4fe-4237-c22a-04d575afa26a\",\"type\":\"PanTool\",\"attributes\":{\"plot\":{\"id\":\"54fb40ed-43a2-470e-c73d-0ef9f3665fbd\",\"type\":\"Plot\",\"subtype\":\"Figure\"},\"dimensions\":[\"width\",\"height\"],\"id\":\"640a6289-e4fe-4237-c22a-04d575afa26a\",\"doc\":null,\"tags\":[]}},{\"id\":\"23a6007e-c94b-4abe-ca14-4511e4e7105c\",\"type\":\"WheelZoomTool\",\"attributes\":{\"plot\":{\"id\":\"54fb40ed-43a2-470e-c73d-0ef9f3665fbd\",\"type\":\"Plot\",\"subtype\":\"Figure\"},\"dimensions\":[\"width\",\"height\"],\"id\":\"23a6007e-c94b-4abe-ca14-4511e4e7105c\",\"doc\":null,\"tags\":[]}},{\"id\":\"6df259df-00d6-4c1d-cc95-9a45b54cc3c1\",\"type\":\"BoxZoomTool\",\"attributes\":{\"plot\":{\"id\":\"54fb40ed-43a2-470e-c73d-0ef9f3665fbd\",\"type\":\"Plot\",\"subtype\":\"Figure\"},\"id\":\"6df259df-00d6-4c1d-cc95-9a45b54cc3c1\",\"tags\":[],\"doc\":null}},{\"id\":\"859ec279-368f-4bd5-cbfe-edc6559df4c5\",\"type\":\"PreviewSaveTool\",\"attributes\":{\"plot\":{\"id\":\"54fb40ed-43a2-470e-c73d-0ef9f3665fbd\",\"type\":\"Plot\",\"subtype\":\"Figure\"},\"id\":\"859ec279-368f-4bd5-cbfe-edc6559df4c5\",\"tags\":[],\"doc\":null}},{\"id\":\"3efc495f-e3c2-448d-c46e-43fafc3c538e\",\"type\":\"ResizeTool\",\"attributes\":{\"plot\":{\"id\":\"54fb40ed-43a2-470e-c73d-0ef9f3665fbd\",\"type\":\"Plot\",\"subtype\":\"Figure\"},\"id\":\"3efc495f-e3c2-448d-c46e-43fafc3c538e\",\"tags\":[],\"doc\":null}},{\"id\":\"a2845367-8bc9-4a0d-cab4-c2a59b2b0972\",\"type\":\"ResetTool\",\"attributes\":{\"plot\":{\"id\":\"54fb40ed-43a2-470e-c73d-0ef9f3665fbd\",\"type\":\"Plot\",\"subtype\":\"Figure\"},\"id\":\"a2845367-8bc9-4a0d-cab4-c2a59b2b0972\",\"tags\":[],\"doc\":null}},{\"id\":\"a04ed1b4-3c62-4b65-cbb4-c3d180329b66\",\"type\":\"Legend\",\"attributes\":{\"plot\":{\"id\":\"54fb40ed-43a2-470e-c73d-0ef9f3665fbd\",\"type\":\"Plot\",\"subtype\":\"Figure\"},\"legends\":[[\"training error\",[{\"type\":\"GlyphRenderer\",\"id\":\"c9ad566e-7db4-47e1-c7e4-45f268caa4b7\"}]],[\"validation error\",[{\"type\":\"GlyphRenderer\",\"id\":\"fa53e8bb-63ea-4b35-cbbb-060d9521a3d0\"}]],[\"validation error\",[{\"type\":\"GlyphRenderer\",\"id\":\"9afa655f-a39a-4528-c531-0b258e1aed23\"}]]],\"id\":\"a04ed1b4-3c62-4b65-cbb4-c3d180329b66\",\"doc\":null,\"tags\":[]}},{\"id\":\"54fb40ed-43a2-470e-c73d-0ef9f3665fbd\",\"type\":\"Plot\",\"attributes\":{\"x_range\":{\"type\":\"DataRange1d\",\"id\":\"d0d4b845-1e1d-4bba-cbfe-d0a02a0f6a0b\"},\"tool_events\":{\"type\":\"ToolEvents\",\"id\":\"170864b3-51c1-48bb-c8b5-822ee5016f7f\"},\"below\":[{\"type\":\"LinearAxis\",\"id\":\"3dd3c44c-19a3-495b-c93f-c480dbfd62f0\"}],\"renderers\":[{\"type\":\"GlyphRenderer\",\"id\":\"c9ad566e-7db4-47e1-c7e4-45f268caa4b7\"},{\"type\":\"GlyphRenderer\",\"id\":\"fa53e8bb-63ea-4b35-cbbb-060d9521a3d0\"},{\"type\":\"GlyphRenderer\",\"id\":\"9afa655f-a39a-4528-c531-0b258e1aed23\"},{\"type\":\"LinearAxis\",\"id\":\"3dd3c44c-19a3-495b-c93f-c480dbfd62f0\"},{\"type\":\"Grid\",\"id\":\"aa79834e-62fe-4931-c97a-215505fb245f\"},{\"type\":\"LinearAxis\",\"id\":\"646beeb2-f4a7-41fc-c111-cf6af0eff6d8\"},{\"type\":\"Grid\",\"id\":\"4f4d10f5-e388-4b9b-cbf9-c9449d93716f\"},{\"type\":\"Legend\",\"id\":\"a04ed1b4-3c62-4b65-cbb4-c3d180329b66\"}],\"above\":[],\"tools\":[{\"type\":\"PanTool\",\"id\":\"640a6289-e4fe-4237-c22a-04d575afa26a\"},{\"type\":\"WheelZoomTool\",\"id\":\"23a6007e-c94b-4abe-ca14-4511e4e7105c\"},{\"type\":\"BoxZoomTool\",\"id\":\"6df259df-00d6-4c1d-cc95-9a45b54cc3c1\"},{\"type\":\"PreviewSaveTool\",\"id\":\"859ec279-368f-4bd5-cbfe-edc6559df4c5\"},{\"type\":\"ResizeTool\",\"id\":\"3efc495f-e3c2-448d-c46e-43fafc3c538e\"},{\"type\":\"ResetTool\",\"id\":\"a2845367-8bc9-4a0d-cab4-c2a59b2b0972\"}],\"doc\":null,\"right\":[],\"title\":\"comparing errors_D\",\"extra_x_ranges\":{},\"left\":[{\"type\":\"LinearAxis\",\"id\":\"646beeb2-f4a7-41fc-c111-cf6af0eff6d8\"}],\"y_range\":{\"type\":\"DataRange1d\",\"id\":\"b3fb7d0d-10e3-4e01-ce5f-102b01eb5a09\"},\"id\":\"54fb40ed-43a2-470e-c73d-0ef9f3665fbd\",\"extra_y_ranges\":{},\"tags\":[]}}];\n",
       "      Bokeh.load_models(all_models);\n",
       "      var model = Bokeh.Collections(modeltype).get(modelid);\n",
       "      $(\"#77eec186-0054-431c-c372-a14b085461d5\").html(''); // clear any previous plot in window_id\n",
       "      var view = new model.default_view({model: model, el: \"#77eec186-0054-431c-c372-a14b085461d5\"});\n",
       "  });\n",
       "    }\n",
       "});\n",
       "</script>\n",
       "<div class=\"plotdiv\" id=\"77eec186-0054-431c-c372-a14b085461d5\"></div>\n"
      ]
     },
     "metadata": {},
     "output_type": "display_data"
    },
    {
     "data": {
      "text/plain": [
       "{\n",
       "  text : function: 0x40227758\n",
       "  _winid : 77eec186-0054-431c-c372-a14b085461d5\n",
       "  quad : function: 0x402276a8\n",
       "  _docid : userdata: NULL\n",
       "  yaxis : function: 0x40227798\n",
       "  _legend : true\n",
       "  hover_tool : function: 0x402277d8\n",
       "  quiver : function: 0x40227270\n",
       "  triangle : function: 0x40227710\n",
       "  save : function: 0x402212a8\n",
       "  circle : function: 0x40227308\n",
       "  _yaxis : Percentage Error\n",
       "  draw : function: 0x402217b0\n",
       "  gscatter : function: 0x40227840\n",
       "  title : function: 0x402276e8\n",
       "  line : function: 0x40227660\n",
       "  segment : function: 0x40227860\n",
       "  histogram : function: 0x402276c8\n",
       "  _data : \n",
       "    {\n",
       "      1 : \n",
       "        {\n",
       "          fill_color : red\n",
       "          line_color : red\n",
       "          legend : training error\n",
       "          type : Line\n",
       "          y : DoubleTensor - size: 50\n",
       "          x : DoubleTensor - size: 50\n",
       "        }\n",
       "      2 : \n",
       "        {\n",
       "          fill_color : green\n",
       "          line_color : green\n",
       "          legend : validation error\n",
       "          type : Line\n",
       "          y : DoubleTensor - size: 50\n",
       "          x : DoubleTensor - size: 50\n",
       "        }\n",
       "      3 : \n",
       "        {\n",
       "          fill_color : blue\n",
       "          line_color : blue\n",
       "          legend : validation error\n",
       "          type : Line\n",
       "          y : DoubleTensor - size: 50\n",
       "          x : DoubleTensor - size: 50\n",
       "        }\n",
       "    }\n",
       "  _xaxis : Epochs\n",
       "  new : function: 0x40227230\n",
       "  _toAllModels : function: 0x402215c8\n",
       "  hist : function: 0x402276c8\n",
       "  _title : comparing errors_D\n",
       "  xaxis : function: 0x40227778\n",
       "  redraw : function: 0x402217f0\n",
       "  toTemplate : function: 0x40221728\n",
       "  legend : function: 0x402277b8\n",
       "  toHTML : function: 0x40221770\n",
       "}\n"
      ]
     },
     "execution_count": 14,
     "metadata": {},
     "output_type": "execute_result"
    }
   ],
   "source": [
    "Plot()\n",
    ":line(x_axis, training_error_D_vector,'red','training error')\n",
    ":line(x_axis, validation_error_D_vector,'green','validation error')\n",
    ":line(x_axis, test_error_D_vector,'blue','validation error')\n",
    ":xaxis('Epochs'):yaxis('Percentage Error')\n",
    ":legend(true):title('comparing errors_D'):draw()"
   ]
  },
  {
   "cell_type": "code",
   "execution_count": 15,
   "metadata": {
    "collapsed": false
   },
   "outputs": [
    {
     "data": {
      "text/html": [
       "<script type=\"text/javascript\">\n",
       "$(function() {\n",
       "    if (typeof (window._bokeh_onload_callbacks) === \"undefined\"){\n",
       "  window._bokeh_onload_callbacks = [];\n",
       "    }\n",
       "    function load_lib(url, callback){\n",
       "  window._bokeh_onload_callbacks.push(callback);\n",
       "  if (window._bokeh_is_loading){\n",
       "      console.log(\"Bokeh: BokehJS is being loaded, scheduling callback at\", new Date());\n",
       "      return null;\n",
       "  }\n",
       "  console.log(\"Bokeh: BokehJS not loaded, scheduling load and callback at\", new Date());\n",
       "  window._bokeh_is_loading = true;\n",
       "  var s = document.createElement('script');\n",
       "  s.src = url;\n",
       "  s.async = true;\n",
       "  s.onreadystatechange = s.onload = function(){\n",
       "      Bokeh.embed.inject_css(\"https://cdn.pydata.org/bokeh-0.7.0.min.css\");\n",
       "      window._bokeh_onload_callbacks.forEach(function(callback){callback()});\n",
       "  };\n",
       "  s.onerror = function(){\n",
       "      console.warn(\"failed to load library \" + url);\n",
       "  };\n",
       "  document.getElementsByTagName(\"head\")[0].appendChild(s);\n",
       "    }\n",
       "\n",
       "    bokehjs_url = \"https://cdn.pydata.org/bokeh-0.7.0.min.js\"\n",
       "\n",
       "    var elt = document.getElementById(\"6f897ac0-ff26-4519-c5f3-08c00d0b87cd\");\n",
       "    if(elt==null) {\n",
       "  console.log(\"Bokeh: ERROR: autoload.js configured with elementid '6f897ac0-ff26-4519-c5f3-08c00d0b87cd'\"\n",
       "        + \"but no matching script tag was found. \")\n",
       "  return false;\n",
       "    }\n",
       "\n",
       "    if(typeof(Bokeh) !== \"undefined\") {\n",
       "  console.log(\"Bokeh: BokehJS loaded, going straight to plotting\");\n",
       "  var modelid = \"d912b050-9b49-47dd-c708-a95a55d6bb2b\";\n",
       "  var modeltype = \"Plot\";\n",
       "  var all_models = [{\"id\":\"83cf6174-83d8-4560-c54d-eeb4c0590d89\",\"type\":\"ColumnDataSource\",\"attributes\":{\"data\":{\"y\":[47.551854179761,8.6559815629583,3.7335009428033,2.2354913052587,1.6017179970668,1.358684265661,1.0475591870941,1.0067043787974,0.86318877016551,0.7605279698303,0.67881835323696,0.6002514142049,0.59187094070815,0.48501990362455,0.49654305468259,0.43578462183113,0.39492981353446,0.36036036036036,0.34778965011523,0.35197988686361,0.36036036036036,0.31112507856694,0.25455688246386,0.29750680913472,0.32788602556044,0.26084223758642,0.27027027027027,0.23779593547035,0.25979467839933,0.24093861303164,0.22732034359941,0.20846427823172,0.20113136392206,0.23570081709617,0.23570081709617,0.21893987010266,0.2294154619736,0.18646553530274,0.20217892310916,0.19275089042531,0.18856065367693,0.15399120050283,0.15294364131573,0.15084852294155,0.18541797611565,0.17389482505762,0.18751309448984,0.14665828619317,0.13513513513514,0.15608631887702],\"x\":[1,2,3,4,5,6,7,8,9,10,11,12,13,14,15,16,17,18,19,20,21,22,23,24,25,26,27,28,29,30,31,32,33,34,35,36,37,38,39,40,41,42,43,44,45,46,47,48,49,50]},\"column_names\":[\"y\",\"x\"],\"cont_ranges\":{},\"discrete_ranges\":{},\"selected\":[],\"id\":\"83cf6174-83d8-4560-c54d-eeb4c0590d89\",\"doc\":null,\"tags\":[]}},{\"id\":\"c3e338b3-6705-46a9-c67d-b37158e63e27\",\"type\":\"Line\",\"attributes\":{\"fill_alpha\":{\"units\":\"data\",\"value\":0.2},\"line_alpha\":{\"units\":\"data\",\"value\":1},\"doc\":null,\"size\":{\"units\":\"screen\",\"value\":10},\"fill_color\":{\"value\":\"red\"},\"line_color\":{\"value\":\"red\"},\"x\":{\"units\":\"data\",\"field\":\"x\"},\"id\":\"c3e338b3-6705-46a9-c67d-b37158e63e27\",\"y\":{\"units\":\"data\",\"field\":\"y\"},\"tags\":[]}},{\"id\":\"84082131-4e92-4dae-cd99-46d07a0861bd\",\"type\":\"Line\",\"attributes\":{\"fill_alpha\":{\"units\":\"data\",\"value\":0.2},\"line_alpha\":{\"units\":\"data\",\"value\":1},\"doc\":null,\"size\":{\"units\":\"screen\",\"value\":10},\"fill_color\":{\"value\":\"red\"},\"line_color\":{\"value\":\"red\"},\"x\":{\"units\":\"data\",\"field\":\"x\"},\"id\":\"84082131-4e92-4dae-cd99-46d07a0861bd\",\"y\":{\"units\":\"data\",\"field\":\"y\"},\"tags\":[]}},{\"id\":\"3b2ab9be-6086-4d96-cd0b-29e168a85086\",\"type\":\"GlyphRenderer\",\"attributes\":{\"name\":null,\"nonselection_glyph\":{\"type\":\"Line\",\"id\":\"84082131-4e92-4dae-cd99-46d07a0861bd\"},\"doc\":null,\"server_data_source\":null,\"data_source\":{\"type\":\"ColumnDataSource\",\"id\":\"83cf6174-83d8-4560-c54d-eeb4c0590d89\"},\"glyph\":{\"type\":\"Line\",\"id\":\"c3e338b3-6705-46a9-c67d-b37158e63e27\"},\"selection_glyph\":null,\"id\":\"3b2ab9be-6086-4d96-cd0b-29e168a85086\",\"tags\":[]}},{\"id\":\"d5b747fd-daeb-4556-c591-a030e515e25b\",\"type\":\"ColumnDataSource\",\"attributes\":{\"data\":{\"y\":[17.364341085271,10.77519379845,8.9922480620155,7.2868217054264,7.3643410852713,6.2015503875969,5.8139534883721,5.5813953488372,4.8062015503876,4.4961240310078,4.5736434108527,2.8682170542636,3.4883720930233,4.7286821705426,2.8682170542636,3.3333333333333,3.7209302325581,2.7131782945736,2.4806201550388,3.7209302325581,3.0232558139535,2.5581395348837,2.4806201550388,2.2480620155039,2.1705426356589,2.015503875969,1.7054263565891,2.6356589147287,1.5503875968992,1.7829457364341,1.4728682170543,1.7829457364341,1.5503875968992,1.3953488372093,1.3953488372093,1.5503875968992,1.8604651162791,2.2480620155039,1.7054263565891,1.3953488372093,2.093023255814,2.2480620155039,1.3178294573643,1.5503875968992,1.3953488372093,1.5503875968992,1.7829457364341,1.5503875968992,1.5503875968992,1.937984496124],\"x\":[1,2,3,4,5,6,7,8,9,10,11,12,13,14,15,16,17,18,19,20,21,22,23,24,25,26,27,28,29,30,31,32,33,34,35,36,37,38,39,40,41,42,43,44,45,46,47,48,49,50]},\"column_names\":[\"y\",\"x\"],\"cont_ranges\":{},\"discrete_ranges\":{},\"selected\":[],\"id\":\"d5b747fd-daeb-4556-c591-a030e515e25b\",\"doc\":null,\"tags\":[]}},{\"id\":\"69164ef6-6c17-4715-c721-37c02b62bef0\",\"type\":\"Line\",\"attributes\":{\"fill_alpha\":{\"units\":\"data\",\"value\":0.2},\"line_alpha\":{\"units\":\"data\",\"value\":1},\"doc\":null,\"size\":{\"units\":\"screen\",\"value\":10},\"fill_color\":{\"value\":\"green\"},\"line_color\":{\"value\":\"green\"},\"x\":{\"units\":\"data\",\"field\":\"x\"},\"id\":\"69164ef6-6c17-4715-c721-37c02b62bef0\",\"y\":{\"units\":\"data\",\"field\":\"y\"},\"tags\":[]}},{\"id\":\"5ca795bb-e696-4f46-cf25-a9f5564f16c4\",\"type\":\"Line\",\"attributes\":{\"fill_alpha\":{\"units\":\"data\",\"value\":0.2},\"line_alpha\":{\"units\":\"data\",\"value\":1},\"doc\":null,\"size\":{\"units\":\"screen\",\"value\":10},\"fill_color\":{\"value\":\"green\"},\"line_color\":{\"value\":\"green\"},\"x\":{\"units\":\"data\",\"field\":\"x\"},\"id\":\"5ca795bb-e696-4f46-cf25-a9f5564f16c4\",\"y\":{\"units\":\"data\",\"field\":\"y\"},\"tags\":[]}},{\"id\":\"dead1311-a44a-466b-c6df-2e448c3ddfb8\",\"type\":\"GlyphRenderer\",\"attributes\":{\"name\":null,\"nonselection_glyph\":{\"type\":\"Line\",\"id\":\"5ca795bb-e696-4f46-cf25-a9f5564f16c4\"},\"doc\":null,\"server_data_source\":null,\"data_source\":{\"type\":\"ColumnDataSource\",\"id\":\"d5b747fd-daeb-4556-c591-a030e515e25b\"},\"glyph\":{\"type\":\"Line\",\"id\":\"69164ef6-6c17-4715-c721-37c02b62bef0\"},\"selection_glyph\":null,\"id\":\"dead1311-a44a-466b-c6df-2e448c3ddfb8\",\"tags\":[]}},{\"id\":\"68f2fcf8-32da-40e7-c0d0-7a2a27313279\",\"type\":\"ColumnDataSource\",\"attributes\":{\"data\":{\"y\":[3.769,3.769,3.769,3.769,3.769,3.769,3.769,3.769,3.769,3.769,3.769,3.769,3.769,3.769,3.769,3.769,3.769,3.769,3.769,3.769,3.769,3.769,3.769,3.769,3.769,3.769,3.769,3.769,3.769,3.769,3.769,3.769,3.769,3.769,3.769,3.769,3.769,3.769,3.769,3.769,3.769,3.769,3.769,3.769,3.769,3.769,3.769,3.769,3.769,3.769],\"x\":[1,2,3,4,5,6,7,8,9,10,11,12,13,14,15,16,17,18,19,20,21,22,23,24,25,26,27,28,29,30,31,32,33,34,35,36,37,38,39,40,41,42,43,44,45,46,47,48,49,50]},\"column_names\":[\"y\",\"x\"],\"cont_ranges\":{},\"discrete_ranges\":{},\"selected\":[],\"id\":\"68f2fcf8-32da-40e7-c0d0-7a2a27313279\",\"doc\":null,\"tags\":[]}},{\"id\":\"5a378944-7b3c-4520-c586-07b43985377b\",\"type\":\"Line\",\"attributes\":{\"fill_alpha\":{\"units\":\"data\",\"value\":0.2},\"line_alpha\":{\"units\":\"data\",\"value\":1},\"doc\":null,\"size\":{\"units\":\"screen\",\"value\":10},\"fill_color\":{\"value\":\"blue\"},\"line_color\":{\"value\":\"blue\"},\"x\":{\"units\":\"data\",\"field\":\"x\"},\"id\":\"5a378944-7b3c-4520-c586-07b43985377b\",\"y\":{\"units\":\"data\",\"field\":\"y\"},\"tags\":[]}},{\"id\":\"374867bb-f5ed-4c03-cc94-c879f6a8e7fd\",\"type\":\"Line\",\"attributes\":{\"fill_alpha\":{\"units\":\"data\",\"value\":0.2},\"line_alpha\":{\"units\":\"data\",\"value\":1},\"doc\":null,\"size\":{\"units\":\"screen\",\"value\":10},\"fill_color\":{\"value\":\"blue\"},\"line_color\":{\"value\":\"blue\"},\"x\":{\"units\":\"data\",\"field\":\"x\"},\"id\":\"374867bb-f5ed-4c03-cc94-c879f6a8e7fd\",\"y\":{\"units\":\"data\",\"field\":\"y\"},\"tags\":[]}},{\"id\":\"e25517cd-3e4d-4ec9-ce13-b140731388c2\",\"type\":\"GlyphRenderer\",\"attributes\":{\"name\":null,\"nonselection_glyph\":{\"type\":\"Line\",\"id\":\"374867bb-f5ed-4c03-cc94-c879f6a8e7fd\"},\"doc\":null,\"server_data_source\":null,\"data_source\":{\"type\":\"ColumnDataSource\",\"id\":\"68f2fcf8-32da-40e7-c0d0-7a2a27313279\"},\"glyph\":{\"type\":\"Line\",\"id\":\"5a378944-7b3c-4520-c586-07b43985377b\"},\"selection_glyph\":null,\"id\":\"e25517cd-3e4d-4ec9-ce13-b140731388c2\",\"tags\":[]}},{\"id\":\"621fe168-14ef-4273-c28b-8b87a11b42a0\",\"type\":\"DataRange1d\",\"attributes\":{\"sources\":[{\"columns\":[\"x\"],\"source\":{\"type\":\"ColumnDataSource\",\"id\":\"83cf6174-83d8-4560-c54d-eeb4c0590d89\"}},{\"columns\":[\"x\"],\"source\":{\"type\":\"ColumnDataSource\",\"id\":\"d5b747fd-daeb-4556-c591-a030e515e25b\"}},{\"columns\":[\"x\"],\"source\":{\"type\":\"ColumnDataSource\",\"id\":\"68f2fcf8-32da-40e7-c0d0-7a2a27313279\"}}],\"id\":\"621fe168-14ef-4273-c28b-8b87a11b42a0\",\"tags\":[],\"doc\":null}},{\"id\":\"38328263-8a7c-46bb-c6f9-c44451eaef01\",\"type\":\"DataRange1d\",\"attributes\":{\"sources\":[{\"columns\":[\"y\"],\"source\":{\"type\":\"ColumnDataSource\",\"id\":\"83cf6174-83d8-4560-c54d-eeb4c0590d89\"}},{\"columns\":[\"y\"],\"source\":{\"type\":\"ColumnDataSource\",\"id\":\"d5b747fd-daeb-4556-c591-a030e515e25b\"}},{\"columns\":[\"y\"],\"source\":{\"type\":\"ColumnDataSource\",\"id\":\"68f2fcf8-32da-40e7-c0d0-7a2a27313279\"}}],\"id\":\"38328263-8a7c-46bb-c6f9-c44451eaef01\",\"tags\":[],\"doc\":null}},{\"id\":\"77dff367-a034-4c70-cc05-f6348dfc3182\",\"type\":\"ToolEvents\",\"attributes\":{\"tags\":[],\"id\":\"77dff367-a034-4c70-cc05-f6348dfc3182\",\"geometries\":[],\"doc\":null}},{\"id\":\"720ce3f4-adbd-4759-c74d-6d1c03a579fa\",\"type\":\"BasicTickFormatter\",\"attributes\":{\"id\":\"720ce3f4-adbd-4759-c74d-6d1c03a579fa\",\"tags\":[],\"doc\":null}},{\"id\":\"1ca17190-8551-4779-c7cb-80a9f4e2a7df\",\"type\":\"BasicTicker\",\"attributes\":{\"num_minor_ticks\":5,\"id\":\"1ca17190-8551-4779-c7cb-80a9f4e2a7df\",\"tags\":[],\"doc\":null}},{\"id\":\"2f86fe8e-949c-4a13-caa9-3e5857977ae1\",\"type\":\"LinearAxis\",\"attributes\":{\"formatter\":{\"type\":\"BasicTickFormatter\",\"id\":\"720ce3f4-adbd-4759-c74d-6d1c03a579fa\"},\"ticker\":{\"type\":\"BasicTicker\",\"id\":\"1ca17190-8551-4779-c7cb-80a9f4e2a7df\"},\"plot\":{\"id\":\"d912b050-9b49-47dd-c708-a95a55d6bb2b\",\"type\":\"Plot\",\"subtype\":\"Figure\"},\"axis_label\":\"Epochs\",\"id\":\"2f86fe8e-949c-4a13-caa9-3e5857977ae1\",\"doc\":null,\"tags\":[]}},{\"id\":\"09dfa364-055c-4f2d-cfeb-3c05cb99a532\",\"type\":\"Grid\",\"attributes\":{\"dimension\":0,\"plot\":{\"id\":\"d912b050-9b49-47dd-c708-a95a55d6bb2b\",\"type\":\"Plot\",\"subtype\":\"Figure\"},\"ticker\":{\"type\":\"BasicTicker\",\"id\":\"1ca17190-8551-4779-c7cb-80a9f4e2a7df\"},\"id\":\"09dfa364-055c-4f2d-cfeb-3c05cb99a532\",\"doc\":null,\"tags\":[]}},{\"id\":\"852ef399-86af-4f40-cff6-91572f09d876\",\"type\":\"BasicTickFormatter\",\"attributes\":{\"id\":\"852ef399-86af-4f40-cff6-91572f09d876\",\"tags\":[],\"doc\":null}},{\"id\":\"c7484057-4e31-4147-c105-8a831a95b851\",\"type\":\"BasicTicker\",\"attributes\":{\"num_minor_ticks\":5,\"id\":\"c7484057-4e31-4147-c105-8a831a95b851\",\"tags\":[],\"doc\":null}},{\"id\":\"7ca36d43-9f1c-4602-c6f8-e30d7fb8cc4f\",\"type\":\"LinearAxis\",\"attributes\":{\"formatter\":{\"type\":\"BasicTickFormatter\",\"id\":\"852ef399-86af-4f40-cff6-91572f09d876\"},\"ticker\":{\"type\":\"BasicTicker\",\"id\":\"c7484057-4e31-4147-c105-8a831a95b851\"},\"plot\":{\"id\":\"d912b050-9b49-47dd-c708-a95a55d6bb2b\",\"type\":\"Plot\",\"subtype\":\"Figure\"},\"axis_label\":\"Percentage Error\",\"id\":\"7ca36d43-9f1c-4602-c6f8-e30d7fb8cc4f\",\"doc\":null,\"tags\":[]}},{\"id\":\"f6d71c74-7cfb-4362-c349-3a585482f586\",\"type\":\"Grid\",\"attributes\":{\"dimension\":1,\"plot\":{\"id\":\"d912b050-9b49-47dd-c708-a95a55d6bb2b\",\"type\":\"Plot\",\"subtype\":\"Figure\"},\"ticker\":{\"type\":\"BasicTicker\",\"id\":\"c7484057-4e31-4147-c105-8a831a95b851\"},\"id\":\"f6d71c74-7cfb-4362-c349-3a585482f586\",\"doc\":null,\"tags\":[]}},{\"id\":\"351ac447-c818-4f0b-cf4b-2ef056d2039a\",\"type\":\"PanTool\",\"attributes\":{\"plot\":{\"id\":\"d912b050-9b49-47dd-c708-a95a55d6bb2b\",\"type\":\"Plot\",\"subtype\":\"Figure\"},\"dimensions\":[\"width\",\"height\"],\"id\":\"351ac447-c818-4f0b-cf4b-2ef056d2039a\",\"doc\":null,\"tags\":[]}},{\"id\":\"68469f62-13e4-4d27-cda5-3d3e095dc96f\",\"type\":\"WheelZoomTool\",\"attributes\":{\"plot\":{\"id\":\"d912b050-9b49-47dd-c708-a95a55d6bb2b\",\"type\":\"Plot\",\"subtype\":\"Figure\"},\"dimensions\":[\"width\",\"height\"],\"id\":\"68469f62-13e4-4d27-cda5-3d3e095dc96f\",\"doc\":null,\"tags\":[]}},{\"id\":\"5555784c-21ae-4b1e-cbe6-692d6625e94c\",\"type\":\"BoxZoomTool\",\"attributes\":{\"plot\":{\"id\":\"d912b050-9b49-47dd-c708-a95a55d6bb2b\",\"type\":\"Plot\",\"subtype\":\"Figure\"},\"id\":\"5555784c-21ae-4b1e-cbe6-692d6625e94c\",\"tags\":[],\"doc\":null}},{\"id\":\"8e06e78b-290c-40ab-c0e2-f20a21239b49\",\"type\":\"PreviewSaveTool\",\"attributes\":{\"plot\":{\"id\":\"d912b050-9b49-47dd-c708-a95a55d6bb2b\",\"type\":\"Plot\",\"subtype\":\"Figure\"},\"id\":\"8e06e78b-290c-40ab-c0e2-f20a21239b49\",\"tags\":[],\"doc\":null}},{\"id\":\"889063d5-6197-4825-c801-0943a9477086\",\"type\":\"ResizeTool\",\"attributes\":{\"plot\":{\"id\":\"d912b050-9b49-47dd-c708-a95a55d6bb2b\",\"type\":\"Plot\",\"subtype\":\"Figure\"},\"id\":\"889063d5-6197-4825-c801-0943a9477086\",\"tags\":[],\"doc\":null}},{\"id\":\"003a2821-2281-4bb6-cb26-fed19c8bdf36\",\"type\":\"ResetTool\",\"attributes\":{\"plot\":{\"id\":\"d912b050-9b49-47dd-c708-a95a55d6bb2b\",\"type\":\"Plot\",\"subtype\":\"Figure\"},\"id\":\"003a2821-2281-4bb6-cb26-fed19c8bdf36\",\"tags\":[],\"doc\":null}},{\"id\":\"3b6f28be-87f8-41e7-c1f7-4faf32e3fce3\",\"type\":\"Legend\",\"attributes\":{\"plot\":{\"id\":\"d912b050-9b49-47dd-c708-a95a55d6bb2b\",\"type\":\"Plot\",\"subtype\":\"Figure\"},\"legends\":[[\"training error\",[{\"type\":\"GlyphRenderer\",\"id\":\"3b2ab9be-6086-4d96-cd0b-29e168a85086\"}]],[\"validation error\",[{\"type\":\"GlyphRenderer\",\"id\":\"dead1311-a44a-466b-c6df-2e448c3ddfb8\"}]],[\"validation error\",[{\"type\":\"GlyphRenderer\",\"id\":\"e25517cd-3e4d-4ec9-ce13-b140731388c2\"}]]],\"id\":\"3b6f28be-87f8-41e7-c1f7-4faf32e3fce3\",\"doc\":null,\"tags\":[]}},{\"id\":\"d912b050-9b49-47dd-c708-a95a55d6bb2b\",\"type\":\"Plot\",\"attributes\":{\"x_range\":{\"type\":\"DataRange1d\",\"id\":\"621fe168-14ef-4273-c28b-8b87a11b42a0\"},\"tool_events\":{\"type\":\"ToolEvents\",\"id\":\"77dff367-a034-4c70-cc05-f6348dfc3182\"},\"below\":[{\"type\":\"LinearAxis\",\"id\":\"2f86fe8e-949c-4a13-caa9-3e5857977ae1\"}],\"renderers\":[{\"type\":\"GlyphRenderer\",\"id\":\"3b2ab9be-6086-4d96-cd0b-29e168a85086\"},{\"type\":\"GlyphRenderer\",\"id\":\"dead1311-a44a-466b-c6df-2e448c3ddfb8\"},{\"type\":\"GlyphRenderer\",\"id\":\"e25517cd-3e4d-4ec9-ce13-b140731388c2\"},{\"type\":\"LinearAxis\",\"id\":\"2f86fe8e-949c-4a13-caa9-3e5857977ae1\"},{\"type\":\"Grid\",\"id\":\"09dfa364-055c-4f2d-cfeb-3c05cb99a532\"},{\"type\":\"LinearAxis\",\"id\":\"7ca36d43-9f1c-4602-c6f8-e30d7fb8cc4f\"},{\"type\":\"Grid\",\"id\":\"f6d71c74-7cfb-4362-c349-3a585482f586\"},{\"type\":\"Legend\",\"id\":\"3b6f28be-87f8-41e7-c1f7-4faf32e3fce3\"}],\"above\":[],\"tools\":[{\"type\":\"PanTool\",\"id\":\"351ac447-c818-4f0b-cf4b-2ef056d2039a\"},{\"type\":\"WheelZoomTool\",\"id\":\"68469f62-13e4-4d27-cda5-3d3e095dc96f\"},{\"type\":\"BoxZoomTool\",\"id\":\"5555784c-21ae-4b1e-cbe6-692d6625e94c\"},{\"type\":\"PreviewSaveTool\",\"id\":\"8e06e78b-290c-40ab-c0e2-f20a21239b49\"},{\"type\":\"ResizeTool\",\"id\":\"889063d5-6197-4825-c801-0943a9477086\"},{\"type\":\"ResetTool\",\"id\":\"003a2821-2281-4bb6-cb26-fed19c8bdf36\"}],\"doc\":null,\"right\":[],\"title\":\"comparing errors_DUC\",\"extra_x_ranges\":{},\"left\":[{\"type\":\"LinearAxis\",\"id\":\"7ca36d43-9f1c-4602-c6f8-e30d7fb8cc4f\"}],\"y_range\":{\"type\":\"DataRange1d\",\"id\":\"38328263-8a7c-46bb-c6f9-c44451eaef01\"},\"id\":\"d912b050-9b49-47dd-c708-a95a55d6bb2b\",\"extra_y_ranges\":{},\"tags\":[]}}];\n",
       "  Bokeh.load_models(all_models);\n",
       "  var model = Bokeh.Collections(modeltype).get(modelid);\n",
       "  $(\"#6f897ac0-ff26-4519-c5f3-08c00d0b87cd\").html(''); // clear any previous plot in window_id\n",
       "  var view = new model.default_view({model: model, el: \"#6f897ac0-ff26-4519-c5f3-08c00d0b87cd\"});\n",
       "    } else {\n",
       "  load_lib(bokehjs_url, function() {\n",
       "      console.log(\"Bokeh: BokehJS plotting callback run at\", new Date())\n",
       "      var modelid = \"d912b050-9b49-47dd-c708-a95a55d6bb2b\";\n",
       "      var modeltype = \"Plot\";\n",
       "      var all_models = [{\"id\":\"83cf6174-83d8-4560-c54d-eeb4c0590d89\",\"type\":\"ColumnDataSource\",\"attributes\":{\"data\":{\"y\":[47.551854179761,8.6559815629583,3.7335009428033,2.2354913052587,1.6017179970668,1.358684265661,1.0475591870941,1.0067043787974,0.86318877016551,0.7605279698303,0.67881835323696,0.6002514142049,0.59187094070815,0.48501990362455,0.49654305468259,0.43578462183113,0.39492981353446,0.36036036036036,0.34778965011523,0.35197988686361,0.36036036036036,0.31112507856694,0.25455688246386,0.29750680913472,0.32788602556044,0.26084223758642,0.27027027027027,0.23779593547035,0.25979467839933,0.24093861303164,0.22732034359941,0.20846427823172,0.20113136392206,0.23570081709617,0.23570081709617,0.21893987010266,0.2294154619736,0.18646553530274,0.20217892310916,0.19275089042531,0.18856065367693,0.15399120050283,0.15294364131573,0.15084852294155,0.18541797611565,0.17389482505762,0.18751309448984,0.14665828619317,0.13513513513514,0.15608631887702],\"x\":[1,2,3,4,5,6,7,8,9,10,11,12,13,14,15,16,17,18,19,20,21,22,23,24,25,26,27,28,29,30,31,32,33,34,35,36,37,38,39,40,41,42,43,44,45,46,47,48,49,50]},\"column_names\":[\"y\",\"x\"],\"cont_ranges\":{},\"discrete_ranges\":{},\"selected\":[],\"id\":\"83cf6174-83d8-4560-c54d-eeb4c0590d89\",\"doc\":null,\"tags\":[]}},{\"id\":\"c3e338b3-6705-46a9-c67d-b37158e63e27\",\"type\":\"Line\",\"attributes\":{\"fill_alpha\":{\"units\":\"data\",\"value\":0.2},\"line_alpha\":{\"units\":\"data\",\"value\":1},\"doc\":null,\"size\":{\"units\":\"screen\",\"value\":10},\"fill_color\":{\"value\":\"red\"},\"line_color\":{\"value\":\"red\"},\"x\":{\"units\":\"data\",\"field\":\"x\"},\"id\":\"c3e338b3-6705-46a9-c67d-b37158e63e27\",\"y\":{\"units\":\"data\",\"field\":\"y\"},\"tags\":[]}},{\"id\":\"84082131-4e92-4dae-cd99-46d07a0861bd\",\"type\":\"Line\",\"attributes\":{\"fill_alpha\":{\"units\":\"data\",\"value\":0.2},\"line_alpha\":{\"units\":\"data\",\"value\":1},\"doc\":null,\"size\":{\"units\":\"screen\",\"value\":10},\"fill_color\":{\"value\":\"red\"},\"line_color\":{\"value\":\"red\"},\"x\":{\"units\":\"data\",\"field\":\"x\"},\"id\":\"84082131-4e92-4dae-cd99-46d07a0861bd\",\"y\":{\"units\":\"data\",\"field\":\"y\"},\"tags\":[]}},{\"id\":\"3b2ab9be-6086-4d96-cd0b-29e168a85086\",\"type\":\"GlyphRenderer\",\"attributes\":{\"name\":null,\"nonselection_glyph\":{\"type\":\"Line\",\"id\":\"84082131-4e92-4dae-cd99-46d07a0861bd\"},\"doc\":null,\"server_data_source\":null,\"data_source\":{\"type\":\"ColumnDataSource\",\"id\":\"83cf6174-83d8-4560-c54d-eeb4c0590d89\"},\"glyph\":{\"type\":\"Line\",\"id\":\"c3e338b3-6705-46a9-c67d-b37158e63e27\"},\"selection_glyph\":null,\"id\":\"3b2ab9be-6086-4d96-cd0b-29e168a85086\",\"tags\":[]}},{\"id\":\"d5b747fd-daeb-4556-c591-a030e515e25b\",\"type\":\"ColumnDataSource\",\"attributes\":{\"data\":{\"y\":[17.364341085271,10.77519379845,8.9922480620155,7.2868217054264,7.3643410852713,6.2015503875969,5.8139534883721,5.5813953488372,4.8062015503876,4.4961240310078,4.5736434108527,2.8682170542636,3.4883720930233,4.7286821705426,2.8682170542636,3.3333333333333,3.7209302325581,2.7131782945736,2.4806201550388,3.7209302325581,3.0232558139535,2.5581395348837,2.4806201550388,2.2480620155039,2.1705426356589,2.015503875969,1.7054263565891,2.6356589147287,1.5503875968992,1.7829457364341,1.4728682170543,1.7829457364341,1.5503875968992,1.3953488372093,1.3953488372093,1.5503875968992,1.8604651162791,2.2480620155039,1.7054263565891,1.3953488372093,2.093023255814,2.2480620155039,1.3178294573643,1.5503875968992,1.3953488372093,1.5503875968992,1.7829457364341,1.5503875968992,1.5503875968992,1.937984496124],\"x\":[1,2,3,4,5,6,7,8,9,10,11,12,13,14,15,16,17,18,19,20,21,22,23,24,25,26,27,28,29,30,31,32,33,34,35,36,37,38,39,40,41,42,43,44,45,46,47,48,49,50]},\"column_names\":[\"y\",\"x\"],\"cont_ranges\":{},\"discrete_ranges\":{},\"selected\":[],\"id\":\"d5b747fd-daeb-4556-c591-a030e515e25b\",\"doc\":null,\"tags\":[]}},{\"id\":\"69164ef6-6c17-4715-c721-37c02b62bef0\",\"type\":\"Line\",\"attributes\":{\"fill_alpha\":{\"units\":\"data\",\"value\":0.2},\"line_alpha\":{\"units\":\"data\",\"value\":1},\"doc\":null,\"size\":{\"units\":\"screen\",\"value\":10},\"fill_color\":{\"value\":\"green\"},\"line_color\":{\"value\":\"green\"},\"x\":{\"units\":\"data\",\"field\":\"x\"},\"id\":\"69164ef6-6c17-4715-c721-37c02b62bef0\",\"y\":{\"units\":\"data\",\"field\":\"y\"},\"tags\":[]}},{\"id\":\"5ca795bb-e696-4f46-cf25-a9f5564f16c4\",\"type\":\"Line\",\"attributes\":{\"fill_alpha\":{\"units\":\"data\",\"value\":0.2},\"line_alpha\":{\"units\":\"data\",\"value\":1},\"doc\":null,\"size\":{\"units\":\"screen\",\"value\":10},\"fill_color\":{\"value\":\"green\"},\"line_color\":{\"value\":\"green\"},\"x\":{\"units\":\"data\",\"field\":\"x\"},\"id\":\"5ca795bb-e696-4f46-cf25-a9f5564f16c4\",\"y\":{\"units\":\"data\",\"field\":\"y\"},\"tags\":[]}},{\"id\":\"dead1311-a44a-466b-c6df-2e448c3ddfb8\",\"type\":\"GlyphRenderer\",\"attributes\":{\"name\":null,\"nonselection_glyph\":{\"type\":\"Line\",\"id\":\"5ca795bb-e696-4f46-cf25-a9f5564f16c4\"},\"doc\":null,\"server_data_source\":null,\"data_source\":{\"type\":\"ColumnDataSource\",\"id\":\"d5b747fd-daeb-4556-c591-a030e515e25b\"},\"glyph\":{\"type\":\"Line\",\"id\":\"69164ef6-6c17-4715-c721-37c02b62bef0\"},\"selection_glyph\":null,\"id\":\"dead1311-a44a-466b-c6df-2e448c3ddfb8\",\"tags\":[]}},{\"id\":\"68f2fcf8-32da-40e7-c0d0-7a2a27313279\",\"type\":\"ColumnDataSource\",\"attributes\":{\"data\":{\"y\":[3.769,3.769,3.769,3.769,3.769,3.769,3.769,3.769,3.769,3.769,3.769,3.769,3.769,3.769,3.769,3.769,3.769,3.769,3.769,3.769,3.769,3.769,3.769,3.769,3.769,3.769,3.769,3.769,3.769,3.769,3.769,3.769,3.769,3.769,3.769,3.769,3.769,3.769,3.769,3.769,3.769,3.769,3.769,3.769,3.769,3.769,3.769,3.769,3.769,3.769],\"x\":[1,2,3,4,5,6,7,8,9,10,11,12,13,14,15,16,17,18,19,20,21,22,23,24,25,26,27,28,29,30,31,32,33,34,35,36,37,38,39,40,41,42,43,44,45,46,47,48,49,50]},\"column_names\":[\"y\",\"x\"],\"cont_ranges\":{},\"discrete_ranges\":{},\"selected\":[],\"id\":\"68f2fcf8-32da-40e7-c0d0-7a2a27313279\",\"doc\":null,\"tags\":[]}},{\"id\":\"5a378944-7b3c-4520-c586-07b43985377b\",\"type\":\"Line\",\"attributes\":{\"fill_alpha\":{\"units\":\"data\",\"value\":0.2},\"line_alpha\":{\"units\":\"data\",\"value\":1},\"doc\":null,\"size\":{\"units\":\"screen\",\"value\":10},\"fill_color\":{\"value\":\"blue\"},\"line_color\":{\"value\":\"blue\"},\"x\":{\"units\":\"data\",\"field\":\"x\"},\"id\":\"5a378944-7b3c-4520-c586-07b43985377b\",\"y\":{\"units\":\"data\",\"field\":\"y\"},\"tags\":[]}},{\"id\":\"374867bb-f5ed-4c03-cc94-c879f6a8e7fd\",\"type\":\"Line\",\"attributes\":{\"fill_alpha\":{\"units\":\"data\",\"value\":0.2},\"line_alpha\":{\"units\":\"data\",\"value\":1},\"doc\":null,\"size\":{\"units\":\"screen\",\"value\":10},\"fill_color\":{\"value\":\"blue\"},\"line_color\":{\"value\":\"blue\"},\"x\":{\"units\":\"data\",\"field\":\"x\"},\"id\":\"374867bb-f5ed-4c03-cc94-c879f6a8e7fd\",\"y\":{\"units\":\"data\",\"field\":\"y\"},\"tags\":[]}},{\"id\":\"e25517cd-3e4d-4ec9-ce13-b140731388c2\",\"type\":\"GlyphRenderer\",\"attributes\":{\"name\":null,\"nonselection_glyph\":{\"type\":\"Line\",\"id\":\"374867bb-f5ed-4c03-cc94-c879f6a8e7fd\"},\"doc\":null,\"server_data_source\":null,\"data_source\":{\"type\":\"ColumnDataSource\",\"id\":\"68f2fcf8-32da-40e7-c0d0-7a2a27313279\"},\"glyph\":{\"type\":\"Line\",\"id\":\"5a378944-7b3c-4520-c586-07b43985377b\"},\"selection_glyph\":null,\"id\":\"e25517cd-3e4d-4ec9-ce13-b140731388c2\",\"tags\":[]}},{\"id\":\"621fe168-14ef-4273-c28b-8b87a11b42a0\",\"type\":\"DataRange1d\",\"attributes\":{\"sources\":[{\"columns\":[\"x\"],\"source\":{\"type\":\"ColumnDataSource\",\"id\":\"83cf6174-83d8-4560-c54d-eeb4c0590d89\"}},{\"columns\":[\"x\"],\"source\":{\"type\":\"ColumnDataSource\",\"id\":\"d5b747fd-daeb-4556-c591-a030e515e25b\"}},{\"columns\":[\"x\"],\"source\":{\"type\":\"ColumnDataSource\",\"id\":\"68f2fcf8-32da-40e7-c0d0-7a2a27313279\"}}],\"id\":\"621fe168-14ef-4273-c28b-8b87a11b42a0\",\"tags\":[],\"doc\":null}},{\"id\":\"38328263-8a7c-46bb-c6f9-c44451eaef01\",\"type\":\"DataRange1d\",\"attributes\":{\"sources\":[{\"columns\":[\"y\"],\"source\":{\"type\":\"ColumnDataSource\",\"id\":\"83cf6174-83d8-4560-c54d-eeb4c0590d89\"}},{\"columns\":[\"y\"],\"source\":{\"type\":\"ColumnDataSource\",\"id\":\"d5b747fd-daeb-4556-c591-a030e515e25b\"}},{\"columns\":[\"y\"],\"source\":{\"type\":\"ColumnDataSource\",\"id\":\"68f2fcf8-32da-40e7-c0d0-7a2a27313279\"}}],\"id\":\"38328263-8a7c-46bb-c6f9-c44451eaef01\",\"tags\":[],\"doc\":null}},{\"id\":\"77dff367-a034-4c70-cc05-f6348dfc3182\",\"type\":\"ToolEvents\",\"attributes\":{\"tags\":[],\"id\":\"77dff367-a034-4c70-cc05-f6348dfc3182\",\"geometries\":[],\"doc\":null}},{\"id\":\"720ce3f4-adbd-4759-c74d-6d1c03a579fa\",\"type\":\"BasicTickFormatter\",\"attributes\":{\"id\":\"720ce3f4-adbd-4759-c74d-6d1c03a579fa\",\"tags\":[],\"doc\":null}},{\"id\":\"1ca17190-8551-4779-c7cb-80a9f4e2a7df\",\"type\":\"BasicTicker\",\"attributes\":{\"num_minor_ticks\":5,\"id\":\"1ca17190-8551-4779-c7cb-80a9f4e2a7df\",\"tags\":[],\"doc\":null}},{\"id\":\"2f86fe8e-949c-4a13-caa9-3e5857977ae1\",\"type\":\"LinearAxis\",\"attributes\":{\"formatter\":{\"type\":\"BasicTickFormatter\",\"id\":\"720ce3f4-adbd-4759-c74d-6d1c03a579fa\"},\"ticker\":{\"type\":\"BasicTicker\",\"id\":\"1ca17190-8551-4779-c7cb-80a9f4e2a7df\"},\"plot\":{\"id\":\"d912b050-9b49-47dd-c708-a95a55d6bb2b\",\"type\":\"Plot\",\"subtype\":\"Figure\"},\"axis_label\":\"Epochs\",\"id\":\"2f86fe8e-949c-4a13-caa9-3e5857977ae1\",\"doc\":null,\"tags\":[]}},{\"id\":\"09dfa364-055c-4f2d-cfeb-3c05cb99a532\",\"type\":\"Grid\",\"attributes\":{\"dimension\":0,\"plot\":{\"id\":\"d912b050-9b49-47dd-c708-a95a55d6bb2b\",\"type\":\"Plot\",\"subtype\":\"Figure\"},\"ticker\":{\"type\":\"BasicTicker\",\"id\":\"1ca17190-8551-4779-c7cb-80a9f4e2a7df\"},\"id\":\"09dfa364-055c-4f2d-cfeb-3c05cb99a532\",\"doc\":null,\"tags\":[]}},{\"id\":\"852ef399-86af-4f40-cff6-91572f09d876\",\"type\":\"BasicTickFormatter\",\"attributes\":{\"id\":\"852ef399-86af-4f40-cff6-91572f09d876\",\"tags\":[],\"doc\":null}},{\"id\":\"c7484057-4e31-4147-c105-8a831a95b851\",\"type\":\"BasicTicker\",\"attributes\":{\"num_minor_ticks\":5,\"id\":\"c7484057-4e31-4147-c105-8a831a95b851\",\"tags\":[],\"doc\":null}},{\"id\":\"7ca36d43-9f1c-4602-c6f8-e30d7fb8cc4f\",\"type\":\"LinearAxis\",\"attributes\":{\"formatter\":{\"type\":\"BasicTickFormatter\",\"id\":\"852ef399-86af-4f40-cff6-91572f09d876\"},\"ticker\":{\"type\":\"BasicTicker\",\"id\":\"c7484057-4e31-4147-c105-8a831a95b851\"},\"plot\":{\"id\":\"d912b050-9b49-47dd-c708-a95a55d6bb2b\",\"type\":\"Plot\",\"subtype\":\"Figure\"},\"axis_label\":\"Percentage Error\",\"id\":\"7ca36d43-9f1c-4602-c6f8-e30d7fb8cc4f\",\"doc\":null,\"tags\":[]}},{\"id\":\"f6d71c74-7cfb-4362-c349-3a585482f586\",\"type\":\"Grid\",\"attributes\":{\"dimension\":1,\"plot\":{\"id\":\"d912b050-9b49-47dd-c708-a95a55d6bb2b\",\"type\":\"Plot\",\"subtype\":\"Figure\"},\"ticker\":{\"type\":\"BasicTicker\",\"id\":\"c7484057-4e31-4147-c105-8a831a95b851\"},\"id\":\"f6d71c74-7cfb-4362-c349-3a585482f586\",\"doc\":null,\"tags\":[]}},{\"id\":\"351ac447-c818-4f0b-cf4b-2ef056d2039a\",\"type\":\"PanTool\",\"attributes\":{\"plot\":{\"id\":\"d912b050-9b49-47dd-c708-a95a55d6bb2b\",\"type\":\"Plot\",\"subtype\":\"Figure\"},\"dimensions\":[\"width\",\"height\"],\"id\":\"351ac447-c818-4f0b-cf4b-2ef056d2039a\",\"doc\":null,\"tags\":[]}},{\"id\":\"68469f62-13e4-4d27-cda5-3d3e095dc96f\",\"type\":\"WheelZoomTool\",\"attributes\":{\"plot\":{\"id\":\"d912b050-9b49-47dd-c708-a95a55d6bb2b\",\"type\":\"Plot\",\"subtype\":\"Figure\"},\"dimensions\":[\"width\",\"height\"],\"id\":\"68469f62-13e4-4d27-cda5-3d3e095dc96f\",\"doc\":null,\"tags\":[]}},{\"id\":\"5555784c-21ae-4b1e-cbe6-692d6625e94c\",\"type\":\"BoxZoomTool\",\"attributes\":{\"plot\":{\"id\":\"d912b050-9b49-47dd-c708-a95a55d6bb2b\",\"type\":\"Plot\",\"subtype\":\"Figure\"},\"id\":\"5555784c-21ae-4b1e-cbe6-692d6625e94c\",\"tags\":[],\"doc\":null}},{\"id\":\"8e06e78b-290c-40ab-c0e2-f20a21239b49\",\"type\":\"PreviewSaveTool\",\"attributes\":{\"plot\":{\"id\":\"d912b050-9b49-47dd-c708-a95a55d6bb2b\",\"type\":\"Plot\",\"subtype\":\"Figure\"},\"id\":\"8e06e78b-290c-40ab-c0e2-f20a21239b49\",\"tags\":[],\"doc\":null}},{\"id\":\"889063d5-6197-4825-c801-0943a9477086\",\"type\":\"ResizeTool\",\"attributes\":{\"plot\":{\"id\":\"d912b050-9b49-47dd-c708-a95a55d6bb2b\",\"type\":\"Plot\",\"subtype\":\"Figure\"},\"id\":\"889063d5-6197-4825-c801-0943a9477086\",\"tags\":[],\"doc\":null}},{\"id\":\"003a2821-2281-4bb6-cb26-fed19c8bdf36\",\"type\":\"ResetTool\",\"attributes\":{\"plot\":{\"id\":\"d912b050-9b49-47dd-c708-a95a55d6bb2b\",\"type\":\"Plot\",\"subtype\":\"Figure\"},\"id\":\"003a2821-2281-4bb6-cb26-fed19c8bdf36\",\"tags\":[],\"doc\":null}},{\"id\":\"3b6f28be-87f8-41e7-c1f7-4faf32e3fce3\",\"type\":\"Legend\",\"attributes\":{\"plot\":{\"id\":\"d912b050-9b49-47dd-c708-a95a55d6bb2b\",\"type\":\"Plot\",\"subtype\":\"Figure\"},\"legends\":[[\"training error\",[{\"type\":\"GlyphRenderer\",\"id\":\"3b2ab9be-6086-4d96-cd0b-29e168a85086\"}]],[\"validation error\",[{\"type\":\"GlyphRenderer\",\"id\":\"dead1311-a44a-466b-c6df-2e448c3ddfb8\"}]],[\"validation error\",[{\"type\":\"GlyphRenderer\",\"id\":\"e25517cd-3e4d-4ec9-ce13-b140731388c2\"}]]],\"id\":\"3b6f28be-87f8-41e7-c1f7-4faf32e3fce3\",\"doc\":null,\"tags\":[]}},{\"id\":\"d912b050-9b49-47dd-c708-a95a55d6bb2b\",\"type\":\"Plot\",\"attributes\":{\"x_range\":{\"type\":\"DataRange1d\",\"id\":\"621fe168-14ef-4273-c28b-8b87a11b42a0\"},\"tool_events\":{\"type\":\"ToolEvents\",\"id\":\"77dff367-a034-4c70-cc05-f6348dfc3182\"},\"below\":[{\"type\":\"LinearAxis\",\"id\":\"2f86fe8e-949c-4a13-caa9-3e5857977ae1\"}],\"renderers\":[{\"type\":\"GlyphRenderer\",\"id\":\"3b2ab9be-6086-4d96-cd0b-29e168a85086\"},{\"type\":\"GlyphRenderer\",\"id\":\"dead1311-a44a-466b-c6df-2e448c3ddfb8\"},{\"type\":\"GlyphRenderer\",\"id\":\"e25517cd-3e4d-4ec9-ce13-b140731388c2\"},{\"type\":\"LinearAxis\",\"id\":\"2f86fe8e-949c-4a13-caa9-3e5857977ae1\"},{\"type\":\"Grid\",\"id\":\"09dfa364-055c-4f2d-cfeb-3c05cb99a532\"},{\"type\":\"LinearAxis\",\"id\":\"7ca36d43-9f1c-4602-c6f8-e30d7fb8cc4f\"},{\"type\":\"Grid\",\"id\":\"f6d71c74-7cfb-4362-c349-3a585482f586\"},{\"type\":\"Legend\",\"id\":\"3b6f28be-87f8-41e7-c1f7-4faf32e3fce3\"}],\"above\":[],\"tools\":[{\"type\":\"PanTool\",\"id\":\"351ac447-c818-4f0b-cf4b-2ef056d2039a\"},{\"type\":\"WheelZoomTool\",\"id\":\"68469f62-13e4-4d27-cda5-3d3e095dc96f\"},{\"type\":\"BoxZoomTool\",\"id\":\"5555784c-21ae-4b1e-cbe6-692d6625e94c\"},{\"type\":\"PreviewSaveTool\",\"id\":\"8e06e78b-290c-40ab-c0e2-f20a21239b49\"},{\"type\":\"ResizeTool\",\"id\":\"889063d5-6197-4825-c801-0943a9477086\"},{\"type\":\"ResetTool\",\"id\":\"003a2821-2281-4bb6-cb26-fed19c8bdf36\"}],\"doc\":null,\"right\":[],\"title\":\"comparing errors_DUC\",\"extra_x_ranges\":{},\"left\":[{\"type\":\"LinearAxis\",\"id\":\"7ca36d43-9f1c-4602-c6f8-e30d7fb8cc4f\"}],\"y_range\":{\"type\":\"DataRange1d\",\"id\":\"38328263-8a7c-46bb-c6f9-c44451eaef01\"},\"id\":\"d912b050-9b49-47dd-c708-a95a55d6bb2b\",\"extra_y_ranges\":{},\"tags\":[]}}];\n",
       "      Bokeh.load_models(all_models);\n",
       "      var model = Bokeh.Collections(modeltype).get(modelid);\n",
       "      $(\"#6f897ac0-ff26-4519-c5f3-08c00d0b87cd\").html(''); // clear any previous plot in window_id\n",
       "      var view = new model.default_view({model: model, el: \"#6f897ac0-ff26-4519-c5f3-08c00d0b87cd\"});\n",
       "  });\n",
       "    }\n",
       "});\n",
       "</script>\n",
       "<div class=\"plotdiv\" id=\"6f897ac0-ff26-4519-c5f3-08c00d0b87cd\"></div>\n"
      ]
     },
     "metadata": {},
     "output_type": "display_data"
    },
    {
     "data": {
      "text/plain": [
       "{\n",
       "  text : function: 0x40227758\n",
       "  _winid : 6f897ac0-ff26-4519-c5f3-08c00d0b87cd\n",
       "  quad : function: 0x402276a8\n",
       "  _docid : userdata: NULL\n",
       "  yaxis : function: 0x40227798\n",
       "  _legend : true\n",
       "  hover_tool : function: 0x402277d8\n",
       "  quiver : function: 0x40227270\n",
       "  triangle : function: 0x40227710\n",
       "  save : function: 0x402212a8\n",
       "  circle : function: 0x40227308\n",
       "  _yaxis : Percentage Error\n",
       "  draw : function: 0x402217b0\n",
       "  gscatter : function: 0x40227840\n",
       "  title : function: 0x402276e8\n",
       "  line : function: 0x40227660\n",
       "  segment : function: 0x40227860\n",
       "  histogram : function: 0x402276c8\n",
       "  _data : \n",
       "    {\n",
       "      1 : \n",
       "        {\n",
       "          fill_color : red\n",
       "          line_color : red\n",
       "          legend : training error\n",
       "          type : Line\n",
       "          y : DoubleTensor - size: 50\n",
       "          x : DoubleTensor - size: 50\n",
       "        }\n",
       "      2 : \n",
       "        {\n",
       "          fill_color : green\n",
       "          line_color : green\n",
       "          legend : validation error\n",
       "          type : Line\n",
       "          y : DoubleTensor - size: 50\n",
       "          x : DoubleTensor - size: 50\n",
       "        }\n",
       "      3 : \n",
       "        {\n",
       "          fill_color : blue\n",
       "          line_color : blue\n",
       "          legend : validation error\n",
       "          type : Line\n",
       "          y : DoubleTensor - size: 50\n",
       "          x : DoubleTensor - size: 50\n",
       "        }\n",
       "    }\n",
       "  _xaxis : Epochs\n",
       "  new : function: 0x40227230\n",
       "  _toAllModels : function: 0x402215c8\n",
       "  hist : function: 0x402276c8\n",
       "  _title : comparing errors_DUC\n",
       "  xaxis : function: 0x40227778\n",
       "  redraw : function: 0x402217f0\n",
       "  toTemplate : function: 0x40221728\n",
       "  legend : function: 0x402277b8\n",
       "  toHTML : function: 0x40221770\n",
       "}\n"
      ]
     },
     "execution_count": 15,
     "metadata": {},
     "output_type": "execute_result"
    }
   ],
   "source": [
    "Plot()\n",
    ":line(x_axis, training_error_DUC_vector,'red','training error')\n",
    ":line(x_axis, validation_error_DUC_vector,'green','validation error')\n",
    ":line(x_axis, test_error_DUC_vector,'blue','validation error')\n",
    ":xaxis('Epochs'):yaxis('Percentage Error')\n",
    ":legend(true):title('comparing errors_DUC'):draw()"
   ]
  },
  {
   "cell_type": "markdown",
   "metadata": {},
   "source": [
    "## Obseervations\n",
    "\n",
    "1. The training is still going down to near zero but validation error is still comparatively higher with both the datasets. \n",
    "2. Although, with the the upscaled dataset, the validation error did go down considerably but it did not make much changes to the test error which is a little bit awkward. (We need to visualize the model activations to understand what is going in here)\n",
    "3. The test accuracy for upscaled dataset is better than the normal dataset but not.\n",
    "\n",
    "## Conclusions\n",
    "\n",
    "1. We are still overfitting even after two layers of dropout which is not a very good signal and means the dataset is too small. (We need to perturb data randomly to make the dataset larger).\n",
    "2. We can also use the resampling strategy as given by my professor of the dataset which is: currentWeights = (C^(epoch−1)×initial_weights)+((1−C^(epoch−1))∗final_weights)"
   ]
  }
 ],
 "metadata": {
  "anaconda-cloud": {},
  "kernelspec": {
   "display_name": "iTorch",
   "language": "lua",
   "name": "itorch"
  },
  "language_info": {
   "name": "lua",
   "version": "5.1"
  }
 },
 "nbformat": 4,
 "nbformat_minor": 1
}
