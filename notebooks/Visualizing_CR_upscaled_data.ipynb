{
 "cells": [
  {
   "cell_type": "markdown",
   "metadata": {},
   "source": [
    "### Options used: -cuda -verbose -model cifar_regularization -dataset 'data_upscale_copy' -suffix 'cr_dataUpscaleCopy'"
   ]
  },
  {
   "cell_type": "code",
   "execution_count": 1,
   "metadata": {
    "collapsed": true
   },
   "outputs": [],
   "source": [
    "tnt = require 'torchnet'\n",
    "image = require 'image'\n",
    "Plot = require 'itorch.Plot'\n",
    "require 'cunn'\n",
    "require 'cudnn'"
   ]
  },
  {
   "cell_type": "code",
   "execution_count": 2,
   "metadata": {
    "collapsed": true
   },
   "outputs": [],
   "source": [
    "training_errors = torch.load('../logs/trainingErrors_cr_dataUpscaleCopy_1480570021.log')\n",
    "training_losses = torch.load('../logs/trainingLosses_cr_dataUpscaleCopy_1480570021.log')\n",
    "\n",
    "validation_errors = torch.load('../logs/validationErrors_cr_dataUpscaleCopy_1480570021.log')\n",
    "validation_losses = torch.load('../logs/validationLosses_cr_dataUpscaleCopy_1480570021.log')\n",
    "\n",
    "time = torch.load('../logs/timerscr_dataUpscaleCopy_1480570021.log')\n",
    "\n",
    "model = torch.load('../logs/model_cr_dataUpscaleCopy_1480570021.model')"
   ]
  },
  {
   "cell_type": "code",
   "execution_count": 3,
   "metadata": {
    "collapsed": true
   },
   "outputs": [],
   "source": [
    "training_errors_wo_upscale = torch.load('../logs/trainingErrors_cifar_reg_data_1480540360.log')\n",
    "validation_errors_wo_upscale = torch.load('../logs/validationErrors_cifar_reg_data_1480540360.log')"
   ]
  },
  {
   "cell_type": "code",
   "execution_count": 5,
   "metadata": {
    "collapsed": true
   },
   "outputs": [],
   "source": [
    "--From Kaggle\n",
    "test_accuracy = 0.96801\n",
    "test_accuracy_wo_upscale = 0.96880"
   ]
  },
  {
   "cell_type": "code",
   "execution_count": 6,
   "metadata": {
    "collapsed": true
   },
   "outputs": [],
   "source": [
    "test_error = (1 - test_accuracy) * 100\n",
    "test_error_wo_upscale = (1 - test_accuracy_wo_upscale) * 100"
   ]
  },
  {
   "cell_type": "code",
   "execution_count": 7,
   "metadata": {
    "collapsed": false
   },
   "outputs": [
    {
     "data": {
      "text/plain": [
       "  50\n",
       " 746\n",
       "[torch.LongStorage of size 2]\n",
       "\n",
       " 50\n",
       " 11\n",
       "[torch.LongStorage of size 2]\n",
       "\n"
      ]
     },
     "execution_count": 7,
     "metadata": {},
     "output_type": "execute_result"
    }
   ],
   "source": [
    "print(training_errors:size())\n",
    "print(validation_errors:size())"
   ]
  },
  {
   "cell_type": "code",
   "execution_count": 8,
   "metadata": {
    "collapsed": true
   },
   "outputs": [],
   "source": [
    "training_error_vector = training_errors[{{}, 746}]\n",
    "validation_error_vector = validation_errors[{{}, 11}]"
   ]
  },
  {
   "cell_type": "code",
   "execution_count": 9,
   "metadata": {
    "collapsed": false
   },
   "outputs": [
    {
     "data": {
      "text/plain": [
       "  50\n",
       " 297\n",
       "[torch.LongStorage of size 2]\n",
       "\n",
       " 50\n",
       " 11\n",
       "[torch.LongStorage of size 2]\n",
       "\n"
      ]
     },
     "execution_count": 9,
     "metadata": {},
     "output_type": "execute_result"
    }
   ],
   "source": [
    "print(training_errors_wo_upscale:size())\n",
    "print(validation_errors_wo_upscale:size())"
   ]
  },
  {
   "cell_type": "code",
   "execution_count": 10,
   "metadata": {
    "collapsed": true
   },
   "outputs": [],
   "source": [
    "training_error_wo_upscale_vector = training_errors_wo_upscale[{{}, 297}]\n",
    "validation_error_wo_upscale_vector = validation_errors_wo_upscale[{{}, 11}]"
   ]
  },
  {
   "cell_type": "code",
   "execution_count": 11,
   "metadata": {
    "collapsed": true
   },
   "outputs": [],
   "source": [
    "x_axis = torch.LongTensor(50)\n",
    "for i=1, x_axis:size()[1] do\n",
    "    x_axis[i] = i\n",
    "end\n",
    "\n",
    "test_error_vector = torch.DoubleTensor(50):fill(test_error)\n",
    "test_error_wo_upscale_vector = torch.DoubleTensor(50):fill(test_error_wo_upscale)"
   ]
  },
  {
   "cell_type": "code",
   "execution_count": 12,
   "metadata": {
    "collapsed": false
   },
   "outputs": [
    {
     "data": {
      "text/html": [
       "<script type=\"text/javascript\">\n",
       "$(function() {\n",
       "    if (typeof (window._bokeh_onload_callbacks) === \"undefined\"){\n",
       "  window._bokeh_onload_callbacks = [];\n",
       "    }\n",
       "    function load_lib(url, callback){\n",
       "  window._bokeh_onload_callbacks.push(callback);\n",
       "  if (window._bokeh_is_loading){\n",
       "      console.log(\"Bokeh: BokehJS is being loaded, scheduling callback at\", new Date());\n",
       "      return null;\n",
       "  }\n",
       "  console.log(\"Bokeh: BokehJS not loaded, scheduling load and callback at\", new Date());\n",
       "  window._bokeh_is_loading = true;\n",
       "  var s = document.createElement('script');\n",
       "  s.src = url;\n",
       "  s.async = true;\n",
       "  s.onreadystatechange = s.onload = function(){\n",
       "      Bokeh.embed.inject_css(\"https://cdn.pydata.org/bokeh-0.7.0.min.css\");\n",
       "      window._bokeh_onload_callbacks.forEach(function(callback){callback()});\n",
       "  };\n",
       "  s.onerror = function(){\n",
       "      console.warn(\"failed to load library \" + url);\n",
       "  };\n",
       "  document.getElementsByTagName(\"head\")[0].appendChild(s);\n",
       "    }\n",
       "\n",
       "    bokehjs_url = \"https://cdn.pydata.org/bokeh-0.7.0.min.js\"\n",
       "\n",
       "    var elt = document.getElementById(\"78b1c040-27e8-48fc-c89a-a00850c8fc2e\");\n",
       "    if(elt==null) {\n",
       "  console.log(\"Bokeh: ERROR: autoload.js configured with elementid '78b1c040-27e8-48fc-c89a-a00850c8fc2e'\"\n",
       "        + \"but no matching script tag was found. \")\n",
       "  return false;\n",
       "    }\n",
       "\n",
       "    if(typeof(Bokeh) !== \"undefined\") {\n",
       "  console.log(\"Bokeh: BokehJS loaded, going straight to plotting\");\n",
       "  var modelid = \"e4375cef-c895-46d0-c6a9-fab205519e72\";\n",
       "  var modeltype = \"Plot\";\n",
       "  var all_models = [{\"id\":\"648b2e60-e405-4c40-cc5b-fff61141078a\",\"type\":\"ColumnDataSource\",\"attributes\":{\"data\":{\"y\":[47.610517494238,7.11606955793,2.5927089880578,1.4927718416091,0.97423004399749,0.68719882673371,0.58453802639849,0.41797611565053,0.34674209092814,0.32055311125079,0.26712759270899,0.19694112717369,0.1770375026189,0.16237167399958,0.16132411481249,0.11104127383197,0.10894615545778,0.10370835952231,0.099518122773937,0.089042530902996,0.075424261470773,0.06180599203855,0.059710873664362,0.052377959354704,0.052377959354704,0.069138906348209,0.052377959354704,0.049235281793421,0.053425518541798,0.047140163419233,0.041902367483763,0.042949926670857,0.034569453174104,0.038759689922481,0.031426775612822,0.030379216425728,0.027236538864446,0.042949926670857,0.042949926670857,0.024093861303164,0.027236538864446,0.03352189398701,0.031426775612822,0.018856065367693,0.021998742928975,0.02304630211607,0.021998742928975,0.020951183741881,0.02304630211607,0.03352189398701],\"x\":[1,2,3,4,5,6,7,8,9,10,11,12,13,14,15,16,17,18,19,20,21,22,23,24,25,26,27,28,29,30,31,32,33,34,35,36,37,38,39,40,41,42,43,44,45,46,47,48,49,50]},\"column_names\":[\"y\",\"x\"],\"cont_ranges\":{},\"discrete_ranges\":{},\"selected\":[],\"id\":\"648b2e60-e405-4c40-cc5b-fff61141078a\",\"doc\":null,\"tags\":[]}},{\"id\":\"489e075e-014c-4ef5-ce93-ac111bcdfad3\",\"type\":\"Line\",\"attributes\":{\"fill_alpha\":{\"units\":\"data\",\"value\":0.2},\"line_alpha\":{\"units\":\"data\",\"value\":1},\"doc\":null,\"size\":{\"units\":\"screen\",\"value\":10},\"fill_color\":{\"value\":\"red\"},\"line_color\":{\"value\":\"red\"},\"x\":{\"units\":\"data\",\"field\":\"x\"},\"id\":\"489e075e-014c-4ef5-ce93-ac111bcdfad3\",\"y\":{\"units\":\"data\",\"field\":\"y\"},\"tags\":[]}},{\"id\":\"4323d333-fe4b-47ae-c720-624cf01f3eae\",\"type\":\"Line\",\"attributes\":{\"fill_alpha\":{\"units\":\"data\",\"value\":0.2},\"line_alpha\":{\"units\":\"data\",\"value\":1},\"doc\":null,\"size\":{\"units\":\"screen\",\"value\":10},\"fill_color\":{\"value\":\"red\"},\"line_color\":{\"value\":\"red\"},\"x\":{\"units\":\"data\",\"field\":\"x\"},\"id\":\"4323d333-fe4b-47ae-c720-624cf01f3eae\",\"y\":{\"units\":\"data\",\"field\":\"y\"},\"tags\":[]}},{\"id\":\"1aa638fb-0aeb-4e45-cebe-45eea8d8a6e4\",\"type\":\"GlyphRenderer\",\"attributes\":{\"name\":null,\"nonselection_glyph\":{\"type\":\"Line\",\"id\":\"4323d333-fe4b-47ae-c720-624cf01f3eae\"},\"doc\":null,\"server_data_source\":null,\"data_source\":{\"type\":\"ColumnDataSource\",\"id\":\"648b2e60-e405-4c40-cc5b-fff61141078a\"},\"glyph\":{\"type\":\"Line\",\"id\":\"489e075e-014c-4ef5-ce93-ac111bcdfad3\"},\"selection_glyph\":null,\"id\":\"1aa638fb-0aeb-4e45-cebe-45eea8d8a6e4\",\"tags\":[]}},{\"id\":\"a5b6de1d-d2b3-4e39-ce5e-d76a30234d47\",\"type\":\"ColumnDataSource\",\"attributes\":{\"data\":{\"y\":[14.651162790698,6.6666666666667,5.1162790697674,3.0232558139535,5.5813953488372,4.6511627906977,4.7286821705426,4.8062015503876,4.2635658914729,4.4186046511628,4.4961240310078,4.2635658914729,4.1860465116279,4.1860465116279,4.1860465116279,4.1860465116279,4.4186046511628,4.031007751938,4.1860465116279,4.7286821705426,4.031007751938,4.1085271317829,3.953488372093,4.1085271317829,4.4186046511628,4.1085271317829,4.1085271317829,4.4186046511628,3.953488372093,3.953488372093,4.2635658914729,4.2635658914729,4.3410852713178,4.1085271317829,4.1860465116279,4.1085271317829,4.3410852713178,4.1085271317829,4.1085271317829,4.1085271317829,4.031007751938,4.031007751938,4.1085271317829,4.1085271317829,3.953488372093,3.953488372093,4.031007751938,4.031007751938,3.953488372093,4.1085271317829],\"x\":[1,2,3,4,5,6,7,8,9,10,11,12,13,14,15,16,17,18,19,20,21,22,23,24,25,26,27,28,29,30,31,32,33,34,35,36,37,38,39,40,41,42,43,44,45,46,47,48,49,50]},\"column_names\":[\"y\",\"x\"],\"cont_ranges\":{},\"discrete_ranges\":{},\"selected\":[],\"id\":\"a5b6de1d-d2b3-4e39-ce5e-d76a30234d47\",\"doc\":null,\"tags\":[]}},{\"id\":\"d8769ff3-60c1-4be2-cbef-3376017c54e6\",\"type\":\"Line\",\"attributes\":{\"fill_alpha\":{\"units\":\"data\",\"value\":0.2},\"line_alpha\":{\"units\":\"data\",\"value\":1},\"doc\":null,\"size\":{\"units\":\"screen\",\"value\":10},\"fill_color\":{\"value\":\"green\"},\"line_color\":{\"value\":\"green\"},\"x\":{\"units\":\"data\",\"field\":\"x\"},\"id\":\"d8769ff3-60c1-4be2-cbef-3376017c54e6\",\"y\":{\"units\":\"data\",\"field\":\"y\"},\"tags\":[]}},{\"id\":\"5cff97a7-73c3-432a-c325-b8d3f3c8984a\",\"type\":\"Line\",\"attributes\":{\"fill_alpha\":{\"units\":\"data\",\"value\":0.2},\"line_alpha\":{\"units\":\"data\",\"value\":1},\"doc\":null,\"size\":{\"units\":\"screen\",\"value\":10},\"fill_color\":{\"value\":\"green\"},\"line_color\":{\"value\":\"green\"},\"x\":{\"units\":\"data\",\"field\":\"x\"},\"id\":\"5cff97a7-73c3-432a-c325-b8d3f3c8984a\",\"y\":{\"units\":\"data\",\"field\":\"y\"},\"tags\":[]}},{\"id\":\"8fece7b3-34f4-4a7d-ca00-df339eec392a\",\"type\":\"GlyphRenderer\",\"attributes\":{\"name\":null,\"nonselection_glyph\":{\"type\":\"Line\",\"id\":\"5cff97a7-73c3-432a-c325-b8d3f3c8984a\"},\"doc\":null,\"server_data_source\":null,\"data_source\":{\"type\":\"ColumnDataSource\",\"id\":\"a5b6de1d-d2b3-4e39-ce5e-d76a30234d47\"},\"glyph\":{\"type\":\"Line\",\"id\":\"d8769ff3-60c1-4be2-cbef-3376017c54e6\"},\"selection_glyph\":null,\"id\":\"8fece7b3-34f4-4a7d-ca00-df339eec392a\",\"tags\":[]}},{\"id\":\"51b3bdeb-9054-46ac-c68b-ae4a6f851315\",\"type\":\"ColumnDataSource\",\"attributes\":{\"data\":{\"y\":[3.199,3.199,3.199,3.199,3.199,3.199,3.199,3.199,3.199,3.199,3.199,3.199,3.199,3.199,3.199,3.199,3.199,3.199,3.199,3.199,3.199,3.199,3.199,3.199,3.199,3.199,3.199,3.199,3.199,3.199,3.199,3.199,3.199,3.199,3.199,3.199,3.199,3.199,3.199,3.199,3.199,3.199,3.199,3.199,3.199,3.199,3.199,3.199,3.199,3.199],\"x\":[1,2,3,4,5,6,7,8,9,10,11,12,13,14,15,16,17,18,19,20,21,22,23,24,25,26,27,28,29,30,31,32,33,34,35,36,37,38,39,40,41,42,43,44,45,46,47,48,49,50]},\"column_names\":[\"y\",\"x\"],\"cont_ranges\":{},\"discrete_ranges\":{},\"selected\":[],\"id\":\"51b3bdeb-9054-46ac-c68b-ae4a6f851315\",\"doc\":null,\"tags\":[]}},{\"id\":\"4e5f4750-9a88-4fca-cf9f-cd4ce3b7a203\",\"type\":\"Line\",\"attributes\":{\"fill_alpha\":{\"units\":\"data\",\"value\":0.2},\"line_alpha\":{\"units\":\"data\",\"value\":1},\"doc\":null,\"size\":{\"units\":\"screen\",\"value\":10},\"fill_color\":{\"value\":\"blue\"},\"line_color\":{\"value\":\"blue\"},\"x\":{\"units\":\"data\",\"field\":\"x\"},\"id\":\"4e5f4750-9a88-4fca-cf9f-cd4ce3b7a203\",\"y\":{\"units\":\"data\",\"field\":\"y\"},\"tags\":[]}},{\"id\":\"49fd7e0a-99e4-42c9-c230-569e198fd904\",\"type\":\"Line\",\"attributes\":{\"fill_alpha\":{\"units\":\"data\",\"value\":0.2},\"line_alpha\":{\"units\":\"data\",\"value\":1},\"doc\":null,\"size\":{\"units\":\"screen\",\"value\":10},\"fill_color\":{\"value\":\"blue\"},\"line_color\":{\"value\":\"blue\"},\"x\":{\"units\":\"data\",\"field\":\"x\"},\"id\":\"49fd7e0a-99e4-42c9-c230-569e198fd904\",\"y\":{\"units\":\"data\",\"field\":\"y\"},\"tags\":[]}},{\"id\":\"71c762a4-7339-4c46-cc34-a9cde1830045\",\"type\":\"GlyphRenderer\",\"attributes\":{\"name\":null,\"nonselection_glyph\":{\"type\":\"Line\",\"id\":\"49fd7e0a-99e4-42c9-c230-569e198fd904\"},\"doc\":null,\"server_data_source\":null,\"data_source\":{\"type\":\"ColumnDataSource\",\"id\":\"51b3bdeb-9054-46ac-c68b-ae4a6f851315\"},\"glyph\":{\"type\":\"Line\",\"id\":\"4e5f4750-9a88-4fca-cf9f-cd4ce3b7a203\"},\"selection_glyph\":null,\"id\":\"71c762a4-7339-4c46-cc34-a9cde1830045\",\"tags\":[]}},{\"id\":\"c743e878-2950-4f7e-cfc8-7835840a558a\",\"type\":\"DataRange1d\",\"attributes\":{\"sources\":[{\"columns\":[\"x\"],\"source\":{\"type\":\"ColumnDataSource\",\"id\":\"648b2e60-e405-4c40-cc5b-fff61141078a\"}},{\"columns\":[\"x\"],\"source\":{\"type\":\"ColumnDataSource\",\"id\":\"a5b6de1d-d2b3-4e39-ce5e-d76a30234d47\"}},{\"columns\":[\"x\"],\"source\":{\"type\":\"ColumnDataSource\",\"id\":\"51b3bdeb-9054-46ac-c68b-ae4a6f851315\"}}],\"id\":\"c743e878-2950-4f7e-cfc8-7835840a558a\",\"tags\":[],\"doc\":null}},{\"id\":\"80916607-4ec3-4111-c1ce-45221464354c\",\"type\":\"DataRange1d\",\"attributes\":{\"sources\":[{\"columns\":[\"y\"],\"source\":{\"type\":\"ColumnDataSource\",\"id\":\"648b2e60-e405-4c40-cc5b-fff61141078a\"}},{\"columns\":[\"y\"],\"source\":{\"type\":\"ColumnDataSource\",\"id\":\"a5b6de1d-d2b3-4e39-ce5e-d76a30234d47\"}},{\"columns\":[\"y\"],\"source\":{\"type\":\"ColumnDataSource\",\"id\":\"51b3bdeb-9054-46ac-c68b-ae4a6f851315\"}}],\"id\":\"80916607-4ec3-4111-c1ce-45221464354c\",\"tags\":[],\"doc\":null}},{\"id\":\"38bd9b0b-8d2c-432c-c33c-6353b5ddd497\",\"type\":\"ToolEvents\",\"attributes\":{\"tags\":[],\"id\":\"38bd9b0b-8d2c-432c-c33c-6353b5ddd497\",\"geometries\":[],\"doc\":null}},{\"id\":\"38e71985-908a-4f41-cfdb-a4f2127a8589\",\"type\":\"BasicTickFormatter\",\"attributes\":{\"id\":\"38e71985-908a-4f41-cfdb-a4f2127a8589\",\"tags\":[],\"doc\":null}},{\"id\":\"fb1c0a8c-3974-4ba7-cb54-d027d9fce98f\",\"type\":\"BasicTicker\",\"attributes\":{\"num_minor_ticks\":5,\"id\":\"fb1c0a8c-3974-4ba7-cb54-d027d9fce98f\",\"tags\":[],\"doc\":null}},{\"id\":\"3d45818a-b5bc-48e0-c871-129881dfe385\",\"type\":\"LinearAxis\",\"attributes\":{\"formatter\":{\"type\":\"BasicTickFormatter\",\"id\":\"38e71985-908a-4f41-cfdb-a4f2127a8589\"},\"ticker\":{\"type\":\"BasicTicker\",\"id\":\"fb1c0a8c-3974-4ba7-cb54-d027d9fce98f\"},\"plot\":{\"id\":\"e4375cef-c895-46d0-c6a9-fab205519e72\",\"type\":\"Plot\",\"subtype\":\"Figure\"},\"axis_label\":\"Epochs\",\"id\":\"3d45818a-b5bc-48e0-c871-129881dfe385\",\"doc\":null,\"tags\":[]}},{\"id\":\"bb20367c-45be-4187-c160-91a65e1b87ee\",\"type\":\"Grid\",\"attributes\":{\"dimension\":0,\"plot\":{\"id\":\"e4375cef-c895-46d0-c6a9-fab205519e72\",\"type\":\"Plot\",\"subtype\":\"Figure\"},\"ticker\":{\"type\":\"BasicTicker\",\"id\":\"fb1c0a8c-3974-4ba7-cb54-d027d9fce98f\"},\"id\":\"bb20367c-45be-4187-c160-91a65e1b87ee\",\"doc\":null,\"tags\":[]}},{\"id\":\"75deb4e1-de4b-4277-c2b6-03402a290f7d\",\"type\":\"BasicTickFormatter\",\"attributes\":{\"id\":\"75deb4e1-de4b-4277-c2b6-03402a290f7d\",\"tags\":[],\"doc\":null}},{\"id\":\"c77fc70e-c027-4bdd-cb74-9efe64b30c3f\",\"type\":\"BasicTicker\",\"attributes\":{\"num_minor_ticks\":5,\"id\":\"c77fc70e-c027-4bdd-cb74-9efe64b30c3f\",\"tags\":[],\"doc\":null}},{\"id\":\"6761a806-b16f-4d65-cdfb-ac8a32d052d3\",\"type\":\"LinearAxis\",\"attributes\":{\"formatter\":{\"type\":\"BasicTickFormatter\",\"id\":\"75deb4e1-de4b-4277-c2b6-03402a290f7d\"},\"ticker\":{\"type\":\"BasicTicker\",\"id\":\"c77fc70e-c027-4bdd-cb74-9efe64b30c3f\"},\"plot\":{\"id\":\"e4375cef-c895-46d0-c6a9-fab205519e72\",\"type\":\"Plot\",\"subtype\":\"Figure\"},\"axis_label\":\"Percentage Error\",\"id\":\"6761a806-b16f-4d65-cdfb-ac8a32d052d3\",\"doc\":null,\"tags\":[]}},{\"id\":\"94195310-aa19-4ca4-ccff-ddd71d30ae2e\",\"type\":\"Grid\",\"attributes\":{\"dimension\":1,\"plot\":{\"id\":\"e4375cef-c895-46d0-c6a9-fab205519e72\",\"type\":\"Plot\",\"subtype\":\"Figure\"},\"ticker\":{\"type\":\"BasicTicker\",\"id\":\"c77fc70e-c027-4bdd-cb74-9efe64b30c3f\"},\"id\":\"94195310-aa19-4ca4-ccff-ddd71d30ae2e\",\"doc\":null,\"tags\":[]}},{\"id\":\"1a51a132-5544-45d0-c517-c7413397c262\",\"type\":\"PanTool\",\"attributes\":{\"plot\":{\"id\":\"e4375cef-c895-46d0-c6a9-fab205519e72\",\"type\":\"Plot\",\"subtype\":\"Figure\"},\"dimensions\":[\"width\",\"height\"],\"id\":\"1a51a132-5544-45d0-c517-c7413397c262\",\"doc\":null,\"tags\":[]}},{\"id\":\"bb1614d0-945b-49bc-c939-478134e839e5\",\"type\":\"WheelZoomTool\",\"attributes\":{\"plot\":{\"id\":\"e4375cef-c895-46d0-c6a9-fab205519e72\",\"type\":\"Plot\",\"subtype\":\"Figure\"},\"dimensions\":[\"width\",\"height\"],\"id\":\"bb1614d0-945b-49bc-c939-478134e839e5\",\"doc\":null,\"tags\":[]}},{\"id\":\"ba89f1af-8906-4b2e-cb32-cc24feeefc78\",\"type\":\"BoxZoomTool\",\"attributes\":{\"plot\":{\"id\":\"e4375cef-c895-46d0-c6a9-fab205519e72\",\"type\":\"Plot\",\"subtype\":\"Figure\"},\"id\":\"ba89f1af-8906-4b2e-cb32-cc24feeefc78\",\"tags\":[],\"doc\":null}},{\"id\":\"6a3bde1f-0946-44d8-c4ae-464b440e8a88\",\"type\":\"PreviewSaveTool\",\"attributes\":{\"plot\":{\"id\":\"e4375cef-c895-46d0-c6a9-fab205519e72\",\"type\":\"Plot\",\"subtype\":\"Figure\"},\"id\":\"6a3bde1f-0946-44d8-c4ae-464b440e8a88\",\"tags\":[],\"doc\":null}},{\"id\":\"c2b03050-7182-4818-c81f-517947bf8a35\",\"type\":\"ResizeTool\",\"attributes\":{\"plot\":{\"id\":\"e4375cef-c895-46d0-c6a9-fab205519e72\",\"type\":\"Plot\",\"subtype\":\"Figure\"},\"id\":\"c2b03050-7182-4818-c81f-517947bf8a35\",\"tags\":[],\"doc\":null}},{\"id\":\"70af5f75-a406-4cb3-ccd2-c2d320ffe43a\",\"type\":\"ResetTool\",\"attributes\":{\"plot\":{\"id\":\"e4375cef-c895-46d0-c6a9-fab205519e72\",\"type\":\"Plot\",\"subtype\":\"Figure\"},\"id\":\"70af5f75-a406-4cb3-ccd2-c2d320ffe43a\",\"tags\":[],\"doc\":null}},{\"id\":\"d8f84276-0c60-46a2-c679-e3d3417d7849\",\"type\":\"Legend\",\"attributes\":{\"plot\":{\"id\":\"e4375cef-c895-46d0-c6a9-fab205519e72\",\"type\":\"Plot\",\"subtype\":\"Figure\"},\"legends\":[[\"training error\",[{\"type\":\"GlyphRenderer\",\"id\":\"1aa638fb-0aeb-4e45-cebe-45eea8d8a6e4\"}]],[\"validation error\",[{\"type\":\"GlyphRenderer\",\"id\":\"8fece7b3-34f4-4a7d-ca00-df339eec392a\"}]],[\"validation error\",[{\"type\":\"GlyphRenderer\",\"id\":\"71c762a4-7339-4c46-cc34-a9cde1830045\"}]]],\"id\":\"d8f84276-0c60-46a2-c679-e3d3417d7849\",\"doc\":null,\"tags\":[]}},{\"id\":\"e4375cef-c895-46d0-c6a9-fab205519e72\",\"type\":\"Plot\",\"attributes\":{\"x_range\":{\"type\":\"DataRange1d\",\"id\":\"c743e878-2950-4f7e-cfc8-7835840a558a\"},\"tool_events\":{\"type\":\"ToolEvents\",\"id\":\"38bd9b0b-8d2c-432c-c33c-6353b5ddd497\"},\"below\":[{\"type\":\"LinearAxis\",\"id\":\"3d45818a-b5bc-48e0-c871-129881dfe385\"}],\"renderers\":[{\"type\":\"GlyphRenderer\",\"id\":\"1aa638fb-0aeb-4e45-cebe-45eea8d8a6e4\"},{\"type\":\"GlyphRenderer\",\"id\":\"8fece7b3-34f4-4a7d-ca00-df339eec392a\"},{\"type\":\"GlyphRenderer\",\"id\":\"71c762a4-7339-4c46-cc34-a9cde1830045\"},{\"type\":\"LinearAxis\",\"id\":\"3d45818a-b5bc-48e0-c871-129881dfe385\"},{\"type\":\"Grid\",\"id\":\"bb20367c-45be-4187-c160-91a65e1b87ee\"},{\"type\":\"LinearAxis\",\"id\":\"6761a806-b16f-4d65-cdfb-ac8a32d052d3\"},{\"type\":\"Grid\",\"id\":\"94195310-aa19-4ca4-ccff-ddd71d30ae2e\"},{\"type\":\"Legend\",\"id\":\"d8f84276-0c60-46a2-c679-e3d3417d7849\"}],\"above\":[],\"tools\":[{\"type\":\"PanTool\",\"id\":\"1a51a132-5544-45d0-c517-c7413397c262\"},{\"type\":\"WheelZoomTool\",\"id\":\"bb1614d0-945b-49bc-c939-478134e839e5\"},{\"type\":\"BoxZoomTool\",\"id\":\"ba89f1af-8906-4b2e-cb32-cc24feeefc78\"},{\"type\":\"PreviewSaveTool\",\"id\":\"6a3bde1f-0946-44d8-c4ae-464b440e8a88\"},{\"type\":\"ResizeTool\",\"id\":\"c2b03050-7182-4818-c81f-517947bf8a35\"},{\"type\":\"ResetTool\",\"id\":\"70af5f75-a406-4cb3-ccd2-c2d320ffe43a\"}],\"doc\":null,\"right\":[],\"title\":\"comparing errors\",\"extra_x_ranges\":{},\"left\":[{\"type\":\"LinearAxis\",\"id\":\"6761a806-b16f-4d65-cdfb-ac8a32d052d3\"}],\"y_range\":{\"type\":\"DataRange1d\",\"id\":\"80916607-4ec3-4111-c1ce-45221464354c\"},\"id\":\"e4375cef-c895-46d0-c6a9-fab205519e72\",\"extra_y_ranges\":{},\"tags\":[]}}];\n",
       "  Bokeh.load_models(all_models);\n",
       "  var model = Bokeh.Collections(modeltype).get(modelid);\n",
       "  $(\"#78b1c040-27e8-48fc-c89a-a00850c8fc2e\").html(''); // clear any previous plot in window_id\n",
       "  var view = new model.default_view({model: model, el: \"#78b1c040-27e8-48fc-c89a-a00850c8fc2e\"});\n",
       "    } else {\n",
       "  load_lib(bokehjs_url, function() {\n",
       "      console.log(\"Bokeh: BokehJS plotting callback run at\", new Date())\n",
       "      var modelid = \"e4375cef-c895-46d0-c6a9-fab205519e72\";\n",
       "      var modeltype = \"Plot\";\n",
       "      var all_models = [{\"id\":\"648b2e60-e405-4c40-cc5b-fff61141078a\",\"type\":\"ColumnDataSource\",\"attributes\":{\"data\":{\"y\":[47.610517494238,7.11606955793,2.5927089880578,1.4927718416091,0.97423004399749,0.68719882673371,0.58453802639849,0.41797611565053,0.34674209092814,0.32055311125079,0.26712759270899,0.19694112717369,0.1770375026189,0.16237167399958,0.16132411481249,0.11104127383197,0.10894615545778,0.10370835952231,0.099518122773937,0.089042530902996,0.075424261470773,0.06180599203855,0.059710873664362,0.052377959354704,0.052377959354704,0.069138906348209,0.052377959354704,0.049235281793421,0.053425518541798,0.047140163419233,0.041902367483763,0.042949926670857,0.034569453174104,0.038759689922481,0.031426775612822,0.030379216425728,0.027236538864446,0.042949926670857,0.042949926670857,0.024093861303164,0.027236538864446,0.03352189398701,0.031426775612822,0.018856065367693,0.021998742928975,0.02304630211607,0.021998742928975,0.020951183741881,0.02304630211607,0.03352189398701],\"x\":[1,2,3,4,5,6,7,8,9,10,11,12,13,14,15,16,17,18,19,20,21,22,23,24,25,26,27,28,29,30,31,32,33,34,35,36,37,38,39,40,41,42,43,44,45,46,47,48,49,50]},\"column_names\":[\"y\",\"x\"],\"cont_ranges\":{},\"discrete_ranges\":{},\"selected\":[],\"id\":\"648b2e60-e405-4c40-cc5b-fff61141078a\",\"doc\":null,\"tags\":[]}},{\"id\":\"489e075e-014c-4ef5-ce93-ac111bcdfad3\",\"type\":\"Line\",\"attributes\":{\"fill_alpha\":{\"units\":\"data\",\"value\":0.2},\"line_alpha\":{\"units\":\"data\",\"value\":1},\"doc\":null,\"size\":{\"units\":\"screen\",\"value\":10},\"fill_color\":{\"value\":\"red\"},\"line_color\":{\"value\":\"red\"},\"x\":{\"units\":\"data\",\"field\":\"x\"},\"id\":\"489e075e-014c-4ef5-ce93-ac111bcdfad3\",\"y\":{\"units\":\"data\",\"field\":\"y\"},\"tags\":[]}},{\"id\":\"4323d333-fe4b-47ae-c720-624cf01f3eae\",\"type\":\"Line\",\"attributes\":{\"fill_alpha\":{\"units\":\"data\",\"value\":0.2},\"line_alpha\":{\"units\":\"data\",\"value\":1},\"doc\":null,\"size\":{\"units\":\"screen\",\"value\":10},\"fill_color\":{\"value\":\"red\"},\"line_color\":{\"value\":\"red\"},\"x\":{\"units\":\"data\",\"field\":\"x\"},\"id\":\"4323d333-fe4b-47ae-c720-624cf01f3eae\",\"y\":{\"units\":\"data\",\"field\":\"y\"},\"tags\":[]}},{\"id\":\"1aa638fb-0aeb-4e45-cebe-45eea8d8a6e4\",\"type\":\"GlyphRenderer\",\"attributes\":{\"name\":null,\"nonselection_glyph\":{\"type\":\"Line\",\"id\":\"4323d333-fe4b-47ae-c720-624cf01f3eae\"},\"doc\":null,\"server_data_source\":null,\"data_source\":{\"type\":\"ColumnDataSource\",\"id\":\"648b2e60-e405-4c40-cc5b-fff61141078a\"},\"glyph\":{\"type\":\"Line\",\"id\":\"489e075e-014c-4ef5-ce93-ac111bcdfad3\"},\"selection_glyph\":null,\"id\":\"1aa638fb-0aeb-4e45-cebe-45eea8d8a6e4\",\"tags\":[]}},{\"id\":\"a5b6de1d-d2b3-4e39-ce5e-d76a30234d47\",\"type\":\"ColumnDataSource\",\"attributes\":{\"data\":{\"y\":[14.651162790698,6.6666666666667,5.1162790697674,3.0232558139535,5.5813953488372,4.6511627906977,4.7286821705426,4.8062015503876,4.2635658914729,4.4186046511628,4.4961240310078,4.2635658914729,4.1860465116279,4.1860465116279,4.1860465116279,4.1860465116279,4.4186046511628,4.031007751938,4.1860465116279,4.7286821705426,4.031007751938,4.1085271317829,3.953488372093,4.1085271317829,4.4186046511628,4.1085271317829,4.1085271317829,4.4186046511628,3.953488372093,3.953488372093,4.2635658914729,4.2635658914729,4.3410852713178,4.1085271317829,4.1860465116279,4.1085271317829,4.3410852713178,4.1085271317829,4.1085271317829,4.1085271317829,4.031007751938,4.031007751938,4.1085271317829,4.1085271317829,3.953488372093,3.953488372093,4.031007751938,4.031007751938,3.953488372093,4.1085271317829],\"x\":[1,2,3,4,5,6,7,8,9,10,11,12,13,14,15,16,17,18,19,20,21,22,23,24,25,26,27,28,29,30,31,32,33,34,35,36,37,38,39,40,41,42,43,44,45,46,47,48,49,50]},\"column_names\":[\"y\",\"x\"],\"cont_ranges\":{},\"discrete_ranges\":{},\"selected\":[],\"id\":\"a5b6de1d-d2b3-4e39-ce5e-d76a30234d47\",\"doc\":null,\"tags\":[]}},{\"id\":\"d8769ff3-60c1-4be2-cbef-3376017c54e6\",\"type\":\"Line\",\"attributes\":{\"fill_alpha\":{\"units\":\"data\",\"value\":0.2},\"line_alpha\":{\"units\":\"data\",\"value\":1},\"doc\":null,\"size\":{\"units\":\"screen\",\"value\":10},\"fill_color\":{\"value\":\"green\"},\"line_color\":{\"value\":\"green\"},\"x\":{\"units\":\"data\",\"field\":\"x\"},\"id\":\"d8769ff3-60c1-4be2-cbef-3376017c54e6\",\"y\":{\"units\":\"data\",\"field\":\"y\"},\"tags\":[]}},{\"id\":\"5cff97a7-73c3-432a-c325-b8d3f3c8984a\",\"type\":\"Line\",\"attributes\":{\"fill_alpha\":{\"units\":\"data\",\"value\":0.2},\"line_alpha\":{\"units\":\"data\",\"value\":1},\"doc\":null,\"size\":{\"units\":\"screen\",\"value\":10},\"fill_color\":{\"value\":\"green\"},\"line_color\":{\"value\":\"green\"},\"x\":{\"units\":\"data\",\"field\":\"x\"},\"id\":\"5cff97a7-73c3-432a-c325-b8d3f3c8984a\",\"y\":{\"units\":\"data\",\"field\":\"y\"},\"tags\":[]}},{\"id\":\"8fece7b3-34f4-4a7d-ca00-df339eec392a\",\"type\":\"GlyphRenderer\",\"attributes\":{\"name\":null,\"nonselection_glyph\":{\"type\":\"Line\",\"id\":\"5cff97a7-73c3-432a-c325-b8d3f3c8984a\"},\"doc\":null,\"server_data_source\":null,\"data_source\":{\"type\":\"ColumnDataSource\",\"id\":\"a5b6de1d-d2b3-4e39-ce5e-d76a30234d47\"},\"glyph\":{\"type\":\"Line\",\"id\":\"d8769ff3-60c1-4be2-cbef-3376017c54e6\"},\"selection_glyph\":null,\"id\":\"8fece7b3-34f4-4a7d-ca00-df339eec392a\",\"tags\":[]}},{\"id\":\"51b3bdeb-9054-46ac-c68b-ae4a6f851315\",\"type\":\"ColumnDataSource\",\"attributes\":{\"data\":{\"y\":[3.199,3.199,3.199,3.199,3.199,3.199,3.199,3.199,3.199,3.199,3.199,3.199,3.199,3.199,3.199,3.199,3.199,3.199,3.199,3.199,3.199,3.199,3.199,3.199,3.199,3.199,3.199,3.199,3.199,3.199,3.199,3.199,3.199,3.199,3.199,3.199,3.199,3.199,3.199,3.199,3.199,3.199,3.199,3.199,3.199,3.199,3.199,3.199,3.199,3.199],\"x\":[1,2,3,4,5,6,7,8,9,10,11,12,13,14,15,16,17,18,19,20,21,22,23,24,25,26,27,28,29,30,31,32,33,34,35,36,37,38,39,40,41,42,43,44,45,46,47,48,49,50]},\"column_names\":[\"y\",\"x\"],\"cont_ranges\":{},\"discrete_ranges\":{},\"selected\":[],\"id\":\"51b3bdeb-9054-46ac-c68b-ae4a6f851315\",\"doc\":null,\"tags\":[]}},{\"id\":\"4e5f4750-9a88-4fca-cf9f-cd4ce3b7a203\",\"type\":\"Line\",\"attributes\":{\"fill_alpha\":{\"units\":\"data\",\"value\":0.2},\"line_alpha\":{\"units\":\"data\",\"value\":1},\"doc\":null,\"size\":{\"units\":\"screen\",\"value\":10},\"fill_color\":{\"value\":\"blue\"},\"line_color\":{\"value\":\"blue\"},\"x\":{\"units\":\"data\",\"field\":\"x\"},\"id\":\"4e5f4750-9a88-4fca-cf9f-cd4ce3b7a203\",\"y\":{\"units\":\"data\",\"field\":\"y\"},\"tags\":[]}},{\"id\":\"49fd7e0a-99e4-42c9-c230-569e198fd904\",\"type\":\"Line\",\"attributes\":{\"fill_alpha\":{\"units\":\"data\",\"value\":0.2},\"line_alpha\":{\"units\":\"data\",\"value\":1},\"doc\":null,\"size\":{\"units\":\"screen\",\"value\":10},\"fill_color\":{\"value\":\"blue\"},\"line_color\":{\"value\":\"blue\"},\"x\":{\"units\":\"data\",\"field\":\"x\"},\"id\":\"49fd7e0a-99e4-42c9-c230-569e198fd904\",\"y\":{\"units\":\"data\",\"field\":\"y\"},\"tags\":[]}},{\"id\":\"71c762a4-7339-4c46-cc34-a9cde1830045\",\"type\":\"GlyphRenderer\",\"attributes\":{\"name\":null,\"nonselection_glyph\":{\"type\":\"Line\",\"id\":\"49fd7e0a-99e4-42c9-c230-569e198fd904\"},\"doc\":null,\"server_data_source\":null,\"data_source\":{\"type\":\"ColumnDataSource\",\"id\":\"51b3bdeb-9054-46ac-c68b-ae4a6f851315\"},\"glyph\":{\"type\":\"Line\",\"id\":\"4e5f4750-9a88-4fca-cf9f-cd4ce3b7a203\"},\"selection_glyph\":null,\"id\":\"71c762a4-7339-4c46-cc34-a9cde1830045\",\"tags\":[]}},{\"id\":\"c743e878-2950-4f7e-cfc8-7835840a558a\",\"type\":\"DataRange1d\",\"attributes\":{\"sources\":[{\"columns\":[\"x\"],\"source\":{\"type\":\"ColumnDataSource\",\"id\":\"648b2e60-e405-4c40-cc5b-fff61141078a\"}},{\"columns\":[\"x\"],\"source\":{\"type\":\"ColumnDataSource\",\"id\":\"a5b6de1d-d2b3-4e39-ce5e-d76a30234d47\"}},{\"columns\":[\"x\"],\"source\":{\"type\":\"ColumnDataSource\",\"id\":\"51b3bdeb-9054-46ac-c68b-ae4a6f851315\"}}],\"id\":\"c743e878-2950-4f7e-cfc8-7835840a558a\",\"tags\":[],\"doc\":null}},{\"id\":\"80916607-4ec3-4111-c1ce-45221464354c\",\"type\":\"DataRange1d\",\"attributes\":{\"sources\":[{\"columns\":[\"y\"],\"source\":{\"type\":\"ColumnDataSource\",\"id\":\"648b2e60-e405-4c40-cc5b-fff61141078a\"}},{\"columns\":[\"y\"],\"source\":{\"type\":\"ColumnDataSource\",\"id\":\"a5b6de1d-d2b3-4e39-ce5e-d76a30234d47\"}},{\"columns\":[\"y\"],\"source\":{\"type\":\"ColumnDataSource\",\"id\":\"51b3bdeb-9054-46ac-c68b-ae4a6f851315\"}}],\"id\":\"80916607-4ec3-4111-c1ce-45221464354c\",\"tags\":[],\"doc\":null}},{\"id\":\"38bd9b0b-8d2c-432c-c33c-6353b5ddd497\",\"type\":\"ToolEvents\",\"attributes\":{\"tags\":[],\"id\":\"38bd9b0b-8d2c-432c-c33c-6353b5ddd497\",\"geometries\":[],\"doc\":null}},{\"id\":\"38e71985-908a-4f41-cfdb-a4f2127a8589\",\"type\":\"BasicTickFormatter\",\"attributes\":{\"id\":\"38e71985-908a-4f41-cfdb-a4f2127a8589\",\"tags\":[],\"doc\":null}},{\"id\":\"fb1c0a8c-3974-4ba7-cb54-d027d9fce98f\",\"type\":\"BasicTicker\",\"attributes\":{\"num_minor_ticks\":5,\"id\":\"fb1c0a8c-3974-4ba7-cb54-d027d9fce98f\",\"tags\":[],\"doc\":null}},{\"id\":\"3d45818a-b5bc-48e0-c871-129881dfe385\",\"type\":\"LinearAxis\",\"attributes\":{\"formatter\":{\"type\":\"BasicTickFormatter\",\"id\":\"38e71985-908a-4f41-cfdb-a4f2127a8589\"},\"ticker\":{\"type\":\"BasicTicker\",\"id\":\"fb1c0a8c-3974-4ba7-cb54-d027d9fce98f\"},\"plot\":{\"id\":\"e4375cef-c895-46d0-c6a9-fab205519e72\",\"type\":\"Plot\",\"subtype\":\"Figure\"},\"axis_label\":\"Epochs\",\"id\":\"3d45818a-b5bc-48e0-c871-129881dfe385\",\"doc\":null,\"tags\":[]}},{\"id\":\"bb20367c-45be-4187-c160-91a65e1b87ee\",\"type\":\"Grid\",\"attributes\":{\"dimension\":0,\"plot\":{\"id\":\"e4375cef-c895-46d0-c6a9-fab205519e72\",\"type\":\"Plot\",\"subtype\":\"Figure\"},\"ticker\":{\"type\":\"BasicTicker\",\"id\":\"fb1c0a8c-3974-4ba7-cb54-d027d9fce98f\"},\"id\":\"bb20367c-45be-4187-c160-91a65e1b87ee\",\"doc\":null,\"tags\":[]}},{\"id\":\"75deb4e1-de4b-4277-c2b6-03402a290f7d\",\"type\":\"BasicTickFormatter\",\"attributes\":{\"id\":\"75deb4e1-de4b-4277-c2b6-03402a290f7d\",\"tags\":[],\"doc\":null}},{\"id\":\"c77fc70e-c027-4bdd-cb74-9efe64b30c3f\",\"type\":\"BasicTicker\",\"attributes\":{\"num_minor_ticks\":5,\"id\":\"c77fc70e-c027-4bdd-cb74-9efe64b30c3f\",\"tags\":[],\"doc\":null}},{\"id\":\"6761a806-b16f-4d65-cdfb-ac8a32d052d3\",\"type\":\"LinearAxis\",\"attributes\":{\"formatter\":{\"type\":\"BasicTickFormatter\",\"id\":\"75deb4e1-de4b-4277-c2b6-03402a290f7d\"},\"ticker\":{\"type\":\"BasicTicker\",\"id\":\"c77fc70e-c027-4bdd-cb74-9efe64b30c3f\"},\"plot\":{\"id\":\"e4375cef-c895-46d0-c6a9-fab205519e72\",\"type\":\"Plot\",\"subtype\":\"Figure\"},\"axis_label\":\"Percentage Error\",\"id\":\"6761a806-b16f-4d65-cdfb-ac8a32d052d3\",\"doc\":null,\"tags\":[]}},{\"id\":\"94195310-aa19-4ca4-ccff-ddd71d30ae2e\",\"type\":\"Grid\",\"attributes\":{\"dimension\":1,\"plot\":{\"id\":\"e4375cef-c895-46d0-c6a9-fab205519e72\",\"type\":\"Plot\",\"subtype\":\"Figure\"},\"ticker\":{\"type\":\"BasicTicker\",\"id\":\"c77fc70e-c027-4bdd-cb74-9efe64b30c3f\"},\"id\":\"94195310-aa19-4ca4-ccff-ddd71d30ae2e\",\"doc\":null,\"tags\":[]}},{\"id\":\"1a51a132-5544-45d0-c517-c7413397c262\",\"type\":\"PanTool\",\"attributes\":{\"plot\":{\"id\":\"e4375cef-c895-46d0-c6a9-fab205519e72\",\"type\":\"Plot\",\"subtype\":\"Figure\"},\"dimensions\":[\"width\",\"height\"],\"id\":\"1a51a132-5544-45d0-c517-c7413397c262\",\"doc\":null,\"tags\":[]}},{\"id\":\"bb1614d0-945b-49bc-c939-478134e839e5\",\"type\":\"WheelZoomTool\",\"attributes\":{\"plot\":{\"id\":\"e4375cef-c895-46d0-c6a9-fab205519e72\",\"type\":\"Plot\",\"subtype\":\"Figure\"},\"dimensions\":[\"width\",\"height\"],\"id\":\"bb1614d0-945b-49bc-c939-478134e839e5\",\"doc\":null,\"tags\":[]}},{\"id\":\"ba89f1af-8906-4b2e-cb32-cc24feeefc78\",\"type\":\"BoxZoomTool\",\"attributes\":{\"plot\":{\"id\":\"e4375cef-c895-46d0-c6a9-fab205519e72\",\"type\":\"Plot\",\"subtype\":\"Figure\"},\"id\":\"ba89f1af-8906-4b2e-cb32-cc24feeefc78\",\"tags\":[],\"doc\":null}},{\"id\":\"6a3bde1f-0946-44d8-c4ae-464b440e8a88\",\"type\":\"PreviewSaveTool\",\"attributes\":{\"plot\":{\"id\":\"e4375cef-c895-46d0-c6a9-fab205519e72\",\"type\":\"Plot\",\"subtype\":\"Figure\"},\"id\":\"6a3bde1f-0946-44d8-c4ae-464b440e8a88\",\"tags\":[],\"doc\":null}},{\"id\":\"c2b03050-7182-4818-c81f-517947bf8a35\",\"type\":\"ResizeTool\",\"attributes\":{\"plot\":{\"id\":\"e4375cef-c895-46d0-c6a9-fab205519e72\",\"type\":\"Plot\",\"subtype\":\"Figure\"},\"id\":\"c2b03050-7182-4818-c81f-517947bf8a35\",\"tags\":[],\"doc\":null}},{\"id\":\"70af5f75-a406-4cb3-ccd2-c2d320ffe43a\",\"type\":\"ResetTool\",\"attributes\":{\"plot\":{\"id\":\"e4375cef-c895-46d0-c6a9-fab205519e72\",\"type\":\"Plot\",\"subtype\":\"Figure\"},\"id\":\"70af5f75-a406-4cb3-ccd2-c2d320ffe43a\",\"tags\":[],\"doc\":null}},{\"id\":\"d8f84276-0c60-46a2-c679-e3d3417d7849\",\"type\":\"Legend\",\"attributes\":{\"plot\":{\"id\":\"e4375cef-c895-46d0-c6a9-fab205519e72\",\"type\":\"Plot\",\"subtype\":\"Figure\"},\"legends\":[[\"training error\",[{\"type\":\"GlyphRenderer\",\"id\":\"1aa638fb-0aeb-4e45-cebe-45eea8d8a6e4\"}]],[\"validation error\",[{\"type\":\"GlyphRenderer\",\"id\":\"8fece7b3-34f4-4a7d-ca00-df339eec392a\"}]],[\"validation error\",[{\"type\":\"GlyphRenderer\",\"id\":\"71c762a4-7339-4c46-cc34-a9cde1830045\"}]]],\"id\":\"d8f84276-0c60-46a2-c679-e3d3417d7849\",\"doc\":null,\"tags\":[]}},{\"id\":\"e4375cef-c895-46d0-c6a9-fab205519e72\",\"type\":\"Plot\",\"attributes\":{\"x_range\":{\"type\":\"DataRange1d\",\"id\":\"c743e878-2950-4f7e-cfc8-7835840a558a\"},\"tool_events\":{\"type\":\"ToolEvents\",\"id\":\"38bd9b0b-8d2c-432c-c33c-6353b5ddd497\"},\"below\":[{\"type\":\"LinearAxis\",\"id\":\"3d45818a-b5bc-48e0-c871-129881dfe385\"}],\"renderers\":[{\"type\":\"GlyphRenderer\",\"id\":\"1aa638fb-0aeb-4e45-cebe-45eea8d8a6e4\"},{\"type\":\"GlyphRenderer\",\"id\":\"8fece7b3-34f4-4a7d-ca00-df339eec392a\"},{\"type\":\"GlyphRenderer\",\"id\":\"71c762a4-7339-4c46-cc34-a9cde1830045\"},{\"type\":\"LinearAxis\",\"id\":\"3d45818a-b5bc-48e0-c871-129881dfe385\"},{\"type\":\"Grid\",\"id\":\"bb20367c-45be-4187-c160-91a65e1b87ee\"},{\"type\":\"LinearAxis\",\"id\":\"6761a806-b16f-4d65-cdfb-ac8a32d052d3\"},{\"type\":\"Grid\",\"id\":\"94195310-aa19-4ca4-ccff-ddd71d30ae2e\"},{\"type\":\"Legend\",\"id\":\"d8f84276-0c60-46a2-c679-e3d3417d7849\"}],\"above\":[],\"tools\":[{\"type\":\"PanTool\",\"id\":\"1a51a132-5544-45d0-c517-c7413397c262\"},{\"type\":\"WheelZoomTool\",\"id\":\"bb1614d0-945b-49bc-c939-478134e839e5\"},{\"type\":\"BoxZoomTool\",\"id\":\"ba89f1af-8906-4b2e-cb32-cc24feeefc78\"},{\"type\":\"PreviewSaveTool\",\"id\":\"6a3bde1f-0946-44d8-c4ae-464b440e8a88\"},{\"type\":\"ResizeTool\",\"id\":\"c2b03050-7182-4818-c81f-517947bf8a35\"},{\"type\":\"ResetTool\",\"id\":\"70af5f75-a406-4cb3-ccd2-c2d320ffe43a\"}],\"doc\":null,\"right\":[],\"title\":\"comparing errors\",\"extra_x_ranges\":{},\"left\":[{\"type\":\"LinearAxis\",\"id\":\"6761a806-b16f-4d65-cdfb-ac8a32d052d3\"}],\"y_range\":{\"type\":\"DataRange1d\",\"id\":\"80916607-4ec3-4111-c1ce-45221464354c\"},\"id\":\"e4375cef-c895-46d0-c6a9-fab205519e72\",\"extra_y_ranges\":{},\"tags\":[]}}];\n",
       "      Bokeh.load_models(all_models);\n",
       "      var model = Bokeh.Collections(modeltype).get(modelid);\n",
       "      $(\"#78b1c040-27e8-48fc-c89a-a00850c8fc2e\").html(''); // clear any previous plot in window_id\n",
       "      var view = new model.default_view({model: model, el: \"#78b1c040-27e8-48fc-c89a-a00850c8fc2e\"});\n",
       "  });\n",
       "    }\n",
       "});\n",
       "</script>\n",
       "<div class=\"plotdiv\" id=\"78b1c040-27e8-48fc-c89a-a00850c8fc2e\"></div>\n"
      ]
     },
     "metadata": {},
     "output_type": "display_data"
    },
    {
     "data": {
      "text/plain": [
       "{\n",
       "  text : function: 0x406158b0\n",
       "  _winid : 78b1c040-27e8-48fc-c89a-a00850c8fc2e\n",
       "  quad : function: 0x41bdca08\n",
       "  _docid : userdata: NULL\n",
       "  yaxis : function: 0x41bdcc10\n",
       "  _legend : true\n",
       "  hover_tool : function: 0x41bdcc50\n",
       "  quiver : function: 0x41bdc9e8\n",
       "  triangle : function: 0x41a31cf0\n",
       "  save : function: 0x40615970\n",
       "  circle : function: 0x40619848\n",
       "  _yaxis : Percentage Error\n",
       "  draw : function: 0x40615910\n",
       "  gscatter : function: 0x41bdc9a8\n",
       "  title : function: 0x41bdcbd0\n",
       "  line : function: 0x41a31aa0\n",
       "  segment : function: 0x41bdc9c8\n",
       "  histogram : function: 0x41bdcbb0\n",
       "  _data : \n",
       "    {\n",
       "      1 : \n",
       "        {\n",
       "          fill_color : red\n",
       "          line_color : red\n",
       "          legend : training error\n",
       "          type : Line\n",
       "          y : DoubleTensor - size: 50\n",
       "          x : DoubleTensor - size: 50\n",
       "        }\n",
       "      2 : \n",
       "        {\n",
       "          fill_color : green\n",
       "          line_color : green\n",
       "          legend : validation error\n",
       "          type : Line\n",
       "          y : DoubleTensor - size: 50\n",
       "          x : DoubleTensor - size: 50\n",
       "        }\n",
       "  "
      ]
     },
     "execution_count": 12,
     "metadata": {},
     "output_type": "execute_result"
    },
    {
     "data": {
      "text/plain": [
       "    3 : \n",
       "        {\n",
       "          fill_color : blue\n",
       "          line_color : blue\n",
       "          legend : validation error\n",
       "          type : Line\n",
       "          y : DoubleTensor - size: 50\n",
       "          x : DoubleTensor - size: 50\n",
       "        }\n",
       "    }\n",
       "  _xaxis : Epochs\n",
       "  new : function: 0x40853268\n",
       "  _toAllModels : function: 0x41bdd018\n",
       "  hist : function: 0x41bdcbb0\n",
       "  _title : comparing errors\n",
       "  xaxis : function: 0x41bdcbf0\n",
       "  redraw : function: 0x40615950\n",
       "  toTemplate : function: 0x41a31b08\n",
       "  legend : function: 0x41bdcc30\n",
       "  toHTML : function: 0x406158d0\n",
       "}\n"
      ]
     },
     "execution_count": 12,
     "metadata": {},
     "output_type": "execute_result"
    }
   ],
   "source": [
    "Plot()\n",
    ":line(x_axis, training_error_vector,'red','training error')\n",
    ":line(x_axis, validation_error_vector,'green','validation error')\n",
    ":line(x_axis, test_error_vector,'blue','validation error')\n",
    ":xaxis('Epochs'):yaxis('Percentage Error')\n",
    ":legend(true):title('comparing errors'):draw()"
   ]
  },
  {
   "cell_type": "code",
   "execution_count": 13,
   "metadata": {
    "collapsed": false
   },
   "outputs": [
    {
     "data": {
      "text/html": [
       "<script type=\"text/javascript\">\n",
       "$(function() {\n",
       "    if (typeof (window._bokeh_onload_callbacks) === \"undefined\"){\n",
       "  window._bokeh_onload_callbacks = [];\n",
       "    }\n",
       "    function load_lib(url, callback){\n",
       "  window._bokeh_onload_callbacks.push(callback);\n",
       "  if (window._bokeh_is_loading){\n",
       "      console.log(\"Bokeh: BokehJS is being loaded, scheduling callback at\", new Date());\n",
       "      return null;\n",
       "  }\n",
       "  console.log(\"Bokeh: BokehJS not loaded, scheduling load and callback at\", new Date());\n",
       "  window._bokeh_is_loading = true;\n",
       "  var s = document.createElement('script');\n",
       "  s.src = url;\n",
       "  s.async = true;\n",
       "  s.onreadystatechange = s.onload = function(){\n",
       "      Bokeh.embed.inject_css(\"https://cdn.pydata.org/bokeh-0.7.0.min.css\");\n",
       "      window._bokeh_onload_callbacks.forEach(function(callback){callback()});\n",
       "  };\n",
       "  s.onerror = function(){\n",
       "      console.warn(\"failed to load library \" + url);\n",
       "  };\n",
       "  document.getElementsByTagName(\"head\")[0].appendChild(s);\n",
       "    }\n",
       "\n",
       "    bokehjs_url = \"https://cdn.pydata.org/bokeh-0.7.0.min.js\"\n",
       "\n",
       "    var elt = document.getElementById(\"5a5b9abf-c699-4165-c113-4182642f97d5\");\n",
       "    if(elt==null) {\n",
       "  console.log(\"Bokeh: ERROR: autoload.js configured with elementid '5a5b9abf-c699-4165-c113-4182642f97d5'\"\n",
       "        + \"but no matching script tag was found. \")\n",
       "  return false;\n",
       "    }\n",
       "\n",
       "    if(typeof(Bokeh) !== \"undefined\") {\n",
       "  console.log(\"Bokeh: BokehJS loaded, going straight to plotting\");\n",
       "  var modelid = \"238a02b3-e1bd-462f-c61c-130de7b273f2\";\n",
       "  var modeltype = \"Plot\";\n",
       "  var all_models = [{\"id\":\"1f4bd097-4ffe-4fdd-cf4e-0f2c2a6b99f4\",\"type\":\"ColumnDataSource\",\"attributes\":{\"data\":{\"y\":[80.089137371766,44.600332287244,22.244784936312,12.85371449669,8.5023339223081,5.9073287797674,4.3434689733379,3.2965004351381,2.7347767609905,2.0807510746591,1.8961470502914,1.3766185817137,1.3291489754477,1.0865265434215,0.92565732218677,0.8069833065218,0.80170890582558,0.61446768110973,0.56699807484375,0.51952846857776,0.48524486405232,0.40085445291279,0.40876605395712,0.30591524038081,0.36129644769113,0.3270128431657,0.29272923864026,0.2531712334186,0.24789683272238,0.20833882750073,0.21361322819695,0.16086922123474,0.21097602784884,0.20570162715261,0.18460402436773,0.1503204198423,0.17141802262718,0.11603681531686,0.12922281705741,0.12394841636119,0.1265856167093,0.11076241462064,0.1265856167093,0.11867401566497,0.1002136132282,0.11603681531686,0.10285081357631,0.097576412880087,0.10285081357631,0.11339961496875],\"x\":[1,2,3,4,5,6,7,8,9,10,11,12,13,14,15,16,17,18,19,20,21,22,23,24,25,26,27,28,29,30,31,32,33,34,35,36,37,38,39,40,41,42,43,44,45,46,47,48,49,50]},\"column_names\":[\"y\",\"x\"],\"cont_ranges\":{},\"discrete_ranges\":{},\"selected\":[],\"id\":\"1f4bd097-4ffe-4fdd-cf4e-0f2c2a6b99f4\",\"doc\":null,\"tags\":[]}},{\"id\":\"1f07709c-9180-46ad-c656-0a5c28549279\",\"type\":\"Line\",\"attributes\":{\"fill_alpha\":{\"units\":\"data\",\"value\":0.2},\"line_alpha\":{\"units\":\"data\",\"value\":1},\"doc\":null,\"size\":{\"units\":\"screen\",\"value\":10},\"fill_color\":{\"value\":\"red\"},\"line_color\":{\"value\":\"red\"},\"x\":{\"units\":\"data\",\"field\":\"x\"},\"id\":\"1f07709c-9180-46ad-c656-0a5c28549279\",\"y\":{\"units\":\"data\",\"field\":\"y\"},\"tags\":[]}},{\"id\":\"c9ad566e-7db4-47e1-c7e4-45f268caa4b7\",\"type\":\"Line\",\"attributes\":{\"fill_alpha\":{\"units\":\"data\",\"value\":0.2},\"line_alpha\":{\"units\":\"data\",\"value\":1},\"doc\":null,\"size\":{\"units\":\"screen\",\"value\":10},\"fill_color\":{\"value\":\"red\"},\"line_color\":{\"value\":\"red\"},\"x\":{\"units\":\"data\",\"field\":\"x\"},\"id\":\"c9ad566e-7db4-47e1-c7e4-45f268caa4b7\",\"y\":{\"units\":\"data\",\"field\":\"y\"},\"tags\":[]}},{\"id\":\"726d9651-26a7-4dbc-cde2-0196622ddb44\",\"type\":\"GlyphRenderer\",\"attributes\":{\"name\":null,\"nonselection_glyph\":{\"type\":\"Line\",\"id\":\"c9ad566e-7db4-47e1-c7e4-45f268caa4b7\"},\"doc\":null,\"server_data_source\":null,\"data_source\":{\"type\":\"ColumnDataSource\",\"id\":\"1f4bd097-4ffe-4fdd-cf4e-0f2c2a6b99f4\"},\"glyph\":{\"type\":\"Line\",\"id\":\"1f07709c-9180-46ad-c656-0a5c28549279\"},\"selection_glyph\":null,\"id\":\"726d9651-26a7-4dbc-cde2-0196622ddb44\",\"tags\":[]}},{\"id\":\"86917684-608d-4f6b-cff3-146a5c5197c7\",\"type\":\"ColumnDataSource\",\"attributes\":{\"data\":{\"y\":[77.906976744186,54.031007751938,35.968992248062,28.527131782946,18.914728682171,15.116279069767,9.5348837209302,7.5193798449612,7.7519379844961,7.1317829457364,6.2790697674419,6.1240310077519,5.5038759689922,5.1162790697674,3.8759689922481,4.4186046511628,4.1860465116279,4.8837209302326,4.2635658914729,4.6511627906977,4.3410852713178,4.1860465116279,4.5736434108527,4.5736434108527,4.3410852713178,4.3410852713178,4.2635658914729,4.1860465116279,4.031007751938,3.953488372093,3.953488372093,3.8759689922481,3.8759689922481,4.1860465116279,4.1085271317829,3.8759689922481,3.8759689922481,3.7984496124031,3.7209302325581,4.031007751938,3.4108527131783,4.1085271317829,4.2635658914729,3.4883720930233,3.953488372093,4.031007751938,4.1085271317829,3.1782945736434,3.7209302325581,3.2558139534884],\"x\":[1,2,3,4,5,6,7,8,9,10,11,12,13,14,15,16,17,18,19,20,21,22,23,24,25,26,27,28,29,30,31,32,33,34,35,36,37,38,39,40,41,42,43,44,45,46,47,48,49,50]},\"column_names\":[\"y\",\"x\"],\"cont_ranges\":{},\"discrete_ranges\":{},\"selected\":[],\"id\":\"86917684-608d-4f6b-cff3-146a5c5197c7\",\"doc\":null,\"tags\":[]}},{\"id\":\"c63eef67-c46d-48fa-c885-6d2dba752924\",\"type\":\"Line\",\"attributes\":{\"fill_alpha\":{\"units\":\"data\",\"value\":0.2},\"line_alpha\":{\"units\":\"data\",\"value\":1},\"doc\":null,\"size\":{\"units\":\"screen\",\"value\":10},\"fill_color\":{\"value\":\"green\"},\"line_color\":{\"value\":\"green\"},\"x\":{\"units\":\"data\",\"field\":\"x\"},\"id\":\"c63eef67-c46d-48fa-c885-6d2dba752924\",\"y\":{\"units\":\"data\",\"field\":\"y\"},\"tags\":[]}},{\"id\":\"fa53e8bb-63ea-4b35-cbbb-060d9521a3d0\",\"type\":\"Line\",\"attributes\":{\"fill_alpha\":{\"units\":\"data\",\"value\":0.2},\"line_alpha\":{\"units\":\"data\",\"value\":1},\"doc\":null,\"size\":{\"units\":\"screen\",\"value\":10},\"fill_color\":{\"value\":\"green\"},\"line_color\":{\"value\":\"green\"},\"x\":{\"units\":\"data\",\"field\":\"x\"},\"id\":\"fa53e8bb-63ea-4b35-cbbb-060d9521a3d0\",\"y\":{\"units\":\"data\",\"field\":\"y\"},\"tags\":[]}},{\"id\":\"26b910f7-7142-4da8-cdf7-b9d847846dc8\",\"type\":\"GlyphRenderer\",\"attributes\":{\"name\":null,\"nonselection_glyph\":{\"type\":\"Line\",\"id\":\"fa53e8bb-63ea-4b35-cbbb-060d9521a3d0\"},\"doc\":null,\"server_data_source\":null,\"data_source\":{\"type\":\"ColumnDataSource\",\"id\":\"86917684-608d-4f6b-cff3-146a5c5197c7\"},\"glyph\":{\"type\":\"Line\",\"id\":\"c63eef67-c46d-48fa-c885-6d2dba752924\"},\"selection_glyph\":null,\"id\":\"26b910f7-7142-4da8-cdf7-b9d847846dc8\",\"tags\":[]}},{\"id\":\"7e53a95b-08ef-4339-c32e-16902ef9f67f\",\"type\":\"ColumnDataSource\",\"attributes\":{\"data\":{\"y\":[3.12,3.12,3.12,3.12,3.12,3.12,3.12,3.12,3.12,3.12,3.12,3.12,3.12,3.12,3.12,3.12,3.12,3.12,3.12,3.12,3.12,3.12,3.12,3.12,3.12,3.12,3.12,3.12,3.12,3.12,3.12,3.12,3.12,3.12,3.12,3.12,3.12,3.12,3.12,3.12,3.12,3.12,3.12,3.12,3.12,3.12,3.12,3.12,3.12,3.12],\"x\":[1,2,3,4,5,6,7,8,9,10,11,12,13,14,15,16,17,18,19,20,21,22,23,24,25,26,27,28,29,30,31,32,33,34,35,36,37,38,39,40,41,42,43,44,45,46,47,48,49,50]},\"column_names\":[\"y\",\"x\"],\"cont_ranges\":{},\"discrete_ranges\":{},\"selected\":[],\"id\":\"7e53a95b-08ef-4339-c32e-16902ef9f67f\",\"doc\":null,\"tags\":[]}},{\"id\":\"7c1c3b2b-9737-4c82-cc53-e49f48d9a50e\",\"type\":\"Line\",\"attributes\":{\"fill_alpha\":{\"units\":\"data\",\"value\":0.2},\"line_alpha\":{\"units\":\"data\",\"value\":1},\"doc\":null,\"size\":{\"units\":\"screen\",\"value\":10},\"fill_color\":{\"value\":\"blue\"},\"line_color\":{\"value\":\"blue\"},\"x\":{\"units\":\"data\",\"field\":\"x\"},\"id\":\"7c1c3b2b-9737-4c82-cc53-e49f48d9a50e\",\"y\":{\"units\":\"data\",\"field\":\"y\"},\"tags\":[]}},{\"id\":\"9afa655f-a39a-4528-c531-0b258e1aed23\",\"type\":\"Line\",\"attributes\":{\"fill_alpha\":{\"units\":\"data\",\"value\":0.2},\"line_alpha\":{\"units\":\"data\",\"value\":1},\"doc\":null,\"size\":{\"units\":\"screen\",\"value\":10},\"fill_color\":{\"value\":\"blue\"},\"line_color\":{\"value\":\"blue\"},\"x\":{\"units\":\"data\",\"field\":\"x\"},\"id\":\"9afa655f-a39a-4528-c531-0b258e1aed23\",\"y\":{\"units\":\"data\",\"field\":\"y\"},\"tags\":[]}},{\"id\":\"d0d4b845-1e1d-4bba-cbfe-d0a02a0f6a0b\",\"type\":\"GlyphRenderer\",\"attributes\":{\"name\":null,\"nonselection_glyph\":{\"type\":\"Line\",\"id\":\"9afa655f-a39a-4528-c531-0b258e1aed23\"},\"doc\":null,\"server_data_source\":null,\"data_source\":{\"type\":\"ColumnDataSource\",\"id\":\"7e53a95b-08ef-4339-c32e-16902ef9f67f\"},\"glyph\":{\"type\":\"Line\",\"id\":\"7c1c3b2b-9737-4c82-cc53-e49f48d9a50e\"},\"selection_glyph\":null,\"id\":\"d0d4b845-1e1d-4bba-cbfe-d0a02a0f6a0b\",\"tags\":[]}},{\"id\":\"b3fb7d0d-10e3-4e01-ce5f-102b01eb5a09\",\"type\":\"DataRange1d\",\"attributes\":{\"sources\":[{\"columns\":[\"x\"],\"source\":{\"type\":\"ColumnDataSource\",\"id\":\"1f4bd097-4ffe-4fdd-cf4e-0f2c2a6b99f4\"}},{\"columns\":[\"x\"],\"source\":{\"type\":\"ColumnDataSource\",\"id\":\"86917684-608d-4f6b-cff3-146a5c5197c7\"}},{\"columns\":[\"x\"],\"source\":{\"type\":\"ColumnDataSource\",\"id\":\"7e53a95b-08ef-4339-c32e-16902ef9f67f\"}}],\"id\":\"b3fb7d0d-10e3-4e01-ce5f-102b01eb5a09\",\"tags\":[],\"doc\":null}},{\"id\":\"170864b3-51c1-48bb-c8b5-822ee5016f7f\",\"type\":\"DataRange1d\",\"attributes\":{\"sources\":[{\"columns\":[\"y\"],\"source\":{\"type\":\"ColumnDataSource\",\"id\":\"1f4bd097-4ffe-4fdd-cf4e-0f2c2a6b99f4\"}},{\"columns\":[\"y\"],\"source\":{\"type\":\"ColumnDataSource\",\"id\":\"86917684-608d-4f6b-cff3-146a5c5197c7\"}},{\"columns\":[\"y\"],\"source\":{\"type\":\"ColumnDataSource\",\"id\":\"7e53a95b-08ef-4339-c32e-16902ef9f67f\"}}],\"id\":\"170864b3-51c1-48bb-c8b5-822ee5016f7f\",\"tags\":[],\"doc\":null}},{\"id\":\"4687fd86-8de1-480a-c815-083767da76ca\",\"type\":\"ToolEvents\",\"attributes\":{\"tags\":[],\"id\":\"4687fd86-8de1-480a-c815-083767da76ca\",\"geometries\":[],\"doc\":null}},{\"id\":\"f4cb1888-616c-45a0-c59e-109620a30fc8\",\"type\":\"BasicTickFormatter\",\"attributes\":{\"id\":\"f4cb1888-616c-45a0-c59e-109620a30fc8\",\"tags\":[],\"doc\":null}},{\"id\":\"3dd3c44c-19a3-495b-c93f-c480dbfd62f0\",\"type\":\"BasicTicker\",\"attributes\":{\"num_minor_ticks\":5,\"id\":\"3dd3c44c-19a3-495b-c93f-c480dbfd62f0\",\"tags\":[],\"doc\":null}},{\"id\":\"aa79834e-62fe-4931-c97a-215505fb245f\",\"type\":\"LinearAxis\",\"attributes\":{\"formatter\":{\"type\":\"BasicTickFormatter\",\"id\":\"f4cb1888-616c-45a0-c59e-109620a30fc8\"},\"ticker\":{\"type\":\"BasicTicker\",\"id\":\"3dd3c44c-19a3-495b-c93f-c480dbfd62f0\"},\"plot\":{\"id\":\"238a02b3-e1bd-462f-c61c-130de7b273f2\",\"type\":\"Plot\",\"subtype\":\"Figure\"},\"axis_label\":\"Epochs\",\"id\":\"aa79834e-62fe-4931-c97a-215505fb245f\",\"doc\":null,\"tags\":[]}},{\"id\":\"305b746c-3634-4deb-cd6a-06ee12c7e68c\",\"type\":\"Grid\",\"attributes\":{\"dimension\":0,\"plot\":{\"id\":\"238a02b3-e1bd-462f-c61c-130de7b273f2\",\"type\":\"Plot\",\"subtype\":\"Figure\"},\"ticker\":{\"type\":\"BasicTicker\",\"id\":\"3dd3c44c-19a3-495b-c93f-c480dbfd62f0\"},\"id\":\"305b746c-3634-4deb-cd6a-06ee12c7e68c\",\"doc\":null,\"tags\":[]}},{\"id\":\"0e95a6a2-8d86-410c-c12b-7da8a7372f42\",\"type\":\"BasicTickFormatter\",\"attributes\":{\"id\":\"0e95a6a2-8d86-410c-c12b-7da8a7372f42\",\"tags\":[],\"doc\":null}},{\"id\":\"646beeb2-f4a7-41fc-c111-cf6af0eff6d8\",\"type\":\"BasicTicker\",\"attributes\":{\"num_minor_ticks\":5,\"id\":\"646beeb2-f4a7-41fc-c111-cf6af0eff6d8\",\"tags\":[],\"doc\":null}},{\"id\":\"4f4d10f5-e388-4b9b-cbf9-c9449d93716f\",\"type\":\"LinearAxis\",\"attributes\":{\"formatter\":{\"type\":\"BasicTickFormatter\",\"id\":\"0e95a6a2-8d86-410c-c12b-7da8a7372f42\"},\"ticker\":{\"type\":\"BasicTicker\",\"id\":\"646beeb2-f4a7-41fc-c111-cf6af0eff6d8\"},\"plot\":{\"id\":\"238a02b3-e1bd-462f-c61c-130de7b273f2\",\"type\":\"Plot\",\"subtype\":\"Figure\"},\"axis_label\":\"Percentage Error\",\"id\":\"4f4d10f5-e388-4b9b-cbf9-c9449d93716f\",\"doc\":null,\"tags\":[]}},{\"id\":\"640a6289-e4fe-4237-c22a-04d575afa26a\",\"type\":\"Grid\",\"attributes\":{\"dimension\":1,\"plot\":{\"id\":\"238a02b3-e1bd-462f-c61c-130de7b273f2\",\"type\":\"Plot\",\"subtype\":\"Figure\"},\"ticker\":{\"type\":\"BasicTicker\",\"id\":\"646beeb2-f4a7-41fc-c111-cf6af0eff6d8\"},\"id\":\"640a6289-e4fe-4237-c22a-04d575afa26a\",\"doc\":null,\"tags\":[]}},{\"id\":\"23a6007e-c94b-4abe-ca14-4511e4e7105c\",\"type\":\"PanTool\",\"attributes\":{\"plot\":{\"id\":\"238a02b3-e1bd-462f-c61c-130de7b273f2\",\"type\":\"Plot\",\"subtype\":\"Figure\"},\"dimensions\":[\"width\",\"height\"],\"id\":\"23a6007e-c94b-4abe-ca14-4511e4e7105c\",\"doc\":null,\"tags\":[]}},{\"id\":\"6df259df-00d6-4c1d-cc95-9a45b54cc3c1\",\"type\":\"WheelZoomTool\",\"attributes\":{\"plot\":{\"id\":\"238a02b3-e1bd-462f-c61c-130de7b273f2\",\"type\":\"Plot\",\"subtype\":\"Figure\"},\"dimensions\":[\"width\",\"height\"],\"id\":\"6df259df-00d6-4c1d-cc95-9a45b54cc3c1\",\"doc\":null,\"tags\":[]}},{\"id\":\"859ec279-368f-4bd5-cbfe-edc6559df4c5\",\"type\":\"BoxZoomTool\",\"attributes\":{\"plot\":{\"id\":\"238a02b3-e1bd-462f-c61c-130de7b273f2\",\"type\":\"Plot\",\"subtype\":\"Figure\"},\"id\":\"859ec279-368f-4bd5-cbfe-edc6559df4c5\",\"tags\":[],\"doc\":null}},{\"id\":\"3efc495f-e3c2-448d-c46e-43fafc3c538e\",\"type\":\"PreviewSaveTool\",\"attributes\":{\"plot\":{\"id\":\"238a02b3-e1bd-462f-c61c-130de7b273f2\",\"type\":\"Plot\",\"subtype\":\"Figure\"},\"id\":\"3efc495f-e3c2-448d-c46e-43fafc3c538e\",\"tags\":[],\"doc\":null}},{\"id\":\"a2845367-8bc9-4a0d-cab4-c2a59b2b0972\",\"type\":\"ResizeTool\",\"attributes\":{\"plot\":{\"id\":\"238a02b3-e1bd-462f-c61c-130de7b273f2\",\"type\":\"Plot\",\"subtype\":\"Figure\"},\"id\":\"a2845367-8bc9-4a0d-cab4-c2a59b2b0972\",\"tags\":[],\"doc\":null}},{\"id\":\"a04ed1b4-3c62-4b65-cbb4-c3d180329b66\",\"type\":\"ResetTool\",\"attributes\":{\"plot\":{\"id\":\"238a02b3-e1bd-462f-c61c-130de7b273f2\",\"type\":\"Plot\",\"subtype\":\"Figure\"},\"id\":\"a04ed1b4-3c62-4b65-cbb4-c3d180329b66\",\"tags\":[],\"doc\":null}},{\"id\":\"77eec186-0054-431c-c372-a14b085461d5\",\"type\":\"Legend\",\"attributes\":{\"plot\":{\"id\":\"238a02b3-e1bd-462f-c61c-130de7b273f2\",\"type\":\"Plot\",\"subtype\":\"Figure\"},\"legends\":[[\"training error\",[{\"type\":\"GlyphRenderer\",\"id\":\"726d9651-26a7-4dbc-cde2-0196622ddb44\"}]],[\"validation error\",[{\"type\":\"GlyphRenderer\",\"id\":\"26b910f7-7142-4da8-cdf7-b9d847846dc8\"}]],[\"validation error\",[{\"type\":\"GlyphRenderer\",\"id\":\"d0d4b845-1e1d-4bba-cbfe-d0a02a0f6a0b\"}]]],\"id\":\"77eec186-0054-431c-c372-a14b085461d5\",\"doc\":null,\"tags\":[]}},{\"id\":\"238a02b3-e1bd-462f-c61c-130de7b273f2\",\"type\":\"Plot\",\"attributes\":{\"x_range\":{\"type\":\"DataRange1d\",\"id\":\"b3fb7d0d-10e3-4e01-ce5f-102b01eb5a09\"},\"tool_events\":{\"type\":\"ToolEvents\",\"id\":\"4687fd86-8de1-480a-c815-083767da76ca\"},\"below\":[{\"type\":\"LinearAxis\",\"id\":\"aa79834e-62fe-4931-c97a-215505fb245f\"}],\"renderers\":[{\"type\":\"GlyphRenderer\",\"id\":\"726d9651-26a7-4dbc-cde2-0196622ddb44\"},{\"type\":\"GlyphRenderer\",\"id\":\"26b910f7-7142-4da8-cdf7-b9d847846dc8\"},{\"type\":\"GlyphRenderer\",\"id\":\"d0d4b845-1e1d-4bba-cbfe-d0a02a0f6a0b\"},{\"type\":\"LinearAxis\",\"id\":\"aa79834e-62fe-4931-c97a-215505fb245f\"},{\"type\":\"Grid\",\"id\":\"305b746c-3634-4deb-cd6a-06ee12c7e68c\"},{\"type\":\"LinearAxis\",\"id\":\"4f4d10f5-e388-4b9b-cbf9-c9449d93716f\"},{\"type\":\"Grid\",\"id\":\"640a6289-e4fe-4237-c22a-04d575afa26a\"},{\"type\":\"Legend\",\"id\":\"77eec186-0054-431c-c372-a14b085461d5\"}],\"above\":[],\"tools\":[{\"type\":\"PanTool\",\"id\":\"23a6007e-c94b-4abe-ca14-4511e4e7105c\"},{\"type\":\"WheelZoomTool\",\"id\":\"6df259df-00d6-4c1d-cc95-9a45b54cc3c1\"},{\"type\":\"BoxZoomTool\",\"id\":\"859ec279-368f-4bd5-cbfe-edc6559df4c5\"},{\"type\":\"PreviewSaveTool\",\"id\":\"3efc495f-e3c2-448d-c46e-43fafc3c538e\"},{\"type\":\"ResizeTool\",\"id\":\"a2845367-8bc9-4a0d-cab4-c2a59b2b0972\"},{\"type\":\"ResetTool\",\"id\":\"a04ed1b4-3c62-4b65-cbb4-c3d180329b66\"}],\"doc\":null,\"right\":[],\"title\":\"comparing errors\",\"extra_x_ranges\":{},\"left\":[{\"type\":\"LinearAxis\",\"id\":\"4f4d10f5-e388-4b9b-cbf9-c9449d93716f\"}],\"y_range\":{\"type\":\"DataRange1d\",\"id\":\"170864b3-51c1-48bb-c8b5-822ee5016f7f\"},\"id\":\"238a02b3-e1bd-462f-c61c-130de7b273f2\",\"extra_y_ranges\":{},\"tags\":[]}}];\n",
       "  Bokeh.load_models(all_models);\n",
       "  var model = Bokeh.Collections(modeltype).get(modelid);\n",
       "  $(\"#5a5b9abf-c699-4165-c113-4182642f97d5\").html(''); // clear any previous plot in window_id\n",
       "  var view = new model.default_view({model: model, el: \"#5a5b9abf-c699-4165-c113-4182642f97d5\"});\n",
       "    } else {\n",
       "  load_lib(bokehjs_url, function() {\n",
       "      console.log(\"Bokeh: BokehJS plotting callback run at\", new Date())\n",
       "      var modelid = \"238a02b3-e1bd-462f-c61c-130de7b273f2\";\n",
       "      var modeltype = \"Plot\";\n",
       "      var all_models = [{\"id\":\"1f4bd097-4ffe-4fdd-cf4e-0f2c2a6b99f4\",\"type\":\"ColumnDataSource\",\"attributes\":{\"data\":{\"y\":[80.089137371766,44.600332287244,22.244784936312,12.85371449669,8.5023339223081,5.9073287797674,4.3434689733379,3.2965004351381,2.7347767609905,2.0807510746591,1.8961470502914,1.3766185817137,1.3291489754477,1.0865265434215,0.92565732218677,0.8069833065218,0.80170890582558,0.61446768110973,0.56699807484375,0.51952846857776,0.48524486405232,0.40085445291279,0.40876605395712,0.30591524038081,0.36129644769113,0.3270128431657,0.29272923864026,0.2531712334186,0.24789683272238,0.20833882750073,0.21361322819695,0.16086922123474,0.21097602784884,0.20570162715261,0.18460402436773,0.1503204198423,0.17141802262718,0.11603681531686,0.12922281705741,0.12394841636119,0.1265856167093,0.11076241462064,0.1265856167093,0.11867401566497,0.1002136132282,0.11603681531686,0.10285081357631,0.097576412880087,0.10285081357631,0.11339961496875],\"x\":[1,2,3,4,5,6,7,8,9,10,11,12,13,14,15,16,17,18,19,20,21,22,23,24,25,26,27,28,29,30,31,32,33,34,35,36,37,38,39,40,41,42,43,44,45,46,47,48,49,50]},\"column_names\":[\"y\",\"x\"],\"cont_ranges\":{},\"discrete_ranges\":{},\"selected\":[],\"id\":\"1f4bd097-4ffe-4fdd-cf4e-0f2c2a6b99f4\",\"doc\":null,\"tags\":[]}},{\"id\":\"1f07709c-9180-46ad-c656-0a5c28549279\",\"type\":\"Line\",\"attributes\":{\"fill_alpha\":{\"units\":\"data\",\"value\":0.2},\"line_alpha\":{\"units\":\"data\",\"value\":1},\"doc\":null,\"size\":{\"units\":\"screen\",\"value\":10},\"fill_color\":{\"value\":\"red\"},\"line_color\":{\"value\":\"red\"},\"x\":{\"units\":\"data\",\"field\":\"x\"},\"id\":\"1f07709c-9180-46ad-c656-0a5c28549279\",\"y\":{\"units\":\"data\",\"field\":\"y\"},\"tags\":[]}},{\"id\":\"c9ad566e-7db4-47e1-c7e4-45f268caa4b7\",\"type\":\"Line\",\"attributes\":{\"fill_alpha\":{\"units\":\"data\",\"value\":0.2},\"line_alpha\":{\"units\":\"data\",\"value\":1},\"doc\":null,\"size\":{\"units\":\"screen\",\"value\":10},\"fill_color\":{\"value\":\"red\"},\"line_color\":{\"value\":\"red\"},\"x\":{\"units\":\"data\",\"field\":\"x\"},\"id\":\"c9ad566e-7db4-47e1-c7e4-45f268caa4b7\",\"y\":{\"units\":\"data\",\"field\":\"y\"},\"tags\":[]}},{\"id\":\"726d9651-26a7-4dbc-cde2-0196622ddb44\",\"type\":\"GlyphRenderer\",\"attributes\":{\"name\":null,\"nonselection_glyph\":{\"type\":\"Line\",\"id\":\"c9ad566e-7db4-47e1-c7e4-45f268caa4b7\"},\"doc\":null,\"server_data_source\":null,\"data_source\":{\"type\":\"ColumnDataSource\",\"id\":\"1f4bd097-4ffe-4fdd-cf4e-0f2c2a6b99f4\"},\"glyph\":{\"type\":\"Line\",\"id\":\"1f07709c-9180-46ad-c656-0a5c28549279\"},\"selection_glyph\":null,\"id\":\"726d9651-26a7-4dbc-cde2-0196622ddb44\",\"tags\":[]}},{\"id\":\"86917684-608d-4f6b-cff3-146a5c5197c7\",\"type\":\"ColumnDataSource\",\"attributes\":{\"data\":{\"y\":[77.906976744186,54.031007751938,35.968992248062,28.527131782946,18.914728682171,15.116279069767,9.5348837209302,7.5193798449612,7.7519379844961,7.1317829457364,6.2790697674419,6.1240310077519,5.5038759689922,5.1162790697674,3.8759689922481,4.4186046511628,4.1860465116279,4.8837209302326,4.2635658914729,4.6511627906977,4.3410852713178,4.1860465116279,4.5736434108527,4.5736434108527,4.3410852713178,4.3410852713178,4.2635658914729,4.1860465116279,4.031007751938,3.953488372093,3.953488372093,3.8759689922481,3.8759689922481,4.1860465116279,4.1085271317829,3.8759689922481,3.8759689922481,3.7984496124031,3.7209302325581,4.031007751938,3.4108527131783,4.1085271317829,4.2635658914729,3.4883720930233,3.953488372093,4.031007751938,4.1085271317829,3.1782945736434,3.7209302325581,3.2558139534884],\"x\":[1,2,3,4,5,6,7,8,9,10,11,12,13,14,15,16,17,18,19,20,21,22,23,24,25,26,27,28,29,30,31,32,33,34,35,36,37,38,39,40,41,42,43,44,45,46,47,48,49,50]},\"column_names\":[\"y\",\"x\"],\"cont_ranges\":{},\"discrete_ranges\":{},\"selected\":[],\"id\":\"86917684-608d-4f6b-cff3-146a5c5197c7\",\"doc\":null,\"tags\":[]}},{\"id\":\"c63eef67-c46d-48fa-c885-6d2dba752924\",\"type\":\"Line\",\"attributes\":{\"fill_alpha\":{\"units\":\"data\",\"value\":0.2},\"line_alpha\":{\"units\":\"data\",\"value\":1},\"doc\":null,\"size\":{\"units\":\"screen\",\"value\":10},\"fill_color\":{\"value\":\"green\"},\"line_color\":{\"value\":\"green\"},\"x\":{\"units\":\"data\",\"field\":\"x\"},\"id\":\"c63eef67-c46d-48fa-c885-6d2dba752924\",\"y\":{\"units\":\"data\",\"field\":\"y\"},\"tags\":[]}},{\"id\":\"fa53e8bb-63ea-4b35-cbbb-060d9521a3d0\",\"type\":\"Line\",\"attributes\":{\"fill_alpha\":{\"units\":\"data\",\"value\":0.2},\"line_alpha\":{\"units\":\"data\",\"value\":1},\"doc\":null,\"size\":{\"units\":\"screen\",\"value\":10},\"fill_color\":{\"value\":\"green\"},\"line_color\":{\"value\":\"green\"},\"x\":{\"units\":\"data\",\"field\":\"x\"},\"id\":\"fa53e8bb-63ea-4b35-cbbb-060d9521a3d0\",\"y\":{\"units\":\"data\",\"field\":\"y\"},\"tags\":[]}},{\"id\":\"26b910f7-7142-4da8-cdf7-b9d847846dc8\",\"type\":\"GlyphRenderer\",\"attributes\":{\"name\":null,\"nonselection_glyph\":{\"type\":\"Line\",\"id\":\"fa53e8bb-63ea-4b35-cbbb-060d9521a3d0\"},\"doc\":null,\"server_data_source\":null,\"data_source\":{\"type\":\"ColumnDataSource\",\"id\":\"86917684-608d-4f6b-cff3-146a5c5197c7\"},\"glyph\":{\"type\":\"Line\",\"id\":\"c63eef67-c46d-48fa-c885-6d2dba752924\"},\"selection_glyph\":null,\"id\":\"26b910f7-7142-4da8-cdf7-b9d847846dc8\",\"tags\":[]}},{\"id\":\"7e53a95b-08ef-4339-c32e-16902ef9f67f\",\"type\":\"ColumnDataSource\",\"attributes\":{\"data\":{\"y\":[3.12,3.12,3.12,3.12,3.12,3.12,3.12,3.12,3.12,3.12,3.12,3.12,3.12,3.12,3.12,3.12,3.12,3.12,3.12,3.12,3.12,3.12,3.12,3.12,3.12,3.12,3.12,3.12,3.12,3.12,3.12,3.12,3.12,3.12,3.12,3.12,3.12,3.12,3.12,3.12,3.12,3.12,3.12,3.12,3.12,3.12,3.12,3.12,3.12,3.12],\"x\":[1,2,3,4,5,6,7,8,9,10,11,12,13,14,15,16,17,18,19,20,21,22,23,24,25,26,27,28,29,30,31,32,33,34,35,36,37,38,39,40,41,42,43,44,45,46,47,48,49,50]},\"column_names\":[\"y\",\"x\"],\"cont_ranges\":{},\"discrete_ranges\":{},\"selected\":[],\"id\":\"7e53a95b-08ef-4339-c32e-16902ef9f67f\",\"doc\":null,\"tags\":[]}},{\"id\":\"7c1c3b2b-9737-4c82-cc53-e49f48d9a50e\",\"type\":\"Line\",\"attributes\":{\"fill_alpha\":{\"units\":\"data\",\"value\":0.2},\"line_alpha\":{\"units\":\"data\",\"value\":1},\"doc\":null,\"size\":{\"units\":\"screen\",\"value\":10},\"fill_color\":{\"value\":\"blue\"},\"line_color\":{\"value\":\"blue\"},\"x\":{\"units\":\"data\",\"field\":\"x\"},\"id\":\"7c1c3b2b-9737-4c82-cc53-e49f48d9a50e\",\"y\":{\"units\":\"data\",\"field\":\"y\"},\"tags\":[]}},{\"id\":\"9afa655f-a39a-4528-c531-0b258e1aed23\",\"type\":\"Line\",\"attributes\":{\"fill_alpha\":{\"units\":\"data\",\"value\":0.2},\"line_alpha\":{\"units\":\"data\",\"value\":1},\"doc\":null,\"size\":{\"units\":\"screen\",\"value\":10},\"fill_color\":{\"value\":\"blue\"},\"line_color\":{\"value\":\"blue\"},\"x\":{\"units\":\"data\",\"field\":\"x\"},\"id\":\"9afa655f-a39a-4528-c531-0b258e1aed23\",\"y\":{\"units\":\"data\",\"field\":\"y\"},\"tags\":[]}},{\"id\":\"d0d4b845-1e1d-4bba-cbfe-d0a02a0f6a0b\",\"type\":\"GlyphRenderer\",\"attributes\":{\"name\":null,\"nonselection_glyph\":{\"type\":\"Line\",\"id\":\"9afa655f-a39a-4528-c531-0b258e1aed23\"},\"doc\":null,\"server_data_source\":null,\"data_source\":{\"type\":\"ColumnDataSource\",\"id\":\"7e53a95b-08ef-4339-c32e-16902ef9f67f\"},\"glyph\":{\"type\":\"Line\",\"id\":\"7c1c3b2b-9737-4c82-cc53-e49f48d9a50e\"},\"selection_glyph\":null,\"id\":\"d0d4b845-1e1d-4bba-cbfe-d0a02a0f6a0b\",\"tags\":[]}},{\"id\":\"b3fb7d0d-10e3-4e01-ce5f-102b01eb5a09\",\"type\":\"DataRange1d\",\"attributes\":{\"sources\":[{\"columns\":[\"x\"],\"source\":{\"type\":\"ColumnDataSource\",\"id\":\"1f4bd097-4ffe-4fdd-cf4e-0f2c2a6b99f4\"}},{\"columns\":[\"x\"],\"source\":{\"type\":\"ColumnDataSource\",\"id\":\"86917684-608d-4f6b-cff3-146a5c5197c7\"}},{\"columns\":[\"x\"],\"source\":{\"type\":\"ColumnDataSource\",\"id\":\"7e53a95b-08ef-4339-c32e-16902ef9f67f\"}}],\"id\":\"b3fb7d0d-10e3-4e01-ce5f-102b01eb5a09\",\"tags\":[],\"doc\":null}},{\"id\":\"170864b3-51c1-48bb-c8b5-822ee5016f7f\",\"type\":\"DataRange1d\",\"attributes\":{\"sources\":[{\"columns\":[\"y\"],\"source\":{\"type\":\"ColumnDataSource\",\"id\":\"1f4bd097-4ffe-4fdd-cf4e-0f2c2a6b99f4\"}},{\"columns\":[\"y\"],\"source\":{\"type\":\"ColumnDataSource\",\"id\":\"86917684-608d-4f6b-cff3-146a5c5197c7\"}},{\"columns\":[\"y\"],\"source\":{\"type\":\"ColumnDataSource\",\"id\":\"7e53a95b-08ef-4339-c32e-16902ef9f67f\"}}],\"id\":\"170864b3-51c1-48bb-c8b5-822ee5016f7f\",\"tags\":[],\"doc\":null}},{\"id\":\"4687fd86-8de1-480a-c815-083767da76ca\",\"type\":\"ToolEvents\",\"attributes\":{\"tags\":[],\"id\":\"4687fd86-8de1-480a-c815-083767da76ca\",\"geometries\":[],\"doc\":null}},{\"id\":\"f4cb1888-616c-45a0-c59e-109620a30fc8\",\"type\":\"BasicTickFormatter\",\"attributes\":{\"id\":\"f4cb1888-616c-45a0-c59e-109620a30fc8\",\"tags\":[],\"doc\":null}},{\"id\":\"3dd3c44c-19a3-495b-c93f-c480dbfd62f0\",\"type\":\"BasicTicker\",\"attributes\":{\"num_minor_ticks\":5,\"id\":\"3dd3c44c-19a3-495b-c93f-c480dbfd62f0\",\"tags\":[],\"doc\":null}},{\"id\":\"aa79834e-62fe-4931-c97a-215505fb245f\",\"type\":\"LinearAxis\",\"attributes\":{\"formatter\":{\"type\":\"BasicTickFormatter\",\"id\":\"f4cb1888-616c-45a0-c59e-109620a30fc8\"},\"ticker\":{\"type\":\"BasicTicker\",\"id\":\"3dd3c44c-19a3-495b-c93f-c480dbfd62f0\"},\"plot\":{\"id\":\"238a02b3-e1bd-462f-c61c-130de7b273f2\",\"type\":\"Plot\",\"subtype\":\"Figure\"},\"axis_label\":\"Epochs\",\"id\":\"aa79834e-62fe-4931-c97a-215505fb245f\",\"doc\":null,\"tags\":[]}},{\"id\":\"305b746c-3634-4deb-cd6a-06ee12c7e68c\",\"type\":\"Grid\",\"attributes\":{\"dimension\":0,\"plot\":{\"id\":\"238a02b3-e1bd-462f-c61c-130de7b273f2\",\"type\":\"Plot\",\"subtype\":\"Figure\"},\"ticker\":{\"type\":\"BasicTicker\",\"id\":\"3dd3c44c-19a3-495b-c93f-c480dbfd62f0\"},\"id\":\"305b746c-3634-4deb-cd6a-06ee12c7e68c\",\"doc\":null,\"tags\":[]}},{\"id\":\"0e95a6a2-8d86-410c-c12b-7da8a7372f42\",\"type\":\"BasicTickFormatter\",\"attributes\":{\"id\":\"0e95a6a2-8d86-410c-c12b-7da8a7372f42\",\"tags\":[],\"doc\":null}},{\"id\":\"646beeb2-f4a7-41fc-c111-cf6af0eff6d8\",\"type\":\"BasicTicker\",\"attributes\":{\"num_minor_ticks\":5,\"id\":\"646beeb2-f4a7-41fc-c111-cf6af0eff6d8\",\"tags\":[],\"doc\":null}},{\"id\":\"4f4d10f5-e388-4b9b-cbf9-c9449d93716f\",\"type\":\"LinearAxis\",\"attributes\":{\"formatter\":{\"type\":\"BasicTickFormatter\",\"id\":\"0e95a6a2-8d86-410c-c12b-7da8a7372f42\"},\"ticker\":{\"type\":\"BasicTicker\",\"id\":\"646beeb2-f4a7-41fc-c111-cf6af0eff6d8\"},\"plot\":{\"id\":\"238a02b3-e1bd-462f-c61c-130de7b273f2\",\"type\":\"Plot\",\"subtype\":\"Figure\"},\"axis_label\":\"Percentage Error\",\"id\":\"4f4d10f5-e388-4b9b-cbf9-c9449d93716f\",\"doc\":null,\"tags\":[]}},{\"id\":\"640a6289-e4fe-4237-c22a-04d575afa26a\",\"type\":\"Grid\",\"attributes\":{\"dimension\":1,\"plot\":{\"id\":\"238a02b3-e1bd-462f-c61c-130de7b273f2\",\"type\":\"Plot\",\"subtype\":\"Figure\"},\"ticker\":{\"type\":\"BasicTicker\",\"id\":\"646beeb2-f4a7-41fc-c111-cf6af0eff6d8\"},\"id\":\"640a6289-e4fe-4237-c22a-04d575afa26a\",\"doc\":null,\"tags\":[]}},{\"id\":\"23a6007e-c94b-4abe-ca14-4511e4e7105c\",\"type\":\"PanTool\",\"attributes\":{\"plot\":{\"id\":\"238a02b3-e1bd-462f-c61c-130de7b273f2\",\"type\":\"Plot\",\"subtype\":\"Figure\"},\"dimensions\":[\"width\",\"height\"],\"id\":\"23a6007e-c94b-4abe-ca14-4511e4e7105c\",\"doc\":null,\"tags\":[]}},{\"id\":\"6df259df-00d6-4c1d-cc95-9a45b54cc3c1\",\"type\":\"WheelZoomTool\",\"attributes\":{\"plot\":{\"id\":\"238a02b3-e1bd-462f-c61c-130de7b273f2\",\"type\":\"Plot\",\"subtype\":\"Figure\"},\"dimensions\":[\"width\",\"height\"],\"id\":\"6df259df-00d6-4c1d-cc95-9a45b54cc3c1\",\"doc\":null,\"tags\":[]}},{\"id\":\"859ec279-368f-4bd5-cbfe-edc6559df4c5\",\"type\":\"BoxZoomTool\",\"attributes\":{\"plot\":{\"id\":\"238a02b3-e1bd-462f-c61c-130de7b273f2\",\"type\":\"Plot\",\"subtype\":\"Figure\"},\"id\":\"859ec279-368f-4bd5-cbfe-edc6559df4c5\",\"tags\":[],\"doc\":null}},{\"id\":\"3efc495f-e3c2-448d-c46e-43fafc3c538e\",\"type\":\"PreviewSaveTool\",\"attributes\":{\"plot\":{\"id\":\"238a02b3-e1bd-462f-c61c-130de7b273f2\",\"type\":\"Plot\",\"subtype\":\"Figure\"},\"id\":\"3efc495f-e3c2-448d-c46e-43fafc3c538e\",\"tags\":[],\"doc\":null}},{\"id\":\"a2845367-8bc9-4a0d-cab4-c2a59b2b0972\",\"type\":\"ResizeTool\",\"attributes\":{\"plot\":{\"id\":\"238a02b3-e1bd-462f-c61c-130de7b273f2\",\"type\":\"Plot\",\"subtype\":\"Figure\"},\"id\":\"a2845367-8bc9-4a0d-cab4-c2a59b2b0972\",\"tags\":[],\"doc\":null}},{\"id\":\"a04ed1b4-3c62-4b65-cbb4-c3d180329b66\",\"type\":\"ResetTool\",\"attributes\":{\"plot\":{\"id\":\"238a02b3-e1bd-462f-c61c-130de7b273f2\",\"type\":\"Plot\",\"subtype\":\"Figure\"},\"id\":\"a04ed1b4-3c62-4b65-cbb4-c3d180329b66\",\"tags\":[],\"doc\":null}},{\"id\":\"77eec186-0054-431c-c372-a14b085461d5\",\"type\":\"Legend\",\"attributes\":{\"plot\":{\"id\":\"238a02b3-e1bd-462f-c61c-130de7b273f2\",\"type\":\"Plot\",\"subtype\":\"Figure\"},\"legends\":[[\"training error\",[{\"type\":\"GlyphRenderer\",\"id\":\"726d9651-26a7-4dbc-cde2-0196622ddb44\"}]],[\"validation error\",[{\"type\":\"GlyphRenderer\",\"id\":\"26b910f7-7142-4da8-cdf7-b9d847846dc8\"}]],[\"validation error\",[{\"type\":\"GlyphRenderer\",\"id\":\"d0d4b845-1e1d-4bba-cbfe-d0a02a0f6a0b\"}]]],\"id\":\"77eec186-0054-431c-c372-a14b085461d5\",\"doc\":null,\"tags\":[]}},{\"id\":\"238a02b3-e1bd-462f-c61c-130de7b273f2\",\"type\":\"Plot\",\"attributes\":{\"x_range\":{\"type\":\"DataRange1d\",\"id\":\"b3fb7d0d-10e3-4e01-ce5f-102b01eb5a09\"},\"tool_events\":{\"type\":\"ToolEvents\",\"id\":\"4687fd86-8de1-480a-c815-083767da76ca\"},\"below\":[{\"type\":\"LinearAxis\",\"id\":\"aa79834e-62fe-4931-c97a-215505fb245f\"}],\"renderers\":[{\"type\":\"GlyphRenderer\",\"id\":\"726d9651-26a7-4dbc-cde2-0196622ddb44\"},{\"type\":\"GlyphRenderer\",\"id\":\"26b910f7-7142-4da8-cdf7-b9d847846dc8\"},{\"type\":\"GlyphRenderer\",\"id\":\"d0d4b845-1e1d-4bba-cbfe-d0a02a0f6a0b\"},{\"type\":\"LinearAxis\",\"id\":\"aa79834e-62fe-4931-c97a-215505fb245f\"},{\"type\":\"Grid\",\"id\":\"305b746c-3634-4deb-cd6a-06ee12c7e68c\"},{\"type\":\"LinearAxis\",\"id\":\"4f4d10f5-e388-4b9b-cbf9-c9449d93716f\"},{\"type\":\"Grid\",\"id\":\"640a6289-e4fe-4237-c22a-04d575afa26a\"},{\"type\":\"Legend\",\"id\":\"77eec186-0054-431c-c372-a14b085461d5\"}],\"above\":[],\"tools\":[{\"type\":\"PanTool\",\"id\":\"23a6007e-c94b-4abe-ca14-4511e4e7105c\"},{\"type\":\"WheelZoomTool\",\"id\":\"6df259df-00d6-4c1d-cc95-9a45b54cc3c1\"},{\"type\":\"BoxZoomTool\",\"id\":\"859ec279-368f-4bd5-cbfe-edc6559df4c5\"},{\"type\":\"PreviewSaveTool\",\"id\":\"3efc495f-e3c2-448d-c46e-43fafc3c538e\"},{\"type\":\"ResizeTool\",\"id\":\"a2845367-8bc9-4a0d-cab4-c2a59b2b0972\"},{\"type\":\"ResetTool\",\"id\":\"a04ed1b4-3c62-4b65-cbb4-c3d180329b66\"}],\"doc\":null,\"right\":[],\"title\":\"comparing errors\",\"extra_x_ranges\":{},\"left\":[{\"type\":\"LinearAxis\",\"id\":\"4f4d10f5-e388-4b9b-cbf9-c9449d93716f\"}],\"y_range\":{\"type\":\"DataRange1d\",\"id\":\"170864b3-51c1-48bb-c8b5-822ee5016f7f\"},\"id\":\"238a02b3-e1bd-462f-c61c-130de7b273f2\",\"extra_y_ranges\":{},\"tags\":[]}}];\n",
       "      Bokeh.load_models(all_models);\n",
       "      var model = Bokeh.Collections(modeltype).get(modelid);\n",
       "      $(\"#5a5b9abf-c699-4165-c113-4182642f97d5\").html(''); // clear any previous plot in window_id\n",
       "      var view = new model.default_view({model: model, el: \"#5a5b9abf-c699-4165-c113-4182642f97d5\"});\n",
       "  });\n",
       "    }\n",
       "});\n",
       "</script>\n",
       "<div class=\"plotdiv\" id=\"5a5b9abf-c699-4165-c113-4182642f97d5\"></div>\n"
      ]
     },
     "metadata": {},
     "output_type": "display_data"
    },
    {
     "data": {
      "text/plain": [
       "{\n",
       "  text : function: 0x406158b0\n",
       "  _winid : 5a5b9abf-c699-4165-c113-4182642f97d5\n",
       "  quad : function: 0x41bdca08\n",
       "  _docid : userdata: NULL\n",
       "  yaxis : function: 0x41bdcc10\n",
       "  _legend : true\n",
       "  hover_tool : function: 0x41bdcc50\n",
       "  quiver : function: 0x41bdc9e8\n",
       "  triangle : function: 0x41a31cf0\n",
       "  save : function: 0x40615970\n",
       "  circle : function: 0x40619848\n",
       "  _yaxis : Percentage Error\n",
       "  draw : function: 0x40615910\n",
       "  gscatter : function: 0x41bdc9a8\n",
       "  title : function: 0x41bdcbd0\n",
       "  line : function: 0x41a31aa0\n",
       "  segment : function: 0x41bdc9c8\n",
       "  histogram : function: 0x41bdcbb0\n",
       "  _data : \n",
       "    {\n",
       "      1 : \n",
       "        {\n",
       "          fill_color : red\n",
       "          line_color : red\n",
       "          legend : training error\n",
       "          type : Line\n",
       "          y : DoubleTensor - size: 50\n",
       "          x : DoubleTensor - size: 50\n",
       "        }\n",
       "      2 : \n",
       "        {\n",
       "          fill_color : green\n",
       "          line_color : green\n",
       "          legend : validation error\n",
       "          type : Line\n",
       "          y : DoubleTensor - size: 50\n",
       "          x : DoubleTensor - size: 50\n",
       "        }\n",
       "      3 : \n",
       "        {\n",
       "          fill_color : blue\n",
       "          line_color : blue\n",
       "          legend : validation error\n",
       "          type : Line\n",
       "          y : DoubleTensor - size: 50\n",
       "          x : DoubleTensor - size: 50\n",
       "        }\n",
       "    }\n",
       "  _xaxis : Epochs\n",
       "  new : function: 0x40853268\n",
       "  _toAllModels : function: 0x41bdd018\n",
       "  hist : function: 0x41bdcbb0\n",
       "  _title : comparing errors\n",
       "  xaxis : function: 0x41bdcbf0\n",
       "  redraw : function: 0x40615950\n",
       "  toTemplate : function: 0x41a31b08\n",
       "  legend : function: 0x41bdcc30\n",
       "  toHTML : function: 0x406158d0\n",
       "}\n"
      ]
     },
     "execution_count": 13,
     "metadata": {},
     "output_type": "execute_result"
    }
   ],
   "source": [
    "Plot()\n",
    ":line(x_axis, training_error_wo_upscale_vector,'red','training error')\n",
    ":line(x_axis, validation_error_wo_upscale_vector,'green','validation error')\n",
    ":line(x_axis, test_error_wo_upscale_vector,'blue','validation error')\n",
    ":xaxis('Epochs'):yaxis('Percentage Error')\n",
    ":legend(true):title('comparing errors'):draw()"
   ]
  },
  {
   "cell_type": "code",
   "execution_count": 15,
   "metadata": {
    "collapsed": false
   },
   "outputs": [
    {
     "data": {
      "text/html": [
       "<script type=\"text/javascript\">\n",
       "$(function() {\n",
       "    if (typeof (window._bokeh_onload_callbacks) === \"undefined\"){\n",
       "  window._bokeh_onload_callbacks = [];\n",
       "    }\n",
       "    function load_lib(url, callback){\n",
       "  window._bokeh_onload_callbacks.push(callback);\n",
       "  if (window._bokeh_is_loading){\n",
       "      console.log(\"Bokeh: BokehJS is being loaded, scheduling callback at\", new Date());\n",
       "      return null;\n",
       "  }\n",
       "  console.log(\"Bokeh: BokehJS not loaded, scheduling load and callback at\", new Date());\n",
       "  window._bokeh_is_loading = true;\n",
       "  var s = document.createElement('script');\n",
       "  s.src = url;\n",
       "  s.async = true;\n",
       "  s.onreadystatechange = s.onload = function(){\n",
       "      Bokeh.embed.inject_css(\"https://cdn.pydata.org/bokeh-0.7.0.min.css\");\n",
       "      window._bokeh_onload_callbacks.forEach(function(callback){callback()});\n",
       "  };\n",
       "  s.onerror = function(){\n",
       "      console.warn(\"failed to load library \" + url);\n",
       "  };\n",
       "  document.getElementsByTagName(\"head\")[0].appendChild(s);\n",
       "    }\n",
       "\n",
       "    bokehjs_url = \"https://cdn.pydata.org/bokeh-0.7.0.min.js\"\n",
       "\n",
       "    var elt = document.getElementById(\"ed206cdd-6216-481c-c8ed-8d5f08a3edea\");\n",
       "    if(elt==null) {\n",
       "  console.log(\"Bokeh: ERROR: autoload.js configured with elementid 'ed206cdd-6216-481c-c8ed-8d5f08a3edea'\"\n",
       "        + \"but no matching script tag was found. \")\n",
       "  return false;\n",
       "    }\n",
       "\n",
       "    if(typeof(Bokeh) !== \"undefined\") {\n",
       "  console.log(\"Bokeh: BokehJS loaded, going straight to plotting\");\n",
       "  var modelid = \"8524d7ff-26bb-47ea-c79d-84963ca7d69f\";\n",
       "  var modeltype = \"Plot\";\n",
       "  var all_models = [{\"id\":\"c1508e7a-feda-48bc-c844-99fecdf5c70f\",\"type\":\"ColumnDataSource\",\"attributes\":{\"data\":{\"y\":[14.651162790698,6.6666666666667,5.1162790697674,3.0232558139535,5.5813953488372,4.6511627906977,4.7286821705426,4.8062015503876,4.2635658914729,4.4186046511628,4.4961240310078,4.2635658914729,4.1860465116279,4.1860465116279,4.1860465116279,4.1860465116279,4.4186046511628,4.031007751938,4.1860465116279,4.7286821705426,4.031007751938,4.1085271317829,3.953488372093,4.1085271317829,4.4186046511628,4.1085271317829,4.1085271317829,4.4186046511628,3.953488372093,3.953488372093,4.2635658914729,4.2635658914729,4.3410852713178,4.1085271317829,4.1860465116279,4.1085271317829,4.3410852713178,4.1085271317829,4.1085271317829,4.1085271317829,4.031007751938,4.031007751938,4.1085271317829,4.1085271317829,3.953488372093,3.953488372093,4.031007751938,4.031007751938,3.953488372093,4.1085271317829],\"x\":[1,2,3,4,5,6,7,8,9,10,11,12,13,14,15,16,17,18,19,20,21,22,23,24,25,26,27,28,29,30,31,32,33,34,35,36,37,38,39,40,41,42,43,44,45,46,47,48,49,50]},\"column_names\":[\"y\",\"x\"],\"cont_ranges\":{},\"discrete_ranges\":{},\"selected\":[],\"id\":\"c1508e7a-feda-48bc-c844-99fecdf5c70f\",\"doc\":null,\"tags\":[]}},{\"id\":\"a4f4fb32-1312-428a-c2e8-29e420e2b269\",\"type\":\"Line\",\"attributes\":{\"fill_alpha\":{\"units\":\"data\",\"value\":0.2},\"line_alpha\":{\"units\":\"data\",\"value\":1},\"doc\":null,\"size\":{\"units\":\"screen\",\"value\":10},\"fill_color\":{\"value\":\"red\"},\"line_color\":{\"value\":\"red\"},\"x\":{\"units\":\"data\",\"field\":\"x\"},\"id\":\"a4f4fb32-1312-428a-c2e8-29e420e2b269\",\"y\":{\"units\":\"data\",\"field\":\"y\"},\"tags\":[]}},{\"id\":\"dcd352b8-9937-48fe-c868-47a33fb5b08a\",\"type\":\"Line\",\"attributes\":{\"fill_alpha\":{\"units\":\"data\",\"value\":0.2},\"line_alpha\":{\"units\":\"data\",\"value\":1},\"doc\":null,\"size\":{\"units\":\"screen\",\"value\":10},\"fill_color\":{\"value\":\"red\"},\"line_color\":{\"value\":\"red\"},\"x\":{\"units\":\"data\",\"field\":\"x\"},\"id\":\"dcd352b8-9937-48fe-c868-47a33fb5b08a\",\"y\":{\"units\":\"data\",\"field\":\"y\"},\"tags\":[]}},{\"id\":\"e902e374-54d6-4bf9-cbd0-3c7392f8cfd2\",\"type\":\"GlyphRenderer\",\"attributes\":{\"name\":null,\"nonselection_glyph\":{\"type\":\"Line\",\"id\":\"dcd352b8-9937-48fe-c868-47a33fb5b08a\"},\"doc\":null,\"server_data_source\":null,\"data_source\":{\"type\":\"ColumnDataSource\",\"id\":\"c1508e7a-feda-48bc-c844-99fecdf5c70f\"},\"glyph\":{\"type\":\"Line\",\"id\":\"a4f4fb32-1312-428a-c2e8-29e420e2b269\"},\"selection_glyph\":null,\"id\":\"e902e374-54d6-4bf9-cbd0-3c7392f8cfd2\",\"tags\":[]}},{\"id\":\"81419d63-6947-4acb-caaf-63392739379b\",\"type\":\"ColumnDataSource\",\"attributes\":{\"data\":{\"y\":[77.906976744186,54.031007751938,35.968992248062,28.527131782946,18.914728682171,15.116279069767,9.5348837209302,7.5193798449612,7.7519379844961,7.1317829457364,6.2790697674419,6.1240310077519,5.5038759689922,5.1162790697674,3.8759689922481,4.4186046511628,4.1860465116279,4.8837209302326,4.2635658914729,4.6511627906977,4.3410852713178,4.1860465116279,4.5736434108527,4.5736434108527,4.3410852713178,4.3410852713178,4.2635658914729,4.1860465116279,4.031007751938,3.953488372093,3.953488372093,3.8759689922481,3.8759689922481,4.1860465116279,4.1085271317829,3.8759689922481,3.8759689922481,3.7984496124031,3.7209302325581,4.031007751938,3.4108527131783,4.1085271317829,4.2635658914729,3.4883720930233,3.953488372093,4.031007751938,4.1085271317829,3.1782945736434,3.7209302325581,3.2558139534884],\"x\":[1,2,3,4,5,6,7,8,9,10,11,12,13,14,15,16,17,18,19,20,21,22,23,24,25,26,27,28,29,30,31,32,33,34,35,36,37,38,39,40,41,42,43,44,45,46,47,48,49,50]},\"column_names\":[\"y\",\"x\"],\"cont_ranges\":{},\"discrete_ranges\":{},\"selected\":[],\"id\":\"81419d63-6947-4acb-caaf-63392739379b\",\"doc\":null,\"tags\":[]}},{\"id\":\"9867469d-da41-4cfb-cc4e-312fe9f17017\",\"type\":\"Line\",\"attributes\":{\"fill_alpha\":{\"units\":\"data\",\"value\":0.2},\"line_alpha\":{\"units\":\"data\",\"value\":1},\"doc\":null,\"size\":{\"units\":\"screen\",\"value\":10},\"fill_color\":{\"value\":\"green\"},\"line_color\":{\"value\":\"green\"},\"x\":{\"units\":\"data\",\"field\":\"x\"},\"id\":\"9867469d-da41-4cfb-cc4e-312fe9f17017\",\"y\":{\"units\":\"data\",\"field\":\"y\"},\"tags\":[]}},{\"id\":\"d52203c1-2943-4c80-cce8-0b3e4df41f7c\",\"type\":\"Line\",\"attributes\":{\"fill_alpha\":{\"units\":\"data\",\"value\":0.2},\"line_alpha\":{\"units\":\"data\",\"value\":1},\"doc\":null,\"size\":{\"units\":\"screen\",\"value\":10},\"fill_color\":{\"value\":\"green\"},\"line_color\":{\"value\":\"green\"},\"x\":{\"units\":\"data\",\"field\":\"x\"},\"id\":\"d52203c1-2943-4c80-cce8-0b3e4df41f7c\",\"y\":{\"units\":\"data\",\"field\":\"y\"},\"tags\":[]}},{\"id\":\"0732af29-3486-49d8-c95d-796ef11efdd2\",\"type\":\"GlyphRenderer\",\"attributes\":{\"name\":null,\"nonselection_glyph\":{\"type\":\"Line\",\"id\":\"d52203c1-2943-4c80-cce8-0b3e4df41f7c\"},\"doc\":null,\"server_data_source\":null,\"data_source\":{\"type\":\"ColumnDataSource\",\"id\":\"81419d63-6947-4acb-caaf-63392739379b\"},\"glyph\":{\"type\":\"Line\",\"id\":\"9867469d-da41-4cfb-cc4e-312fe9f17017\"},\"selection_glyph\":null,\"id\":\"0732af29-3486-49d8-c95d-796ef11efdd2\",\"tags\":[]}},{\"id\":\"5069d814-9de0-4e7b-ce2e-1a58addf0f3d\",\"type\":\"DataRange1d\",\"attributes\":{\"sources\":[{\"columns\":[\"x\"],\"source\":{\"type\":\"ColumnDataSource\",\"id\":\"c1508e7a-feda-48bc-c844-99fecdf5c70f\"}},{\"columns\":[\"x\"],\"source\":{\"type\":\"ColumnDataSource\",\"id\":\"81419d63-6947-4acb-caaf-63392739379b\"}}],\"id\":\"5069d814-9de0-4e7b-ce2e-1a58addf0f3d\",\"tags\":[],\"doc\":null}},{\"id\":\"781e61de-04f2-44ea-c4b8-660d77c0a271\",\"type\":\"DataRange1d\",\"attributes\":{\"sources\":[{\"columns\":[\"y\"],\"source\":{\"type\":\"ColumnDataSource\",\"id\":\"c1508e7a-feda-48bc-c844-99fecdf5c70f\"}},{\"columns\":[\"y\"],\"source\":{\"type\":\"ColumnDataSource\",\"id\":\"81419d63-6947-4acb-caaf-63392739379b\"}}],\"id\":\"781e61de-04f2-44ea-c4b8-660d77c0a271\",\"tags\":[],\"doc\":null}},{\"id\":\"089613ab-625d-4bba-cbe6-a7e427dc751e\",\"type\":\"ToolEvents\",\"attributes\":{\"tags\":[],\"id\":\"089613ab-625d-4bba-cbe6-a7e427dc751e\",\"geometries\":[],\"doc\":null}},{\"id\":\"a814a037-df3e-4d85-cdc0-eb7f186fd97c\",\"type\":\"BasicTickFormatter\",\"attributes\":{\"id\":\"a814a037-df3e-4d85-cdc0-eb7f186fd97c\",\"tags\":[],\"doc\":null}},{\"id\":\"7b228708-fb04-4176-c1ce-304bc3855d10\",\"type\":\"BasicTicker\",\"attributes\":{\"num_minor_ticks\":5,\"id\":\"7b228708-fb04-4176-c1ce-304bc3855d10\",\"tags\":[],\"doc\":null}},{\"id\":\"7f26662f-9866-430e-c3cb-5a97b8db7579\",\"type\":\"LinearAxis\",\"attributes\":{\"formatter\":{\"type\":\"BasicTickFormatter\",\"id\":\"a814a037-df3e-4d85-cdc0-eb7f186fd97c\"},\"ticker\":{\"type\":\"BasicTicker\",\"id\":\"7b228708-fb04-4176-c1ce-304bc3855d10\"},\"plot\":{\"id\":\"8524d7ff-26bb-47ea-c79d-84963ca7d69f\",\"type\":\"Plot\",\"subtype\":\"Figure\"},\"axis_label\":\"Epochs\",\"id\":\"7f26662f-9866-430e-c3cb-5a97b8db7579\",\"doc\":null,\"tags\":[]}},{\"id\":\"576cd5e0-b854-47c7-c7aa-6667e860a3bc\",\"type\":\"Grid\",\"attributes\":{\"dimension\":0,\"plot\":{\"id\":\"8524d7ff-26bb-47ea-c79d-84963ca7d69f\",\"type\":\"Plot\",\"subtype\":\"Figure\"},\"ticker\":{\"type\":\"BasicTicker\",\"id\":\"7b228708-fb04-4176-c1ce-304bc3855d10\"},\"id\":\"576cd5e0-b854-47c7-c7aa-6667e860a3bc\",\"doc\":null,\"tags\":[]}},{\"id\":\"3fa8ca6a-0825-414d-c166-dadcf7638543\",\"type\":\"BasicTickFormatter\",\"attributes\":{\"id\":\"3fa8ca6a-0825-414d-c166-dadcf7638543\",\"tags\":[],\"doc\":null}},{\"id\":\"e2d133b7-7f3c-409d-c09f-134ef0db5ace\",\"type\":\"BasicTicker\",\"attributes\":{\"num_minor_ticks\":5,\"id\":\"e2d133b7-7f3c-409d-c09f-134ef0db5ace\",\"tags\":[],\"doc\":null}},{\"id\":\"e6861527-5d16-4a3c-ca77-74299ba4e55f\",\"type\":\"LinearAxis\",\"attributes\":{\"formatter\":{\"type\":\"BasicTickFormatter\",\"id\":\"3fa8ca6a-0825-414d-c166-dadcf7638543\"},\"ticker\":{\"type\":\"BasicTicker\",\"id\":\"e2d133b7-7f3c-409d-c09f-134ef0db5ace\"},\"plot\":{\"id\":\"8524d7ff-26bb-47ea-c79d-84963ca7d69f\",\"type\":\"Plot\",\"subtype\":\"Figure\"},\"axis_label\":\"Percentage Error\",\"id\":\"e6861527-5d16-4a3c-ca77-74299ba4e55f\",\"doc\":null,\"tags\":[]}},{\"id\":\"8dcd2416-16f4-4dd1-cd0f-ec1a0a229ed9\",\"type\":\"Grid\",\"attributes\":{\"dimension\":1,\"plot\":{\"id\":\"8524d7ff-26bb-47ea-c79d-84963ca7d69f\",\"type\":\"Plot\",\"subtype\":\"Figure\"},\"ticker\":{\"type\":\"BasicTicker\",\"id\":\"e2d133b7-7f3c-409d-c09f-134ef0db5ace\"},\"id\":\"8dcd2416-16f4-4dd1-cd0f-ec1a0a229ed9\",\"doc\":null,\"tags\":[]}},{\"id\":\"c7e78af2-5429-4dab-cd62-44103d0384dd\",\"type\":\"PanTool\",\"attributes\":{\"plot\":{\"id\":\"8524d7ff-26bb-47ea-c79d-84963ca7d69f\",\"type\":\"Plot\",\"subtype\":\"Figure\"},\"dimensions\":[\"width\",\"height\"],\"id\":\"c7e78af2-5429-4dab-cd62-44103d0384dd\",\"doc\":null,\"tags\":[]}},{\"id\":\"cd4dc240-48a7-486b-c8d3-f41d24013f2d\",\"type\":\"WheelZoomTool\",\"attributes\":{\"plot\":{\"id\":\"8524d7ff-26bb-47ea-c79d-84963ca7d69f\",\"type\":\"Plot\",\"subtype\":\"Figure\"},\"dimensions\":[\"width\",\"height\"],\"id\":\"cd4dc240-48a7-486b-c8d3-f41d24013f2d\",\"doc\":null,\"tags\":[]}},{\"id\":\"39eadd4a-b76a-4a44-caec-ddddaeaf56de\",\"type\":\"BoxZoomTool\",\"attributes\":{\"plot\":{\"id\":\"8524d7ff-26bb-47ea-c79d-84963ca7d69f\",\"type\":\"Plot\",\"subtype\":\"Figure\"},\"id\":\"39eadd4a-b76a-4a44-caec-ddddaeaf56de\",\"tags\":[],\"doc\":null}},{\"id\":\"d9280e83-33bc-4c07-cc82-d5f4e65c802c\",\"type\":\"PreviewSaveTool\",\"attributes\":{\"plot\":{\"id\":\"8524d7ff-26bb-47ea-c79d-84963ca7d69f\",\"type\":\"Plot\",\"subtype\":\"Figure\"},\"id\":\"d9280e83-33bc-4c07-cc82-d5f4e65c802c\",\"tags\":[],\"doc\":null}},{\"id\":\"3822fa51-ca21-41f1-c105-3bd1aaed4f4b\",\"type\":\"ResizeTool\",\"attributes\":{\"plot\":{\"id\":\"8524d7ff-26bb-47ea-c79d-84963ca7d69f\",\"type\":\"Plot\",\"subtype\":\"Figure\"},\"id\":\"3822fa51-ca21-41f1-c105-3bd1aaed4f4b\",\"tags\":[],\"doc\":null}},{\"id\":\"8f197c3f-2586-4ae7-ca67-5ee7f74f9199\",\"type\":\"ResetTool\",\"attributes\":{\"plot\":{\"id\":\"8524d7ff-26bb-47ea-c79d-84963ca7d69f\",\"type\":\"Plot\",\"subtype\":\"Figure\"},\"id\":\"8f197c3f-2586-4ae7-ca67-5ee7f74f9199\",\"tags\":[],\"doc\":null}},{\"id\":\"ef639ed0-79d7-47b1-c7a9-72b14a17c566\",\"type\":\"Legend\",\"attributes\":{\"plot\":{\"id\":\"8524d7ff-26bb-47ea-c79d-84963ca7d69f\",\"type\":\"Plot\",\"subtype\":\"Figure\"},\"legends\":[[\"with upscale\",[{\"type\":\"GlyphRenderer\",\"id\":\"e902e374-54d6-4bf9-cbd0-3c7392f8cfd2\"}]],[\"without upscale\",[{\"type\":\"GlyphRenderer\",\"id\":\"0732af29-3486-49d8-c95d-796ef11efdd2\"}]]],\"id\":\"ef639ed0-79d7-47b1-c7a9-72b14a17c566\",\"doc\":null,\"tags\":[]}},{\"id\":\"8524d7ff-26bb-47ea-c79d-84963ca7d69f\",\"type\":\"Plot\",\"attributes\":{\"x_range\":{\"type\":\"DataRange1d\",\"id\":\"5069d814-9de0-4e7b-ce2e-1a58addf0f3d\"},\"tool_events\":{\"type\":\"ToolEvents\",\"id\":\"089613ab-625d-4bba-cbe6-a7e427dc751e\"},\"below\":[{\"type\":\"LinearAxis\",\"id\":\"7f26662f-9866-430e-c3cb-5a97b8db7579\"}],\"renderers\":[{\"type\":\"GlyphRenderer\",\"id\":\"e902e374-54d6-4bf9-cbd0-3c7392f8cfd2\"},{\"type\":\"GlyphRenderer\",\"id\":\"0732af29-3486-49d8-c95d-796ef11efdd2\"},{\"type\":\"LinearAxis\",\"id\":\"7f26662f-9866-430e-c3cb-5a97b8db7579\"},{\"type\":\"Grid\",\"id\":\"576cd5e0-b854-47c7-c7aa-6667e860a3bc\"},{\"type\":\"LinearAxis\",\"id\":\"e6861527-5d16-4a3c-ca77-74299ba4e55f\"},{\"type\":\"Grid\",\"id\":\"8dcd2416-16f4-4dd1-cd0f-ec1a0a229ed9\"},{\"type\":\"Legend\",\"id\":\"ef639ed0-79d7-47b1-c7a9-72b14a17c566\"}],\"above\":[],\"tools\":[{\"type\":\"PanTool\",\"id\":\"c7e78af2-5429-4dab-cd62-44103d0384dd\"},{\"type\":\"WheelZoomTool\",\"id\":\"cd4dc240-48a7-486b-c8d3-f41d24013f2d\"},{\"type\":\"BoxZoomTool\",\"id\":\"39eadd4a-b76a-4a44-caec-ddddaeaf56de\"},{\"type\":\"PreviewSaveTool\",\"id\":\"d9280e83-33bc-4c07-cc82-d5f4e65c802c\"},{\"type\":\"ResizeTool\",\"id\":\"3822fa51-ca21-41f1-c105-3bd1aaed4f4b\"},{\"type\":\"ResetTool\",\"id\":\"8f197c3f-2586-4ae7-ca67-5ee7f74f9199\"}],\"doc\":null,\"right\":[],\"title\":\"comparing validation error from different datasets\",\"extra_x_ranges\":{},\"left\":[{\"type\":\"LinearAxis\",\"id\":\"e6861527-5d16-4a3c-ca77-74299ba4e55f\"}],\"y_range\":{\"type\":\"DataRange1d\",\"id\":\"781e61de-04f2-44ea-c4b8-660d77c0a271\"},\"id\":\"8524d7ff-26bb-47ea-c79d-84963ca7d69f\",\"extra_y_ranges\":{},\"tags\":[]}}];\n",
       "  Bokeh.load_models(all_models);\n",
       "  var model = Bokeh.Collections(modeltype).get(modelid);\n",
       "  $(\"#ed206cdd-6216-481c-c8ed-8d5f08a3edea\").html(''); // clear any previous plot in window_id\n",
       "  var view = new model.default_view({model: model, el: \"#ed206cdd-6216-481c-c8ed-8d5f08a3edea\"});\n",
       "    } else {\n",
       "  load_lib(bokehjs_url, function() {\n",
       "      console.log(\"Bokeh: BokehJS plotting callback run at\", new Date())\n",
       "      var modelid = \"8524d7ff-26bb-47ea-c79d-84963ca7d69f\";\n",
       "      var modeltype = \"Plot\";\n",
       "      var all_models = [{\"id\":\"c1508e7a-feda-48bc-c844-99fecdf5c70f\",\"type\":\"ColumnDataSource\",\"attributes\":{\"data\":{\"y\":[14.651162790698,6.6666666666667,5.1162790697674,3.0232558139535,5.5813953488372,4.6511627906977,4.7286821705426,4.8062015503876,4.2635658914729,4.4186046511628,4.4961240310078,4.2635658914729,4.1860465116279,4.1860465116279,4.1860465116279,4.1860465116279,4.4186046511628,4.031007751938,4.1860465116279,4.7286821705426,4.031007751938,4.1085271317829,3.953488372093,4.1085271317829,4.4186046511628,4.1085271317829,4.1085271317829,4.4186046511628,3.953488372093,3.953488372093,4.2635658914729,4.2635658914729,4.3410852713178,4.1085271317829,4.1860465116279,4.1085271317829,4.3410852713178,4.1085271317829,4.1085271317829,4.1085271317829,4.031007751938,4.031007751938,4.1085271317829,4.1085271317829,3.953488372093,3.953488372093,4.031007751938,4.031007751938,3.953488372093,4.1085271317829],\"x\":[1,2,3,4,5,6,7,8,9,10,11,12,13,14,15,16,17,18,19,20,21,22,23,24,25,26,27,28,29,30,31,32,33,34,35,36,37,38,39,40,41,42,43,44,45,46,47,48,49,50]},\"column_names\":[\"y\",\"x\"],\"cont_ranges\":{},\"discrete_ranges\":{},\"selected\":[],\"id\":\"c1508e7a-feda-48bc-c844-99fecdf5c70f\",\"doc\":null,\"tags\":[]}},{\"id\":\"a4f4fb32-1312-428a-c2e8-29e420e2b269\",\"type\":\"Line\",\"attributes\":{\"fill_alpha\":{\"units\":\"data\",\"value\":0.2},\"line_alpha\":{\"units\":\"data\",\"value\":1},\"doc\":null,\"size\":{\"units\":\"screen\",\"value\":10},\"fill_color\":{\"value\":\"red\"},\"line_color\":{\"value\":\"red\"},\"x\":{\"units\":\"data\",\"field\":\"x\"},\"id\":\"a4f4fb32-1312-428a-c2e8-29e420e2b269\",\"y\":{\"units\":\"data\",\"field\":\"y\"},\"tags\":[]}},{\"id\":\"dcd352b8-9937-48fe-c868-47a33fb5b08a\",\"type\":\"Line\",\"attributes\":{\"fill_alpha\":{\"units\":\"data\",\"value\":0.2},\"line_alpha\":{\"units\":\"data\",\"value\":1},\"doc\":null,\"size\":{\"units\":\"screen\",\"value\":10},\"fill_color\":{\"value\":\"red\"},\"line_color\":{\"value\":\"red\"},\"x\":{\"units\":\"data\",\"field\":\"x\"},\"id\":\"dcd352b8-9937-48fe-c868-47a33fb5b08a\",\"y\":{\"units\":\"data\",\"field\":\"y\"},\"tags\":[]}},{\"id\":\"e902e374-54d6-4bf9-cbd0-3c7392f8cfd2\",\"type\":\"GlyphRenderer\",\"attributes\":{\"name\":null,\"nonselection_glyph\":{\"type\":\"Line\",\"id\":\"dcd352b8-9937-48fe-c868-47a33fb5b08a\"},\"doc\":null,\"server_data_source\":null,\"data_source\":{\"type\":\"ColumnDataSource\",\"id\":\"c1508e7a-feda-48bc-c844-99fecdf5c70f\"},\"glyph\":{\"type\":\"Line\",\"id\":\"a4f4fb32-1312-428a-c2e8-29e420e2b269\"},\"selection_glyph\":null,\"id\":\"e902e374-54d6-4bf9-cbd0-3c7392f8cfd2\",\"tags\":[]}},{\"id\":\"81419d63-6947-4acb-caaf-63392739379b\",\"type\":\"ColumnDataSource\",\"attributes\":{\"data\":{\"y\":[77.906976744186,54.031007751938,35.968992248062,28.527131782946,18.914728682171,15.116279069767,9.5348837209302,7.5193798449612,7.7519379844961,7.1317829457364,6.2790697674419,6.1240310077519,5.5038759689922,5.1162790697674,3.8759689922481,4.4186046511628,4.1860465116279,4.8837209302326,4.2635658914729,4.6511627906977,4.3410852713178,4.1860465116279,4.5736434108527,4.5736434108527,4.3410852713178,4.3410852713178,4.2635658914729,4.1860465116279,4.031007751938,3.953488372093,3.953488372093,3.8759689922481,3.8759689922481,4.1860465116279,4.1085271317829,3.8759689922481,3.8759689922481,3.7984496124031,3.7209302325581,4.031007751938,3.4108527131783,4.1085271317829,4.2635658914729,3.4883720930233,3.953488372093,4.031007751938,4.1085271317829,3.1782945736434,3.7209302325581,3.2558139534884],\"x\":[1,2,3,4,5,6,7,8,9,10,11,12,13,14,15,16,17,18,19,20,21,22,23,24,25,26,27,28,29,30,31,32,33,34,35,36,37,38,39,40,41,42,43,44,45,46,47,48,49,50]},\"column_names\":[\"y\",\"x\"],\"cont_ranges\":{},\"discrete_ranges\":{},\"selected\":[],\"id\":\"81419d63-6947-4acb-caaf-63392739379b\",\"doc\":null,\"tags\":[]}},{\"id\":\"9867469d-da41-4cfb-cc4e-312fe9f17017\",\"type\":\"Line\",\"attributes\":{\"fill_alpha\":{\"units\":\"data\",\"value\":0.2},\"line_alpha\":{\"units\":\"data\",\"value\":1},\"doc\":null,\"size\":{\"units\":\"screen\",\"value\":10},\"fill_color\":{\"value\":\"green\"},\"line_color\":{\"value\":\"green\"},\"x\":{\"units\":\"data\",\"field\":\"x\"},\"id\":\"9867469d-da41-4cfb-cc4e-312fe9f17017\",\"y\":{\"units\":\"data\",\"field\":\"y\"},\"tags\":[]}},{\"id\":\"d52203c1-2943-4c80-cce8-0b3e4df41f7c\",\"type\":\"Line\",\"attributes\":{\"fill_alpha\":{\"units\":\"data\",\"value\":0.2},\"line_alpha\":{\"units\":\"data\",\"value\":1},\"doc\":null,\"size\":{\"units\":\"screen\",\"value\":10},\"fill_color\":{\"value\":\"green\"},\"line_color\":{\"value\":\"green\"},\"x\":{\"units\":\"data\",\"field\":\"x\"},\"id\":\"d52203c1-2943-4c80-cce8-0b3e4df41f7c\",\"y\":{\"units\":\"data\",\"field\":\"y\"},\"tags\":[]}},{\"id\":\"0732af29-3486-49d8-c95d-796ef11efdd2\",\"type\":\"GlyphRenderer\",\"attributes\":{\"name\":null,\"nonselection_glyph\":{\"type\":\"Line\",\"id\":\"d52203c1-2943-4c80-cce8-0b3e4df41f7c\"},\"doc\":null,\"server_data_source\":null,\"data_source\":{\"type\":\"ColumnDataSource\",\"id\":\"81419d63-6947-4acb-caaf-63392739379b\"},\"glyph\":{\"type\":\"Line\",\"id\":\"9867469d-da41-4cfb-cc4e-312fe9f17017\"},\"selection_glyph\":null,\"id\":\"0732af29-3486-49d8-c95d-796ef11efdd2\",\"tags\":[]}},{\"id\":\"5069d814-9de0-4e7b-ce2e-1a58addf0f3d\",\"type\":\"DataRange1d\",\"attributes\":{\"sources\":[{\"columns\":[\"x\"],\"source\":{\"type\":\"ColumnDataSource\",\"id\":\"c1508e7a-feda-48bc-c844-99fecdf5c70f\"}},{\"columns\":[\"x\"],\"source\":{\"type\":\"ColumnDataSource\",\"id\":\"81419d63-6947-4acb-caaf-63392739379b\"}}],\"id\":\"5069d814-9de0-4e7b-ce2e-1a58addf0f3d\",\"tags\":[],\"doc\":null}},{\"id\":\"781e61de-04f2-44ea-c4b8-660d77c0a271\",\"type\":\"DataRange1d\",\"attributes\":{\"sources\":[{\"columns\":[\"y\"],\"source\":{\"type\":\"ColumnDataSource\",\"id\":\"c1508e7a-feda-48bc-c844-99fecdf5c70f\"}},{\"columns\":[\"y\"],\"source\":{\"type\":\"ColumnDataSource\",\"id\":\"81419d63-6947-4acb-caaf-63392739379b\"}}],\"id\":\"781e61de-04f2-44ea-c4b8-660d77c0a271\",\"tags\":[],\"doc\":null}},{\"id\":\"089613ab-625d-4bba-cbe6-a7e427dc751e\",\"type\":\"ToolEvents\",\"attributes\":{\"tags\":[],\"id\":\"089613ab-625d-4bba-cbe6-a7e427dc751e\",\"geometries\":[],\"doc\":null}},{\"id\":\"a814a037-df3e-4d85-cdc0-eb7f186fd97c\",\"type\":\"BasicTickFormatter\",\"attributes\":{\"id\":\"a814a037-df3e-4d85-cdc0-eb7f186fd97c\",\"tags\":[],\"doc\":null}},{\"id\":\"7b228708-fb04-4176-c1ce-304bc3855d10\",\"type\":\"BasicTicker\",\"attributes\":{\"num_minor_ticks\":5,\"id\":\"7b228708-fb04-4176-c1ce-304bc3855d10\",\"tags\":[],\"doc\":null}},{\"id\":\"7f26662f-9866-430e-c3cb-5a97b8db7579\",\"type\":\"LinearAxis\",\"attributes\":{\"formatter\":{\"type\":\"BasicTickFormatter\",\"id\":\"a814a037-df3e-4d85-cdc0-eb7f186fd97c\"},\"ticker\":{\"type\":\"BasicTicker\",\"id\":\"7b228708-fb04-4176-c1ce-304bc3855d10\"},\"plot\":{\"id\":\"8524d7ff-26bb-47ea-c79d-84963ca7d69f\",\"type\":\"Plot\",\"subtype\":\"Figure\"},\"axis_label\":\"Epochs\",\"id\":\"7f26662f-9866-430e-c3cb-5a97b8db7579\",\"doc\":null,\"tags\":[]}},{\"id\":\"576cd5e0-b854-47c7-c7aa-6667e860a3bc\",\"type\":\"Grid\",\"attributes\":{\"dimension\":0,\"plot\":{\"id\":\"8524d7ff-26bb-47ea-c79d-84963ca7d69f\",\"type\":\"Plot\",\"subtype\":\"Figure\"},\"ticker\":{\"type\":\"BasicTicker\",\"id\":\"7b228708-fb04-4176-c1ce-304bc3855d10\"},\"id\":\"576cd5e0-b854-47c7-c7aa-6667e860a3bc\",\"doc\":null,\"tags\":[]}},{\"id\":\"3fa8ca6a-0825-414d-c166-dadcf7638543\",\"type\":\"BasicTickFormatter\",\"attributes\":{\"id\":\"3fa8ca6a-0825-414d-c166-dadcf7638543\",\"tags\":[],\"doc\":null}},{\"id\":\"e2d133b7-7f3c-409d-c09f-134ef0db5ace\",\"type\":\"BasicTicker\",\"attributes\":{\"num_minor_ticks\":5,\"id\":\"e2d133b7-7f3c-409d-c09f-134ef0db5ace\",\"tags\":[],\"doc\":null}},{\"id\":\"e6861527-5d16-4a3c-ca77-74299ba4e55f\",\"type\":\"LinearAxis\",\"attributes\":{\"formatter\":{\"type\":\"BasicTickFormatter\",\"id\":\"3fa8ca6a-0825-414d-c166-dadcf7638543\"},\"ticker\":{\"type\":\"BasicTicker\",\"id\":\"e2d133b7-7f3c-409d-c09f-134ef0db5ace\"},\"plot\":{\"id\":\"8524d7ff-26bb-47ea-c79d-84963ca7d69f\",\"type\":\"Plot\",\"subtype\":\"Figure\"},\"axis_label\":\"Percentage Error\",\"id\":\"e6861527-5d16-4a3c-ca77-74299ba4e55f\",\"doc\":null,\"tags\":[]}},{\"id\":\"8dcd2416-16f4-4dd1-cd0f-ec1a0a229ed9\",\"type\":\"Grid\",\"attributes\":{\"dimension\":1,\"plot\":{\"id\":\"8524d7ff-26bb-47ea-c79d-84963ca7d69f\",\"type\":\"Plot\",\"subtype\":\"Figure\"},\"ticker\":{\"type\":\"BasicTicker\",\"id\":\"e2d133b7-7f3c-409d-c09f-134ef0db5ace\"},\"id\":\"8dcd2416-16f4-4dd1-cd0f-ec1a0a229ed9\",\"doc\":null,\"tags\":[]}},{\"id\":\"c7e78af2-5429-4dab-cd62-44103d0384dd\",\"type\":\"PanTool\",\"attributes\":{\"plot\":{\"id\":\"8524d7ff-26bb-47ea-c79d-84963ca7d69f\",\"type\":\"Plot\",\"subtype\":\"Figure\"},\"dimensions\":[\"width\",\"height\"],\"id\":\"c7e78af2-5429-4dab-cd62-44103d0384dd\",\"doc\":null,\"tags\":[]}},{\"id\":\"cd4dc240-48a7-486b-c8d3-f41d24013f2d\",\"type\":\"WheelZoomTool\",\"attributes\":{\"plot\":{\"id\":\"8524d7ff-26bb-47ea-c79d-84963ca7d69f\",\"type\":\"Plot\",\"subtype\":\"Figure\"},\"dimensions\":[\"width\",\"height\"],\"id\":\"cd4dc240-48a7-486b-c8d3-f41d24013f2d\",\"doc\":null,\"tags\":[]}},{\"id\":\"39eadd4a-b76a-4a44-caec-ddddaeaf56de\",\"type\":\"BoxZoomTool\",\"attributes\":{\"plot\":{\"id\":\"8524d7ff-26bb-47ea-c79d-84963ca7d69f\",\"type\":\"Plot\",\"subtype\":\"Figure\"},\"id\":\"39eadd4a-b76a-4a44-caec-ddddaeaf56de\",\"tags\":[],\"doc\":null}},{\"id\":\"d9280e83-33bc-4c07-cc82-d5f4e65c802c\",\"type\":\"PreviewSaveTool\",\"attributes\":{\"plot\":{\"id\":\"8524d7ff-26bb-47ea-c79d-84963ca7d69f\",\"type\":\"Plot\",\"subtype\":\"Figure\"},\"id\":\"d9280e83-33bc-4c07-cc82-d5f4e65c802c\",\"tags\":[],\"doc\":null}},{\"id\":\"3822fa51-ca21-41f1-c105-3bd1aaed4f4b\",\"type\":\"ResizeTool\",\"attributes\":{\"plot\":{\"id\":\"8524d7ff-26bb-47ea-c79d-84963ca7d69f\",\"type\":\"Plot\",\"subtype\":\"Figure\"},\"id\":\"3822fa51-ca21-41f1-c105-3bd1aaed4f4b\",\"tags\":[],\"doc\":null}},{\"id\":\"8f197c3f-2586-4ae7-ca67-5ee7f74f9199\",\"type\":\"ResetTool\",\"attributes\":{\"plot\":{\"id\":\"8524d7ff-26bb-47ea-c79d-84963ca7d69f\",\"type\":\"Plot\",\"subtype\":\"Figure\"},\"id\":\"8f197c3f-2586-4ae7-ca67-5ee7f74f9199\",\"tags\":[],\"doc\":null}},{\"id\":\"ef639ed0-79d7-47b1-c7a9-72b14a17c566\",\"type\":\"Legend\",\"attributes\":{\"plot\":{\"id\":\"8524d7ff-26bb-47ea-c79d-84963ca7d69f\",\"type\":\"Plot\",\"subtype\":\"Figure\"},\"legends\":[[\"with upscale\",[{\"type\":\"GlyphRenderer\",\"id\":\"e902e374-54d6-4bf9-cbd0-3c7392f8cfd2\"}]],[\"without upscale\",[{\"type\":\"GlyphRenderer\",\"id\":\"0732af29-3486-49d8-c95d-796ef11efdd2\"}]]],\"id\":\"ef639ed0-79d7-47b1-c7a9-72b14a17c566\",\"doc\":null,\"tags\":[]}},{\"id\":\"8524d7ff-26bb-47ea-c79d-84963ca7d69f\",\"type\":\"Plot\",\"attributes\":{\"x_range\":{\"type\":\"DataRange1d\",\"id\":\"5069d814-9de0-4e7b-ce2e-1a58addf0f3d\"},\"tool_events\":{\"type\":\"ToolEvents\",\"id\":\"089613ab-625d-4bba-cbe6-a7e427dc751e\"},\"below\":[{\"type\":\"LinearAxis\",\"id\":\"7f26662f-9866-430e-c3cb-5a97b8db7579\"}],\"renderers\":[{\"type\":\"GlyphRenderer\",\"id\":\"e902e374-54d6-4bf9-cbd0-3c7392f8cfd2\"},{\"type\":\"GlyphRenderer\",\"id\":\"0732af29-3486-49d8-c95d-796ef11efdd2\"},{\"type\":\"LinearAxis\",\"id\":\"7f26662f-9866-430e-c3cb-5a97b8db7579\"},{\"type\":\"Grid\",\"id\":\"576cd5e0-b854-47c7-c7aa-6667e860a3bc\"},{\"type\":\"LinearAxis\",\"id\":\"e6861527-5d16-4a3c-ca77-74299ba4e55f\"},{\"type\":\"Grid\",\"id\":\"8dcd2416-16f4-4dd1-cd0f-ec1a0a229ed9\"},{\"type\":\"Legend\",\"id\":\"ef639ed0-79d7-47b1-c7a9-72b14a17c566\"}],\"above\":[],\"tools\":[{\"type\":\"PanTool\",\"id\":\"c7e78af2-5429-4dab-cd62-44103d0384dd\"},{\"type\":\"WheelZoomTool\",\"id\":\"cd4dc240-48a7-486b-c8d3-f41d24013f2d\"},{\"type\":\"BoxZoomTool\",\"id\":\"39eadd4a-b76a-4a44-caec-ddddaeaf56de\"},{\"type\":\"PreviewSaveTool\",\"id\":\"d9280e83-33bc-4c07-cc82-d5f4e65c802c\"},{\"type\":\"ResizeTool\",\"id\":\"3822fa51-ca21-41f1-c105-3bd1aaed4f4b\"},{\"type\":\"ResetTool\",\"id\":\"8f197c3f-2586-4ae7-ca67-5ee7f74f9199\"}],\"doc\":null,\"right\":[],\"title\":\"comparing validation error from different datasets\",\"extra_x_ranges\":{},\"left\":[{\"type\":\"LinearAxis\",\"id\":\"e6861527-5d16-4a3c-ca77-74299ba4e55f\"}],\"y_range\":{\"type\":\"DataRange1d\",\"id\":\"781e61de-04f2-44ea-c4b8-660d77c0a271\"},\"id\":\"8524d7ff-26bb-47ea-c79d-84963ca7d69f\",\"extra_y_ranges\":{},\"tags\":[]}}];\n",
       "      Bokeh.load_models(all_models);\n",
       "      var model = Bokeh.Collections(modeltype).get(modelid);\n",
       "      $(\"#ed206cdd-6216-481c-c8ed-8d5f08a3edea\").html(''); // clear any previous plot in window_id\n",
       "      var view = new model.default_view({model: model, el: \"#ed206cdd-6216-481c-c8ed-8d5f08a3edea\"});\n",
       "  });\n",
       "    }\n",
       "});\n",
       "</script>\n",
       "<div class=\"plotdiv\" id=\"ed206cdd-6216-481c-c8ed-8d5f08a3edea\"></div>\n"
      ]
     },
     "metadata": {},
     "output_type": "display_data"
    },
    {
     "data": {
      "text/plain": [
       "{\n",
       "  text : function: 0x406158b0\n",
       "  _winid : ed206cdd-6216-481c-c8ed-8d5f08a3edea\n",
       "  quad : function: 0x41bdca08\n",
       "  _docid : userdata: NULL\n",
       "  yaxis : function: 0x41bdcc10\n",
       "  _legend : true\n",
       "  hover_tool : function: 0x41bdcc50\n",
       "  quiver : function: 0x41bdc9e8\n",
       "  triangle : function: 0x41a31cf0\n",
       "  save : function: 0x40615970\n",
       " "
      ]
     },
     "execution_count": 15,
     "metadata": {},
     "output_type": "execute_result"
    },
    {
     "data": {
      "text/plain": [
       " circle : function: 0x40619848\n",
       "  _yaxis : Percentage Error\n",
       "  draw : function: 0x40615910\n",
       "  gscatter : function: 0x41bdc9a8\n",
       "  title : function: 0x41bdcbd0\n",
       "  line : function: 0x41a31aa0\n",
       "  segment : function: 0x41bdc9c8\n",
       "  histogram : function: 0x41bdcbb0\n",
       "  _data : \n",
       "    {\n",
       "      1 : \n",
       "        {\n",
       "          fill_color : red\n",
       "          line_color : red\n",
       "          legend : with upscale\n",
       "          type : Line\n",
       "          y : DoubleTensor - size: 50\n",
       "          x : DoubleTensor - size: 50\n",
       "        }\n",
       "      2 : \n",
       "        {\n",
       "          fill_color : green\n",
       "          line_color : green\n",
       "          legend : without upscale\n",
       "          type : Line\n",
       "          y : DoubleTensor - size: 50\n",
       "          x : DoubleTensor - size: 50\n",
       "        }\n",
       "    }\n",
       "  _xaxis : Epochs\n",
       "  new : function: 0x40853268\n",
       "  _toAllModels : function: 0x41bdd018\n",
       "  hist : function: 0x41bdcbb0\n",
       "  _title : comparing validation error from different datasets\n",
       "  xaxis : function: 0x41bdcbf0\n",
       "  redraw : function: 0x40615950\n",
       "  toTemplate : function: 0x41a31b08\n",
       "  legend : function: 0x41bdcc30\n",
       "  toHTML : function: 0x406158d0\n",
       "}\n"
      ]
     },
     "execution_count": 15,
     "metadata": {},
     "output_type": "execute_result"
    }
   ],
   "source": [
    "Plot()\n",
    ":line(x_axis, validation_error_vector,'red','with upscale')\n",
    ":line(x_axis, validation_error_wo_upscale_vector,'green','without upscale')\n",
    ":xaxis('Epochs'):yaxis('Percentage Error')\n",
    ":legend(true):title('comparing validation error from different datasets'):draw()"
   ]
  },
  {
   "cell_type": "code",
   "execution_count": 16,
   "metadata": {
    "collapsed": false
   },
   "outputs": [
    {
     "data": {
      "text/html": [
       "<script type=\"text/javascript\">\n",
       "$(function() {\n",
       "    if (typeof (window._bokeh_onload_callbacks) === \"undefined\"){\n",
       "  window._bokeh_onload_callbacks = [];\n",
       "    }\n",
       "    function load_lib(url, callback){\n",
       "  window._bokeh_onload_callbacks.push(callback);\n",
       "  if (window._bokeh_is_loading){\n",
       "      console.log(\"Bokeh: BokehJS is being loaded, scheduling callback at\", new Date());\n",
       "      return null;\n",
       "  }\n",
       "  console.log(\"Bokeh: BokehJS not loaded, scheduling load and callback at\", new Date());\n",
       "  window._bokeh_is_loading = true;\n",
       "  var s = document.createElement('script');\n",
       "  s.src = url;\n",
       "  s.async = true;\n",
       "  s.onreadystatechange = s.onload = function(){\n",
       "      Bokeh.embed.inject_css(\"https://cdn.pydata.org/bokeh-0.7.0.min.css\");\n",
       "      window._bokeh_onload_callbacks.forEach(function(callback){callback()});\n",
       "  };\n",
       "  s.onerror = function(){\n",
       "      console.warn(\"failed to load library \" + url);\n",
       "  };\n",
       "  document.getElementsByTagName(\"head\")[0].appendChild(s);\n",
       "    }\n",
       "\n",
       "    bokehjs_url = \"https://cdn.pydata.org/bokeh-0.7.0.min.js\"\n",
       "\n",
       "    var elt = document.getElementById(\"9ce24391-45bb-4be7-cb2a-059464107515\");\n",
       "    if(elt==null) {\n",
       "  console.log(\"Bokeh: ERROR: autoload.js configured with elementid '9ce24391-45bb-4be7-cb2a-059464107515'\"\n",
       "        + \"but no matching script tag was found. \")\n",
       "  return false;\n",
       "    }\n",
       "\n",
       "    if(typeof(Bokeh) !== \"undefined\") {\n",
       "  console.log(\"Bokeh: BokehJS loaded, going straight to plotting\");\n",
       "  var modelid = \"4dcfb421-12de-42e9-c218-08dbaf70abd6\";\n",
       "  var modeltype = \"Plot\";\n",
       "  var all_models = [{\"id\":\"23560b0b-3267-4c1a-ccf3-960d3e751db7\",\"type\":\"ColumnDataSource\",\"attributes\":{\"data\":{\"y\":[47.610517494238,7.11606955793,2.5927089880578,1.4927718416091,0.97423004399749,0.68719882673371,0.58453802639849,0.41797611565053,0.34674209092814,0.32055311125079,0.26712759270899,0.19694112717369,0.1770375026189,0.16237167399958,0.16132411481249,0.11104127383197,0.10894615545778,0.10370835952231,0.099518122773937,0.089042530902996,0.075424261470773,0.06180599203855,0.059710873664362,0.052377959354704,0.052377959354704,0.069138906348209,0.052377959354704,0.049235281793421,0.053425518541798,0.047140163419233,0.041902367483763,0.042949926670857,0.034569453174104,0.038759689922481,0.031426775612822,0.030379216425728,0.027236538864446,0.042949926670857,0.042949926670857,0.024093861303164,0.027236538864446,0.03352189398701,0.031426775612822,0.018856065367693,0.021998742928975,0.02304630211607,0.021998742928975,0.020951183741881,0.02304630211607,0.03352189398701],\"x\":[1,2,3,4,5,6,7,8,9,10,11,12,13,14,15,16,17,18,19,20,21,22,23,24,25,26,27,28,29,30,31,32,33,34,35,36,37,38,39,40,41,42,43,44,45,46,47,48,49,50]},\"column_names\":[\"y\",\"x\"],\"cont_ranges\":{},\"discrete_ranges\":{},\"selected\":[],\"id\":\"23560b0b-3267-4c1a-ccf3-960d3e751db7\",\"doc\":null,\"tags\":[]}},{\"id\":\"005b3e91-330a-4b54-cbd5-09603e8fd2c5\",\"type\":\"Line\",\"attributes\":{\"fill_alpha\":{\"units\":\"data\",\"value\":0.2},\"line_alpha\":{\"units\":\"data\",\"value\":1},\"doc\":null,\"size\":{\"units\":\"screen\",\"value\":10},\"fill_color\":{\"value\":\"red\"},\"line_color\":{\"value\":\"red\"},\"x\":{\"units\":\"data\",\"field\":\"x\"},\"id\":\"005b3e91-330a-4b54-cbd5-09603e8fd2c5\",\"y\":{\"units\":\"data\",\"field\":\"y\"},\"tags\":[]}},{\"id\":\"1f48dc87-0cdf-4e86-ce55-ef7445ca8630\",\"type\":\"Line\",\"attributes\":{\"fill_alpha\":{\"units\":\"data\",\"value\":0.2},\"line_alpha\":{\"units\":\"data\",\"value\":1},\"doc\":null,\"size\":{\"units\":\"screen\",\"value\":10},\"fill_color\":{\"value\":\"red\"},\"line_color\":{\"value\":\"red\"},\"x\":{\"units\":\"data\",\"field\":\"x\"},\"id\":\"1f48dc87-0cdf-4e86-ce55-ef7445ca8630\",\"y\":{\"units\":\"data\",\"field\":\"y\"},\"tags\":[]}},{\"id\":\"6b6406e7-a779-4d6b-cd40-f518ad55f8af\",\"type\":\"GlyphRenderer\",\"attributes\":{\"name\":null,\"nonselection_glyph\":{\"type\":\"Line\",\"id\":\"1f48dc87-0cdf-4e86-ce55-ef7445ca8630\"},\"doc\":null,\"server_data_source\":null,\"data_source\":{\"type\":\"ColumnDataSource\",\"id\":\"23560b0b-3267-4c1a-ccf3-960d3e751db7\"},\"glyph\":{\"type\":\"Line\",\"id\":\"005b3e91-330a-4b54-cbd5-09603e8fd2c5\"},\"selection_glyph\":null,\"id\":\"6b6406e7-a779-4d6b-cd40-f518ad55f8af\",\"tags\":[]}},{\"id\":\"fa209698-eee6-4e37-ce91-622fb23d561a\",\"type\":\"ColumnDataSource\",\"attributes\":{\"data\":{\"y\":[80.089137371766,44.600332287244,22.244784936312,12.85371449669,8.5023339223081,5.9073287797674,4.3434689733379,3.2965004351381,2.7347767609905,2.0807510746591,1.8961470502914,1.3766185817137,1.3291489754477,1.0865265434215,0.92565732218677,0.8069833065218,0.80170890582558,0.61446768110973,0.56699807484375,0.51952846857776,0.48524486405232,0.40085445291279,0.40876605395712,0.30591524038081,0.36129644769113,0.3270128431657,0.29272923864026,0.2531712334186,0.24789683272238,0.20833882750073,0.21361322819695,0.16086922123474,0.21097602784884,0.20570162715261,0.18460402436773,0.1503204198423,0.17141802262718,0.11603681531686,0.12922281705741,0.12394841636119,0.1265856167093,0.11076241462064,0.1265856167093,0.11867401566497,0.1002136132282,0.11603681531686,0.10285081357631,0.097576412880087,0.10285081357631,0.11339961496875],\"x\":[1,2,3,4,5,6,7,8,9,10,11,12,13,14,15,16,17,18,19,20,21,22,23,24,25,26,27,28,29,30,31,32,33,34,35,36,37,38,39,40,41,42,43,44,45,46,47,48,49,50]},\"column_names\":[\"y\",\"x\"],\"cont_ranges\":{},\"discrete_ranges\":{},\"selected\":[],\"id\":\"fa209698-eee6-4e37-ce91-622fb23d561a\",\"doc\":null,\"tags\":[]}},{\"id\":\"a556f613-de57-4527-c5e7-c6d5e05c96d0\",\"type\":\"Line\",\"attributes\":{\"fill_alpha\":{\"units\":\"data\",\"value\":0.2},\"line_alpha\":{\"units\":\"data\",\"value\":1},\"doc\":null,\"size\":{\"units\":\"screen\",\"value\":10},\"fill_color\":{\"value\":\"green\"},\"line_color\":{\"value\":\"green\"},\"x\":{\"units\":\"data\",\"field\":\"x\"},\"id\":\"a556f613-de57-4527-c5e7-c6d5e05c96d0\",\"y\":{\"units\":\"data\",\"field\":\"y\"},\"tags\":[]}},{\"id\":\"54733f11-fb69-4ee3-ce8d-4aac9274e62c\",\"type\":\"Line\",\"attributes\":{\"fill_alpha\":{\"units\":\"data\",\"value\":0.2},\"line_alpha\":{\"units\":\"data\",\"value\":1},\"doc\":null,\"size\":{\"units\":\"screen\",\"value\":10},\"fill_color\":{\"value\":\"green\"},\"line_color\":{\"value\":\"green\"},\"x\":{\"units\":\"data\",\"field\":\"x\"},\"id\":\"54733f11-fb69-4ee3-ce8d-4aac9274e62c\",\"y\":{\"units\":\"data\",\"field\":\"y\"},\"tags\":[]}},{\"id\":\"24d6e89d-16b0-4fad-cfcd-938e07a048b2\",\"type\":\"GlyphRenderer\",\"attributes\":{\"name\":null,\"nonselection_glyph\":{\"type\":\"Line\",\"id\":\"54733f11-fb69-4ee3-ce8d-4aac9274e62c\"},\"doc\":null,\"server_data_source\":null,\"data_source\":{\"type\":\"ColumnDataSource\",\"id\":\"fa209698-eee6-4e37-ce91-622fb23d561a\"},\"glyph\":{\"type\":\"Line\",\"id\":\"a556f613-de57-4527-c5e7-c6d5e05c96d0\"},\"selection_glyph\":null,\"id\":\"24d6e89d-16b0-4fad-cfcd-938e07a048b2\",\"tags\":[]}},{\"id\":\"6496e80c-2930-4771-c7c3-4d76b5a99164\",\"type\":\"DataRange1d\",\"attributes\":{\"sources\":[{\"columns\":[\"x\"],\"source\":{\"type\":\"ColumnDataSource\",\"id\":\"23560b0b-3267-4c1a-ccf3-960d3e751db7\"}},{\"columns\":[\"x\"],\"source\":{\"type\":\"ColumnDataSource\",\"id\":\"fa209698-eee6-4e37-ce91-622fb23d561a\"}}],\"id\":\"6496e80c-2930-4771-c7c3-4d76b5a99164\",\"tags\":[],\"doc\":null}},{\"id\":\"b307a2f6-0b71-44c9-c475-b84cd872bf05\",\"type\":\"DataRange1d\",\"attributes\":{\"sources\":[{\"columns\":[\"y\"],\"source\":{\"type\":\"ColumnDataSource\",\"id\":\"23560b0b-3267-4c1a-ccf3-960d3e751db7\"}},{\"columns\":[\"y\"],\"source\":{\"type\":\"ColumnDataSource\",\"id\":\"fa209698-eee6-4e37-ce91-622fb23d561a\"}}],\"id\":\"b307a2f6-0b71-44c9-c475-b84cd872bf05\",\"tags\":[],\"doc\":null}},{\"id\":\"11e9f07e-a9b9-4695-c63e-d2e0ea283649\",\"type\":\"ToolEvents\",\"attributes\":{\"tags\":[],\"id\":\"11e9f07e-a9b9-4695-c63e-d2e0ea283649\",\"geometries\":[],\"doc\":null}},{\"id\":\"83863e46-7f84-4408-c40b-e3f1c979c535\",\"type\":\"BasicTickFormatter\",\"attributes\":{\"id\":\"83863e46-7f84-4408-c40b-e3f1c979c535\",\"tags\":[],\"doc\":null}},{\"id\":\"cd2db6ca-9f16-483e-c809-02a50c7a87cf\",\"type\":\"BasicTicker\",\"attributes\":{\"num_minor_ticks\":5,\"id\":\"cd2db6ca-9f16-483e-c809-02a50c7a87cf\",\"tags\":[],\"doc\":null}},{\"id\":\"fafa68b0-7eef-453d-c55c-a9df41aef3e6\",\"type\":\"LinearAxis\",\"attributes\":{\"formatter\":{\"type\":\"BasicTickFormatter\",\"id\":\"83863e46-7f84-4408-c40b-e3f1c979c535\"},\"ticker\":{\"type\":\"BasicTicker\",\"id\":\"cd2db6ca-9f16-483e-c809-02a50c7a87cf\"},\"plot\":{\"id\":\"4dcfb421-12de-42e9-c218-08dbaf70abd6\",\"type\":\"Plot\",\"subtype\":\"Figure\"},\"axis_label\":\"Epochs\",\"id\":\"fafa68b0-7eef-453d-c55c-a9df41aef3e6\",\"doc\":null,\"tags\":[]}},{\"id\":\"e60871d9-a5a5-4b46-cbe4-21f392c55cc4\",\"type\":\"Grid\",\"attributes\":{\"dimension\":0,\"plot\":{\"id\":\"4dcfb421-12de-42e9-c218-08dbaf70abd6\",\"type\":\"Plot\",\"subtype\":\"Figure\"},\"ticker\":{\"type\":\"BasicTicker\",\"id\":\"cd2db6ca-9f16-483e-c809-02a50c7a87cf\"},\"id\":\"e60871d9-a5a5-4b46-cbe4-21f392c55cc4\",\"doc\":null,\"tags\":[]}},{\"id\":\"2d5f0fa2-45de-489c-c80f-3a284921e719\",\"type\":\"BasicTickFormatter\",\"attributes\":{\"id\":\"2d5f0fa2-45de-489c-c80f-3a284921e719\",\"tags\":[],\"doc\":null}},{\"id\":\"946b547e-c9ec-47d7-c70c-f8dba3f7bb6e\",\"type\":\"BasicTicker\",\"attributes\":{\"num_minor_ticks\":5,\"id\":\"946b547e-c9ec-47d7-c70c-f8dba3f7bb6e\",\"tags\":[],\"doc\":null}},{\"id\":\"19dfee05-f41d-4712-c72b-28b63b83a61a\",\"type\":\"LinearAxis\",\"attributes\":{\"formatter\":{\"type\":\"BasicTickFormatter\",\"id\":\"2d5f0fa2-45de-489c-c80f-3a284921e719\"},\"ticker\":{\"type\":\"BasicTicker\",\"id\":\"946b547e-c9ec-47d7-c70c-f8dba3f7bb6e\"},\"plot\":{\"id\":\"4dcfb421-12de-42e9-c218-08dbaf70abd6\",\"type\":\"Plot\",\"subtype\":\"Figure\"},\"axis_label\":\"Percentage Error\",\"id\":\"19dfee05-f41d-4712-c72b-28b63b83a61a\",\"doc\":null,\"tags\":[]}},{\"id\":\"bdf7a075-d2b5-41e2-c151-7bb1aac9ef46\",\"type\":\"Grid\",\"attributes\":{\"dimension\":1,\"plot\":{\"id\":\"4dcfb421-12de-42e9-c218-08dbaf70abd6\",\"type\":\"Plot\",\"subtype\":\"Figure\"},\"ticker\":{\"type\":\"BasicTicker\",\"id\":\"946b547e-c9ec-47d7-c70c-f8dba3f7bb6e\"},\"id\":\"bdf7a075-d2b5-41e2-c151-7bb1aac9ef46\",\"doc\":null,\"tags\":[]}},{\"id\":\"c8127d0d-9c5b-45b6-c520-b6358e936b4c\",\"type\":\"PanTool\",\"attributes\":{\"plot\":{\"id\":\"4dcfb421-12de-42e9-c218-08dbaf70abd6\",\"type\":\"Plot\",\"subtype\":\"Figure\"},\"dimensions\":[\"width\",\"height\"],\"id\":\"c8127d0d-9c5b-45b6-c520-b6358e936b4c\",\"doc\":null,\"tags\":[]}},{\"id\":\"8de6f979-f1dd-44f2-c48e-67e2322f1c48\",\"type\":\"WheelZoomTool\",\"attributes\":{\"plot\":{\"id\":\"4dcfb421-12de-42e9-c218-08dbaf70abd6\",\"type\":\"Plot\",\"subtype\":\"Figure\"},\"dimensions\":[\"width\",\"height\"],\"id\":\"8de6f979-f1dd-44f2-c48e-67e2322f1c48\",\"doc\":null,\"tags\":[]}},{\"id\":\"b03c92e6-75d7-4ba7-cb45-7bf209d0fa0c\",\"type\":\"BoxZoomTool\",\"attributes\":{\"plot\":{\"id\":\"4dcfb421-12de-42e9-c218-08dbaf70abd6\",\"type\":\"Plot\",\"subtype\":\"Figure\"},\"id\":\"b03c92e6-75d7-4ba7-cb45-7bf209d0fa0c\",\"tags\":[],\"doc\":null}},{\"id\":\"73e92ee0-dc65-4137-c18d-34a3381c4052\",\"type\":\"PreviewSaveTool\",\"attributes\":{\"plot\":{\"id\":\"4dcfb421-12de-42e9-c218-08dbaf70abd6\",\"type\":\"Plot\",\"subtype\":\"Figure\"},\"id\":\"73e92ee0-dc65-4137-c18d-34a3381c4052\",\"tags\":[],\"doc\":null}},{\"id\":\"72d1e3bd-3fd3-4a3c-cac3-aedcf9b0550e\",\"type\":\"ResizeTool\",\"attributes\":{\"plot\":{\"id\":\"4dcfb421-12de-42e9-c218-08dbaf70abd6\",\"type\":\"Plot\",\"subtype\":\"Figure\"},\"id\":\"72d1e3bd-3fd3-4a3c-cac3-aedcf9b0550e\",\"tags\":[],\"doc\":null}},{\"id\":\"6d4bb37b-d0fb-47cc-c704-2b7ff6bfc2cb\",\"type\":\"ResetTool\",\"attributes\":{\"plot\":{\"id\":\"4dcfb421-12de-42e9-c218-08dbaf70abd6\",\"type\":\"Plot\",\"subtype\":\"Figure\"},\"id\":\"6d4bb37b-d0fb-47cc-c704-2b7ff6bfc2cb\",\"tags\":[],\"doc\":null}},{\"id\":\"442e3b75-f8a9-401d-c09a-f29a9fd2bd54\",\"type\":\"Legend\",\"attributes\":{\"plot\":{\"id\":\"4dcfb421-12de-42e9-c218-08dbaf70abd6\",\"type\":\"Plot\",\"subtype\":\"Figure\"},\"legends\":[[\"with upscale\",[{\"type\":\"GlyphRenderer\",\"id\":\"6b6406e7-a779-4d6b-cd40-f518ad55f8af\"}]],[\"without\",[{\"type\":\"GlyphRenderer\",\"id\":\"24d6e89d-16b0-4fad-cfcd-938e07a048b2\"}]]],\"id\":\"442e3b75-f8a9-401d-c09a-f29a9fd2bd54\",\"doc\":null,\"tags\":[]}},{\"id\":\"4dcfb421-12de-42e9-c218-08dbaf70abd6\",\"type\":\"Plot\",\"attributes\":{\"x_range\":{\"type\":\"DataRange1d\",\"id\":\"6496e80c-2930-4771-c7c3-4d76b5a99164\"},\"tool_events\":{\"type\":\"ToolEvents\",\"id\":\"11e9f07e-a9b9-4695-c63e-d2e0ea283649\"},\"below\":[{\"type\":\"LinearAxis\",\"id\":\"fafa68b0-7eef-453d-c55c-a9df41aef3e6\"}],\"renderers\":[{\"type\":\"GlyphRenderer\",\"id\":\"6b6406e7-a779-4d6b-cd40-f518ad55f8af\"},{\"type\":\"GlyphRenderer\",\"id\":\"24d6e89d-16b0-4fad-cfcd-938e07a048b2\"},{\"type\":\"LinearAxis\",\"id\":\"fafa68b0-7eef-453d-c55c-a9df41aef3e6\"},{\"type\":\"Grid\",\"id\":\"e60871d9-a5a5-4b46-cbe4-21f392c55cc4\"},{\"type\":\"LinearAxis\",\"id\":\"19dfee05-f41d-4712-c72b-28b63b83a61a\"},{\"type\":\"Grid\",\"id\":\"bdf7a075-d2b5-41e2-c151-7bb1aac9ef46\"},{\"type\":\"Legend\",\"id\":\"442e3b75-f8a9-401d-c09a-f29a9fd2bd54\"}],\"above\":[],\"tools\":[{\"type\":\"PanTool\",\"id\":\"c8127d0d-9c5b-45b6-c520-b6358e936b4c\"},{\"type\":\"WheelZoomTool\",\"id\":\"8de6f979-f1dd-44f2-c48e-67e2322f1c48\"},{\"type\":\"BoxZoomTool\",\"id\":\"b03c92e6-75d7-4ba7-cb45-7bf209d0fa0c\"},{\"type\":\"PreviewSaveTool\",\"id\":\"73e92ee0-dc65-4137-c18d-34a3381c4052\"},{\"type\":\"ResizeTool\",\"id\":\"72d1e3bd-3fd3-4a3c-cac3-aedcf9b0550e\"},{\"type\":\"ResetTool\",\"id\":\"6d4bb37b-d0fb-47cc-c704-2b7ff6bfc2cb\"}],\"doc\":null,\"right\":[],\"title\":\"comparing Training error from different datasets\",\"extra_x_ranges\":{},\"left\":[{\"type\":\"LinearAxis\",\"id\":\"19dfee05-f41d-4712-c72b-28b63b83a61a\"}],\"y_range\":{\"type\":\"DataRange1d\",\"id\":\"b307a2f6-0b71-44c9-c475-b84cd872bf05\"},\"id\":\"4dcfb421-12de-42e9-c218-08dbaf70abd6\",\"extra_y_ranges\":{},\"tags\":[]}}];\n",
       "  Bokeh.load_models(all_models);\n",
       "  var model = Bokeh.Collections(modeltype).get(modelid);\n",
       "  $(\"#9ce24391-45bb-4be7-cb2a-059464107515\").html(''); // clear any previous plot in window_id\n",
       "  var view = new model.default_view({model: model, el: \"#9ce24391-45bb-4be7-cb2a-059464107515\"});\n",
       "    } else {\n",
       "  load_lib(bokehjs_url, function() {\n",
       "      console.log(\"Bokeh: BokehJS plotting callback run at\", new Date())\n",
       "      var modelid = \"4dcfb421-12de-42e9-c218-08dbaf70abd6\";\n",
       "      var modeltype = \"Plot\";\n",
       "      var all_models = [{\"id\":\"23560b0b-3267-4c1a-ccf3-960d3e751db7\",\"type\":\"ColumnDataSource\",\"attributes\":{\"data\":{\"y\":[47.610517494238,7.11606955793,2.5927089880578,1.4927718416091,0.97423004399749,0.68719882673371,0.58453802639849,0.41797611565053,0.34674209092814,0.32055311125079,0.26712759270899,0.19694112717369,0.1770375026189,0.16237167399958,0.16132411481249,0.11104127383197,0.10894615545778,0.10370835952231,0.099518122773937,0.089042530902996,0.075424261470773,0.06180599203855,0.059710873664362,0.052377959354704,0.052377959354704,0.069138906348209,0.052377959354704,0.049235281793421,0.053425518541798,0.047140163419233,0.041902367483763,0.042949926670857,0.034569453174104,0.038759689922481,0.031426775612822,0.030379216425728,0.027236538864446,0.042949926670857,0.042949926670857,0.024093861303164,0.027236538864446,0.03352189398701,0.031426775612822,0.018856065367693,0.021998742928975,0.02304630211607,0.021998742928975,0.020951183741881,0.02304630211607,0.03352189398701],\"x\":[1,2,3,4,5,6,7,8,9,10,11,12,13,14,15,16,17,18,19,20,21,22,23,24,25,26,27,28,29,30,31,32,33,34,35,36,37,38,39,40,41,42,43,44,45,46,47,48,49,50]},\"column_names\":[\"y\",\"x\"],\"cont_ranges\":{},\"discrete_ranges\":{},\"selected\":[],\"id\":\"23560b0b-3267-4c1a-ccf3-960d3e751db7\",\"doc\":null,\"tags\":[]}},{\"id\":\"005b3e91-330a-4b54-cbd5-09603e8fd2c5\",\"type\":\"Line\",\"attributes\":{\"fill_alpha\":{\"units\":\"data\",\"value\":0.2},\"line_alpha\":{\"units\":\"data\",\"value\":1},\"doc\":null,\"size\":{\"units\":\"screen\",\"value\":10},\"fill_color\":{\"value\":\"red\"},\"line_color\":{\"value\":\"red\"},\"x\":{\"units\":\"data\",\"field\":\"x\"},\"id\":\"005b3e91-330a-4b54-cbd5-09603e8fd2c5\",\"y\":{\"units\":\"data\",\"field\":\"y\"},\"tags\":[]}},{\"id\":\"1f48dc87-0cdf-4e86-ce55-ef7445ca8630\",\"type\":\"Line\",\"attributes\":{\"fill_alpha\":{\"units\":\"data\",\"value\":0.2},\"line_alpha\":{\"units\":\"data\",\"value\":1},\"doc\":null,\"size\":{\"units\":\"screen\",\"value\":10},\"fill_color\":{\"value\":\"red\"},\"line_color\":{\"value\":\"red\"},\"x\":{\"units\":\"data\",\"field\":\"x\"},\"id\":\"1f48dc87-0cdf-4e86-ce55-ef7445ca8630\",\"y\":{\"units\":\"data\",\"field\":\"y\"},\"tags\":[]}},{\"id\":\"6b6406e7-a779-4d6b-cd40-f518ad55f8af\",\"type\":\"GlyphRenderer\",\"attributes\":{\"name\":null,\"nonselection_glyph\":{\"type\":\"Line\",\"id\":\"1f48dc87-0cdf-4e86-ce55-ef7445ca8630\"},\"doc\":null,\"server_data_source\":null,\"data_source\":{\"type\":\"ColumnDataSource\",\"id\":\"23560b0b-3267-4c1a-ccf3-960d3e751db7\"},\"glyph\":{\"type\":\"Line\",\"id\":\"005b3e91-330a-4b54-cbd5-09603e8fd2c5\"},\"selection_glyph\":null,\"id\":\"6b6406e7-a779-4d6b-cd40-f518ad55f8af\",\"tags\":[]}},{\"id\":\"fa209698-eee6-4e37-ce91-622fb23d561a\",\"type\":\"ColumnDataSource\",\"attributes\":{\"data\":{\"y\":[80.089137371766,44.600332287244,22.244784936312,12.85371449669,8.5023339223081,5.9073287797674,4.3434689733379,3.2965004351381,2.7347767609905,2.0807510746591,1.8961470502914,1.3766185817137,1.3291489754477,1.0865265434215,0.92565732218677,0.8069833065218,0.80170890582558,0.61446768110973,0.56699807484375,0.51952846857776,0.48524486405232,0.40085445291279,0.40876605395712,0.30591524038081,0.36129644769113,0.3270128431657,0.29272923864026,0.2531712334186,0.24789683272238,0.20833882750073,0.21361322819695,0.16086922123474,0.21097602784884,0.20570162715261,0.18460402436773,0.1503204198423,0.17141802262718,0.11603681531686,0.12922281705741,0.12394841636119,0.1265856167093,0.11076241462064,0.1265856167093,0.11867401566497,0.1002136132282,0.11603681531686,0.10285081357631,0.097576412880087,0.10285081357631,0.11339961496875],\"x\":[1,2,3,4,5,6,7,8,9,10,11,12,13,14,15,16,17,18,19,20,21,22,23,24,25,26,27,28,29,30,31,32,33,34,35,36,37,38,39,40,41,42,43,44,45,46,47,48,49,50]},\"column_names\":[\"y\",\"x\"],\"cont_ranges\":{},\"discrete_ranges\":{},\"selected\":[],\"id\":\"fa209698-eee6-4e37-ce91-622fb23d561a\",\"doc\":null,\"tags\":[]}},{\"id\":\"a556f613-de57-4527-c5e7-c6d5e05c96d0\",\"type\":\"Line\",\"attributes\":{\"fill_alpha\":{\"units\":\"data\",\"value\":0.2},\"line_alpha\":{\"units\":\"data\",\"value\":1},\"doc\":null,\"size\":{\"units\":\"screen\",\"value\":10},\"fill_color\":{\"value\":\"green\"},\"line_color\":{\"value\":\"green\"},\"x\":{\"units\":\"data\",\"field\":\"x\"},\"id\":\"a556f613-de57-4527-c5e7-c6d5e05c96d0\",\"y\":{\"units\":\"data\",\"field\":\"y\"},\"tags\":[]}},{\"id\":\"54733f11-fb69-4ee3-ce8d-4aac9274e62c\",\"type\":\"Line\",\"attributes\":{\"fill_alpha\":{\"units\":\"data\",\"value\":0.2},\"line_alpha\":{\"units\":\"data\",\"value\":1},\"doc\":null,\"size\":{\"units\":\"screen\",\"value\":10},\"fill_color\":{\"value\":\"green\"},\"line_color\":{\"value\":\"green\"},\"x\":{\"units\":\"data\",\"field\":\"x\"},\"id\":\"54733f11-fb69-4ee3-ce8d-4aac9274e62c\",\"y\":{\"units\":\"data\",\"field\":\"y\"},\"tags\":[]}},{\"id\":\"24d6e89d-16b0-4fad-cfcd-938e07a048b2\",\"type\":\"GlyphRenderer\",\"attributes\":{\"name\":null,\"nonselection_glyph\":{\"type\":\"Line\",\"id\":\"54733f11-fb69-4ee3-ce8d-4aac9274e62c\"},\"doc\":null,\"server_data_source\":null,\"data_source\":{\"type\":\"ColumnDataSource\",\"id\":\"fa209698-eee6-4e37-ce91-622fb23d561a\"},\"glyph\":{\"type\":\"Line\",\"id\":\"a556f613-de57-4527-c5e7-c6d5e05c96d0\"},\"selection_glyph\":null,\"id\":\"24d6e89d-16b0-4fad-cfcd-938e07a048b2\",\"tags\":[]}},{\"id\":\"6496e80c-2930-4771-c7c3-4d76b5a99164\",\"type\":\"DataRange1d\",\"attributes\":{\"sources\":[{\"columns\":[\"x\"],\"source\":{\"type\":\"ColumnDataSource\",\"id\":\"23560b0b-3267-4c1a-ccf3-960d3e751db7\"}},{\"columns\":[\"x\"],\"source\":{\"type\":\"ColumnDataSource\",\"id\":\"fa209698-eee6-4e37-ce91-622fb23d561a\"}}],\"id\":\"6496e80c-2930-4771-c7c3-4d76b5a99164\",\"tags\":[],\"doc\":null}},{\"id\":\"b307a2f6-0b71-44c9-c475-b84cd872bf05\",\"type\":\"DataRange1d\",\"attributes\":{\"sources\":[{\"columns\":[\"y\"],\"source\":{\"type\":\"ColumnDataSource\",\"id\":\"23560b0b-3267-4c1a-ccf3-960d3e751db7\"}},{\"columns\":[\"y\"],\"source\":{\"type\":\"ColumnDataSource\",\"id\":\"fa209698-eee6-4e37-ce91-622fb23d561a\"}}],\"id\":\"b307a2f6-0b71-44c9-c475-b84cd872bf05\",\"tags\":[],\"doc\":null}},{\"id\":\"11e9f07e-a9b9-4695-c63e-d2e0ea283649\",\"type\":\"ToolEvents\",\"attributes\":{\"tags\":[],\"id\":\"11e9f07e-a9b9-4695-c63e-d2e0ea283649\",\"geometries\":[],\"doc\":null}},{\"id\":\"83863e46-7f84-4408-c40b-e3f1c979c535\",\"type\":\"BasicTickFormatter\",\"attributes\":{\"id\":\"83863e46-7f84-4408-c40b-e3f1c979c535\",\"tags\":[],\"doc\":null}},{\"id\":\"cd2db6ca-9f16-483e-c809-02a50c7a87cf\",\"type\":\"BasicTicker\",\"attributes\":{\"num_minor_ticks\":5,\"id\":\"cd2db6ca-9f16-483e-c809-02a50c7a87cf\",\"tags\":[],\"doc\":null}},{\"id\":\"fafa68b0-7eef-453d-c55c-a9df41aef3e6\",\"type\":\"LinearAxis\",\"attributes\":{\"formatter\":{\"type\":\"BasicTickFormatter\",\"id\":\"83863e46-7f84-4408-c40b-e3f1c979c535\"},\"ticker\":{\"type\":\"BasicTicker\",\"id\":\"cd2db6ca-9f16-483e-c809-02a50c7a87cf\"},\"plot\":{\"id\":\"4dcfb421-12de-42e9-c218-08dbaf70abd6\",\"type\":\"Plot\",\"subtype\":\"Figure\"},\"axis_label\":\"Epochs\",\"id\":\"fafa68b0-7eef-453d-c55c-a9df41aef3e6\",\"doc\":null,\"tags\":[]}},{\"id\":\"e60871d9-a5a5-4b46-cbe4-21f392c55cc4\",\"type\":\"Grid\",\"attributes\":{\"dimension\":0,\"plot\":{\"id\":\"4dcfb421-12de-42e9-c218-08dbaf70abd6\",\"type\":\"Plot\",\"subtype\":\"Figure\"},\"ticker\":{\"type\":\"BasicTicker\",\"id\":\"cd2db6ca-9f16-483e-c809-02a50c7a87cf\"},\"id\":\"e60871d9-a5a5-4b46-cbe4-21f392c55cc4\",\"doc\":null,\"tags\":[]}},{\"id\":\"2d5f0fa2-45de-489c-c80f-3a284921e719\",\"type\":\"BasicTickFormatter\",\"attributes\":{\"id\":\"2d5f0fa2-45de-489c-c80f-3a284921e719\",\"tags\":[],\"doc\":null}},{\"id\":\"946b547e-c9ec-47d7-c70c-f8dba3f7bb6e\",\"type\":\"BasicTicker\",\"attributes\":{\"num_minor_ticks\":5,\"id\":\"946b547e-c9ec-47d7-c70c-f8dba3f7bb6e\",\"tags\":[],\"doc\":null}},{\"id\":\"19dfee05-f41d-4712-c72b-28b63b83a61a\",\"type\":\"LinearAxis\",\"attributes\":{\"formatter\":{\"type\":\"BasicTickFormatter\",\"id\":\"2d5f0fa2-45de-489c-c80f-3a284921e719\"},\"ticker\":{\"type\":\"BasicTicker\",\"id\":\"946b547e-c9ec-47d7-c70c-f8dba3f7bb6e\"},\"plot\":{\"id\":\"4dcfb421-12de-42e9-c218-08dbaf70abd6\",\"type\":\"Plot\",\"subtype\":\"Figure\"},\"axis_label\":\"Percentage Error\",\"id\":\"19dfee05-f41d-4712-c72b-28b63b83a61a\",\"doc\":null,\"tags\":[]}},{\"id\":\"bdf7a075-d2b5-41e2-c151-7bb1aac9ef46\",\"type\":\"Grid\",\"attributes\":{\"dimension\":1,\"plot\":{\"id\":\"4dcfb421-12de-42e9-c218-08dbaf70abd6\",\"type\":\"Plot\",\"subtype\":\"Figure\"},\"ticker\":{\"type\":\"BasicTicker\",\"id\":\"946b547e-c9ec-47d7-c70c-f8dba3f7bb6e\"},\"id\":\"bdf7a075-d2b5-41e2-c151-7bb1aac9ef46\",\"doc\":null,\"tags\":[]}},{\"id\":\"c8127d0d-9c5b-45b6-c520-b6358e936b4c\",\"type\":\"PanTool\",\"attributes\":{\"plot\":{\"id\":\"4dcfb421-12de-42e9-c218-08dbaf70abd6\",\"type\":\"Plot\",\"subtype\":\"Figure\"},\"dimensions\":[\"width\",\"height\"],\"id\":\"c8127d0d-9c5b-45b6-c520-b6358e936b4c\",\"doc\":null,\"tags\":[]}},{\"id\":\"8de6f979-f1dd-44f2-c48e-67e2322f1c48\",\"type\":\"WheelZoomTool\",\"attributes\":{\"plot\":{\"id\":\"4dcfb421-12de-42e9-c218-08dbaf70abd6\",\"type\":\"Plot\",\"subtype\":\"Figure\"},\"dimensions\":[\"width\",\"height\"],\"id\":\"8de6f979-f1dd-44f2-c48e-67e2322f1c48\",\"doc\":null,\"tags\":[]}},{\"id\":\"b03c92e6-75d7-4ba7-cb45-7bf209d0fa0c\",\"type\":\"BoxZoomTool\",\"attributes\":{\"plot\":{\"id\":\"4dcfb421-12de-42e9-c218-08dbaf70abd6\",\"type\":\"Plot\",\"subtype\":\"Figure\"},\"id\":\"b03c92e6-75d7-4ba7-cb45-7bf209d0fa0c\",\"tags\":[],\"doc\":null}},{\"id\":\"73e92ee0-dc65-4137-c18d-34a3381c4052\",\"type\":\"PreviewSaveTool\",\"attributes\":{\"plot\":{\"id\":\"4dcfb421-12de-42e9-c218-08dbaf70abd6\",\"type\":\"Plot\",\"subtype\":\"Figure\"},\"id\":\"73e92ee0-dc65-4137-c18d-34a3381c4052\",\"tags\":[],\"doc\":null}},{\"id\":\"72d1e3bd-3fd3-4a3c-cac3-aedcf9b0550e\",\"type\":\"ResizeTool\",\"attributes\":{\"plot\":{\"id\":\"4dcfb421-12de-42e9-c218-08dbaf70abd6\",\"type\":\"Plot\",\"subtype\":\"Figure\"},\"id\":\"72d1e3bd-3fd3-4a3c-cac3-aedcf9b0550e\",\"tags\":[],\"doc\":null}},{\"id\":\"6d4bb37b-d0fb-47cc-c704-2b7ff6bfc2cb\",\"type\":\"ResetTool\",\"attributes\":{\"plot\":{\"id\":\"4dcfb421-12de-42e9-c218-08dbaf70abd6\",\"type\":\"Plot\",\"subtype\":\"Figure\"},\"id\":\"6d4bb37b-d0fb-47cc-c704-2b7ff6bfc2cb\",\"tags\":[],\"doc\":null}},{\"id\":\"442e3b75-f8a9-401d-c09a-f29a9fd2bd54\",\"type\":\"Legend\",\"attributes\":{\"plot\":{\"id\":\"4dcfb421-12de-42e9-c218-08dbaf70abd6\",\"type\":\"Plot\",\"subtype\":\"Figure\"},\"legends\":[[\"with upscale\",[{\"type\":\"GlyphRenderer\",\"id\":\"6b6406e7-a779-4d6b-cd40-f518ad55f8af\"}]],[\"without\",[{\"type\":\"GlyphRenderer\",\"id\":\"24d6e89d-16b0-4fad-cfcd-938e07a048b2\"}]]],\"id\":\"442e3b75-f8a9-401d-c09a-f29a9fd2bd54\",\"doc\":null,\"tags\":[]}},{\"id\":\"4dcfb421-12de-42e9-c218-08dbaf70abd6\",\"type\":\"Plot\",\"attributes\":{\"x_range\":{\"type\":\"DataRange1d\",\"id\":\"6496e80c-2930-4771-c7c3-4d76b5a99164\"},\"tool_events\":{\"type\":\"ToolEvents\",\"id\":\"11e9f07e-a9b9-4695-c63e-d2e0ea283649\"},\"below\":[{\"type\":\"LinearAxis\",\"id\":\"fafa68b0-7eef-453d-c55c-a9df41aef3e6\"}],\"renderers\":[{\"type\":\"GlyphRenderer\",\"id\":\"6b6406e7-a779-4d6b-cd40-f518ad55f8af\"},{\"type\":\"GlyphRenderer\",\"id\":\"24d6e89d-16b0-4fad-cfcd-938e07a048b2\"},{\"type\":\"LinearAxis\",\"id\":\"fafa68b0-7eef-453d-c55c-a9df41aef3e6\"},{\"type\":\"Grid\",\"id\":\"e60871d9-a5a5-4b46-cbe4-21f392c55cc4\"},{\"type\":\"LinearAxis\",\"id\":\"19dfee05-f41d-4712-c72b-28b63b83a61a\"},{\"type\":\"Grid\",\"id\":\"bdf7a075-d2b5-41e2-c151-7bb1aac9ef46\"},{\"type\":\"Legend\",\"id\":\"442e3b75-f8a9-401d-c09a-f29a9fd2bd54\"}],\"above\":[],\"tools\":[{\"type\":\"PanTool\",\"id\":\"c8127d0d-9c5b-45b6-c520-b6358e936b4c\"},{\"type\":\"WheelZoomTool\",\"id\":\"8de6f979-f1dd-44f2-c48e-67e2322f1c48\"},{\"type\":\"BoxZoomTool\",\"id\":\"b03c92e6-75d7-4ba7-cb45-7bf209d0fa0c\"},{\"type\":\"PreviewSaveTool\",\"id\":\"73e92ee0-dc65-4137-c18d-34a3381c4052\"},{\"type\":\"ResizeTool\",\"id\":\"72d1e3bd-3fd3-4a3c-cac3-aedcf9b0550e\"},{\"type\":\"ResetTool\",\"id\":\"6d4bb37b-d0fb-47cc-c704-2b7ff6bfc2cb\"}],\"doc\":null,\"right\":[],\"title\":\"comparing Training error from different datasets\",\"extra_x_ranges\":{},\"left\":[{\"type\":\"LinearAxis\",\"id\":\"19dfee05-f41d-4712-c72b-28b63b83a61a\"}],\"y_range\":{\"type\":\"DataRange1d\",\"id\":\"b307a2f6-0b71-44c9-c475-b84cd872bf05\"},\"id\":\"4dcfb421-12de-42e9-c218-08dbaf70abd6\",\"extra_y_ranges\":{},\"tags\":[]}}];\n",
       "      Bokeh.load_models(all_models);\n",
       "      var model = Bokeh.Collections(modeltype).get(modelid);\n",
       "      $(\"#9ce24391-45bb-4be7-cb2a-059464107515\").html(''); // clear any previous plot in window_id\n",
       "      var view = new model.default_view({model: model, el: \"#9ce24391-45bb-4be7-cb2a-059464107515\"});\n",
       "  });\n",
       "    }\n",
       "});\n",
       "</script>\n",
       "<div class=\"plotdiv\" id=\"9ce24391-45bb-4be7-cb2a-059464107515\"></div>\n"
      ]
     },
     "metadata": {},
     "output_type": "display_data"
    },
    {
     "data": {
      "text/plain": [
       "{\n",
       "  text : function: 0x406158b0\n",
       "  _winid : 9ce24391-45bb-4be7-cb2a-059464107515\n",
       "  quad : function: 0x41bdca08\n",
       "  _docid : userdata: NULL\n",
       "  yaxis : function: 0x41bdcc10\n",
       "  _legend : true\n",
       "  hover_tool : function: 0x41bdcc50\n",
       "  quiver : function: 0x41bdc9e8\n",
       "  triangle : function: 0x41a31cf0\n",
       "  save : function: 0x40615970\n",
       "  circle : function: 0x40619848\n",
       "  _yaxis : Percentage Error\n",
       "  draw : function: 0x40615910\n"
      ]
     },
     "execution_count": 16,
     "metadata": {},
     "output_type": "execute_result"
    },
    {
     "data": {
      "text/plain": [
       "  gscatter : function: 0x41bdc9a8\n",
       "  title : function: 0x41bdcbd0\n",
       "  line : function: 0x41a31aa0\n",
       "  segment : function: 0x41bdc9c8\n",
       "  histogram : function: 0x41bdcbb0\n",
       "  _data : \n",
       "    {\n",
       "      1 : \n",
       "        {\n",
       "          fill_color : red\n",
       "          line_color : red\n",
       "          legend : with upscale\n",
       "          type : Line\n",
       "          y : DoubleTensor - size: 50\n",
       "          x : DoubleTensor - size: 50\n",
       "        }\n",
       "      2 : \n",
       "        {\n",
       "          fill_color : green\n",
       "          line_color : green\n",
       "          legend : without\n",
       "          type : Line\n",
       "          y : DoubleTensor - size: 50\n",
       "          x : DoubleTensor - size: 50\n",
       "        }\n",
       "    }\n",
       "  _xaxis : Epochs\n",
       "  new : function: 0x40853268\n",
       "  _toAllModels : function: 0x41bdd018\n",
       "  hist : function: 0x41bdcbb0\n",
       "  _title : comparing Training error from different datasets\n",
       "  xaxis : function: 0x41bdcbf0\n",
       "  redraw : function: 0x40615950\n",
       "  toTemplate : function: 0x41a31b08\n",
       "  legend : function: 0x41bdcc30\n",
       "  toHTML : function: 0x406158d0\n",
       "}\n"
      ]
     },
     "execution_count": 16,
     "metadata": {},
     "output_type": "execute_result"
    }
   ],
   "source": [
    "Plot()\n",
    ":line(x_axis, training_error_vector,'red','with upscale')\n",
    ":line(x_axis, training_error_wo_upscale_vector,'green','without')\n",
    ":xaxis('Epochs'):yaxis('Percentage Error')\n",
    ":legend(true):title('comparing Training error from different datasets'):draw()"
   ]
  },
  {
   "cell_type": "markdown",
   "metadata": {},
   "source": [
    "## Observation\n",
    "\n",
    "The only thing I can infer from this is: when we oversample the data (no new data has been introduced, just that every class has the same number of samples), not much improvement is seen in validation/test errors. Although, we started to overfit quite early in terms of epochs. \n",
    "\n",
    "## Next Steps?\n",
    "\n",
    "As the tarining error is still low compared to the validation set, we need better regularizations! Let's try another dropout layer and see what happens."
   ]
  },
  {
   "cell_type": "code",
   "execution_count": null,
   "metadata": {
    "collapsed": true
   },
   "outputs": [],
   "source": []
  }
 ],
 "metadata": {
  "anaconda-cloud": {},
  "kernelspec": {
   "display_name": "iTorch",
   "language": "lua",
   "name": "itorch"
  },
  "language_info": {
   "name": "lua",
   "version": "5.1"
  }
 },
 "nbformat": 4,
 "nbformat_minor": 1
}
