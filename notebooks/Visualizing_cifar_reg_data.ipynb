{
 "cells": [
  {
   "cell_type": "markdown",
   "metadata": {},
   "source": [
    "### Options used: -model cifar_regularization -dataset data -cuda -suffix 'cifar_reg_data' -verbose"
   ]
  },
  {
   "cell_type": "code",
   "execution_count": 1,
   "metadata": {
    "collapsed": true
   },
   "outputs": [],
   "source": [
    "tnt = require 'torchnet'\n",
    "image = require 'image'\n",
    "Plot = require 'itorch.Plot'\n",
    "require 'cunn'\n",
    "require 'cudnn'"
   ]
  },
  {
   "cell_type": "code",
   "execution_count": 2,
   "metadata": {
    "collapsed": true
   },
   "outputs": [],
   "source": [
    "training_errors = torch.load('../logs/trainingErrors_cifar_reg_data_1480540360.log')\n",
    "training_losses = torch.load('../logs/trainingLosses_cifar_reg_data_1480540360.log')\n",
    "\n",
    "validation_errors = torch.load('../logs/validationErrors_cifar_reg_data_1480540360.log')\n",
    "validation_losses = torch.load('../logs/validationLosses_cifar_reg_data_1480540360.log')\n",
    "\n",
    "time = torch.load('../logs/timerscifar_reg_data_1480540360.log')\n",
    "\n",
    "model = torch.load('../logs/model_cifar_reg_data_1480540360.model')"
   ]
  },
  {
   "cell_type": "code",
   "execution_count": 3,
   "metadata": {
    "collapsed": true
   },
   "outputs": [],
   "source": [
    "test_accuracy = 0.96880 --After uploading on Kaggle\n",
    "test_error = (1 - test_accuracy) * 100"
   ]
  },
  {
   "cell_type": "code",
   "execution_count": 4,
   "metadata": {
    "collapsed": false
   },
   "outputs": [
    {
     "data": {
      "text/plain": [
       "  50\n",
       " 297\n",
       "[torch.LongStorage of size 2]\n",
       "\n",
       " 50\n",
       " 11\n",
       "[torch.LongStorage of size 2]\n",
       "\n"
      ]
     },
     "execution_count": 4,
     "metadata": {},
     "output_type": "execute_result"
    }
   ],
   "source": [
    "print(training_errors:size())\n",
    "print(validation_errors:size())"
   ]
  },
  {
   "cell_type": "code",
   "execution_count": 5,
   "metadata": {
    "collapsed": true
   },
   "outputs": [],
   "source": [
    "training_error_vector = training_errors[{{}, 297}]\n",
    "validation_error_vector = validation_errors[{{}, 11}]"
   ]
  },
  {
   "cell_type": "code",
   "execution_count": 6,
   "metadata": {
    "collapsed": true
   },
   "outputs": [],
   "source": [
    "x_axis = torch.LongTensor(50)\n",
    "for i=1, x_axis:size()[1] do\n",
    "    x_axis[i] = i\n",
    "end\n",
    "\n",
    "test_error_vector = torch.DoubleTensor(50):fill(test_error)"
   ]
  },
  {
   "cell_type": "code",
   "execution_count": 7,
   "metadata": {
    "collapsed": false
   },
   "outputs": [
    {
     "data": {
      "text/html": [
       "<script type=\"text/javascript\">\n",
       "$(function() {\n",
       "    if (typeof (window._bokeh_onload_callbacks) === \"undefined\"){\n",
       "  window._bokeh_onload_callbacks = [];\n",
       "    }\n",
       "    function load_lib(url, callback){\n",
       "  window._bokeh_onload_callbacks.push(callback);\n",
       "  if (window._bokeh_is_loading){\n",
       "      console.log(\"Bokeh: BokehJS is being loaded, scheduling callback at\", new Date());\n",
       "      return null;\n",
       "  }\n",
       "  console.log(\"Bokeh: BokehJS not loaded, scheduling load and callback at\", new Date());\n",
       "  window._bokeh_is_loading = true;\n",
       "  var s = document.createElement('script');\n",
       "  s.src = url;\n",
       "  s.async = true;\n",
       "  s.onreadystatechange = s.onload = function(){\n",
       "      Bokeh.embed.inject_css(\"https://cdn.pydata.org/bokeh-0.7.0.min.css\");\n",
       "      window._bokeh_onload_callbacks.forEach(function(callback){callback()});\n",
       "  };\n",
       "  s.onerror = function(){\n",
       "      console.warn(\"failed to load library \" + url);\n",
       "  };\n",
       "  document.getElementsByTagName(\"head\")[0].appendChild(s);\n",
       "    }\n",
       "\n",
       "    bokehjs_url = \"https://cdn.pydata.org/bokeh-0.7.0.min.js\"\n",
       "\n",
       "    var elt = document.getElementById(\"67fedde7-77f3-4be4-cbee-f8d7e302e1f3\");\n",
       "    if(elt==null) {\n",
       "  console.log(\"Bokeh: ERROR: autoload.js configured with elementid '67fedde7-77f3-4be4-cbee-f8d7e302e1f3'\"\n",
       "        + \"but no matching script tag was found. \")\n",
       "  return false;\n",
       "    }\n",
       "\n",
       "    if(typeof(Bokeh) !== \"undefined\") {\n",
       "  console.log(\"Bokeh: BokehJS loaded, going straight to plotting\");\n",
       "  var modelid = \"90ac4a97-417d-4903-c98b-ed9a675d4918\";\n",
       "  var modeltype = \"Plot\";\n",
       "  var all_models = [{\"id\":\"50ab886e-2ffc-4562-c531-022fe52b2fa8\",\"type\":\"ColumnDataSource\",\"attributes\":{\"data\":{\"y\":[80.089137371766,44.600332287244,22.244784936312,12.85371449669,8.5023339223081,5.9073287797674,4.3434689733379,3.2965004351381,2.7347767609905,2.0807510746591,1.8961470502914,1.3766185817137,1.3291489754477,1.0865265434215,0.92565732218677,0.8069833065218,0.80170890582558,0.61446768110973,0.56699807484375,0.51952846857776,0.48524486405232,0.40085445291279,0.40876605395712,0.30591524038081,0.36129644769113,0.3270128431657,0.29272923864026,0.2531712334186,0.24789683272238,0.20833882750073,0.21361322819695,0.16086922123474,0.21097602784884,0.20570162715261,0.18460402436773,0.1503204198423,0.17141802262718,0.11603681531686,0.12922281705741,0.12394841636119,0.1265856167093,0.11076241462064,0.1265856167093,0.11867401566497,0.1002136132282,0.11603681531686,0.10285081357631,0.097576412880087,0.10285081357631,0.11339961496875],\"x\":[1,2,3,4,5,6,7,8,9,10,11,12,13,14,15,16,17,18,19,20,21,22,23,24,25,26,27,28,29,30,31,32,33,34,35,36,37,38,39,40,41,42,43,44,45,46,47,48,49,50]},\"column_names\":[\"y\",\"x\"],\"cont_ranges\":{},\"discrete_ranges\":{},\"selected\":[],\"id\":\"50ab886e-2ffc-4562-c531-022fe52b2fa8\",\"doc\":null,\"tags\":[]}},{\"id\":\"22748664-18c5-491a-c983-aa6519a2cf3d\",\"type\":\"Line\",\"attributes\":{\"fill_alpha\":{\"units\":\"data\",\"value\":0.2},\"line_alpha\":{\"units\":\"data\",\"value\":1},\"doc\":null,\"size\":{\"units\":\"screen\",\"value\":10},\"fill_color\":{\"value\":\"red\"},\"line_color\":{\"value\":\"red\"},\"x\":{\"units\":\"data\",\"field\":\"x\"},\"id\":\"22748664-18c5-491a-c983-aa6519a2cf3d\",\"y\":{\"units\":\"data\",\"field\":\"y\"},\"tags\":[]}},{\"id\":\"dfc5d210-21c2-4941-c9e8-e315d3e43f11\",\"type\":\"Line\",\"attributes\":{\"fill_alpha\":{\"units\":\"data\",\"value\":0.2},\"line_alpha\":{\"units\":\"data\",\"value\":1},\"doc\":null,\"size\":{\"units\":\"screen\",\"value\":10},\"fill_color\":{\"value\":\"red\"},\"line_color\":{\"value\":\"red\"},\"x\":{\"units\":\"data\",\"field\":\"x\"},\"id\":\"dfc5d210-21c2-4941-c9e8-e315d3e43f11\",\"y\":{\"units\":\"data\",\"field\":\"y\"},\"tags\":[]}},{\"id\":\"dbcc3eaa-b727-47b6-c720-42663355dce0\",\"type\":\"GlyphRenderer\",\"attributes\":{\"name\":null,\"nonselection_glyph\":{\"type\":\"Line\",\"id\":\"dfc5d210-21c2-4941-c9e8-e315d3e43f11\"},\"doc\":null,\"server_data_source\":null,\"data_source\":{\"type\":\"ColumnDataSource\",\"id\":\"50ab886e-2ffc-4562-c531-022fe52b2fa8\"},\"glyph\":{\"type\":\"Line\",\"id\":\"22748664-18c5-491a-c983-aa6519a2cf3d\"},\"selection_glyph\":null,\"id\":\"dbcc3eaa-b727-47b6-c720-42663355dce0\",\"tags\":[]}},{\"id\":\"5009ef23-82c9-4a61-ca83-74682f17fda2\",\"type\":\"ColumnDataSource\",\"attributes\":{\"data\":{\"y\":[77.906976744186,54.031007751938,35.968992248062,28.527131782946,18.914728682171,15.116279069767,9.5348837209302,7.5193798449612,7.7519379844961,7.1317829457364,6.2790697674419,6.1240310077519,5.5038759689922,5.1162790697674,3.8759689922481,4.4186046511628,4.1860465116279,4.8837209302326,4.2635658914729,4.6511627906977,4.3410852713178,4.1860465116279,4.5736434108527,4.5736434108527,4.3410852713178,4.3410852713178,4.2635658914729,4.1860465116279,4.031007751938,3.953488372093,3.953488372093,3.8759689922481,3.8759689922481,4.1860465116279,4.1085271317829,3.8759689922481,3.8759689922481,3.7984496124031,3.7209302325581,4.031007751938,3.4108527131783,4.1085271317829,4.2635658914729,3.4883720930233,3.953488372093,4.031007751938,4.1085271317829,3.1782945736434,3.7209302325581,3.2558139534884],\"x\":[1,2,3,4,5,6,7,8,9,10,11,12,13,14,15,16,17,18,19,20,21,22,23,24,25,26,27,28,29,30,31,32,33,34,35,36,37,38,39,40,41,42,43,44,45,46,47,48,49,50]},\"column_names\":[\"y\",\"x\"],\"cont_ranges\":{},\"discrete_ranges\":{},\"selected\":[],\"id\":\"5009ef23-82c9-4a61-ca83-74682f17fda2\",\"doc\":null,\"tags\":[]}},{\"id\":\"cb31dc76-94d6-465b-c6f7-be2f9280a00e\",\"type\":\"Line\",\"attributes\":{\"fill_alpha\":{\"units\":\"data\",\"value\":0.2},\"line_alpha\":{\"units\":\"data\",\"value\":1},\"doc\":null,\"size\":{\"units\":\"screen\",\"value\":10},\"fill_color\":{\"value\":\"green\"},\"line_color\":{\"value\":\"green\"},\"x\":{\"units\":\"data\",\"field\":\"x\"},\"id\":\"cb31dc76-94d6-465b-c6f7-be2f9280a00e\",\"y\":{\"units\":\"data\",\"field\":\"y\"},\"tags\":[]}},{\"id\":\"2ce6d563-645b-437e-c3e5-955c0880629e\",\"type\":\"Line\",\"attributes\":{\"fill_alpha\":{\"units\":\"data\",\"value\":0.2},\"line_alpha\":{\"units\":\"data\",\"value\":1},\"doc\":null,\"size\":{\"units\":\"screen\",\"value\":10},\"fill_color\":{\"value\":\"green\"},\"line_color\":{\"value\":\"green\"},\"x\":{\"units\":\"data\",\"field\":\"x\"},\"id\":\"2ce6d563-645b-437e-c3e5-955c0880629e\",\"y\":{\"units\":\"data\",\"field\":\"y\"},\"tags\":[]}},{\"id\":\"ae9bdc2a-8636-481f-c89f-c93e65dd2be2\",\"type\":\"GlyphRenderer\",\"attributes\":{\"name\":null,\"nonselection_glyph\":{\"type\":\"Line\",\"id\":\"2ce6d563-645b-437e-c3e5-955c0880629e\"},\"doc\":null,\"server_data_source\":null,\"data_source\":{\"type\":\"ColumnDataSource\",\"id\":\"5009ef23-82c9-4a61-ca83-74682f17fda2\"},\"glyph\":{\"type\":\"Line\",\"id\":\"cb31dc76-94d6-465b-c6f7-be2f9280a00e\"},\"selection_glyph\":null,\"id\":\"ae9bdc2a-8636-481f-c89f-c93e65dd2be2\",\"tags\":[]}},{\"id\":\"6ea307e2-93aa-4cdd-cc53-0fe234bdd645\",\"type\":\"ColumnDataSource\",\"attributes\":{\"data\":{\"y\":[3.12,3.12,3.12,3.12,3.12,3.12,3.12,3.12,3.12,3.12,3.12,3.12,3.12,3.12,3.12,3.12,3.12,3.12,3.12,3.12,3.12,3.12,3.12,3.12,3.12,3.12,3.12,3.12,3.12,3.12,3.12,3.12,3.12,3.12,3.12,3.12,3.12,3.12,3.12,3.12,3.12,3.12,3.12,3.12,3.12,3.12,3.12,3.12,3.12,3.12],\"x\":[1,2,3,4,5,6,7,8,9,10,11,12,13,14,15,16,17,18,19,20,21,22,23,24,25,26,27,28,29,30,31,32,33,34,35,36,37,38,39,40,41,42,43,44,45,46,47,48,49,50]},\"column_names\":[\"y\",\"x\"],\"cont_ranges\":{},\"discrete_ranges\":{},\"selected\":[],\"id\":\"6ea307e2-93aa-4cdd-cc53-0fe234bdd645\",\"doc\":null,\"tags\":[]}},{\"id\":\"16ca4d4e-69df-4fa1-cf2a-9b4b1287e209\",\"type\":\"Line\",\"attributes\":{\"fill_alpha\":{\"units\":\"data\",\"value\":0.2},\"line_alpha\":{\"units\":\"data\",\"value\":1},\"doc\":null,\"size\":{\"units\":\"screen\",\"value\":10},\"fill_color\":{\"value\":\"blue\"},\"line_color\":{\"value\":\"blue\"},\"x\":{\"units\":\"data\",\"field\":\"x\"},\"id\":\"16ca4d4e-69df-4fa1-cf2a-9b4b1287e209\",\"y\":{\"units\":\"data\",\"field\":\"y\"},\"tags\":[]}},{\"id\":\"bc15cc70-ce9e-41f7-c15e-cf43818825f6\",\"type\":\"Line\",\"attributes\":{\"fill_alpha\":{\"units\":\"data\",\"value\":0.2},\"line_alpha\":{\"units\":\"data\",\"value\":1},\"doc\":null,\"size\":{\"units\":\"screen\",\"value\":10},\"fill_color\":{\"value\":\"blue\"},\"line_color\":{\"value\":\"blue\"},\"x\":{\"units\":\"data\",\"field\":\"x\"},\"id\":\"bc15cc70-ce9e-41f7-c15e-cf43818825f6\",\"y\":{\"units\":\"data\",\"field\":\"y\"},\"tags\":[]}},{\"id\":\"f58a716c-0919-4ed1-ce81-4532f5591c71\",\"type\":\"GlyphRenderer\",\"attributes\":{\"name\":null,\"nonselection_glyph\":{\"type\":\"Line\",\"id\":\"bc15cc70-ce9e-41f7-c15e-cf43818825f6\"},\"doc\":null,\"server_data_source\":null,\"data_source\":{\"type\":\"ColumnDataSource\",\"id\":\"6ea307e2-93aa-4cdd-cc53-0fe234bdd645\"},\"glyph\":{\"type\":\"Line\",\"id\":\"16ca4d4e-69df-4fa1-cf2a-9b4b1287e209\"},\"selection_glyph\":null,\"id\":\"f58a716c-0919-4ed1-ce81-4532f5591c71\",\"tags\":[]}},{\"id\":\"7d0e3034-00f9-433f-c303-8ee9f15f43eb\",\"type\":\"DataRange1d\",\"attributes\":{\"sources\":[{\"columns\":[\"x\"],\"source\":{\"type\":\"ColumnDataSource\",\"id\":\"50ab886e-2ffc-4562-c531-022fe52b2fa8\"}},{\"columns\":[\"x\"],\"source\":{\"type\":\"ColumnDataSource\",\"id\":\"5009ef23-82c9-4a61-ca83-74682f17fda2\"}},{\"columns\":[\"x\"],\"source\":{\"type\":\"ColumnDataSource\",\"id\":\"6ea307e2-93aa-4cdd-cc53-0fe234bdd645\"}}],\"id\":\"7d0e3034-00f9-433f-c303-8ee9f15f43eb\",\"tags\":[],\"doc\":null}},{\"id\":\"3f6751a2-733b-4934-c931-1d1d86374e94\",\"type\":\"DataRange1d\",\"attributes\":{\"sources\":[{\"columns\":[\"y\"],\"source\":{\"type\":\"ColumnDataSource\",\"id\":\"50ab886e-2ffc-4562-c531-022fe52b2fa8\"}},{\"columns\":[\"y\"],\"source\":{\"type\":\"ColumnDataSource\",\"id\":\"5009ef23-82c9-4a61-ca83-74682f17fda2\"}},{\"columns\":[\"y\"],\"source\":{\"type\":\"ColumnDataSource\",\"id\":\"6ea307e2-93aa-4cdd-cc53-0fe234bdd645\"}}],\"id\":\"3f6751a2-733b-4934-c931-1d1d86374e94\",\"tags\":[],\"doc\":null}},{\"id\":\"916b9db1-7745-489e-c89f-1f690cc20823\",\"type\":\"ToolEvents\",\"attributes\":{\"tags\":[],\"id\":\"916b9db1-7745-489e-c89f-1f690cc20823\",\"geometries\":[],\"doc\":null}},{\"id\":\"1abaa17f-bd72-4876-c83c-1f031df8990d\",\"type\":\"BasicTickFormatter\",\"attributes\":{\"id\":\"1abaa17f-bd72-4876-c83c-1f031df8990d\",\"tags\":[],\"doc\":null}},{\"id\":\"6b9474d1-8d60-4850-c806-e7a23f5fff7f\",\"type\":\"BasicTicker\",\"attributes\":{\"num_minor_ticks\":5,\"id\":\"6b9474d1-8d60-4850-c806-e7a23f5fff7f\",\"tags\":[],\"doc\":null}},{\"id\":\"a49f8f88-172c-43fc-c36e-1e4be944b303\",\"type\":\"LinearAxis\",\"attributes\":{\"formatter\":{\"type\":\"BasicTickFormatter\",\"id\":\"1abaa17f-bd72-4876-c83c-1f031df8990d\"},\"ticker\":{\"type\":\"BasicTicker\",\"id\":\"6b9474d1-8d60-4850-c806-e7a23f5fff7f\"},\"plot\":{\"id\":\"90ac4a97-417d-4903-c98b-ed9a675d4918\",\"type\":\"Plot\",\"subtype\":\"Figure\"},\"axis_label\":\"Epochs\",\"id\":\"a49f8f88-172c-43fc-c36e-1e4be944b303\",\"doc\":null,\"tags\":[]}},{\"id\":\"4c92973d-d7fe-41e5-c1dd-b80d028b6905\",\"type\":\"Grid\",\"attributes\":{\"dimension\":0,\"plot\":{\"id\":\"90ac4a97-417d-4903-c98b-ed9a675d4918\",\"type\":\"Plot\",\"subtype\":\"Figure\"},\"ticker\":{\"type\":\"BasicTicker\",\"id\":\"6b9474d1-8d60-4850-c806-e7a23f5fff7f\"},\"id\":\"4c92973d-d7fe-41e5-c1dd-b80d028b6905\",\"doc\":null,\"tags\":[]}},{\"id\":\"c1b533d8-3c18-4cdd-cc47-403647fe1018\",\"type\":\"BasicTickFormatter\",\"attributes\":{\"id\":\"c1b533d8-3c18-4cdd-cc47-403647fe1018\",\"tags\":[],\"doc\":null}},{\"id\":\"f7004df0-ddf7-4d03-cdb8-4fa1de6e3bcf\",\"type\":\"BasicTicker\",\"attributes\":{\"num_minor_ticks\":5,\"id\":\"f7004df0-ddf7-4d03-cdb8-4fa1de6e3bcf\",\"tags\":[],\"doc\":null}},{\"id\":\"fc73a7e6-7404-4f02-cf0e-21bbb4c021ef\",\"type\":\"LinearAxis\",\"attributes\":{\"formatter\":{\"type\":\"BasicTickFormatter\",\"id\":\"c1b533d8-3c18-4cdd-cc47-403647fe1018\"},\"ticker\":{\"type\":\"BasicTicker\",\"id\":\"f7004df0-ddf7-4d03-cdb8-4fa1de6e3bcf\"},\"plot\":{\"id\":\"90ac4a97-417d-4903-c98b-ed9a675d4918\",\"type\":\"Plot\",\"subtype\":\"Figure\"},\"axis_label\":\"Percentage Error\",\"id\":\"fc73a7e6-7404-4f02-cf0e-21bbb4c021ef\",\"doc\":null,\"tags\":[]}},{\"id\":\"3341b4ae-cbb7-4b06-cb09-af6b68284b67\",\"type\":\"Grid\",\"attributes\":{\"dimension\":1,\"plot\":{\"id\":\"90ac4a97-417d-4903-c98b-ed9a675d4918\",\"type\":\"Plot\",\"subtype\":\"Figure\"},\"ticker\":{\"type\":\"BasicTicker\",\"id\":\"f7004df0-ddf7-4d03-cdb8-4fa1de6e3bcf\"},\"id\":\"3341b4ae-cbb7-4b06-cb09-af6b68284b67\",\"doc\":null,\"tags\":[]}},{\"id\":\"4790005a-184c-44cd-c430-d44d8e4487c9\",\"type\":\"PanTool\",\"attributes\":{\"plot\":{\"id\":\"90ac4a97-417d-4903-c98b-ed9a675d4918\",\"type\":\"Plot\",\"subtype\":\"Figure\"},\"dimensions\":[\"width\",\"height\"],\"id\":\"4790005a-184c-44cd-c430-d44d8e4487c9\",\"doc\":null,\"tags\":[]}},{\"id\":\"851d1b8b-11ef-4d4f-cd56-15c4c5291a50\",\"type\":\"WheelZoomTool\",\"attributes\":{\"plot\":{\"id\":\"90ac4a97-417d-4903-c98b-ed9a675d4918\",\"type\":\"Plot\",\"subtype\":\"Figure\"},\"dimensions\":[\"width\",\"height\"],\"id\":\"851d1b8b-11ef-4d4f-cd56-15c4c5291a50\",\"doc\":null,\"tags\":[]}},{\"id\":\"edb83bf6-05e3-44b6-c4a2-4de8e78dc2eb\",\"type\":\"BoxZoomTool\",\"attributes\":{\"plot\":{\"id\":\"90ac4a97-417d-4903-c98b-ed9a675d4918\",\"type\":\"Plot\",\"subtype\":\"Figure\"},\"id\":\"edb83bf6-05e3-44b6-c4a2-4de8e78dc2eb\",\"tags\":[],\"doc\":null}},{\"id\":\"9ad64c8d-0dc1-490d-c9da-0dd82bac1e91\",\"type\":\"PreviewSaveTool\",\"attributes\":{\"plot\":{\"id\":\"90ac4a97-417d-4903-c98b-ed9a675d4918\",\"type\":\"Plot\",\"subtype\":\"Figure\"},\"id\":\"9ad64c8d-0dc1-490d-c9da-0dd82bac1e91\",\"tags\":[],\"doc\":null}},{\"id\":\"88fe02b4-c305-4443-c4bc-51a48e8ab53c\",\"type\":\"ResizeTool\",\"attributes\":{\"plot\":{\"id\":\"90ac4a97-417d-4903-c98b-ed9a675d4918\",\"type\":\"Plot\",\"subtype\":\"Figure\"},\"id\":\"88fe02b4-c305-4443-c4bc-51a48e8ab53c\",\"tags\":[],\"doc\":null}},{\"id\":\"3de3aa81-2bc2-4514-c55b-552a597be5ee\",\"type\":\"ResetTool\",\"attributes\":{\"plot\":{\"id\":\"90ac4a97-417d-4903-c98b-ed9a675d4918\",\"type\":\"Plot\",\"subtype\":\"Figure\"},\"id\":\"3de3aa81-2bc2-4514-c55b-552a597be5ee\",\"tags\":[],\"doc\":null}},{\"id\":\"30478146-1415-43bc-c354-2f11b7f63741\",\"type\":\"Legend\",\"attributes\":{\"plot\":{\"id\":\"90ac4a97-417d-4903-c98b-ed9a675d4918\",\"type\":\"Plot\",\"subtype\":\"Figure\"},\"legends\":[[\"training error\",[{\"type\":\"GlyphRenderer\",\"id\":\"dbcc3eaa-b727-47b6-c720-42663355dce0\"}]],[\"validation error\",[{\"type\":\"GlyphRenderer\",\"id\":\"ae9bdc2a-8636-481f-c89f-c93e65dd2be2\"}]],[\"validation error\",[{\"type\":\"GlyphRenderer\",\"id\":\"f58a716c-0919-4ed1-ce81-4532f5591c71\"}]]],\"id\":\"30478146-1415-43bc-c354-2f11b7f63741\",\"doc\":null,\"tags\":[]}},{\"id\":\"90ac4a97-417d-4903-c98b-ed9a675d4918\",\"type\":\"Plot\",\"attributes\":{\"x_range\":{\"type\":\"DataRange1d\",\"id\":\"7d0e3034-00f9-433f-c303-8ee9f15f43eb\"},\"tool_events\":{\"type\":\"ToolEvents\",\"id\":\"916b9db1-7745-489e-c89f-1f690cc20823\"},\"below\":[{\"type\":\"LinearAxis\",\"id\":\"a49f8f88-172c-43fc-c36e-1e4be944b303\"}],\"renderers\":[{\"type\":\"GlyphRenderer\",\"id\":\"dbcc3eaa-b727-47b6-c720-42663355dce0\"},{\"type\":\"GlyphRenderer\",\"id\":\"ae9bdc2a-8636-481f-c89f-c93e65dd2be2\"},{\"type\":\"GlyphRenderer\",\"id\":\"f58a716c-0919-4ed1-ce81-4532f5591c71\"},{\"type\":\"LinearAxis\",\"id\":\"a49f8f88-172c-43fc-c36e-1e4be944b303\"},{\"type\":\"Grid\",\"id\":\"4c92973d-d7fe-41e5-c1dd-b80d028b6905\"},{\"type\":\"LinearAxis\",\"id\":\"fc73a7e6-7404-4f02-cf0e-21bbb4c021ef\"},{\"type\":\"Grid\",\"id\":\"3341b4ae-cbb7-4b06-cb09-af6b68284b67\"},{\"type\":\"Legend\",\"id\":\"30478146-1415-43bc-c354-2f11b7f63741\"}],\"above\":[],\"tools\":[{\"type\":\"PanTool\",\"id\":\"4790005a-184c-44cd-c430-d44d8e4487c9\"},{\"type\":\"WheelZoomTool\",\"id\":\"851d1b8b-11ef-4d4f-cd56-15c4c5291a50\"},{\"type\":\"BoxZoomTool\",\"id\":\"edb83bf6-05e3-44b6-c4a2-4de8e78dc2eb\"},{\"type\":\"PreviewSaveTool\",\"id\":\"9ad64c8d-0dc1-490d-c9da-0dd82bac1e91\"},{\"type\":\"ResizeTool\",\"id\":\"88fe02b4-c305-4443-c4bc-51a48e8ab53c\"},{\"type\":\"ResetTool\",\"id\":\"3de3aa81-2bc2-4514-c55b-552a597be5ee\"}],\"doc\":null,\"right\":[],\"title\":\"comparing errors\",\"extra_x_ranges\":{},\"left\":[{\"type\":\"LinearAxis\",\"id\":\"fc73a7e6-7404-4f02-cf0e-21bbb4c021ef\"}],\"y_range\":{\"type\":\"DataRange1d\",\"id\":\"3f6751a2-733b-4934-c931-1d1d86374e94\"},\"id\":\"90ac4a97-417d-4903-c98b-ed9a675d4918\",\"extra_y_ranges\":{},\"tags\":[]}}];\n",
       "  Bokeh.load_models(all_models);\n",
       "  var model = Bokeh.Collections(modeltype).get(modelid);\n",
       "  $(\"#67fedde7-77f3-4be4-cbee-f8d7e302e1f3\").html(''); // clear any previous plot in window_id\n",
       "  var view = new model.default_view({model: model, el: \"#67fedde7-77f3-4be4-cbee-f8d7e302e1f3\"});\n",
       "    } else {\n",
       "  load_lib(bokehjs_url, function() {\n",
       "      console.log(\"Bokeh: BokehJS plotting callback run at\", new Date())\n",
       "      var modelid = \"90ac4a97-417d-4903-c98b-ed9a675d4918\";\n",
       "      var modeltype = \"Plot\";\n",
       "      var all_models = [{\"id\":\"50ab886e-2ffc-4562-c531-022fe52b2fa8\",\"type\":\"ColumnDataSource\",\"attributes\":{\"data\":{\"y\":[80.089137371766,44.600332287244,22.244784936312,12.85371449669,8.5023339223081,5.9073287797674,4.3434689733379,3.2965004351381,2.7347767609905,2.0807510746591,1.8961470502914,1.3766185817137,1.3291489754477,1.0865265434215,0.92565732218677,0.8069833065218,0.80170890582558,0.61446768110973,0.56699807484375,0.51952846857776,0.48524486405232,0.40085445291279,0.40876605395712,0.30591524038081,0.36129644769113,0.3270128431657,0.29272923864026,0.2531712334186,0.24789683272238,0.20833882750073,0.21361322819695,0.16086922123474,0.21097602784884,0.20570162715261,0.18460402436773,0.1503204198423,0.17141802262718,0.11603681531686,0.12922281705741,0.12394841636119,0.1265856167093,0.11076241462064,0.1265856167093,0.11867401566497,0.1002136132282,0.11603681531686,0.10285081357631,0.097576412880087,0.10285081357631,0.11339961496875],\"x\":[1,2,3,4,5,6,7,8,9,10,11,12,13,14,15,16,17,18,19,20,21,22,23,24,25,26,27,28,29,30,31,32,33,34,35,36,37,38,39,40,41,42,43,44,45,46,47,48,49,50]},\"column_names\":[\"y\",\"x\"],\"cont_ranges\":{},\"discrete_ranges\":{},\"selected\":[],\"id\":\"50ab886e-2ffc-4562-c531-022fe52b2fa8\",\"doc\":null,\"tags\":[]}},{\"id\":\"22748664-18c5-491a-c983-aa6519a2cf3d\",\"type\":\"Line\",\"attributes\":{\"fill_alpha\":{\"units\":\"data\",\"value\":0.2},\"line_alpha\":{\"units\":\"data\",\"value\":1},\"doc\":null,\"size\":{\"units\":\"screen\",\"value\":10},\"fill_color\":{\"value\":\"red\"},\"line_color\":{\"value\":\"red\"},\"x\":{\"units\":\"data\",\"field\":\"x\"},\"id\":\"22748664-18c5-491a-c983-aa6519a2cf3d\",\"y\":{\"units\":\"data\",\"field\":\"y\"},\"tags\":[]}},{\"id\":\"dfc5d210-21c2-4941-c9e8-e315d3e43f11\",\"type\":\"Line\",\"attributes\":{\"fill_alpha\":{\"units\":\"data\",\"value\":0.2},\"line_alpha\":{\"units\":\"data\",\"value\":1},\"doc\":null,\"size\":{\"units\":\"screen\",\"value\":10},\"fill_color\":{\"value\":\"red\"},\"line_color\":{\"value\":\"red\"},\"x\":{\"units\":\"data\",\"field\":\"x\"},\"id\":\"dfc5d210-21c2-4941-c9e8-e315d3e43f11\",\"y\":{\"units\":\"data\",\"field\":\"y\"},\"tags\":[]}},{\"id\":\"dbcc3eaa-b727-47b6-c720-42663355dce0\",\"type\":\"GlyphRenderer\",\"attributes\":{\"name\":null,\"nonselection_glyph\":{\"type\":\"Line\",\"id\":\"dfc5d210-21c2-4941-c9e8-e315d3e43f11\"},\"doc\":null,\"server_data_source\":null,\"data_source\":{\"type\":\"ColumnDataSource\",\"id\":\"50ab886e-2ffc-4562-c531-022fe52b2fa8\"},\"glyph\":{\"type\":\"Line\",\"id\":\"22748664-18c5-491a-c983-aa6519a2cf3d\"},\"selection_glyph\":null,\"id\":\"dbcc3eaa-b727-47b6-c720-42663355dce0\",\"tags\":[]}},{\"id\":\"5009ef23-82c9-4a61-ca83-74682f17fda2\",\"type\":\"ColumnDataSource\",\"attributes\":{\"data\":{\"y\":[77.906976744186,54.031007751938,35.968992248062,28.527131782946,18.914728682171,15.116279069767,9.5348837209302,7.5193798449612,7.7519379844961,7.1317829457364,6.2790697674419,6.1240310077519,5.5038759689922,5.1162790697674,3.8759689922481,4.4186046511628,4.1860465116279,4.8837209302326,4.2635658914729,4.6511627906977,4.3410852713178,4.1860465116279,4.5736434108527,4.5736434108527,4.3410852713178,4.3410852713178,4.2635658914729,4.1860465116279,4.031007751938,3.953488372093,3.953488372093,3.8759689922481,3.8759689922481,4.1860465116279,4.1085271317829,3.8759689922481,3.8759689922481,3.7984496124031,3.7209302325581,4.031007751938,3.4108527131783,4.1085271317829,4.2635658914729,3.4883720930233,3.953488372093,4.031007751938,4.1085271317829,3.1782945736434,3.7209302325581,3.2558139534884],\"x\":[1,2,3,4,5,6,7,8,9,10,11,12,13,14,15,16,17,18,19,20,21,22,23,24,25,26,27,28,29,30,31,32,33,34,35,36,37,38,39,40,41,42,43,44,45,46,47,48,49,50]},\"column_names\":[\"y\",\"x\"],\"cont_ranges\":{},\"discrete_ranges\":{},\"selected\":[],\"id\":\"5009ef23-82c9-4a61-ca83-74682f17fda2\",\"doc\":null,\"tags\":[]}},{\"id\":\"cb31dc76-94d6-465b-c6f7-be2f9280a00e\",\"type\":\"Line\",\"attributes\":{\"fill_alpha\":{\"units\":\"data\",\"value\":0.2},\"line_alpha\":{\"units\":\"data\",\"value\":1},\"doc\":null,\"size\":{\"units\":\"screen\",\"value\":10},\"fill_color\":{\"value\":\"green\"},\"line_color\":{\"value\":\"green\"},\"x\":{\"units\":\"data\",\"field\":\"x\"},\"id\":\"cb31dc76-94d6-465b-c6f7-be2f9280a00e\",\"y\":{\"units\":\"data\",\"field\":\"y\"},\"tags\":[]}},{\"id\":\"2ce6d563-645b-437e-c3e5-955c0880629e\",\"type\":\"Line\",\"attributes\":{\"fill_alpha\":{\"units\":\"data\",\"value\":0.2},\"line_alpha\":{\"units\":\"data\",\"value\":1},\"doc\":null,\"size\":{\"units\":\"screen\",\"value\":10},\"fill_color\":{\"value\":\"green\"},\"line_color\":{\"value\":\"green\"},\"x\":{\"units\":\"data\",\"field\":\"x\"},\"id\":\"2ce6d563-645b-437e-c3e5-955c0880629e\",\"y\":{\"units\":\"data\",\"field\":\"y\"},\"tags\":[]}},{\"id\":\"ae9bdc2a-8636-481f-c89f-c93e65dd2be2\",\"type\":\"GlyphRenderer\",\"attributes\":{\"name\":null,\"nonselection_glyph\":{\"type\":\"Line\",\"id\":\"2ce6d563-645b-437e-c3e5-955c0880629e\"},\"doc\":null,\"server_data_source\":null,\"data_source\":{\"type\":\"ColumnDataSource\",\"id\":\"5009ef23-82c9-4a61-ca83-74682f17fda2\"},\"glyph\":{\"type\":\"Line\",\"id\":\"cb31dc76-94d6-465b-c6f7-be2f9280a00e\"},\"selection_glyph\":null,\"id\":\"ae9bdc2a-8636-481f-c89f-c93e65dd2be2\",\"tags\":[]}},{\"id\":\"6ea307e2-93aa-4cdd-cc53-0fe234bdd645\",\"type\":\"ColumnDataSource\",\"attributes\":{\"data\":{\"y\":[3.12,3.12,3.12,3.12,3.12,3.12,3.12,3.12,3.12,3.12,3.12,3.12,3.12,3.12,3.12,3.12,3.12,3.12,3.12,3.12,3.12,3.12,3.12,3.12,3.12,3.12,3.12,3.12,3.12,3.12,3.12,3.12,3.12,3.12,3.12,3.12,3.12,3.12,3.12,3.12,3.12,3.12,3.12,3.12,3.12,3.12,3.12,3.12,3.12,3.12],\"x\":[1,2,3,4,5,6,7,8,9,10,11,12,13,14,15,16,17,18,19,20,21,22,23,24,25,26,27,28,29,30,31,32,33,34,35,36,37,38,39,40,41,42,43,44,45,46,47,48,49,50]},\"column_names\":[\"y\",\"x\"],\"cont_ranges\":{},\"discrete_ranges\":{},\"selected\":[],\"id\":\"6ea307e2-93aa-4cdd-cc53-0fe234bdd645\",\"doc\":null,\"tags\":[]}},{\"id\":\"16ca4d4e-69df-4fa1-cf2a-9b4b1287e209\",\"type\":\"Line\",\"attributes\":{\"fill_alpha\":{\"units\":\"data\",\"value\":0.2},\"line_alpha\":{\"units\":\"data\",\"value\":1},\"doc\":null,\"size\":{\"units\":\"screen\",\"value\":10},\"fill_color\":{\"value\":\"blue\"},\"line_color\":{\"value\":\"blue\"},\"x\":{\"units\":\"data\",\"field\":\"x\"},\"id\":\"16ca4d4e-69df-4fa1-cf2a-9b4b1287e209\",\"y\":{\"units\":\"data\",\"field\":\"y\"},\"tags\":[]}},{\"id\":\"bc15cc70-ce9e-41f7-c15e-cf43818825f6\",\"type\":\"Line\",\"attributes\":{\"fill_alpha\":{\"units\":\"data\",\"value\":0.2},\"line_alpha\":{\"units\":\"data\",\"value\":1},\"doc\":null,\"size\":{\"units\":\"screen\",\"value\":10},\"fill_color\":{\"value\":\"blue\"},\"line_color\":{\"value\":\"blue\"},\"x\":{\"units\":\"data\",\"field\":\"x\"},\"id\":\"bc15cc70-ce9e-41f7-c15e-cf43818825f6\",\"y\":{\"units\":\"data\",\"field\":\"y\"},\"tags\":[]}},{\"id\":\"f58a716c-0919-4ed1-ce81-4532f5591c71\",\"type\":\"GlyphRenderer\",\"attributes\":{\"name\":null,\"nonselection_glyph\":{\"type\":\"Line\",\"id\":\"bc15cc70-ce9e-41f7-c15e-cf43818825f6\"},\"doc\":null,\"server_data_source\":null,\"data_source\":{\"type\":\"ColumnDataSource\",\"id\":\"6ea307e2-93aa-4cdd-cc53-0fe234bdd645\"},\"glyph\":{\"type\":\"Line\",\"id\":\"16ca4d4e-69df-4fa1-cf2a-9b4b1287e209\"},\"selection_glyph\":null,\"id\":\"f58a716c-0919-4ed1-ce81-4532f5591c71\",\"tags\":[]}},{\"id\":\"7d0e3034-00f9-433f-c303-8ee9f15f43eb\",\"type\":\"DataRange1d\",\"attributes\":{\"sources\":[{\"columns\":[\"x\"],\"source\":{\"type\":\"ColumnDataSource\",\"id\":\"50ab886e-2ffc-4562-c531-022fe52b2fa8\"}},{\"columns\":[\"x\"],\"source\":{\"type\":\"ColumnDataSource\",\"id\":\"5009ef23-82c9-4a61-ca83-74682f17fda2\"}},{\"columns\":[\"x\"],\"source\":{\"type\":\"ColumnDataSource\",\"id\":\"6ea307e2-93aa-4cdd-cc53-0fe234bdd645\"}}],\"id\":\"7d0e3034-00f9-433f-c303-8ee9f15f43eb\",\"tags\":[],\"doc\":null}},{\"id\":\"3f6751a2-733b-4934-c931-1d1d86374e94\",\"type\":\"DataRange1d\",\"attributes\":{\"sources\":[{\"columns\":[\"y\"],\"source\":{\"type\":\"ColumnDataSource\",\"id\":\"50ab886e-2ffc-4562-c531-022fe52b2fa8\"}},{\"columns\":[\"y\"],\"source\":{\"type\":\"ColumnDataSource\",\"id\":\"5009ef23-82c9-4a61-ca83-74682f17fda2\"}},{\"columns\":[\"y\"],\"source\":{\"type\":\"ColumnDataSource\",\"id\":\"6ea307e2-93aa-4cdd-cc53-0fe234bdd645\"}}],\"id\":\"3f6751a2-733b-4934-c931-1d1d86374e94\",\"tags\":[],\"doc\":null}},{\"id\":\"916b9db1-7745-489e-c89f-1f690cc20823\",\"type\":\"ToolEvents\",\"attributes\":{\"tags\":[],\"id\":\"916b9db1-7745-489e-c89f-1f690cc20823\",\"geometries\":[],\"doc\":null}},{\"id\":\"1abaa17f-bd72-4876-c83c-1f031df8990d\",\"type\":\"BasicTickFormatter\",\"attributes\":{\"id\":\"1abaa17f-bd72-4876-c83c-1f031df8990d\",\"tags\":[],\"doc\":null}},{\"id\":\"6b9474d1-8d60-4850-c806-e7a23f5fff7f\",\"type\":\"BasicTicker\",\"attributes\":{\"num_minor_ticks\":5,\"id\":\"6b9474d1-8d60-4850-c806-e7a23f5fff7f\",\"tags\":[],\"doc\":null}},{\"id\":\"a49f8f88-172c-43fc-c36e-1e4be944b303\",\"type\":\"LinearAxis\",\"attributes\":{\"formatter\":{\"type\":\"BasicTickFormatter\",\"id\":\"1abaa17f-bd72-4876-c83c-1f031df8990d\"},\"ticker\":{\"type\":\"BasicTicker\",\"id\":\"6b9474d1-8d60-4850-c806-e7a23f5fff7f\"},\"plot\":{\"id\":\"90ac4a97-417d-4903-c98b-ed9a675d4918\",\"type\":\"Plot\",\"subtype\":\"Figure\"},\"axis_label\":\"Epochs\",\"id\":\"a49f8f88-172c-43fc-c36e-1e4be944b303\",\"doc\":null,\"tags\":[]}},{\"id\":\"4c92973d-d7fe-41e5-c1dd-b80d028b6905\",\"type\":\"Grid\",\"attributes\":{\"dimension\":0,\"plot\":{\"id\":\"90ac4a97-417d-4903-c98b-ed9a675d4918\",\"type\":\"Plot\",\"subtype\":\"Figure\"},\"ticker\":{\"type\":\"BasicTicker\",\"id\":\"6b9474d1-8d60-4850-c806-e7a23f5fff7f\"},\"id\":\"4c92973d-d7fe-41e5-c1dd-b80d028b6905\",\"doc\":null,\"tags\":[]}},{\"id\":\"c1b533d8-3c18-4cdd-cc47-403647fe1018\",\"type\":\"BasicTickFormatter\",\"attributes\":{\"id\":\"c1b533d8-3c18-4cdd-cc47-403647fe1018\",\"tags\":[],\"doc\":null}},{\"id\":\"f7004df0-ddf7-4d03-cdb8-4fa1de6e3bcf\",\"type\":\"BasicTicker\",\"attributes\":{\"num_minor_ticks\":5,\"id\":\"f7004df0-ddf7-4d03-cdb8-4fa1de6e3bcf\",\"tags\":[],\"doc\":null}},{\"id\":\"fc73a7e6-7404-4f02-cf0e-21bbb4c021ef\",\"type\":\"LinearAxis\",\"attributes\":{\"formatter\":{\"type\":\"BasicTickFormatter\",\"id\":\"c1b533d8-3c18-4cdd-cc47-403647fe1018\"},\"ticker\":{\"type\":\"BasicTicker\",\"id\":\"f7004df0-ddf7-4d03-cdb8-4fa1de6e3bcf\"},\"plot\":{\"id\":\"90ac4a97-417d-4903-c98b-ed9a675d4918\",\"type\":\"Plot\",\"subtype\":\"Figure\"},\"axis_label\":\"Percentage Error\",\"id\":\"fc73a7e6-7404-4f02-cf0e-21bbb4c021ef\",\"doc\":null,\"tags\":[]}},{\"id\":\"3341b4ae-cbb7-4b06-cb09-af6b68284b67\",\"type\":\"Grid\",\"attributes\":{\"dimension\":1,\"plot\":{\"id\":\"90ac4a97-417d-4903-c98b-ed9a675d4918\",\"type\":\"Plot\",\"subtype\":\"Figure\"},\"ticker\":{\"type\":\"BasicTicker\",\"id\":\"f7004df0-ddf7-4d03-cdb8-4fa1de6e3bcf\"},\"id\":\"3341b4ae-cbb7-4b06-cb09-af6b68284b67\",\"doc\":null,\"tags\":[]}},{\"id\":\"4790005a-184c-44cd-c430-d44d8e4487c9\",\"type\":\"PanTool\",\"attributes\":{\"plot\":{\"id\":\"90ac4a97-417d-4903-c98b-ed9a675d4918\",\"type\":\"Plot\",\"subtype\":\"Figure\"},\"dimensions\":[\"width\",\"height\"],\"id\":\"4790005a-184c-44cd-c430-d44d8e4487c9\",\"doc\":null,\"tags\":[]}},{\"id\":\"851d1b8b-11ef-4d4f-cd56-15c4c5291a50\",\"type\":\"WheelZoomTool\",\"attributes\":{\"plot\":{\"id\":\"90ac4a97-417d-4903-c98b-ed9a675d4918\",\"type\":\"Plot\",\"subtype\":\"Figure\"},\"dimensions\":[\"width\",\"height\"],\"id\":\"851d1b8b-11ef-4d4f-cd56-15c4c5291a50\",\"doc\":null,\"tags\":[]}},{\"id\":\"edb83bf6-05e3-44b6-c4a2-4de8e78dc2eb\",\"type\":\"BoxZoomTool\",\"attributes\":{\"plot\":{\"id\":\"90ac4a97-417d-4903-c98b-ed9a675d4918\",\"type\":\"Plot\",\"subtype\":\"Figure\"},\"id\":\"edb83bf6-05e3-44b6-c4a2-4de8e78dc2eb\",\"tags\":[],\"doc\":null}},{\"id\":\"9ad64c8d-0dc1-490d-c9da-0dd82bac1e91\",\"type\":\"PreviewSaveTool\",\"attributes\":{\"plot\":{\"id\":\"90ac4a97-417d-4903-c98b-ed9a675d4918\",\"type\":\"Plot\",\"subtype\":\"Figure\"},\"id\":\"9ad64c8d-0dc1-490d-c9da-0dd82bac1e91\",\"tags\":[],\"doc\":null}},{\"id\":\"88fe02b4-c305-4443-c4bc-51a48e8ab53c\",\"type\":\"ResizeTool\",\"attributes\":{\"plot\":{\"id\":\"90ac4a97-417d-4903-c98b-ed9a675d4918\",\"type\":\"Plot\",\"subtype\":\"Figure\"},\"id\":\"88fe02b4-c305-4443-c4bc-51a48e8ab53c\",\"tags\":[],\"doc\":null}},{\"id\":\"3de3aa81-2bc2-4514-c55b-552a597be5ee\",\"type\":\"ResetTool\",\"attributes\":{\"plot\":{\"id\":\"90ac4a97-417d-4903-c98b-ed9a675d4918\",\"type\":\"Plot\",\"subtype\":\"Figure\"},\"id\":\"3de3aa81-2bc2-4514-c55b-552a597be5ee\",\"tags\":[],\"doc\":null}},{\"id\":\"30478146-1415-43bc-c354-2f11b7f63741\",\"type\":\"Legend\",\"attributes\":{\"plot\":{\"id\":\"90ac4a97-417d-4903-c98b-ed9a675d4918\",\"type\":\"Plot\",\"subtype\":\"Figure\"},\"legends\":[[\"training error\",[{\"type\":\"GlyphRenderer\",\"id\":\"dbcc3eaa-b727-47b6-c720-42663355dce0\"}]],[\"validation error\",[{\"type\":\"GlyphRenderer\",\"id\":\"ae9bdc2a-8636-481f-c89f-c93e65dd2be2\"}]],[\"validation error\",[{\"type\":\"GlyphRenderer\",\"id\":\"f58a716c-0919-4ed1-ce81-4532f5591c71\"}]]],\"id\":\"30478146-1415-43bc-c354-2f11b7f63741\",\"doc\":null,\"tags\":[]}},{\"id\":\"90ac4a97-417d-4903-c98b-ed9a675d4918\",\"type\":\"Plot\",\"attributes\":{\"x_range\":{\"type\":\"DataRange1d\",\"id\":\"7d0e3034-00f9-433f-c303-8ee9f15f43eb\"},\"tool_events\":{\"type\":\"ToolEvents\",\"id\":\"916b9db1-7745-489e-c89f-1f690cc20823\"},\"below\":[{\"type\":\"LinearAxis\",\"id\":\"a49f8f88-172c-43fc-c36e-1e4be944b303\"}],\"renderers\":[{\"type\":\"GlyphRenderer\",\"id\":\"dbcc3eaa-b727-47b6-c720-42663355dce0\"},{\"type\":\"GlyphRenderer\",\"id\":\"ae9bdc2a-8636-481f-c89f-c93e65dd2be2\"},{\"type\":\"GlyphRenderer\",\"id\":\"f58a716c-0919-4ed1-ce81-4532f5591c71\"},{\"type\":\"LinearAxis\",\"id\":\"a49f8f88-172c-43fc-c36e-1e4be944b303\"},{\"type\":\"Grid\",\"id\":\"4c92973d-d7fe-41e5-c1dd-b80d028b6905\"},{\"type\":\"LinearAxis\",\"id\":\"fc73a7e6-7404-4f02-cf0e-21bbb4c021ef\"},{\"type\":\"Grid\",\"id\":\"3341b4ae-cbb7-4b06-cb09-af6b68284b67\"},{\"type\":\"Legend\",\"id\":\"30478146-1415-43bc-c354-2f11b7f63741\"}],\"above\":[],\"tools\":[{\"type\":\"PanTool\",\"id\":\"4790005a-184c-44cd-c430-d44d8e4487c9\"},{\"type\":\"WheelZoomTool\",\"id\":\"851d1b8b-11ef-4d4f-cd56-15c4c5291a50\"},{\"type\":\"BoxZoomTool\",\"id\":\"edb83bf6-05e3-44b6-c4a2-4de8e78dc2eb\"},{\"type\":\"PreviewSaveTool\",\"id\":\"9ad64c8d-0dc1-490d-c9da-0dd82bac1e91\"},{\"type\":\"ResizeTool\",\"id\":\"88fe02b4-c305-4443-c4bc-51a48e8ab53c\"},{\"type\":\"ResetTool\",\"id\":\"3de3aa81-2bc2-4514-c55b-552a597be5ee\"}],\"doc\":null,\"right\":[],\"title\":\"comparing errors\",\"extra_x_ranges\":{},\"left\":[{\"type\":\"LinearAxis\",\"id\":\"fc73a7e6-7404-4f02-cf0e-21bbb4c021ef\"}],\"y_range\":{\"type\":\"DataRange1d\",\"id\":\"3f6751a2-733b-4934-c931-1d1d86374e94\"},\"id\":\"90ac4a97-417d-4903-c98b-ed9a675d4918\",\"extra_y_ranges\":{},\"tags\":[]}}];\n",
       "      Bokeh.load_models(all_models);\n",
       "      var model = Bokeh.Collections(modeltype).get(modelid);\n",
       "      $(\"#67fedde7-77f3-4be4-cbee-f8d7e302e1f3\").html(''); // clear any previous plot in window_id\n",
       "      var view = new model.default_view({model: model, el: \"#67fedde7-77f3-4be4-cbee-f8d7e302e1f3\"});\n",
       "  });\n",
       "    }\n",
       "});\n",
       "</script>\n",
       "<div class=\"plotdiv\" id=\"67fedde7-77f3-4be4-cbee-f8d7e302e1f3\"></div>\n"
      ]
     },
     "metadata": {},
     "output_type": "display_data"
    },
    {
     "data": {
      "text/plain": [
       "{\n",
       "  text : function: 0x4028e378\n",
       "  _winid : 67fedde7-77f3-4be4-cbee-f8d7e302e1f3\n",
       "  quad : function: 0x4028e4c0\n",
       "  _docid : userdata: NULL\n",
       "  yaxis : function: 0x4028e6c8\n",
       "  _legend : true\n",
       "  hover_tool : function: 0x4028e708\n",
       "  quiver : function: 0x4028e4a0\n",
       "  triangle : function: 0x41b947c0\n",
       "  save : function: 0x41b99df0\n",
       "  circle : function: 0x409db398\n",
       "  _yaxis : Percentage Error\n",
       "  draw : function: 0x41b99d90\n",
       "  gscatter : function: 0x4028e460\n",
       "  title : function: 0x4028e688\n",
       "  line : function: 0x409db3e0\n",
       "  segment : function: 0x4028e480\n",
       "  histogram : function: 0x4028e668\n",
       "  _data : \n",
       "    {\n",
       "      1 : \n",
       "        "
      ]
     },
     "execution_count": 7,
     "metadata": {},
     "output_type": "execute_result"
    },
    {
     "data": {
      "text/plain": [
       "{\n",
       "          fill_color : red\n",
       "          line_color : red\n",
       "          legend : training error\n",
       "          type : Line\n",
       "          y : DoubleTensor - size: 50\n",
       "          x : DoubleTensor - size: 50\n",
       "        }\n",
       "      2 : \n",
       "        {\n",
       "          fill_color : green\n",
       "          line_color : green\n",
       "          legend : validation error\n",
       "          type : Line\n",
       "          y : DoubleTensor - size: 50\n",
       "          x : DoubleTensor - size: 50\n",
       "        }\n",
       "      3 : \n",
       "        {\n",
       "          fill_color : blue\n",
       "          line_color : blue\n",
       "          legend : validation error\n",
       "          type : Line\n",
       "          y : DoubleTensor - size: 50\n",
       "          x : DoubleTensor - size: 50\n",
       "        }\n",
       "    }\n",
       "  _xaxis : Epochs\n",
       "  new : function: 0x41b94780\n",
       "  _toAllModels : function: 0x41b998a0\n",
       "  hist : function: 0x4028e668\n",
       "  _title : comparing errors\n",
       "  xaxis : function: 0x4028e6a8\n",
       "  redraw : function: 0x41b99dd0\n",
       "  toTemplate : function: 0x41b99d08\n",
       "  legend : function: 0x4028e6e8\n",
       "  toHTML : function: 0x41b99d50\n",
       "}\n"
      ]
     },
     "execution_count": 7,
     "metadata": {},
     "output_type": "execute_result"
    }
   ],
   "source": [
    "Plot()\n",
    ":line(x_axis, training_error_vector,'red','training error')\n",
    ":line(x_axis, validation_error_vector,'green','validation error')\n",
    ":line(x_axis, test_error_vector,'blue','validation error')\n",
    ":xaxis('Epochs'):yaxis('Percentage Error')\n",
    ":legend(true):title('comparing errors'):draw()"
   ]
  },
  {
   "cell_type": "markdown",
   "metadata": {
    "collapsed": true
   },
   "source": [
    "## Observations\n",
    "\n",
    "1. The validation error is very much similar to test error. So, finally we have a good approximation of the test set. HURRAY!!!\n",
    "2. There is a big gap between the training error and test/validation error. \n",
    "3. We did a little better in terms of test error from the previous run, specifically **0.01251**\n",
    "\n",
    "## Conclusions\n",
    "1. We did a little bit better than last time with the exact same model, How? Probably because we used more data than last time. Last time we had 276 batches of data and with the new separation, we have 297 batches of data in training set.\n",
    "2. What can we do about the big gap between training error and test/validation error? Here are a few option:\n",
    "    - This can be because of the imbalance of class representation in the training data. Try fixing the class imbalance with oversampling/undersampling. There are more ways, but we'll look into them later.\n",
    "    - We have less data and the current model is already overfitting (as the training error is almost near zero). So we need more data or more regularization.\n",
    "    - More data can be generated through data augmentation which intends to make the network more robust to jittering of images.\n",
    "    - There are more ways to get better results like the fancy PCA technique described in [ImageNet Classification with Deep Convolutional Neural Networks](http://papers.nips.cc/paper/4824-imagenet-classification-with-deep-convolutional-neural-networks.pdf). or zero-center/normalize/de-correlate the data before it enters the network. We'll try these techniques later on to squeeze the last bits of accuracy out of the final chosen model.\n",
    "3. We may even try to change the parameters of optimization like batch size, learning rate, SGD momentum, learning rate decay, etc. etc. But, we'll try these techniques later on."
   ]
  },
  {
   "cell_type": "code",
   "execution_count": null,
   "metadata": {
    "collapsed": true
   },
   "outputs": [],
   "source": []
  }
 ],
 "metadata": {
  "anaconda-cloud": {},
  "kernelspec": {
   "display_name": "iTorch",
   "language": "lua",
   "name": "itorch"
  },
  "language_info": {
   "name": "lua",
   "version": "5.1"
  }
 },
 "nbformat": 4,
 "nbformat_minor": 1
}
